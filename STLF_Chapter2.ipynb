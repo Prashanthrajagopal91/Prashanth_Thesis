{
  "nbformat": 4,
  "nbformat_minor": 0,
  "metadata": {
    "colab": {
      "provenance": []
    },
    "kernelspec": {
      "name": "python3",
      "display_name": "Python 3"
    },
    "language_info": {
      "name": "python"
    }
  },
  "cells": [
    {
      "cell_type": "code",
      "source": [
        "import os\n",
        "from pathlib import Path\n",
        "import pandas as pd\n",
        "import numpy as np\n",
        "import tensorflow as tf"
      ],
      "metadata": {
        "id": "WLlk94yl0VuC"
      },
      "execution_count": null,
      "outputs": []
    },
    {
      "cell_type": "code",
      "source": [
        "import plotly.express as px\n",
        "import plotly.graph_objects as go"
      ],
      "metadata": {
        "id": "-ECVzYTL0W34"
      },
      "execution_count": null,
      "outputs": []
    },
    {
      "cell_type": "code",
      "source": [
        "dataset = pd.read_csv(\"/content/sat and sun test2.csv\")\n",
        "dataset.head(2)"
      ],
      "metadata": {
        "id": "OBKbZULB0Ydf",
        "colab": {
          "base_uri": "https://localhost:8080/",
          "height": 112
        },
        "outputId": "57c03422-8d0b-4c85-a68b-ad028a9d16fb"
      },
      "execution_count": null,
      "outputs": [
        {
          "output_type": "execute_result",
          "data": {
            "text/plain": [
              "   Unnamed: 0 hours test  kwh test\n",
              "0           1       0:00     80.24\n",
              "1           2       0:01      7.50"
            ],
            "text/html": [
              "\n",
              "  <div id=\"df-a3dd6e80-8e8e-4fee-8d77-8c68cdc2811e\" class=\"colab-df-container\">\n",
              "    <div>\n",
              "<style scoped>\n",
              "    .dataframe tbody tr th:only-of-type {\n",
              "        vertical-align: middle;\n",
              "    }\n",
              "\n",
              "    .dataframe tbody tr th {\n",
              "        vertical-align: top;\n",
              "    }\n",
              "\n",
              "    .dataframe thead th {\n",
              "        text-align: right;\n",
              "    }\n",
              "</style>\n",
              "<table border=\"1\" class=\"dataframe\">\n",
              "  <thead>\n",
              "    <tr style=\"text-align: right;\">\n",
              "      <th></th>\n",
              "      <th>Unnamed: 0</th>\n",
              "      <th>hours test</th>\n",
              "      <th>kwh test</th>\n",
              "    </tr>\n",
              "  </thead>\n",
              "  <tbody>\n",
              "    <tr>\n",
              "      <th>0</th>\n",
              "      <td>1</td>\n",
              "      <td>0:00</td>\n",
              "      <td>80.24</td>\n",
              "    </tr>\n",
              "    <tr>\n",
              "      <th>1</th>\n",
              "      <td>2</td>\n",
              "      <td>0:01</td>\n",
              "      <td>7.50</td>\n",
              "    </tr>\n",
              "  </tbody>\n",
              "</table>\n",
              "</div>\n",
              "    <div class=\"colab-df-buttons\">\n",
              "\n",
              "  <div class=\"colab-df-container\">\n",
              "    <button class=\"colab-df-convert\" onclick=\"convertToInteractive('df-a3dd6e80-8e8e-4fee-8d77-8c68cdc2811e')\"\n",
              "            title=\"Convert this dataframe to an interactive table.\"\n",
              "            style=\"display:none;\">\n",
              "\n",
              "  <svg xmlns=\"http://www.w3.org/2000/svg\" height=\"24px\" viewBox=\"0 -960 960 960\">\n",
              "    <path d=\"M120-120v-720h720v720H120Zm60-500h600v-160H180v160Zm220 220h160v-160H400v160Zm0 220h160v-160H400v160ZM180-400h160v-160H180v160Zm440 0h160v-160H620v160ZM180-180h160v-160H180v160Zm440 0h160v-160H620v160Z\"/>\n",
              "  </svg>\n",
              "    </button>\n",
              "\n",
              "  <style>\n",
              "    .colab-df-container {\n",
              "      display:flex;\n",
              "      gap: 12px;\n",
              "    }\n",
              "\n",
              "    .colab-df-convert {\n",
              "      background-color: #E8F0FE;\n",
              "      border: none;\n",
              "      border-radius: 50%;\n",
              "      cursor: pointer;\n",
              "      display: none;\n",
              "      fill: #1967D2;\n",
              "      height: 32px;\n",
              "      padding: 0 0 0 0;\n",
              "      width: 32px;\n",
              "    }\n",
              "\n",
              "    .colab-df-convert:hover {\n",
              "      background-color: #E2EBFA;\n",
              "      box-shadow: 0px 1px 2px rgba(60, 64, 67, 0.3), 0px 1px 3px 1px rgba(60, 64, 67, 0.15);\n",
              "      fill: #174EA6;\n",
              "    }\n",
              "\n",
              "    .colab-df-buttons div {\n",
              "      margin-bottom: 4px;\n",
              "    }\n",
              "\n",
              "    [theme=dark] .colab-df-convert {\n",
              "      background-color: #3B4455;\n",
              "      fill: #D2E3FC;\n",
              "    }\n",
              "\n",
              "    [theme=dark] .colab-df-convert:hover {\n",
              "      background-color: #434B5C;\n",
              "      box-shadow: 0px 1px 3px 1px rgba(0, 0, 0, 0.15);\n",
              "      filter: drop-shadow(0px 1px 2px rgba(0, 0, 0, 0.3));\n",
              "      fill: #FFFFFF;\n",
              "    }\n",
              "  </style>\n",
              "\n",
              "    <script>\n",
              "      const buttonEl =\n",
              "        document.querySelector('#df-a3dd6e80-8e8e-4fee-8d77-8c68cdc2811e button.colab-df-convert');\n",
              "      buttonEl.style.display =\n",
              "        google.colab.kernel.accessAllowed ? 'block' : 'none';\n",
              "\n",
              "      async function convertToInteractive(key) {\n",
              "        const element = document.querySelector('#df-a3dd6e80-8e8e-4fee-8d77-8c68cdc2811e');\n",
              "        const dataTable =\n",
              "          await google.colab.kernel.invokeFunction('convertToInteractive',\n",
              "                                                    [key], {});\n",
              "        if (!dataTable) return;\n",
              "\n",
              "        const docLinkHtml = 'Like what you see? Visit the ' +\n",
              "          '<a target=\"_blank\" href=https://colab.research.google.com/notebooks/data_table.ipynb>data table notebook</a>'\n",
              "          + ' to learn more about interactive tables.';\n",
              "        element.innerHTML = '';\n",
              "        dataTable['output_type'] = 'display_data';\n",
              "        await google.colab.output.renderOutput(dataTable, element);\n",
              "        const docLink = document.createElement('div');\n",
              "        docLink.innerHTML = docLinkHtml;\n",
              "        element.appendChild(docLink);\n",
              "      }\n",
              "    </script>\n",
              "  </div>\n",
              "\n",
              "\n",
              "<div id=\"df-4fa2d2d1-4e29-4edc-98f0-4f2963b3297b\">\n",
              "  <button class=\"colab-df-quickchart\" onclick=\"quickchart('df-4fa2d2d1-4e29-4edc-98f0-4f2963b3297b')\"\n",
              "            title=\"Suggest charts.\"\n",
              "            style=\"display:none;\">\n",
              "\n",
              "<svg xmlns=\"http://www.w3.org/2000/svg\" height=\"24px\"viewBox=\"0 0 24 24\"\n",
              "     width=\"24px\">\n",
              "    <g>\n",
              "        <path d=\"M19 3H5c-1.1 0-2 .9-2 2v14c0 1.1.9 2 2 2h14c1.1 0 2-.9 2-2V5c0-1.1-.9-2-2-2zM9 17H7v-7h2v7zm4 0h-2V7h2v10zm4 0h-2v-4h2v4z\"/>\n",
              "    </g>\n",
              "</svg>\n",
              "  </button>\n",
              "\n",
              "<style>\n",
              "  .colab-df-quickchart {\n",
              "      --bg-color: #E8F0FE;\n",
              "      --fill-color: #1967D2;\n",
              "      --hover-bg-color: #E2EBFA;\n",
              "      --hover-fill-color: #174EA6;\n",
              "      --disabled-fill-color: #AAA;\n",
              "      --disabled-bg-color: #DDD;\n",
              "  }\n",
              "\n",
              "  [theme=dark] .colab-df-quickchart {\n",
              "      --bg-color: #3B4455;\n",
              "      --fill-color: #D2E3FC;\n",
              "      --hover-bg-color: #434B5C;\n",
              "      --hover-fill-color: #FFFFFF;\n",
              "      --disabled-bg-color: #3B4455;\n",
              "      --disabled-fill-color: #666;\n",
              "  }\n",
              "\n",
              "  .colab-df-quickchart {\n",
              "    background-color: var(--bg-color);\n",
              "    border: none;\n",
              "    border-radius: 50%;\n",
              "    cursor: pointer;\n",
              "    display: none;\n",
              "    fill: var(--fill-color);\n",
              "    height: 32px;\n",
              "    padding: 0;\n",
              "    width: 32px;\n",
              "  }\n",
              "\n",
              "  .colab-df-quickchart:hover {\n",
              "    background-color: var(--hover-bg-color);\n",
              "    box-shadow: 0 1px 2px rgba(60, 64, 67, 0.3), 0 1px 3px 1px rgba(60, 64, 67, 0.15);\n",
              "    fill: var(--button-hover-fill-color);\n",
              "  }\n",
              "\n",
              "  .colab-df-quickchart-complete:disabled,\n",
              "  .colab-df-quickchart-complete:disabled:hover {\n",
              "    background-color: var(--disabled-bg-color);\n",
              "    fill: var(--disabled-fill-color);\n",
              "    box-shadow: none;\n",
              "  }\n",
              "\n",
              "  .colab-df-spinner {\n",
              "    border: 2px solid var(--fill-color);\n",
              "    border-color: transparent;\n",
              "    border-bottom-color: var(--fill-color);\n",
              "    animation:\n",
              "      spin 1s steps(1) infinite;\n",
              "  }\n",
              "\n",
              "  @keyframes spin {\n",
              "    0% {\n",
              "      border-color: transparent;\n",
              "      border-bottom-color: var(--fill-color);\n",
              "      border-left-color: var(--fill-color);\n",
              "    }\n",
              "    20% {\n",
              "      border-color: transparent;\n",
              "      border-left-color: var(--fill-color);\n",
              "      border-top-color: var(--fill-color);\n",
              "    }\n",
              "    30% {\n",
              "      border-color: transparent;\n",
              "      border-left-color: var(--fill-color);\n",
              "      border-top-color: var(--fill-color);\n",
              "      border-right-color: var(--fill-color);\n",
              "    }\n",
              "    40% {\n",
              "      border-color: transparent;\n",
              "      border-right-color: var(--fill-color);\n",
              "      border-top-color: var(--fill-color);\n",
              "    }\n",
              "    60% {\n",
              "      border-color: transparent;\n",
              "      border-right-color: var(--fill-color);\n",
              "    }\n",
              "    80% {\n",
              "      border-color: transparent;\n",
              "      border-right-color: var(--fill-color);\n",
              "      border-bottom-color: var(--fill-color);\n",
              "    }\n",
              "    90% {\n",
              "      border-color: transparent;\n",
              "      border-bottom-color: var(--fill-color);\n",
              "    }\n",
              "  }\n",
              "</style>\n",
              "\n",
              "  <script>\n",
              "    async function quickchart(key) {\n",
              "      const quickchartButtonEl =\n",
              "        document.querySelector('#' + key + ' button');\n",
              "      quickchartButtonEl.disabled = true;  // To prevent multiple clicks.\n",
              "      quickchartButtonEl.classList.add('colab-df-spinner');\n",
              "      try {\n",
              "        const charts = await google.colab.kernel.invokeFunction(\n",
              "            'suggestCharts', [key], {});\n",
              "      } catch (error) {\n",
              "        console.error('Error during call to suggestCharts:', error);\n",
              "      }\n",
              "      quickchartButtonEl.classList.remove('colab-df-spinner');\n",
              "      quickchartButtonEl.classList.add('colab-df-quickchart-complete');\n",
              "    }\n",
              "    (() => {\n",
              "      let quickchartButtonEl =\n",
              "        document.querySelector('#df-4fa2d2d1-4e29-4edc-98f0-4f2963b3297b button');\n",
              "      quickchartButtonEl.style.display =\n",
              "        google.colab.kernel.accessAllowed ? 'block' : 'none';\n",
              "    })();\n",
              "  </script>\n",
              "</div>\n",
              "    </div>\n",
              "  </div>\n"
            ]
          },
          "metadata": {},
          "execution_count": 3
        }
      ]
    },
    {
      "cell_type": "code",
      "source": [
        "filtered_df = dataset.filter(items=['hours test', 'kwh test'], axis=1)"
      ],
      "metadata": {
        "id": "3UFagSaX0ci4"
      },
      "execution_count": null,
      "outputs": []
    },
    {
      "cell_type": "code",
      "source": [
        "filtered_df.head(2)"
      ],
      "metadata": {
        "colab": {
          "base_uri": "https://localhost:8080/",
          "height": 112
        },
        "id": "VLlr-6KV0fQi",
        "outputId": "e40ae7c4-f164-46a4-d926-502ca0911000"
      },
      "execution_count": null,
      "outputs": [
        {
          "output_type": "execute_result",
          "data": {
            "text/plain": [
              "  hours test  kwh test\n",
              "0       0:00     80.24\n",
              "1       0:01      7.50"
            ],
            "text/html": [
              "\n",
              "  <div id=\"df-6a713cf6-1826-4519-a1f2-bdd597b52b59\" class=\"colab-df-container\">\n",
              "    <div>\n",
              "<style scoped>\n",
              "    .dataframe tbody tr th:only-of-type {\n",
              "        vertical-align: middle;\n",
              "    }\n",
              "\n",
              "    .dataframe tbody tr th {\n",
              "        vertical-align: top;\n",
              "    }\n",
              "\n",
              "    .dataframe thead th {\n",
              "        text-align: right;\n",
              "    }\n",
              "</style>\n",
              "<table border=\"1\" class=\"dataframe\">\n",
              "  <thead>\n",
              "    <tr style=\"text-align: right;\">\n",
              "      <th></th>\n",
              "      <th>hours test</th>\n",
              "      <th>kwh test</th>\n",
              "    </tr>\n",
              "  </thead>\n",
              "  <tbody>\n",
              "    <tr>\n",
              "      <th>0</th>\n",
              "      <td>0:00</td>\n",
              "      <td>80.24</td>\n",
              "    </tr>\n",
              "    <tr>\n",
              "      <th>1</th>\n",
              "      <td>0:01</td>\n",
              "      <td>7.50</td>\n",
              "    </tr>\n",
              "  </tbody>\n",
              "</table>\n",
              "</div>\n",
              "    <div class=\"colab-df-buttons\">\n",
              "\n",
              "  <div class=\"colab-df-container\">\n",
              "    <button class=\"colab-df-convert\" onclick=\"convertToInteractive('df-6a713cf6-1826-4519-a1f2-bdd597b52b59')\"\n",
              "            title=\"Convert this dataframe to an interactive table.\"\n",
              "            style=\"display:none;\">\n",
              "\n",
              "  <svg xmlns=\"http://www.w3.org/2000/svg\" height=\"24px\" viewBox=\"0 -960 960 960\">\n",
              "    <path d=\"M120-120v-720h720v720H120Zm60-500h600v-160H180v160Zm220 220h160v-160H400v160Zm0 220h160v-160H400v160ZM180-400h160v-160H180v160Zm440 0h160v-160H620v160ZM180-180h160v-160H180v160Zm440 0h160v-160H620v160Z\"/>\n",
              "  </svg>\n",
              "    </button>\n",
              "\n",
              "  <style>\n",
              "    .colab-df-container {\n",
              "      display:flex;\n",
              "      gap: 12px;\n",
              "    }\n",
              "\n",
              "    .colab-df-convert {\n",
              "      background-color: #E8F0FE;\n",
              "      border: none;\n",
              "      border-radius: 50%;\n",
              "      cursor: pointer;\n",
              "      display: none;\n",
              "      fill: #1967D2;\n",
              "      height: 32px;\n",
              "      padding: 0 0 0 0;\n",
              "      width: 32px;\n",
              "    }\n",
              "\n",
              "    .colab-df-convert:hover {\n",
              "      background-color: #E2EBFA;\n",
              "      box-shadow: 0px 1px 2px rgba(60, 64, 67, 0.3), 0px 1px 3px 1px rgba(60, 64, 67, 0.15);\n",
              "      fill: #174EA6;\n",
              "    }\n",
              "\n",
              "    .colab-df-buttons div {\n",
              "      margin-bottom: 4px;\n",
              "    }\n",
              "\n",
              "    [theme=dark] .colab-df-convert {\n",
              "      background-color: #3B4455;\n",
              "      fill: #D2E3FC;\n",
              "    }\n",
              "\n",
              "    [theme=dark] .colab-df-convert:hover {\n",
              "      background-color: #434B5C;\n",
              "      box-shadow: 0px 1px 3px 1px rgba(0, 0, 0, 0.15);\n",
              "      filter: drop-shadow(0px 1px 2px rgba(0, 0, 0, 0.3));\n",
              "      fill: #FFFFFF;\n",
              "    }\n",
              "  </style>\n",
              "\n",
              "    <script>\n",
              "      const buttonEl =\n",
              "        document.querySelector('#df-6a713cf6-1826-4519-a1f2-bdd597b52b59 button.colab-df-convert');\n",
              "      buttonEl.style.display =\n",
              "        google.colab.kernel.accessAllowed ? 'block' : 'none';\n",
              "\n",
              "      async function convertToInteractive(key) {\n",
              "        const element = document.querySelector('#df-6a713cf6-1826-4519-a1f2-bdd597b52b59');\n",
              "        const dataTable =\n",
              "          await google.colab.kernel.invokeFunction('convertToInteractive',\n",
              "                                                    [key], {});\n",
              "        if (!dataTable) return;\n",
              "\n",
              "        const docLinkHtml = 'Like what you see? Visit the ' +\n",
              "          '<a target=\"_blank\" href=https://colab.research.google.com/notebooks/data_table.ipynb>data table notebook</a>'\n",
              "          + ' to learn more about interactive tables.';\n",
              "        element.innerHTML = '';\n",
              "        dataTable['output_type'] = 'display_data';\n",
              "        await google.colab.output.renderOutput(dataTable, element);\n",
              "        const docLink = document.createElement('div');\n",
              "        docLink.innerHTML = docLinkHtml;\n",
              "        element.appendChild(docLink);\n",
              "      }\n",
              "    </script>\n",
              "  </div>\n",
              "\n",
              "\n",
              "<div id=\"df-6b595b70-38c6-459b-a536-ae2b2590415d\">\n",
              "  <button class=\"colab-df-quickchart\" onclick=\"quickchart('df-6b595b70-38c6-459b-a536-ae2b2590415d')\"\n",
              "            title=\"Suggest charts.\"\n",
              "            style=\"display:none;\">\n",
              "\n",
              "<svg xmlns=\"http://www.w3.org/2000/svg\" height=\"24px\"viewBox=\"0 0 24 24\"\n",
              "     width=\"24px\">\n",
              "    <g>\n",
              "        <path d=\"M19 3H5c-1.1 0-2 .9-2 2v14c0 1.1.9 2 2 2h14c1.1 0 2-.9 2-2V5c0-1.1-.9-2-2-2zM9 17H7v-7h2v7zm4 0h-2V7h2v10zm4 0h-2v-4h2v4z\"/>\n",
              "    </g>\n",
              "</svg>\n",
              "  </button>\n",
              "\n",
              "<style>\n",
              "  .colab-df-quickchart {\n",
              "      --bg-color: #E8F0FE;\n",
              "      --fill-color: #1967D2;\n",
              "      --hover-bg-color: #E2EBFA;\n",
              "      --hover-fill-color: #174EA6;\n",
              "      --disabled-fill-color: #AAA;\n",
              "      --disabled-bg-color: #DDD;\n",
              "  }\n",
              "\n",
              "  [theme=dark] .colab-df-quickchart {\n",
              "      --bg-color: #3B4455;\n",
              "      --fill-color: #D2E3FC;\n",
              "      --hover-bg-color: #434B5C;\n",
              "      --hover-fill-color: #FFFFFF;\n",
              "      --disabled-bg-color: #3B4455;\n",
              "      --disabled-fill-color: #666;\n",
              "  }\n",
              "\n",
              "  .colab-df-quickchart {\n",
              "    background-color: var(--bg-color);\n",
              "    border: none;\n",
              "    border-radius: 50%;\n",
              "    cursor: pointer;\n",
              "    display: none;\n",
              "    fill: var(--fill-color);\n",
              "    height: 32px;\n",
              "    padding: 0;\n",
              "    width: 32px;\n",
              "  }\n",
              "\n",
              "  .colab-df-quickchart:hover {\n",
              "    background-color: var(--hover-bg-color);\n",
              "    box-shadow: 0 1px 2px rgba(60, 64, 67, 0.3), 0 1px 3px 1px rgba(60, 64, 67, 0.15);\n",
              "    fill: var(--button-hover-fill-color);\n",
              "  }\n",
              "\n",
              "  .colab-df-quickchart-complete:disabled,\n",
              "  .colab-df-quickchart-complete:disabled:hover {\n",
              "    background-color: var(--disabled-bg-color);\n",
              "    fill: var(--disabled-fill-color);\n",
              "    box-shadow: none;\n",
              "  }\n",
              "\n",
              "  .colab-df-spinner {\n",
              "    border: 2px solid var(--fill-color);\n",
              "    border-color: transparent;\n",
              "    border-bottom-color: var(--fill-color);\n",
              "    animation:\n",
              "      spin 1s steps(1) infinite;\n",
              "  }\n",
              "\n",
              "  @keyframes spin {\n",
              "    0% {\n",
              "      border-color: transparent;\n",
              "      border-bottom-color: var(--fill-color);\n",
              "      border-left-color: var(--fill-color);\n",
              "    }\n",
              "    20% {\n",
              "      border-color: transparent;\n",
              "      border-left-color: var(--fill-color);\n",
              "      border-top-color: var(--fill-color);\n",
              "    }\n",
              "    30% {\n",
              "      border-color: transparent;\n",
              "      border-left-color: var(--fill-color);\n",
              "      border-top-color: var(--fill-color);\n",
              "      border-right-color: var(--fill-color);\n",
              "    }\n",
              "    40% {\n",
              "      border-color: transparent;\n",
              "      border-right-color: var(--fill-color);\n",
              "      border-top-color: var(--fill-color);\n",
              "    }\n",
              "    60% {\n",
              "      border-color: transparent;\n",
              "      border-right-color: var(--fill-color);\n",
              "    }\n",
              "    80% {\n",
              "      border-color: transparent;\n",
              "      border-right-color: var(--fill-color);\n",
              "      border-bottom-color: var(--fill-color);\n",
              "    }\n",
              "    90% {\n",
              "      border-color: transparent;\n",
              "      border-bottom-color: var(--fill-color);\n",
              "    }\n",
              "  }\n",
              "</style>\n",
              "\n",
              "  <script>\n",
              "    async function quickchart(key) {\n",
              "      const quickchartButtonEl =\n",
              "        document.querySelector('#' + key + ' button');\n",
              "      quickchartButtonEl.disabled = true;  // To prevent multiple clicks.\n",
              "      quickchartButtonEl.classList.add('colab-df-spinner');\n",
              "      try {\n",
              "        const charts = await google.colab.kernel.invokeFunction(\n",
              "            'suggestCharts', [key], {});\n",
              "      } catch (error) {\n",
              "        console.error('Error during call to suggestCharts:', error);\n",
              "      }\n",
              "      quickchartButtonEl.classList.remove('colab-df-spinner');\n",
              "      quickchartButtonEl.classList.add('colab-df-quickchart-complete');\n",
              "    }\n",
              "    (() => {\n",
              "      let quickchartButtonEl =\n",
              "        document.querySelector('#df-6b595b70-38c6-459b-a536-ae2b2590415d button');\n",
              "      quickchartButtonEl.style.display =\n",
              "        google.colab.kernel.accessAllowed ? 'block' : 'none';\n",
              "    })();\n",
              "  </script>\n",
              "</div>\n",
              "    </div>\n",
              "  </div>\n"
            ]
          },
          "metadata": {},
          "execution_count": 5
        }
      ]
    },
    {
      "cell_type": "code",
      "source": [
        "filtered_df.isnull().sum()"
      ],
      "metadata": {
        "colab": {
          "base_uri": "https://localhost:8080/"
        },
        "id": "JZAVfKYx0grp",
        "outputId": "85739ddf-0e13-4b7d-af3a-83e2193dec7c"
      },
      "execution_count": null,
      "outputs": [
        {
          "output_type": "execute_result",
          "data": {
            "text/plain": [
              "hours test    0\n",
              "kwh test      0\n",
              "dtype: int64"
            ]
          },
          "metadata": {},
          "execution_count": 6
        }
      ]
    },
    {
      "cell_type": "code",
      "source": [
        "filtered_df.dtypes"
      ],
      "metadata": {
        "colab": {
          "base_uri": "https://localhost:8080/"
        },
        "id": "gOUTt8WK0h_E",
        "outputId": "411012c0-4589-4e0e-fc66-0fce45162a6b"
      },
      "execution_count": null,
      "outputs": [
        {
          "output_type": "execute_result",
          "data": {
            "text/plain": [
              "hours test     object\n",
              "kwh test      float64\n",
              "dtype: object"
            ]
          },
          "metadata": {},
          "execution_count": 7
        }
      ]
    },
    {
      "cell_type": "code",
      "source": [
        "filtered_df.count()"
      ],
      "metadata": {
        "colab": {
          "base_uri": "https://localhost:8080/"
        },
        "id": "OXBAAeoc0j8W",
        "outputId": "947e4ec4-78ec-4b08-b6a1-7fdd44f6fc77"
      },
      "execution_count": null,
      "outputs": [
        {
          "output_type": "execute_result",
          "data": {
            "text/plain": [
              "hours test    1116\n",
              "kwh test      1116\n",
              "dtype: int64"
            ]
          },
          "metadata": {},
          "execution_count": 8
        }
      ]
    },
    {
      "cell_type": "code",
      "source": [
        "dataset['hours test'] = dataset['hours test'].apply(lambda x: pd.to_datetime(x).strftime('%H:%M'))\n",
        "dataset.head(2)"
      ],
      "metadata": {
        "id": "fcGIOqeg0lub",
        "colab": {
          "base_uri": "https://localhost:8080/",
          "height": 112
        },
        "outputId": "caf7e4b3-e9fe-4bfa-a60f-da6c3c2c5f08"
      },
      "execution_count": null,
      "outputs": [
        {
          "output_type": "execute_result",
          "data": {
            "text/plain": [
              "   Unnamed: 0 hours test  kwh test\n",
              "0           1      00:00     80.24\n",
              "1           2      00:01      7.50"
            ],
            "text/html": [
              "\n",
              "  <div id=\"df-835f9328-5b78-4033-b9ff-5ee6689c4b60\" class=\"colab-df-container\">\n",
              "    <div>\n",
              "<style scoped>\n",
              "    .dataframe tbody tr th:only-of-type {\n",
              "        vertical-align: middle;\n",
              "    }\n",
              "\n",
              "    .dataframe tbody tr th {\n",
              "        vertical-align: top;\n",
              "    }\n",
              "\n",
              "    .dataframe thead th {\n",
              "        text-align: right;\n",
              "    }\n",
              "</style>\n",
              "<table border=\"1\" class=\"dataframe\">\n",
              "  <thead>\n",
              "    <tr style=\"text-align: right;\">\n",
              "      <th></th>\n",
              "      <th>Unnamed: 0</th>\n",
              "      <th>hours test</th>\n",
              "      <th>kwh test</th>\n",
              "    </tr>\n",
              "  </thead>\n",
              "  <tbody>\n",
              "    <tr>\n",
              "      <th>0</th>\n",
              "      <td>1</td>\n",
              "      <td>00:00</td>\n",
              "      <td>80.24</td>\n",
              "    </tr>\n",
              "    <tr>\n",
              "      <th>1</th>\n",
              "      <td>2</td>\n",
              "      <td>00:01</td>\n",
              "      <td>7.50</td>\n",
              "    </tr>\n",
              "  </tbody>\n",
              "</table>\n",
              "</div>\n",
              "    <div class=\"colab-df-buttons\">\n",
              "\n",
              "  <div class=\"colab-df-container\">\n",
              "    <button class=\"colab-df-convert\" onclick=\"convertToInteractive('df-835f9328-5b78-4033-b9ff-5ee6689c4b60')\"\n",
              "            title=\"Convert this dataframe to an interactive table.\"\n",
              "            style=\"display:none;\">\n",
              "\n",
              "  <svg xmlns=\"http://www.w3.org/2000/svg\" height=\"24px\" viewBox=\"0 -960 960 960\">\n",
              "    <path d=\"M120-120v-720h720v720H120Zm60-500h600v-160H180v160Zm220 220h160v-160H400v160Zm0 220h160v-160H400v160ZM180-400h160v-160H180v160Zm440 0h160v-160H620v160ZM180-180h160v-160H180v160Zm440 0h160v-160H620v160Z\"/>\n",
              "  </svg>\n",
              "    </button>\n",
              "\n",
              "  <style>\n",
              "    .colab-df-container {\n",
              "      display:flex;\n",
              "      gap: 12px;\n",
              "    }\n",
              "\n",
              "    .colab-df-convert {\n",
              "      background-color: #E8F0FE;\n",
              "      border: none;\n",
              "      border-radius: 50%;\n",
              "      cursor: pointer;\n",
              "      display: none;\n",
              "      fill: #1967D2;\n",
              "      height: 32px;\n",
              "      padding: 0 0 0 0;\n",
              "      width: 32px;\n",
              "    }\n",
              "\n",
              "    .colab-df-convert:hover {\n",
              "      background-color: #E2EBFA;\n",
              "      box-shadow: 0px 1px 2px rgba(60, 64, 67, 0.3), 0px 1px 3px 1px rgba(60, 64, 67, 0.15);\n",
              "      fill: #174EA6;\n",
              "    }\n",
              "\n",
              "    .colab-df-buttons div {\n",
              "      margin-bottom: 4px;\n",
              "    }\n",
              "\n",
              "    [theme=dark] .colab-df-convert {\n",
              "      background-color: #3B4455;\n",
              "      fill: #D2E3FC;\n",
              "    }\n",
              "\n",
              "    [theme=dark] .colab-df-convert:hover {\n",
              "      background-color: #434B5C;\n",
              "      box-shadow: 0px 1px 3px 1px rgba(0, 0, 0, 0.15);\n",
              "      filter: drop-shadow(0px 1px 2px rgba(0, 0, 0, 0.3));\n",
              "      fill: #FFFFFF;\n",
              "    }\n",
              "  </style>\n",
              "\n",
              "    <script>\n",
              "      const buttonEl =\n",
              "        document.querySelector('#df-835f9328-5b78-4033-b9ff-5ee6689c4b60 button.colab-df-convert');\n",
              "      buttonEl.style.display =\n",
              "        google.colab.kernel.accessAllowed ? 'block' : 'none';\n",
              "\n",
              "      async function convertToInteractive(key) {\n",
              "        const element = document.querySelector('#df-835f9328-5b78-4033-b9ff-5ee6689c4b60');\n",
              "        const dataTable =\n",
              "          await google.colab.kernel.invokeFunction('convertToInteractive',\n",
              "                                                    [key], {});\n",
              "        if (!dataTable) return;\n",
              "\n",
              "        const docLinkHtml = 'Like what you see? Visit the ' +\n",
              "          '<a target=\"_blank\" href=https://colab.research.google.com/notebooks/data_table.ipynb>data table notebook</a>'\n",
              "          + ' to learn more about interactive tables.';\n",
              "        element.innerHTML = '';\n",
              "        dataTable['output_type'] = 'display_data';\n",
              "        await google.colab.output.renderOutput(dataTable, element);\n",
              "        const docLink = document.createElement('div');\n",
              "        docLink.innerHTML = docLinkHtml;\n",
              "        element.appendChild(docLink);\n",
              "      }\n",
              "    </script>\n",
              "  </div>\n",
              "\n",
              "\n",
              "<div id=\"df-97614d63-a69b-43f8-b354-a8b65417872f\">\n",
              "  <button class=\"colab-df-quickchart\" onclick=\"quickchart('df-97614d63-a69b-43f8-b354-a8b65417872f')\"\n",
              "            title=\"Suggest charts.\"\n",
              "            style=\"display:none;\">\n",
              "\n",
              "<svg xmlns=\"http://www.w3.org/2000/svg\" height=\"24px\"viewBox=\"0 0 24 24\"\n",
              "     width=\"24px\">\n",
              "    <g>\n",
              "        <path d=\"M19 3H5c-1.1 0-2 .9-2 2v14c0 1.1.9 2 2 2h14c1.1 0 2-.9 2-2V5c0-1.1-.9-2-2-2zM9 17H7v-7h2v7zm4 0h-2V7h2v10zm4 0h-2v-4h2v4z\"/>\n",
              "    </g>\n",
              "</svg>\n",
              "  </button>\n",
              "\n",
              "<style>\n",
              "  .colab-df-quickchart {\n",
              "      --bg-color: #E8F0FE;\n",
              "      --fill-color: #1967D2;\n",
              "      --hover-bg-color: #E2EBFA;\n",
              "      --hover-fill-color: #174EA6;\n",
              "      --disabled-fill-color: #AAA;\n",
              "      --disabled-bg-color: #DDD;\n",
              "  }\n",
              "\n",
              "  [theme=dark] .colab-df-quickchart {\n",
              "      --bg-color: #3B4455;\n",
              "      --fill-color: #D2E3FC;\n",
              "      --hover-bg-color: #434B5C;\n",
              "      --hover-fill-color: #FFFFFF;\n",
              "      --disabled-bg-color: #3B4455;\n",
              "      --disabled-fill-color: #666;\n",
              "  }\n",
              "\n",
              "  .colab-df-quickchart {\n",
              "    background-color: var(--bg-color);\n",
              "    border: none;\n",
              "    border-radius: 50%;\n",
              "    cursor: pointer;\n",
              "    display: none;\n",
              "    fill: var(--fill-color);\n",
              "    height: 32px;\n",
              "    padding: 0;\n",
              "    width: 32px;\n",
              "  }\n",
              "\n",
              "  .colab-df-quickchart:hover {\n",
              "    background-color: var(--hover-bg-color);\n",
              "    box-shadow: 0 1px 2px rgba(60, 64, 67, 0.3), 0 1px 3px 1px rgba(60, 64, 67, 0.15);\n",
              "    fill: var(--button-hover-fill-color);\n",
              "  }\n",
              "\n",
              "  .colab-df-quickchart-complete:disabled,\n",
              "  .colab-df-quickchart-complete:disabled:hover {\n",
              "    background-color: var(--disabled-bg-color);\n",
              "    fill: var(--disabled-fill-color);\n",
              "    box-shadow: none;\n",
              "  }\n",
              "\n",
              "  .colab-df-spinner {\n",
              "    border: 2px solid var(--fill-color);\n",
              "    border-color: transparent;\n",
              "    border-bottom-color: var(--fill-color);\n",
              "    animation:\n",
              "      spin 1s steps(1) infinite;\n",
              "  }\n",
              "\n",
              "  @keyframes spin {\n",
              "    0% {\n",
              "      border-color: transparent;\n",
              "      border-bottom-color: var(--fill-color);\n",
              "      border-left-color: var(--fill-color);\n",
              "    }\n",
              "    20% {\n",
              "      border-color: transparent;\n",
              "      border-left-color: var(--fill-color);\n",
              "      border-top-color: var(--fill-color);\n",
              "    }\n",
              "    30% {\n",
              "      border-color: transparent;\n",
              "      border-left-color: var(--fill-color);\n",
              "      border-top-color: var(--fill-color);\n",
              "      border-right-color: var(--fill-color);\n",
              "    }\n",
              "    40% {\n",
              "      border-color: transparent;\n",
              "      border-right-color: var(--fill-color);\n",
              "      border-top-color: var(--fill-color);\n",
              "    }\n",
              "    60% {\n",
              "      border-color: transparent;\n",
              "      border-right-color: var(--fill-color);\n",
              "    }\n",
              "    80% {\n",
              "      border-color: transparent;\n",
              "      border-right-color: var(--fill-color);\n",
              "      border-bottom-color: var(--fill-color);\n",
              "    }\n",
              "    90% {\n",
              "      border-color: transparent;\n",
              "      border-bottom-color: var(--fill-color);\n",
              "    }\n",
              "  }\n",
              "</style>\n",
              "\n",
              "  <script>\n",
              "    async function quickchart(key) {\n",
              "      const quickchartButtonEl =\n",
              "        document.querySelector('#' + key + ' button');\n",
              "      quickchartButtonEl.disabled = true;  // To prevent multiple clicks.\n",
              "      quickchartButtonEl.classList.add('colab-df-spinner');\n",
              "      try {\n",
              "        const charts = await google.colab.kernel.invokeFunction(\n",
              "            'suggestCharts', [key], {});\n",
              "      } catch (error) {\n",
              "        console.error('Error during call to suggestCharts:', error);\n",
              "      }\n",
              "      quickchartButtonEl.classList.remove('colab-df-spinner');\n",
              "      quickchartButtonEl.classList.add('colab-df-quickchart-complete');\n",
              "    }\n",
              "    (() => {\n",
              "      let quickchartButtonEl =\n",
              "        document.querySelector('#df-97614d63-a69b-43f8-b354-a8b65417872f button');\n",
              "      quickchartButtonEl.style.display =\n",
              "        google.colab.kernel.accessAllowed ? 'block' : 'none';\n",
              "    })();\n",
              "  </script>\n",
              "</div>\n",
              "    </div>\n",
              "  </div>\n"
            ]
          },
          "metadata": {},
          "execution_count": 9
        }
      ]
    },
    {
      "cell_type": "code",
      "source": [
        "sf_df = dataset[['hours test', 'kwh test']]"
      ],
      "metadata": {
        "id": "SBD-owoP047u"
      },
      "execution_count": null,
      "outputs": []
    },
    {
      "cell_type": "code",
      "source": [
        "sf_df.shape"
      ],
      "metadata": {
        "colab": {
          "base_uri": "https://localhost:8080/"
        },
        "id": "1pGWpv8k070j",
        "outputId": "ab714614-37dc-41e9-fbd6-500ebdf07672"
      },
      "execution_count": null,
      "outputs": [
        {
          "output_type": "execute_result",
          "data": {
            "text/plain": [
              "(1116, 2)"
            ]
          },
          "metadata": {},
          "execution_count": 11
        }
      ]
    },
    {
      "cell_type": "code",
      "source": [
        "hours = dataset['hours test'].to_numpy()\n",
        "kwh = dataset['kwh test'].to_numpy()"
      ],
      "metadata": {
        "id": "1uVKkKXw2GxQ"
      },
      "execution_count": null,
      "outputs": []
    },
    {
      "cell_type": "code",
      "source": [
        "from sklearn.model_selection import train_test_split\n",
        "#X_train, X_test, y_train, y_test = train_test_split(Timesteps, Aqi, test_size = 0.08)\n",
        "\n",
        "#split_size = int(0.8*len(Aqi))\n",
        "\n",
        "#X_train,y_train = Timesteps[:split_size],Aqi[:split_size]\n",
        "#X_test,y_test = Timesteps[split_size:],Aqi[split_size:]\n",
        "\n",
        "split_size = int(0.8*len(kwh))\n",
        "\n",
        "x_train,y_train = hours[:split_size],kwh[:split_size]\n",
        "x_test,y_test = hours[split_size:],kwh[split_size:]\n",
        "\n",
        "len(x_train), len(x_test), len(y_train), len(y_test)"
      ],
      "metadata": {
        "colab": {
          "base_uri": "https://localhost:8080/"
        },
        "id": "unD03OhO0-x0",
        "outputId": "e8ffbd03-284e-48ed-9ef0-c0e04d59c269"
      },
      "execution_count": null,
      "outputs": [
        {
          "output_type": "execute_result",
          "data": {
            "text/plain": [
              "(892, 224, 892, 224)"
            ]
          },
          "metadata": {},
          "execution_count": 13
        }
      ]
    },
    {
      "cell_type": "code",
      "source": [
        "viz_train = go.Scatter(\n",
        "    x = x_train,\n",
        "    y = y_train,\n",
        "    mode = 'lines',\n",
        "    name = 'Actual Train'\n",
        ")\n",
        "\n",
        "viz_test = go.Scatter(\n",
        "    x = x_test,\n",
        "    y = y_test,\n",
        "    mode = 'lines',\n",
        "    name = 'Actual Test'\n",
        ")\n",
        "\n",
        "layout = go.Layout(\n",
        "    #title = 'Tuesdays (2018-2021)',\n",
        "    xaxis = {'title' : \"Time\"},\n",
        "    yaxis = {'title' : \"kWh Delivered\"}\n",
        ")\n",
        "fig = go.Figure(data=[viz_train, viz_test], layout=layout)\n",
        "\n",
        "fig.update_layout(\n",
        "    legend=dict(\n",
        "        x=.8,\n",
        "        y=.8,\n",
        "        traceorder=\"normal\",\n",
        "        font=dict(\n",
        "            family=\"sans-serif\",\n",
        "            size=16,\n",
        "            color=\"black\"\n",
        "        ),\n",
        "    )\n",
        ")\n",
        "\n",
        "fig.show()"
      ],
      "metadata": {
        "colab": {
          "base_uri": "https://localhost:8080/",
          "height": 542
        },
        "id": "VtYQS91R1AUb",
        "outputId": "1ca1a012-ac2a-4eb8-eec8-79222b6c52c7"
      },
      "execution_count": null,
      "outputs": [
        {
          "output_type": "display_data",
          "data": {
            "text/html": [
              "<html>\n",
              "<head><meta charset=\"utf-8\" /></head>\n",
              "<body>\n",
              "    <div>            <script src=\"https://cdnjs.cloudflare.com/ajax/libs/mathjax/2.7.5/MathJax.js?config=TeX-AMS-MML_SVG\"></script><script type=\"text/javascript\">if (window.MathJax && window.MathJax.Hub && window.MathJax.Hub.Config) {window.MathJax.Hub.Config({SVG: {font: \"STIX-Web\"}});}</script>                <script type=\"text/javascript\">window.PlotlyConfig = {MathJaxConfig: 'local'};</script>\n",
              "        <script charset=\"utf-8\" src=\"https://cdn.plot.ly/plotly-2.24.1.min.js\"></script>                <div id=\"996185d9-60ef-42b0-83df-5872addb4f06\" class=\"plotly-graph-div\" style=\"height:525px; width:100%;\"></div>            <script type=\"text/javascript\">                                    window.PLOTLYENV=window.PLOTLYENV || {};                                    if (document.getElementById(\"996185d9-60ef-42b0-83df-5872addb4f06\")) {                    Plotly.newPlot(                        \"996185d9-60ef-42b0-83df-5872addb4f06\",                        [{\"mode\":\"lines\",\"name\":\"Actual Train\",\"x\":[\"00:00\",\"00:01\",\"00:02\",\"00:03\",\"00:04\",\"00:05\",\"00:06\",\"00:07\",\"00:08\",\"00:09\",\"00:10\",\"00:11\",\"00:12\",\"00:13\",\"00:14\",\"00:15\",\"00:16\",\"00:17\",\"00:18\",\"00:19\",\"00:20\",\"00:21\",\"00:22\",\"00:23\",\"00:24\",\"00:25\",\"00:26\",\"00:27\",\"00:28\",\"00:29\",\"00:30\",\"00:31\",\"00:32\",\"00:33\",\"00:34\",\"00:35\",\"00:36\",\"00:37\",\"00:38\",\"00:39\",\"00:40\",\"00:41\",\"00:42\",\"00:43\",\"00:44\",\"00:45\",\"00:46\",\"00:47\",\"00:48\",\"00:49\",\"00:50\",\"00:51\",\"00:52\",\"00:53\",\"00:54\",\"00:55\",\"00:56\",\"00:57\",\"00:58\",\"00:59\",\"01:00\",\"01:01\",\"01:02\",\"01:03\",\"01:04\",\"01:05\",\"01:06\",\"01:07\",\"01:08\",\"01:09\",\"01:10\",\"01:11\",\"01:12\",\"01:13\",\"01:14\",\"01:15\",\"01:16\",\"01:18\",\"01:19\",\"01:20\",\"01:21\",\"01:22\",\"01:23\",\"01:25\",\"01:26\",\"01:27\",\"01:28\",\"01:29\",\"01:30\",\"01:31\",\"01:32\",\"01:33\",\"01:34\",\"01:35\",\"01:36\",\"01:37\",\"01:38\",\"01:39\",\"01:40\",\"01:41\",\"01:42\",\"01:43\",\"01:44\",\"01:45\",\"01:46\",\"01:47\",\"01:48\",\"01:49\",\"01:50\",\"01:51\",\"01:52\",\"01:53\",\"01:54\",\"01:55\",\"01:56\",\"01:57\",\"01:58\",\"01:59\",\"02:00\",\"02:01\",\"02:02\",\"02:03\",\"02:04\",\"02:05\",\"02:06\",\"02:07\",\"02:08\",\"02:09\",\"02:10\",\"02:11\",\"02:12\",\"02:13\",\"02:14\",\"02:15\",\"02:16\",\"02:17\",\"02:18\",\"02:19\",\"02:20\",\"02:21\",\"02:22\",\"02:23\",\"02:24\",\"02:25\",\"02:26\",\"02:27\",\"02:28\",\"02:29\",\"02:30\",\"02:31\",\"02:32\",\"02:33\",\"02:34\",\"02:35\",\"02:36\",\"02:37\",\"02:40\",\"02:41\",\"02:42\",\"02:43\",\"02:44\",\"02:45\",\"02:46\",\"02:47\",\"02:48\",\"02:49\",\"02:50\",\"02:51\",\"02:52\",\"02:53\",\"02:54\",\"02:55\",\"02:56\",\"02:57\",\"02:58\",\"02:59\",\"03:00\",\"03:01\",\"03:02\",\"03:03\",\"03:04\",\"03:05\",\"03:06\",\"03:07\",\"03:09\",\"03:10\",\"03:11\",\"03:12\",\"03:13\",\"03:14\",\"03:15\",\"03:16\",\"03:17\",\"03:18\",\"03:19\",\"03:20\",\"03:21\",\"03:22\",\"03:23\",\"03:24\",\"03:25\",\"03:26\",\"03:27\",\"03:28\",\"03:29\",\"03:30\",\"03:31\",\"03:32\",\"03:33\",\"03:34\",\"03:35\",\"03:36\",\"03:37\",\"03:38\",\"03:39\",\"03:40\",\"03:41\",\"03:42\",\"03:43\",\"03:44\",\"03:45\",\"03:46\",\"03:47\",\"03:48\",\"03:49\",\"03:50\",\"03:51\",\"03:52\",\"03:53\",\"03:54\",\"03:55\",\"03:56\",\"03:57\",\"03:58\",\"03:59\",\"04:00\",\"04:01\",\"04:02\",\"04:03\",\"04:05\",\"04:06\",\"04:07\",\"04:08\",\"04:09\",\"04:10\",\"04:11\",\"04:12\",\"04:13\",\"04:15\",\"04:16\",\"04:17\",\"04:18\",\"04:19\",\"04:20\",\"04:21\",\"04:22\",\"04:23\",\"04:24\",\"04:25\",\"04:26\",\"04:27\",\"04:28\",\"04:29\",\"04:30\",\"04:31\",\"04:32\",\"04:33\",\"04:34\",\"04:35\",\"04:36\",\"04:37\",\"04:38\",\"04:39\",\"04:40\",\"04:41\",\"04:42\",\"04:44\",\"04:45\",\"04:46\",\"04:47\",\"04:48\",\"04:49\",\"04:50\",\"04:51\",\"04:52\",\"04:54\",\"04:55\",\"04:56\",\"04:58\",\"04:59\",\"05:00\",\"05:01\",\"05:02\",\"05:03\",\"05:04\",\"05:05\",\"05:06\",\"05:07\",\"05:09\",\"05:10\",\"05:11\",\"05:12\",\"05:14\",\"05:15\",\"05:18\",\"05:19\",\"05:20\",\"05:21\",\"05:22\",\"05:24\",\"05:25\",\"05:26\",\"05:27\",\"05:28\",\"05:29\",\"05:30\",\"05:31\",\"05:32\",\"05:33\",\"05:34\",\"05:35\",\"05:37\",\"05:38\",\"05:39\",\"05:40\",\"05:41\",\"05:42\",\"05:43\",\"05:44\",\"05:45\",\"05:46\",\"05:47\",\"05:48\",\"05:49\",\"05:52\",\"05:53\",\"05:54\",\"05:55\",\"05:56\",\"05:57\",\"05:58\",\"06:00\",\"06:01\",\"06:02\",\"06:03\",\"06:04\",\"06:05\",\"06:06\",\"06:07\",\"06:08\",\"06:09\",\"06:10\",\"06:16\",\"06:17\",\"06:19\",\"06:20\",\"06:21\",\"06:22\",\"06:23\",\"06:24\",\"06:25\",\"06:26\",\"06:27\",\"06:28\",\"06:29\",\"06:30\",\"06:31\",\"06:32\",\"06:33\",\"06:34\",\"06:38\",\"06:39\",\"06:40\",\"06:41\",\"06:44\",\"06:46\",\"06:48\",\"06:49\",\"06:50\",\"06:51\",\"06:55\",\"06:58\",\"06:59\",\"07:01\",\"07:02\",\"07:03\",\"07:05\",\"07:06\",\"07:08\",\"07:09\",\"07:10\",\"07:11\",\"07:13\",\"07:15\",\"07:18\",\"07:20\",\"07:21\",\"07:23\",\"07:24\",\"07:27\",\"07:28\",\"07:32\",\"07:33\",\"07:34\",\"07:35\",\"07:36\",\"07:37\",\"07:38\",\"07:41\",\"07:42\",\"07:43\",\"07:45\",\"07:46\",\"07:49\",\"07:50\",\"07:54\",\"07:55\",\"07:56\",\"07:57\",\"07:59\",\"08:00\",\"08:02\",\"08:04\",\"08:05\",\"08:08\",\"08:10\",\"08:11\",\"08:14\",\"08:15\",\"08:18\",\"08:19\",\"08:22\",\"08:23\",\"08:26\",\"08:27\",\"08:28\",\"08:32\",\"08:33\",\"08:34\",\"08:36\",\"08:39\",\"08:40\",\"08:41\",\"08:42\",\"08:44\",\"08:45\",\"08:49\",\"08:52\",\"08:56\",\"08:59\",\"09:01\",\"09:03\",\"09:06\",\"09:12\",\"09:14\",\"09:18\",\"09:20\",\"09:22\",\"09:27\",\"09:31\",\"09:38\",\"09:41\",\"09:44\",\"09:47\",\"09:54\",\"10:00\",\"10:16\",\"10:17\",\"10:19\",\"10:26\",\"10:30\",\"10:34\",\"10:41\",\"10:49\",\"11:01\",\"11:10\",\"11:27\",\"11:30\",\"11:32\",\"11:33\",\"11:39\",\"11:40\",\"11:55\",\"11:58\",\"12:01\",\"12:07\",\"12:10\",\"12:23\",\"12:30\",\"12:33\",\"12:50\",\"12:51\",\"12:54\",\"12:58\",\"12:59\",\"13:01\",\"13:04\",\"13:08\",\"13:10\",\"13:11\",\"13:12\",\"13:13\",\"13:16\",\"13:18\",\"13:19\",\"13:20\",\"13:23\",\"13:25\",\"13:27\",\"13:28\",\"13:31\",\"13:34\",\"13:36\",\"13:38\",\"13:40\",\"13:41\",\"13:42\",\"13:44\",\"13:45\",\"13:47\",\"13:49\",\"13:51\",\"13:53\",\"13:55\",\"13:56\",\"13:59\",\"14:00\",\"14:01\",\"14:03\",\"14:04\",\"14:05\",\"14:06\",\"14:07\",\"14:08\",\"14:10\",\"14:11\",\"14:12\",\"14:13\",\"14:14\",\"14:15\",\"14:16\",\"14:17\",\"14:18\",\"14:20\",\"14:21\",\"14:23\",\"14:24\",\"14:27\",\"14:28\",\"14:29\",\"14:30\",\"14:31\",\"14:32\",\"14:33\",\"14:34\",\"14:35\",\"14:36\",\"14:37\",\"14:38\",\"14:39\",\"14:40\",\"14:41\",\"14:42\",\"14:43\",\"14:44\",\"14:45\",\"14:46\",\"14:47\",\"14:48\",\"14:49\",\"14:50\",\"14:51\",\"14:52\",\"14:53\",\"14:54\",\"14:55\",\"14:56\",\"14:57\",\"14:58\",\"14:59\",\"15:00\",\"15:01\",\"15:02\",\"15:03\",\"15:04\",\"15:05\",\"15:06\",\"15:07\",\"15:08\",\"15:09\",\"15:10\",\"15:12\",\"15:13\",\"15:14\",\"15:15\",\"15:16\",\"15:17\",\"15:18\",\"15:19\",\"15:20\",\"15:21\",\"15:22\",\"15:23\",\"15:24\",\"15:25\",\"15:26\",\"15:27\",\"15:28\",\"15:29\",\"15:30\",\"15:31\",\"15:32\",\"15:33\",\"15:34\",\"15:35\",\"15:37\",\"15:38\",\"15:39\",\"15:40\",\"15:41\",\"15:42\",\"15:43\",\"15:44\",\"15:45\",\"15:46\",\"15:47\",\"15:48\",\"15:49\",\"15:50\",\"15:51\",\"15:52\",\"15:53\",\"15:54\",\"15:55\",\"15:56\",\"15:57\",\"15:58\",\"15:59\",\"16:00\",\"16:01\",\"16:02\",\"16:03\",\"16:04\",\"16:05\",\"16:06\",\"16:07\",\"16:08\",\"16:09\",\"16:10\",\"16:11\",\"16:12\",\"16:13\",\"16:14\",\"16:15\",\"16:16\",\"16:17\",\"16:18\",\"16:19\",\"16:20\",\"16:21\",\"16:22\",\"16:23\",\"16:24\",\"16:25\",\"16:26\",\"16:27\",\"16:28\",\"16:29\",\"16:30\",\"16:31\",\"16:32\",\"16:33\",\"16:34\",\"16:35\",\"16:36\",\"16:37\",\"16:38\",\"16:39\",\"16:40\",\"16:41\",\"16:42\",\"16:43\",\"16:44\",\"16:45\",\"16:46\",\"16:47\",\"16:48\",\"16:49\",\"16:50\",\"16:51\",\"16:52\",\"16:53\",\"16:54\",\"16:55\",\"16:56\",\"16:57\",\"16:58\",\"16:59\",\"17:00\",\"17:01\",\"17:02\",\"17:03\",\"17:05\",\"17:06\",\"17:07\",\"17:08\",\"17:09\",\"17:10\",\"17:11\",\"17:12\",\"17:13\",\"17:14\",\"17:15\",\"17:16\",\"17:17\",\"17:18\",\"17:19\",\"17:20\",\"17:21\",\"17:22\",\"17:23\",\"17:24\",\"17:25\",\"17:26\",\"17:27\",\"17:28\",\"17:29\",\"17:30\",\"17:31\",\"17:32\",\"17:33\",\"17:34\",\"17:35\",\"17:36\",\"17:37\",\"17:38\",\"17:39\",\"17:40\",\"17:41\",\"17:42\",\"17:43\",\"17:44\",\"17:45\",\"17:46\",\"17:47\",\"17:48\",\"17:49\",\"17:50\",\"17:51\",\"17:52\",\"17:53\",\"17:54\",\"17:55\",\"17:56\",\"17:57\",\"17:58\",\"17:59\",\"18:00\",\"18:01\",\"18:02\",\"18:03\",\"18:04\",\"18:05\",\"18:06\",\"18:07\",\"18:08\",\"18:09\",\"18:10\",\"18:11\",\"18:12\",\"18:13\",\"18:14\",\"18:15\",\"18:16\",\"18:17\",\"18:18\",\"18:19\",\"18:20\",\"18:21\",\"18:22\",\"18:23\",\"18:24\",\"18:25\",\"18:26\",\"18:27\",\"18:28\",\"18:29\",\"18:30\",\"18:31\",\"18:32\",\"18:33\",\"18:34\",\"18:35\",\"18:36\",\"18:37\",\"18:38\",\"18:39\",\"18:40\",\"18:41\",\"18:42\",\"18:43\",\"18:44\",\"18:45\",\"18:46\",\"18:47\",\"18:48\",\"18:49\",\"18:50\",\"18:51\",\"18:52\",\"18:53\",\"18:54\",\"18:55\",\"18:56\",\"18:57\",\"18:58\",\"18:59\",\"19:00\",\"19:01\",\"19:02\",\"19:03\",\"19:04\",\"19:05\",\"19:06\",\"19:07\",\"19:08\",\"19:09\",\"19:10\",\"19:11\",\"19:12\",\"19:13\",\"19:14\",\"19:15\",\"19:16\",\"19:17\",\"19:18\",\"19:19\",\"19:20\",\"19:21\",\"19:22\",\"19:23\",\"19:24\",\"19:25\",\"19:26\",\"19:27\",\"19:28\",\"19:29\",\"19:30\",\"19:31\",\"19:32\",\"19:33\",\"19:34\",\"19:35\",\"19:36\",\"19:37\",\"19:38\",\"19:39\",\"19:40\",\"19:41\",\"19:42\",\"19:43\",\"19:44\",\"19:45\",\"19:46\",\"19:47\",\"19:48\",\"19:49\",\"19:50\",\"19:51\",\"19:52\",\"19:53\",\"19:54\",\"19:55\",\"19:56\",\"19:57\",\"19:58\",\"19:59\",\"20:00\",\"20:01\",\"20:02\",\"20:03\",\"20:04\",\"20:05\",\"20:06\",\"20:07\",\"20:08\",\"20:09\",\"20:10\",\"20:11\",\"20:12\",\"20:13\",\"20:14\"],\"y\":[80.24,7.5,59.48,46.85,83.28,40.75,121.35,25.25,66.5,106.23,21.84,27.14,68.19,42.47,60.01,44.87,50.39,125.28,41.44,38.32,89.71,18.23,37.01,54.23,39.6,89.85,67.71,92.24,86.38,24.14,100.16,6.44,30.48,93.58,85.86,30.25,71.53,52.01,82.2,105.54,54.14,76.04,33.36,43.55,14.28,28.73,100.85,21.01,80.41,56.7,57.18,123.64,38.41,57.29,18.15,89.82,97.76,22.72,50.34,35.43,91.3,36.91,53.12,75.31,33.75,55.83,67.95,69.91,12.6,35.99,23.97,73.99,81.21,81.76,31.79,60.37,33.36,47.95,84.83,62.22,39.81,22.43,32.33,2.25,130.58,155.3,61.14,46.12,43.19,15.2,59.28,4.56,12.34,25.97,52.31,46.18,107.29,37.7,100.59,53.59,68.17,75.74,63.75,111.7,72.74,90.55,48.71,82.29,99.81,36.67,78.09,58.54,15.9,5.81,102.55,36.7,19.73,70.92,73.19,54.96,67.27,74.86,62.76,59.94,65.56,80.08,36.32,41.72,40.94,24.63,41.74,72.33,59.36,57.47,48.93,65.11,28.53,68.16,57.3,38.76,55.83,25.74,35.63,36.01,57.13,55.89,40.77,27.5,22.15,64.19,33.65,41.9,56.52,51.04,97.24,18.6,22.92,0.94,13.17,8.66,12.23,69.49,53.47,37.14,16.78,12.69,20.08,27.77,28.41,34.47,80.0,54.16,67.31,28.44,20.67,106.12,54.58,23.0,47.49,67.41,52.07,14.85,20.16,86.41,22.86,29.68,3.12,13.88,132.96,75.28,19.25,39.75,13.72,82.36,52.8,48.16,43.2,5.8,45.14,19.23,50.26,101.36,124.89,38.9,17.01,3.21,36.63,61.66,40.75,7.21,21.18,57.8,44.85,28.08,65.15,114.32,21.37,10.42,47.32,5.44,62.13,72.93,42.59,7.09,10.0,45.77,51.89,15.21,37.74,49.34,23.24,57.84,66.37,107.37,8.15,2.44,68.29,36.21,9.59,54.82,45.56,3.7,38.15,20.5,84.25,46.72,30.64,15.04,72.28,92.03,16.06,68.29,60.4,31.29,39.84,31.9,8.25,24.02,67.78,7.28,45.07,40.77,52.51,3.59,11.85,17.33,81.79,81.41,48.61,40.9,6.71,21.17,53.75,14.32,31.06,68.67,45.08,60.29,133.93,14.74,35.29,87.37,120.21,52.66,28.12,67.61,9.43,67.58,6.1,129.84,58.7,14.57,29.45,50.51,15.95,3.37,12.58,1.44,6.9,37.18,24.42,84.99,22.52,25.48,37.22,29.76,38.15,18.16,16.11,16.18,2.09,84.62,58.86,24.85,22.92,0.79,33.0,29.32,8.26,54.7,2.63,0.97,29.85,7.07,5.8,5.55,31.03,61.65,17.78,60.1,35.89,53.74,5.35,17.11,56.15,13.21,39.83,4.91,53.27,85.82,30.42,6.09,28.82,85.55,47.97,92.44,65.74,43.58,26.18,47.78,25.89,7.44,35.83,13.8,111.18,26.18,8.45,31.38,24.93,5.44,6.24,24.58,96.92,14.67,16.5,9.89,2.89,34.8,56.68,65.9,39.76,11.03,0.83,9.83,1.86,11.67,67.8,24.82,62.57,44.71,2.7,5.55,13.65,24.73,24.73,4.1,37.14,0.64,51.25,3.69,5.67,15.95,17.03,6.01,3.43,6.21,1.2,33.12,2.05,2.48,14.03,12.14,47.8,56.86,30.4,58.46,23.36,3.71,13.48,17.8,6.06,29.9,39.48,8.44,13.59,3.82,4.81,6.28,45.43,1.24,13.87,0.71,1.33,3.15,94.38,6.16,48.21,29.17,6.04,13.52,15.85,11.53,13.9,6.14,61.55,48.06,1.66,55.51,16.38,1.72,2.36,30.98,16.34,5.88,41.45,13.94,26.0,6.02,37.96,4.15,1.86,40.43,2.14,42.38,13.73,12.53,11.96,58.89,41.43,6.2,43.96,30.22,36.5,3.26,17.59,13.76,2.29,5.97,15.88,6.32,7.4,5.52,13.9,1.94,7.78,13.89,6.65,1.65,18.51,26.0,4.67,4.49,60.98,3.76,3.15,3.74,13.9,2.53,34.52,3.98,1.81,13.89,9.39,2.79,0.98,13.56,0.88,2.28,18.42,23.38,4.62,3.77,13.25,11.23,19.69,3.47,7.71,20.18,15.41,30.14,23.8,38.7,13.08,34.34,10.59,6.08,10.87,9.03,13.68,13.88,37.19,4.62,52.18,6.55,43.19,16.34,38.88,18.63,1.58,18.12,5.82,4.84,5.98,34.0,2.42,2.25,60.96,12.54,2.39,29.21,25.57,23.59,7.78,6.67,87.68,17.1,13.88,32.03,38.04,0.52,1.54,4.54,13.87,13.79,3.51,13.72,2.4,2.64,45.6,26.17,13.54,53.71,57.53,16.89,13.2,37.99,66.33,16.89,45.56,41.45,74.67,91.07,69.03,60.37,67.33,26.87,19.55,49.16,99.33,56.04,51.88,7.13,55.99,25.96,19.4,22.38,61.57,47.56,3.5,34.49,19.08,47.54,70.19,26.99,31.02,15.75,13.5,89.11,73.79,27.02,110.01,0.89,20.35,49.77,7.75,127.57,4.29,8.13,29.86,109.08,32.15,37.7,31.3,19.96,61.14,20.19,36.17,53.03,30.78,60.71,59.78,66.91,14.92,14.3,30.25,45.2,39.06,66.85,25.78,52.83,41.05,4.8,30.17,39.08,40.41,42.27,18.48,40.45,25.41,65.17,43.71,41.93,34.17,27.94,39.42,43.44,21.82,42.35,60.82,4.97,107.66,54.32,65.51,28.54,48.21,12.12,57.84,60.47,85.82,19.88,57.52,12.11,21.68,13.89,21.71,65.38,20.15,87.54,72.39,51.64,47.38,52.61,47.89,56.47,69.65,82.06,15.79,84.76,75.77,56.02,46.3,139.36,23.82,122.88,29.14,44.51,25.62,17.04,98.1,144.37,143.56,68.09,103.35,78.29,47.5,43.19,45.22,52.86,63.42,49.07,68.61,123.38,50.01,34.74,47.2,125.7,10.69,50.74,134.37,27.51,6.71,14.95,65.84,83.46,44.21,49.31,89.36,121.65,12.75,62.49,23.64,17.0,41.54,64.35,48.63,53.14,1.99,125.92,51.25,46.97,90.11,104.75,112.58,97.96,82.42,65.92,81.17,69.54,15.29,67.47,47.29,59.97,35.77,26.96,49.58,44.43,95.47,139.44,141.49,102.96,18.11,47.32,55.61,89.84,83.22,100.31,53.31,83.29,65.75,17.93,58.21,56.42,18.1,40.09,89.85,71.95,14.77,88.0,150.78,105.28,81.28,61.79,95.94,92.86,55.24,71.94,147.34,106.1,24.02,46.1,61.18,61.15,75.46,34.93,40.11,26.67,72.94,83.1,35.67,75.24,147.03,61.08,64.24,56.83,14.1,35.06,62.64,31.22,95.29,124.22,44.22,27.72,97.66,82.7,82.2,54.14,55.56,40.65,110.42,43.56,41.92,102.09,46.86,139.04,90.42,116.35,66.83,54.14,55.09,24.53,77.84,66.64,97.98,62.81,122.9,60.05,0.72,56.06,87.03,105.03,75.46,67.31,81.66,118.05,85.97,104.0,22.84,4.42,21.03,36.79,50.99,88.57,40.99,95.87,51.51,8.28,55.6,16.75,75.77,85.42,40.01,31.55,52.39,119.97,95.42,105.57,32.64,76.92,151.26,108.58,80.76,14.0,11.37,54.5,50.64,59.47,23.34,40.71,76.93,82.81,35.62,132.39,89.15,36.28,42.96,58.49,69.56,46.86,57.9,83.41,34.65,15.51,19.64,56.82,13.24,56.9,23.91,46.9,40.64,65.02,92.75,55.92],\"type\":\"scatter\"},{\"mode\":\"lines\",\"name\":\"Actual Test\",\"x\":[\"20:15\",\"20:16\",\"20:17\",\"20:18\",\"20:19\",\"20:20\",\"20:21\",\"20:22\",\"20:23\",\"20:24\",\"20:25\",\"20:26\",\"20:27\",\"20:28\",\"20:29\",\"20:30\",\"20:31\",\"20:32\",\"20:33\",\"20:34\",\"20:35\",\"20:36\",\"20:37\",\"20:38\",\"20:39\",\"20:40\",\"20:41\",\"20:42\",\"20:43\",\"20:44\",\"20:45\",\"20:46\",\"20:47\",\"20:48\",\"20:49\",\"20:50\",\"20:51\",\"20:52\",\"20:53\",\"20:54\",\"20:55\",\"20:56\",\"20:57\",\"20:58\",\"20:59\",\"21:00\",\"21:01\",\"21:02\",\"21:03\",\"21:04\",\"21:05\",\"21:06\",\"21:07\",\"21:08\",\"21:09\",\"21:10\",\"21:11\",\"21:12\",\"21:13\",\"21:14\",\"21:15\",\"21:16\",\"21:17\",\"21:18\",\"21:19\",\"21:20\",\"21:21\",\"21:22\",\"21:23\",\"21:24\",\"21:25\",\"21:26\",\"21:27\",\"21:28\",\"21:29\",\"21:30\",\"21:31\",\"21:32\",\"21:33\",\"21:34\",\"21:35\",\"21:36\",\"21:37\",\"21:38\",\"21:39\",\"21:40\",\"21:41\",\"21:42\",\"21:43\",\"21:44\",\"21:45\",\"21:46\",\"21:47\",\"21:48\",\"21:49\",\"21:50\",\"21:51\",\"21:52\",\"21:53\",\"21:54\",\"21:55\",\"21:56\",\"21:57\",\"21:58\",\"21:59\",\"22:00\",\"22:01\",\"22:02\",\"22:03\",\"22:04\",\"22:05\",\"22:06\",\"22:07\",\"22:08\",\"22:09\",\"22:10\",\"22:11\",\"22:12\",\"22:13\",\"22:14\",\"22:15\",\"22:16\",\"22:17\",\"22:18\",\"22:19\",\"22:20\",\"22:21\",\"22:22\",\"22:23\",\"22:24\",\"22:25\",\"22:26\",\"22:27\",\"22:28\",\"22:29\",\"22:30\",\"22:31\",\"22:32\",\"22:33\",\"22:34\",\"22:35\",\"22:36\",\"22:37\",\"22:38\",\"22:39\",\"22:40\",\"22:41\",\"22:42\",\"22:43\",\"22:45\",\"22:46\",\"22:47\",\"22:48\",\"22:49\",\"22:50\",\"22:51\",\"22:52\",\"22:53\",\"22:54\",\"22:55\",\"22:56\",\"22:57\",\"22:58\",\"22:59\",\"23:00\",\"23:01\",\"23:02\",\"23:03\",\"23:04\",\"23:05\",\"23:06\",\"23:07\",\"23:08\",\"23:09\",\"23:10\",\"23:11\",\"23:12\",\"23:13\",\"23:14\",\"23:15\",\"23:16\",\"23:17\",\"23:18\",\"23:19\",\"23:20\",\"23:21\",\"23:22\",\"23:23\",\"23:24\",\"23:25\",\"23:26\",\"23:27\",\"23:28\",\"23:29\",\"23:30\",\"23:31\",\"23:32\",\"23:33\",\"23:34\",\"23:35\",\"23:36\",\"23:37\",\"23:38\",\"23:39\",\"23:40\",\"23:41\",\"23:42\",\"23:43\",\"23:44\",\"23:45\",\"23:46\",\"23:47\",\"23:48\",\"23:49\",\"23:50\",\"23:51\",\"23:52\",\"23:53\",\"23:54\",\"23:55\",\"23:56\",\"23:57\",\"23:58\",\"23:59\"],\"y\":[66.14,68.27,56.69,41.34,65.79,76.55,47.35,60.71,69.09,70.29,63.2,52.68,48.65,35.72,43.61,26.27,41.92,22.49,50.74,61.0,49.24,31.18,37.78,56.58,36.31,59.31,66.47,51.42,57.57,41.76,50.88,44.91,48.49,56.96,42.56,57.14,49.08,61.32,44.53,33.14,47.58,54.74,33.19,43.17,35.4,31.75,52.89,29.23,53.31,40.72,49.62,62.34,55.48,22.98,36.73,59.45,54.94,69.44,62.32,52.24,34.84,29.83,57.62,59.75,59.72,62.71,49.82,45.06,40.86,54.31,67.46,49.87,38.22,26.77,43.49,31.98,50.61,55.98,49.98,64.51,38.52,58.74,47.05,50.62,50.92,56.18,53.77,31.83,48.93,22.1,34.77,51.29,57.69,49.55,59.64,44.72,60.88,55.91,47.85,52.36,60.36,54.25,51.64,50.39,30.02,44.34,52.21,50.9,53.99,29.7,57.65,55.82,28.18,39.03,49.56,54.79,67.99,49.62,59.94,25.12,43.41,52.7,63.38,46.74,59.57,48.95,26.48,33.21,61.58,22.29,23.86,54.36,32.74,43.15,29.48,48.3,57.44,55.06,49.23,49.82,63.48,21.78,63.3,50.45,69.68,53.02,60.73,62.06,24.25,45.08,23.86,25.4,40.56,67.54,43.9,26.49,41.05,67.54,53.09,21.24,49.15,34.52,56.99,64.0,30.64,57.5,69.22,40.34,51.48,46.0,67.25,57.32,40.2,64.92,43.89,61.18,34.72,55.11,49.63,67.63,59.95,52.93,46.04,43.93,35.76,21.54,33.52,32.51,32.12,58.73,41.0,39.66,25.19,66.47,56.92,51.59,26.64,28.06,61.2,41.13,62.96,62.12,49.63,42.14,59.04,33.74,37.13,35.19,51.61,43.99,51.35,48.36,22.12,41.43,57.02,21.87,46.64,55.66,22.51,36.28,59.86,58.38,37.77,43.74],\"type\":\"scatter\"}],                        {\"xaxis\":{\"title\":{\"text\":\"Time\"}},\"yaxis\":{\"title\":{\"text\":\"kWh Delivered\"}},\"template\":{\"data\":{\"histogram2dcontour\":[{\"type\":\"histogram2dcontour\",\"colorbar\":{\"outlinewidth\":0,\"ticks\":\"\"},\"colorscale\":[[0.0,\"#0d0887\"],[0.1111111111111111,\"#46039f\"],[0.2222222222222222,\"#7201a8\"],[0.3333333333333333,\"#9c179e\"],[0.4444444444444444,\"#bd3786\"],[0.5555555555555556,\"#d8576b\"],[0.6666666666666666,\"#ed7953\"],[0.7777777777777778,\"#fb9f3a\"],[0.8888888888888888,\"#fdca26\"],[1.0,\"#f0f921\"]]}],\"choropleth\":[{\"type\":\"choropleth\",\"colorbar\":{\"outlinewidth\":0,\"ticks\":\"\"}}],\"histogram2d\":[{\"type\":\"histogram2d\",\"colorbar\":{\"outlinewidth\":0,\"ticks\":\"\"},\"colorscale\":[[0.0,\"#0d0887\"],[0.1111111111111111,\"#46039f\"],[0.2222222222222222,\"#7201a8\"],[0.3333333333333333,\"#9c179e\"],[0.4444444444444444,\"#bd3786\"],[0.5555555555555556,\"#d8576b\"],[0.6666666666666666,\"#ed7953\"],[0.7777777777777778,\"#fb9f3a\"],[0.8888888888888888,\"#fdca26\"],[1.0,\"#f0f921\"]]}],\"heatmap\":[{\"type\":\"heatmap\",\"colorbar\":{\"outlinewidth\":0,\"ticks\":\"\"},\"colorscale\":[[0.0,\"#0d0887\"],[0.1111111111111111,\"#46039f\"],[0.2222222222222222,\"#7201a8\"],[0.3333333333333333,\"#9c179e\"],[0.4444444444444444,\"#bd3786\"],[0.5555555555555556,\"#d8576b\"],[0.6666666666666666,\"#ed7953\"],[0.7777777777777778,\"#fb9f3a\"],[0.8888888888888888,\"#fdca26\"],[1.0,\"#f0f921\"]]}],\"heatmapgl\":[{\"type\":\"heatmapgl\",\"colorbar\":{\"outlinewidth\":0,\"ticks\":\"\"},\"colorscale\":[[0.0,\"#0d0887\"],[0.1111111111111111,\"#46039f\"],[0.2222222222222222,\"#7201a8\"],[0.3333333333333333,\"#9c179e\"],[0.4444444444444444,\"#bd3786\"],[0.5555555555555556,\"#d8576b\"],[0.6666666666666666,\"#ed7953\"],[0.7777777777777778,\"#fb9f3a\"],[0.8888888888888888,\"#fdca26\"],[1.0,\"#f0f921\"]]}],\"contourcarpet\":[{\"type\":\"contourcarpet\",\"colorbar\":{\"outlinewidth\":0,\"ticks\":\"\"}}],\"contour\":[{\"type\":\"contour\",\"colorbar\":{\"outlinewidth\":0,\"ticks\":\"\"},\"colorscale\":[[0.0,\"#0d0887\"],[0.1111111111111111,\"#46039f\"],[0.2222222222222222,\"#7201a8\"],[0.3333333333333333,\"#9c179e\"],[0.4444444444444444,\"#bd3786\"],[0.5555555555555556,\"#d8576b\"],[0.6666666666666666,\"#ed7953\"],[0.7777777777777778,\"#fb9f3a\"],[0.8888888888888888,\"#fdca26\"],[1.0,\"#f0f921\"]]}],\"surface\":[{\"type\":\"surface\",\"colorbar\":{\"outlinewidth\":0,\"ticks\":\"\"},\"colorscale\":[[0.0,\"#0d0887\"],[0.1111111111111111,\"#46039f\"],[0.2222222222222222,\"#7201a8\"],[0.3333333333333333,\"#9c179e\"],[0.4444444444444444,\"#bd3786\"],[0.5555555555555556,\"#d8576b\"],[0.6666666666666666,\"#ed7953\"],[0.7777777777777778,\"#fb9f3a\"],[0.8888888888888888,\"#fdca26\"],[1.0,\"#f0f921\"]]}],\"mesh3d\":[{\"type\":\"mesh3d\",\"colorbar\":{\"outlinewidth\":0,\"ticks\":\"\"}}],\"scatter\":[{\"fillpattern\":{\"fillmode\":\"overlay\",\"size\":10,\"solidity\":0.2},\"type\":\"scatter\"}],\"parcoords\":[{\"type\":\"parcoords\",\"line\":{\"colorbar\":{\"outlinewidth\":0,\"ticks\":\"\"}}}],\"scatterpolargl\":[{\"type\":\"scatterpolargl\",\"marker\":{\"colorbar\":{\"outlinewidth\":0,\"ticks\":\"\"}}}],\"bar\":[{\"error_x\":{\"color\":\"#2a3f5f\"},\"error_y\":{\"color\":\"#2a3f5f\"},\"marker\":{\"line\":{\"color\":\"#E5ECF6\",\"width\":0.5},\"pattern\":{\"fillmode\":\"overlay\",\"size\":10,\"solidity\":0.2}},\"type\":\"bar\"}],\"scattergeo\":[{\"type\":\"scattergeo\",\"marker\":{\"colorbar\":{\"outlinewidth\":0,\"ticks\":\"\"}}}],\"scatterpolar\":[{\"type\":\"scatterpolar\",\"marker\":{\"colorbar\":{\"outlinewidth\":0,\"ticks\":\"\"}}}],\"histogram\":[{\"marker\":{\"pattern\":{\"fillmode\":\"overlay\",\"size\":10,\"solidity\":0.2}},\"type\":\"histogram\"}],\"scattergl\":[{\"type\":\"scattergl\",\"marker\":{\"colorbar\":{\"outlinewidth\":0,\"ticks\":\"\"}}}],\"scatter3d\":[{\"type\":\"scatter3d\",\"line\":{\"colorbar\":{\"outlinewidth\":0,\"ticks\":\"\"}},\"marker\":{\"colorbar\":{\"outlinewidth\":0,\"ticks\":\"\"}}}],\"scattermapbox\":[{\"type\":\"scattermapbox\",\"marker\":{\"colorbar\":{\"outlinewidth\":0,\"ticks\":\"\"}}}],\"scatterternary\":[{\"type\":\"scatterternary\",\"marker\":{\"colorbar\":{\"outlinewidth\":0,\"ticks\":\"\"}}}],\"scattercarpet\":[{\"type\":\"scattercarpet\",\"marker\":{\"colorbar\":{\"outlinewidth\":0,\"ticks\":\"\"}}}],\"carpet\":[{\"aaxis\":{\"endlinecolor\":\"#2a3f5f\",\"gridcolor\":\"white\",\"linecolor\":\"white\",\"minorgridcolor\":\"white\",\"startlinecolor\":\"#2a3f5f\"},\"baxis\":{\"endlinecolor\":\"#2a3f5f\",\"gridcolor\":\"white\",\"linecolor\":\"white\",\"minorgridcolor\":\"white\",\"startlinecolor\":\"#2a3f5f\"},\"type\":\"carpet\"}],\"table\":[{\"cells\":{\"fill\":{\"color\":\"#EBF0F8\"},\"line\":{\"color\":\"white\"}},\"header\":{\"fill\":{\"color\":\"#C8D4E3\"},\"line\":{\"color\":\"white\"}},\"type\":\"table\"}],\"barpolar\":[{\"marker\":{\"line\":{\"color\":\"#E5ECF6\",\"width\":0.5},\"pattern\":{\"fillmode\":\"overlay\",\"size\":10,\"solidity\":0.2}},\"type\":\"barpolar\"}],\"pie\":[{\"automargin\":true,\"type\":\"pie\"}]},\"layout\":{\"autotypenumbers\":\"strict\",\"colorway\":[\"#636efa\",\"#EF553B\",\"#00cc96\",\"#ab63fa\",\"#FFA15A\",\"#19d3f3\",\"#FF6692\",\"#B6E880\",\"#FF97FF\",\"#FECB52\"],\"font\":{\"color\":\"#2a3f5f\"},\"hovermode\":\"closest\",\"hoverlabel\":{\"align\":\"left\"},\"paper_bgcolor\":\"white\",\"plot_bgcolor\":\"#E5ECF6\",\"polar\":{\"bgcolor\":\"#E5ECF6\",\"angularaxis\":{\"gridcolor\":\"white\",\"linecolor\":\"white\",\"ticks\":\"\"},\"radialaxis\":{\"gridcolor\":\"white\",\"linecolor\":\"white\",\"ticks\":\"\"}},\"ternary\":{\"bgcolor\":\"#E5ECF6\",\"aaxis\":{\"gridcolor\":\"white\",\"linecolor\":\"white\",\"ticks\":\"\"},\"baxis\":{\"gridcolor\":\"white\",\"linecolor\":\"white\",\"ticks\":\"\"},\"caxis\":{\"gridcolor\":\"white\",\"linecolor\":\"white\",\"ticks\":\"\"}},\"coloraxis\":{\"colorbar\":{\"outlinewidth\":0,\"ticks\":\"\"}},\"colorscale\":{\"sequential\":[[0.0,\"#0d0887\"],[0.1111111111111111,\"#46039f\"],[0.2222222222222222,\"#7201a8\"],[0.3333333333333333,\"#9c179e\"],[0.4444444444444444,\"#bd3786\"],[0.5555555555555556,\"#d8576b\"],[0.6666666666666666,\"#ed7953\"],[0.7777777777777778,\"#fb9f3a\"],[0.8888888888888888,\"#fdca26\"],[1.0,\"#f0f921\"]],\"sequentialminus\":[[0.0,\"#0d0887\"],[0.1111111111111111,\"#46039f\"],[0.2222222222222222,\"#7201a8\"],[0.3333333333333333,\"#9c179e\"],[0.4444444444444444,\"#bd3786\"],[0.5555555555555556,\"#d8576b\"],[0.6666666666666666,\"#ed7953\"],[0.7777777777777778,\"#fb9f3a\"],[0.8888888888888888,\"#fdca26\"],[1.0,\"#f0f921\"]],\"diverging\":[[0,\"#8e0152\"],[0.1,\"#c51b7d\"],[0.2,\"#de77ae\"],[0.3,\"#f1b6da\"],[0.4,\"#fde0ef\"],[0.5,\"#f7f7f7\"],[0.6,\"#e6f5d0\"],[0.7,\"#b8e186\"],[0.8,\"#7fbc41\"],[0.9,\"#4d9221\"],[1,\"#276419\"]]},\"xaxis\":{\"gridcolor\":\"white\",\"linecolor\":\"white\",\"ticks\":\"\",\"title\":{\"standoff\":15},\"zerolinecolor\":\"white\",\"automargin\":true,\"zerolinewidth\":2},\"yaxis\":{\"gridcolor\":\"white\",\"linecolor\":\"white\",\"ticks\":\"\",\"title\":{\"standoff\":15},\"zerolinecolor\":\"white\",\"automargin\":true,\"zerolinewidth\":2},\"scene\":{\"xaxis\":{\"backgroundcolor\":\"#E5ECF6\",\"gridcolor\":\"white\",\"linecolor\":\"white\",\"showbackground\":true,\"ticks\":\"\",\"zerolinecolor\":\"white\",\"gridwidth\":2},\"yaxis\":{\"backgroundcolor\":\"#E5ECF6\",\"gridcolor\":\"white\",\"linecolor\":\"white\",\"showbackground\":true,\"ticks\":\"\",\"zerolinecolor\":\"white\",\"gridwidth\":2},\"zaxis\":{\"backgroundcolor\":\"#E5ECF6\",\"gridcolor\":\"white\",\"linecolor\":\"white\",\"showbackground\":true,\"ticks\":\"\",\"zerolinecolor\":\"white\",\"gridwidth\":2}},\"shapedefaults\":{\"line\":{\"color\":\"#2a3f5f\"}},\"annotationdefaults\":{\"arrowcolor\":\"#2a3f5f\",\"arrowhead\":0,\"arrowwidth\":1},\"geo\":{\"bgcolor\":\"white\",\"landcolor\":\"#E5ECF6\",\"subunitcolor\":\"white\",\"showland\":true,\"showlakes\":true,\"lakecolor\":\"white\"},\"title\":{\"x\":0.05},\"mapbox\":{\"style\":\"light\"}}},\"legend\":{\"font\":{\"family\":\"sans-serif\",\"size\":16,\"color\":\"black\"},\"x\":0.8,\"y\":0.8,\"traceorder\":\"normal\"}},                        {\"responsive\": true}                    ).then(function(){\n",
              "                            \n",
              "var gd = document.getElementById('996185d9-60ef-42b0-83df-5872addb4f06');\n",
              "var x = new MutationObserver(function (mutations, observer) {{\n",
              "        var display = window.getComputedStyle(gd).display;\n",
              "        if (!display || display === 'none') {{\n",
              "            console.log([gd, 'removed!']);\n",
              "            Plotly.purge(gd);\n",
              "            observer.disconnect();\n",
              "        }}\n",
              "}});\n",
              "\n",
              "// Listen for the removal of the full notebook cells\n",
              "var notebookContainer = gd.closest('#notebook-container');\n",
              "if (notebookContainer) {{\n",
              "    x.observe(notebookContainer, {childList: true});\n",
              "}}\n",
              "\n",
              "// Listen for the clearing of the current output cell\n",
              "var outputEl = gd.closest('.output');\n",
              "if (outputEl) {{\n",
              "    x.observe(outputEl, {childList: true});\n",
              "}}\n",
              "\n",
              "                        })                };                            </script>        </div>\n",
              "</body>\n",
              "</html>"
            ]
          },
          "metadata": {}
        }
      ]
    },
    {
      "cell_type": "code",
      "source": [
        "HORIZON = 1\n",
        "WINDOW_SIZE = 30"
      ],
      "metadata": {
        "id": "_NqSkJWs1_lX"
      },
      "execution_count": null,
      "outputs": []
    },
    {
      "cell_type": "code",
      "source": [
        "def get_labelled_windows(x, horizon=1):\n",
        "  return x[:, :-horizon], x[:, -horizon:]"
      ],
      "metadata": {
        "id": "UqoaCf3g2Ca6"
      },
      "execution_count": null,
      "outputs": []
    },
    {
      "cell_type": "code",
      "source": [
        "def make_windows(x, window_size=7, horizon=1):\n",
        "  window_step = np.expand_dims(np.arange(window_size+horizon), axis=0)\n",
        "  window_indexes = window_step + np.expand_dims(np.arange(len(x)-(window_size+horizon-1)), axis=0).T\n",
        "  windowed_array = x[window_indexes]\n",
        "\n",
        "  windows, labels = get_labelled_windows(windowed_array, horizon=horizon)\n",
        "\n",
        "  return windows, labels"
      ],
      "metadata": {
        "id": "tEL89rqw2DeU"
      },
      "execution_count": null,
      "outputs": []
    },
    {
      "cell_type": "code",
      "source": [
        "full_windows, full_labels = make_windows(kwh, window_size=WINDOW_SIZE, horizon=HORIZON)\n",
        "\n",
        "len(full_windows), len(full_labels)"
      ],
      "metadata": {
        "colab": {
          "base_uri": "https://localhost:8080/"
        },
        "id": "Wiru5lbj2FMY",
        "outputId": "6d130db7-37a4-4fc4-92fd-420160dd5956"
      },
      "execution_count": null,
      "outputs": [
        {
          "output_type": "execute_result",
          "data": {
            "text/plain": [
              "(1086, 1086)"
            ]
          },
          "metadata": {},
          "execution_count": 18
        }
      ]
    },
    {
      "cell_type": "code",
      "source": [
        "for i in range(3):\n",
        "  print(f\"Window: {full_windows[i]} -> Label: {full_labels[i]}\")"
      ],
      "metadata": {
        "colab": {
          "base_uri": "https://localhost:8080/"
        },
        "id": "HHDE2tRi2Grb",
        "outputId": "6f652fec-aaae-4309-ff09-2bb2cdfce508"
      },
      "execution_count": null,
      "outputs": [
        {
          "output_type": "stream",
          "name": "stdout",
          "text": [
            "Window: [ 80.24   7.5   59.48  46.85  83.28  40.75 121.35  25.25  66.5  106.23\n",
            "  21.84  27.14  68.19  42.47  60.01  44.87  50.39 125.28  41.44  38.32\n",
            "  89.71  18.23  37.01  54.23  39.6   89.85  67.71  92.24  86.38  24.14] -> Label: [100.16]\n",
            "Window: [  7.5   59.48  46.85  83.28  40.75 121.35  25.25  66.5  106.23  21.84\n",
            "  27.14  68.19  42.47  60.01  44.87  50.39 125.28  41.44  38.32  89.71\n",
            "  18.23  37.01  54.23  39.6   89.85  67.71  92.24  86.38  24.14 100.16] -> Label: [6.44]\n",
            "Window: [ 59.48  46.85  83.28  40.75 121.35  25.25  66.5  106.23  21.84  27.14\n",
            "  68.19  42.47  60.01  44.87  50.39 125.28  41.44  38.32  89.71  18.23\n",
            "  37.01  54.23  39.6   89.85  67.71  92.24  86.38  24.14 100.16   6.44] -> Label: [30.48]\n"
          ]
        }
      ]
    },
    {
      "cell_type": "code",
      "source": [
        "def make_train_test_splits(windows, labels, test_split=0.2):\n",
        "\n",
        "  split_size = int(len(windows) * (1-test_split))\n",
        "  train_windows = windows[:split_size]\n",
        "  train_labels = labels[:split_size]\n",
        "  test_windows = windows[split_size:]\n",
        "  test_labels = labels[split_size:]\n",
        "\n",
        "  return train_windows, test_windows, train_labels, test_labels"
      ],
      "metadata": {
        "id": "-alk43gJ2Ia2"
      },
      "execution_count": null,
      "outputs": []
    },
    {
      "cell_type": "code",
      "source": [
        "train_windows, test_windows, train_labels, test_labels = make_train_test_splits(full_windows, full_labels)\n",
        "\n",
        "len(train_windows), len(test_windows), len(train_labels), len(test_labels)"
      ],
      "metadata": {
        "colab": {
          "base_uri": "https://localhost:8080/"
        },
        "id": "yN6iBoFb2Ig4",
        "outputId": "a13cb880-87bd-482b-b320-4f92d81b0b6a"
      },
      "execution_count": null,
      "outputs": [
        {
          "output_type": "execute_result",
          "data": {
            "text/plain": [
              "(868, 218, 868, 218)"
            ]
          },
          "metadata": {},
          "execution_count": 21
        }
      ]
    },
    {
      "cell_type": "code",
      "source": [
        "train_windows[:5]"
      ],
      "metadata": {
        "colab": {
          "base_uri": "https://localhost:8080/"
        },
        "id": "fPN1fA_Y2T08",
        "outputId": "a5ea80f5-405e-4d7c-89d6-c6149b224783"
      },
      "execution_count": null,
      "outputs": [
        {
          "output_type": "execute_result",
          "data": {
            "text/plain": [
              "array([[ 80.24,   7.5 ,  59.48,  46.85,  83.28,  40.75, 121.35,  25.25,\n",
              "         66.5 , 106.23,  21.84,  27.14,  68.19,  42.47,  60.01,  44.87,\n",
              "         50.39, 125.28,  41.44,  38.32,  89.71,  18.23,  37.01,  54.23,\n",
              "         39.6 ,  89.85,  67.71,  92.24,  86.38,  24.14],\n",
              "       [  7.5 ,  59.48,  46.85,  83.28,  40.75, 121.35,  25.25,  66.5 ,\n",
              "        106.23,  21.84,  27.14,  68.19,  42.47,  60.01,  44.87,  50.39,\n",
              "        125.28,  41.44,  38.32,  89.71,  18.23,  37.01,  54.23,  39.6 ,\n",
              "         89.85,  67.71,  92.24,  86.38,  24.14, 100.16],\n",
              "       [ 59.48,  46.85,  83.28,  40.75, 121.35,  25.25,  66.5 , 106.23,\n",
              "         21.84,  27.14,  68.19,  42.47,  60.01,  44.87,  50.39, 125.28,\n",
              "         41.44,  38.32,  89.71,  18.23,  37.01,  54.23,  39.6 ,  89.85,\n",
              "         67.71,  92.24,  86.38,  24.14, 100.16,   6.44],\n",
              "       [ 46.85,  83.28,  40.75, 121.35,  25.25,  66.5 , 106.23,  21.84,\n",
              "         27.14,  68.19,  42.47,  60.01,  44.87,  50.39, 125.28,  41.44,\n",
              "         38.32,  89.71,  18.23,  37.01,  54.23,  39.6 ,  89.85,  67.71,\n",
              "         92.24,  86.38,  24.14, 100.16,   6.44,  30.48],\n",
              "       [ 83.28,  40.75, 121.35,  25.25,  66.5 , 106.23,  21.84,  27.14,\n",
              "         68.19,  42.47,  60.01,  44.87,  50.39, 125.28,  41.44,  38.32,\n",
              "         89.71,  18.23,  37.01,  54.23,  39.6 ,  89.85,  67.71,  92.24,\n",
              "         86.38,  24.14, 100.16,   6.44,  30.48,  93.58]])"
            ]
          },
          "metadata": {},
          "execution_count": 22
        }
      ]
    },
    {
      "cell_type": "markdown",
      "source": [
        "**EVALUATION METRICS**\n",
        "\n",
        "Utilizing MAE and RMSE Scoring metrics"
      ],
      "metadata": {
        "id": "-hOtoKZJ3qL6"
      }
    },
    {
      "cell_type": "code",
      "source": [
        "from sklearn.metrics import mean_absolute_percentage_error\n",
        "from sklearn.metrics import mean_squared_error\n",
        "from sklearn.metrics import mean_absolute_error"
      ],
      "metadata": {
        "id": "iE_qnpzj3ypT"
      },
      "execution_count": null,
      "outputs": []
    },
    {
      "cell_type": "code",
      "source": [
        "def evaluate_metrics(y_true, y_pred):\n",
        "\n",
        "  mae = mean_absolute_error(y_true, y_pred)\n",
        "  rmse = mean_squared_error(y_true, y_pred, squared=False)\n",
        "\n",
        "  return { \"mae\": mae, \"rmse\": rmse }"
      ],
      "metadata": {
        "id": "Vmaxm7Qb34s1"
      },
      "execution_count": null,
      "outputs": []
    },
    {
      "cell_type": "markdown",
      "source": [
        "**Random Forest Algorithm**"
      ],
      "metadata": {
        "id": "P8TLBS-o3FPt"
      }
    },
    {
      "cell_type": "code",
      "source": [
        "from sklearn.ensemble import RandomForestRegressor\n",
        "\n",
        "rf_regr = RandomForestRegressor(n_estimators = 10,\n",
        "                                  random_state = 0)"
      ],
      "metadata": {
        "id": "f-6H5jKw3LXD"
      },
      "execution_count": null,
      "outputs": []
    },
    {
      "cell_type": "code",
      "source": [
        "rf_regr.fit(train_windows, train_labels)"
      ],
      "metadata": {
        "colab": {
          "base_uri": "https://localhost:8080/",
          "height": 168
        },
        "id": "6jiXpM_-3P7c",
        "outputId": "a5b7a779-c87d-4adc-fb4a-1674a0395e50"
      },
      "execution_count": null,
      "outputs": [
        {
          "output_type": "stream",
          "name": "stderr",
          "text": [
            "<ipython-input-26-9c8137d5c4d3>:1: DataConversionWarning:\n",
            "\n",
            "A column-vector y was passed when a 1d array was expected. Please change the shape of y to (n_samples,), for example using ravel().\n",
            "\n"
          ]
        },
        {
          "output_type": "execute_result",
          "data": {
            "text/plain": [
              "RandomForestRegressor(n_estimators=10, random_state=0)"
            ],
            "text/html": [
              "<style>#sk-container-id-1 {color: black;background-color: white;}#sk-container-id-1 pre{padding: 0;}#sk-container-id-1 div.sk-toggleable {background-color: white;}#sk-container-id-1 label.sk-toggleable__label {cursor: pointer;display: block;width: 100%;margin-bottom: 0;padding: 0.3em;box-sizing: border-box;text-align: center;}#sk-container-id-1 label.sk-toggleable__label-arrow:before {content: \"▸\";float: left;margin-right: 0.25em;color: #696969;}#sk-container-id-1 label.sk-toggleable__label-arrow:hover:before {color: black;}#sk-container-id-1 div.sk-estimator:hover label.sk-toggleable__label-arrow:before {color: black;}#sk-container-id-1 div.sk-toggleable__content {max-height: 0;max-width: 0;overflow: hidden;text-align: left;background-color: #f0f8ff;}#sk-container-id-1 div.sk-toggleable__content pre {margin: 0.2em;color: black;border-radius: 0.25em;background-color: #f0f8ff;}#sk-container-id-1 input.sk-toggleable__control:checked~div.sk-toggleable__content {max-height: 200px;max-width: 100%;overflow: auto;}#sk-container-id-1 input.sk-toggleable__control:checked~label.sk-toggleable__label-arrow:before {content: \"▾\";}#sk-container-id-1 div.sk-estimator input.sk-toggleable__control:checked~label.sk-toggleable__label {background-color: #d4ebff;}#sk-container-id-1 div.sk-label input.sk-toggleable__control:checked~label.sk-toggleable__label {background-color: #d4ebff;}#sk-container-id-1 input.sk-hidden--visually {border: 0;clip: rect(1px 1px 1px 1px);clip: rect(1px, 1px, 1px, 1px);height: 1px;margin: -1px;overflow: hidden;padding: 0;position: absolute;width: 1px;}#sk-container-id-1 div.sk-estimator {font-family: monospace;background-color: #f0f8ff;border: 1px dotted black;border-radius: 0.25em;box-sizing: border-box;margin-bottom: 0.5em;}#sk-container-id-1 div.sk-estimator:hover {background-color: #d4ebff;}#sk-container-id-1 div.sk-parallel-item::after {content: \"\";width: 100%;border-bottom: 1px solid gray;flex-grow: 1;}#sk-container-id-1 div.sk-label:hover label.sk-toggleable__label {background-color: #d4ebff;}#sk-container-id-1 div.sk-serial::before {content: \"\";position: absolute;border-left: 1px solid gray;box-sizing: border-box;top: 0;bottom: 0;left: 50%;z-index: 0;}#sk-container-id-1 div.sk-serial {display: flex;flex-direction: column;align-items: center;background-color: white;padding-right: 0.2em;padding-left: 0.2em;position: relative;}#sk-container-id-1 div.sk-item {position: relative;z-index: 1;}#sk-container-id-1 div.sk-parallel {display: flex;align-items: stretch;justify-content: center;background-color: white;position: relative;}#sk-container-id-1 div.sk-item::before, #sk-container-id-1 div.sk-parallel-item::before {content: \"\";position: absolute;border-left: 1px solid gray;box-sizing: border-box;top: 0;bottom: 0;left: 50%;z-index: -1;}#sk-container-id-1 div.sk-parallel-item {display: flex;flex-direction: column;z-index: 1;position: relative;background-color: white;}#sk-container-id-1 div.sk-parallel-item:first-child::after {align-self: flex-end;width: 50%;}#sk-container-id-1 div.sk-parallel-item:last-child::after {align-self: flex-start;width: 50%;}#sk-container-id-1 div.sk-parallel-item:only-child::after {width: 0;}#sk-container-id-1 div.sk-dashed-wrapped {border: 1px dashed gray;margin: 0 0.4em 0.5em 0.4em;box-sizing: border-box;padding-bottom: 0.4em;background-color: white;}#sk-container-id-1 div.sk-label label {font-family: monospace;font-weight: bold;display: inline-block;line-height: 1.2em;}#sk-container-id-1 div.sk-label-container {text-align: center;}#sk-container-id-1 div.sk-container {/* jupyter's `normalize.less` sets `[hidden] { display: none; }` but bootstrap.min.css set `[hidden] { display: none !important; }` so we also need the `!important` here to be able to override the default hidden behavior on the sphinx rendered scikit-learn.org. See: https://github.com/scikit-learn/scikit-learn/issues/21755 */display: inline-block !important;position: relative;}#sk-container-id-1 div.sk-text-repr-fallback {display: none;}</style><div id=\"sk-container-id-1\" class=\"sk-top-container\"><div class=\"sk-text-repr-fallback\"><pre>RandomForestRegressor(n_estimators=10, random_state=0)</pre><b>In a Jupyter environment, please rerun this cell to show the HTML representation or trust the notebook. <br />On GitHub, the HTML representation is unable to render, please try loading this page with nbviewer.org.</b></div><div class=\"sk-container\" hidden><div class=\"sk-item\"><div class=\"sk-estimator sk-toggleable\"><input class=\"sk-toggleable__control sk-hidden--visually\" id=\"sk-estimator-id-1\" type=\"checkbox\" checked><label for=\"sk-estimator-id-1\" class=\"sk-toggleable__label sk-toggleable__label-arrow\">RandomForestRegressor</label><div class=\"sk-toggleable__content\"><pre>RandomForestRegressor(n_estimators=10, random_state=0)</pre></div></div></div></div></div>"
            ]
          },
          "metadata": {},
          "execution_count": 26
        }
      ]
    },
    {
      "cell_type": "code",
      "source": [
        "y_rf_pred = rf_regr.predict(test_windows)"
      ],
      "metadata": {
        "id": "spX1L2qm3Uof"
      },
      "execution_count": null,
      "outputs": []
    },
    {
      "cell_type": "code",
      "source": [
        "y_rf_pred[0:2]"
      ],
      "metadata": {
        "colab": {
          "base_uri": "https://localhost:8080/"
        },
        "id": "fc5BMaFO3bIg",
        "outputId": "eb275695-938c-48fd-b2c5-22ac1b54842e"
      },
      "execution_count": null,
      "outputs": [
        {
          "output_type": "execute_result",
          "data": {
            "text/plain": [
              "array([59.265, 43.983])"
            ]
          },
          "metadata": {},
          "execution_count": 28
        }
      ]
    },
    {
      "cell_type": "code",
      "source": [
        "evaluate_metrics(test_labels, y_rf_pred)"
      ],
      "metadata": {
        "colab": {
          "base_uri": "https://localhost:8080/"
        },
        "id": "ETz_CCiA4aPF",
        "outputId": "0cede6af-8842-452b-f0cd-48c0f693b321"
      },
      "execution_count": null,
      "outputs": [
        {
          "output_type": "execute_result",
          "data": {
            "text/plain": [
              "{'mae': 12.560366972477064, 'rmse': 15.474338267483809}"
            ]
          },
          "metadata": {},
          "execution_count": 29
        }
      ]
    },
    {
      "cell_type": "markdown",
      "source": [
        "**Support Vector Regression**"
      ],
      "metadata": {
        "id": "zdBn23A-5r47"
      }
    },
    {
      "cell_type": "code",
      "source": [
        "from sklearn.svm import SVR\n",
        "\n",
        "svr_regr = SVR(kernel='rbf')"
      ],
      "metadata": {
        "id": "izkbaizH5vxT"
      },
      "execution_count": null,
      "outputs": []
    },
    {
      "cell_type": "code",
      "source": [
        "svr_regr.fit(train_windows, train_labels)"
      ],
      "metadata": {
        "colab": {
          "base_uri": "https://localhost:8080/",
          "height": 168
        },
        "id": "SlWH1Dlz52he",
        "outputId": "5162be81-fcc4-4dea-b8df-87405dd21997"
      },
      "execution_count": null,
      "outputs": [
        {
          "output_type": "stream",
          "name": "stderr",
          "text": [
            "/usr/local/lib/python3.10/dist-packages/sklearn/utils/validation.py:1143: DataConversionWarning:\n",
            "\n",
            "A column-vector y was passed when a 1d array was expected. Please change the shape of y to (n_samples, ), for example using ravel().\n",
            "\n"
          ]
        },
        {
          "output_type": "execute_result",
          "data": {
            "text/plain": [
              "SVR()"
            ],
            "text/html": [
              "<style>#sk-container-id-2 {color: black;background-color: white;}#sk-container-id-2 pre{padding: 0;}#sk-container-id-2 div.sk-toggleable {background-color: white;}#sk-container-id-2 label.sk-toggleable__label {cursor: pointer;display: block;width: 100%;margin-bottom: 0;padding: 0.3em;box-sizing: border-box;text-align: center;}#sk-container-id-2 label.sk-toggleable__label-arrow:before {content: \"▸\";float: left;margin-right: 0.25em;color: #696969;}#sk-container-id-2 label.sk-toggleable__label-arrow:hover:before {color: black;}#sk-container-id-2 div.sk-estimator:hover label.sk-toggleable__label-arrow:before {color: black;}#sk-container-id-2 div.sk-toggleable__content {max-height: 0;max-width: 0;overflow: hidden;text-align: left;background-color: #f0f8ff;}#sk-container-id-2 div.sk-toggleable__content pre {margin: 0.2em;color: black;border-radius: 0.25em;background-color: #f0f8ff;}#sk-container-id-2 input.sk-toggleable__control:checked~div.sk-toggleable__content {max-height: 200px;max-width: 100%;overflow: auto;}#sk-container-id-2 input.sk-toggleable__control:checked~label.sk-toggleable__label-arrow:before {content: \"▾\";}#sk-container-id-2 div.sk-estimator input.sk-toggleable__control:checked~label.sk-toggleable__label {background-color: #d4ebff;}#sk-container-id-2 div.sk-label input.sk-toggleable__control:checked~label.sk-toggleable__label {background-color: #d4ebff;}#sk-container-id-2 input.sk-hidden--visually {border: 0;clip: rect(1px 1px 1px 1px);clip: rect(1px, 1px, 1px, 1px);height: 1px;margin: -1px;overflow: hidden;padding: 0;position: absolute;width: 1px;}#sk-container-id-2 div.sk-estimator {font-family: monospace;background-color: #f0f8ff;border: 1px dotted black;border-radius: 0.25em;box-sizing: border-box;margin-bottom: 0.5em;}#sk-container-id-2 div.sk-estimator:hover {background-color: #d4ebff;}#sk-container-id-2 div.sk-parallel-item::after {content: \"\";width: 100%;border-bottom: 1px solid gray;flex-grow: 1;}#sk-container-id-2 div.sk-label:hover label.sk-toggleable__label {background-color: #d4ebff;}#sk-container-id-2 div.sk-serial::before {content: \"\";position: absolute;border-left: 1px solid gray;box-sizing: border-box;top: 0;bottom: 0;left: 50%;z-index: 0;}#sk-container-id-2 div.sk-serial {display: flex;flex-direction: column;align-items: center;background-color: white;padding-right: 0.2em;padding-left: 0.2em;position: relative;}#sk-container-id-2 div.sk-item {position: relative;z-index: 1;}#sk-container-id-2 div.sk-parallel {display: flex;align-items: stretch;justify-content: center;background-color: white;position: relative;}#sk-container-id-2 div.sk-item::before, #sk-container-id-2 div.sk-parallel-item::before {content: \"\";position: absolute;border-left: 1px solid gray;box-sizing: border-box;top: 0;bottom: 0;left: 50%;z-index: -1;}#sk-container-id-2 div.sk-parallel-item {display: flex;flex-direction: column;z-index: 1;position: relative;background-color: white;}#sk-container-id-2 div.sk-parallel-item:first-child::after {align-self: flex-end;width: 50%;}#sk-container-id-2 div.sk-parallel-item:last-child::after {align-self: flex-start;width: 50%;}#sk-container-id-2 div.sk-parallel-item:only-child::after {width: 0;}#sk-container-id-2 div.sk-dashed-wrapped {border: 1px dashed gray;margin: 0 0.4em 0.5em 0.4em;box-sizing: border-box;padding-bottom: 0.4em;background-color: white;}#sk-container-id-2 div.sk-label label {font-family: monospace;font-weight: bold;display: inline-block;line-height: 1.2em;}#sk-container-id-2 div.sk-label-container {text-align: center;}#sk-container-id-2 div.sk-container {/* jupyter's `normalize.less` sets `[hidden] { display: none; }` but bootstrap.min.css set `[hidden] { display: none !important; }` so we also need the `!important` here to be able to override the default hidden behavior on the sphinx rendered scikit-learn.org. See: https://github.com/scikit-learn/scikit-learn/issues/21755 */display: inline-block !important;position: relative;}#sk-container-id-2 div.sk-text-repr-fallback {display: none;}</style><div id=\"sk-container-id-2\" class=\"sk-top-container\"><div class=\"sk-text-repr-fallback\"><pre>SVR()</pre><b>In a Jupyter environment, please rerun this cell to show the HTML representation or trust the notebook. <br />On GitHub, the HTML representation is unable to render, please try loading this page with nbviewer.org.</b></div><div class=\"sk-container\" hidden><div class=\"sk-item\"><div class=\"sk-estimator sk-toggleable\"><input class=\"sk-toggleable__control sk-hidden--visually\" id=\"sk-estimator-id-2\" type=\"checkbox\" checked><label for=\"sk-estimator-id-2\" class=\"sk-toggleable__label sk-toggleable__label-arrow\">SVR</label><div class=\"sk-toggleable__content\"><pre>SVR()</pre></div></div></div></div></div>"
            ]
          },
          "metadata": {},
          "execution_count": 31
        }
      ]
    },
    {
      "cell_type": "code",
      "source": [
        "y_svr_pred = svr_regr.predict(test_windows)"
      ],
      "metadata": {
        "id": "nnSBWyvP56KA"
      },
      "execution_count": null,
      "outputs": []
    },
    {
      "cell_type": "code",
      "source": [
        "y_svr_pred[0:2]"
      ],
      "metadata": {
        "colab": {
          "base_uri": "https://localhost:8080/"
        },
        "id": "ImInmm4q59_4",
        "outputId": "e0803e4e-1064-4d6b-f250-b9d6cafd10bb"
      },
      "execution_count": null,
      "outputs": [
        {
          "output_type": "execute_result",
          "data": {
            "text/plain": [
              "array([50.31562785, 49.21675567])"
            ]
          },
          "metadata": {},
          "execution_count": 33
        }
      ]
    },
    {
      "cell_type": "code",
      "source": [
        "evaluate_metrics(test_labels, y_svr_pred)"
      ],
      "metadata": {
        "colab": {
          "base_uri": "https://localhost:8080/"
        },
        "id": "rvwoGY9H6Bey",
        "outputId": "658e0667-a605-47da-aa5b-5e50f77ecc60"
      },
      "execution_count": null,
      "outputs": [
        {
          "output_type": "execute_result",
          "data": {
            "text/plain": [
              "{'mae': 11.353567970793389, 'rmse': 13.384761261874258}"
            ]
          },
          "metadata": {},
          "execution_count": 34
        }
      ]
    },
    {
      "cell_type": "markdown",
      "source": [
        "**XGBoost**"
      ],
      "metadata": {
        "id": "-Y-h3aCL6KRc"
      }
    },
    {
      "cell_type": "code",
      "source": [
        "import xgboost as xgb\n",
        "\n",
        "xgb_regr = xgb.XGBRegressor(n_estimators=200, reg_lambda=1, gamma=1, max_depth=1)"
      ],
      "metadata": {
        "id": "xtGHPJzq6KA3"
      },
      "execution_count": null,
      "outputs": []
    },
    {
      "cell_type": "code",
      "source": [
        "xgb_regr.fit(train_windows, train_labels)"
      ],
      "metadata": {
        "colab": {
          "base_uri": "https://localhost:8080/",
          "height": 248
        },
        "id": "-IOY3EfW6Y_b",
        "outputId": "6c6e1512-4ade-45f5-f089-cfc03bff4503"
      },
      "execution_count": null,
      "outputs": [
        {
          "output_type": "execute_result",
          "data": {
            "text/plain": [
              "XGBRegressor(base_score=None, booster=None, callbacks=None,\n",
              "             colsample_bylevel=None, colsample_bynode=None,\n",
              "             colsample_bytree=None, device=None, early_stopping_rounds=None,\n",
              "             enable_categorical=False, eval_metric=None, feature_types=None,\n",
              "             gamma=1, grow_policy=None, importance_type=None,\n",
              "             interaction_constraints=None, learning_rate=None, max_bin=None,\n",
              "             max_cat_threshold=None, max_cat_to_onehot=None,\n",
              "             max_delta_step=None, max_depth=1, max_leaves=None,\n",
              "             min_child_weight=None, missing=nan, monotone_constraints=None,\n",
              "             multi_strategy=None, n_estimators=200, n_jobs=None,\n",
              "             num_parallel_tree=None, random_state=None, ...)"
            ],
            "text/html": [
              "<style>#sk-container-id-3 {color: black;background-color: white;}#sk-container-id-3 pre{padding: 0;}#sk-container-id-3 div.sk-toggleable {background-color: white;}#sk-container-id-3 label.sk-toggleable__label {cursor: pointer;display: block;width: 100%;margin-bottom: 0;padding: 0.3em;box-sizing: border-box;text-align: center;}#sk-container-id-3 label.sk-toggleable__label-arrow:before {content: \"▸\";float: left;margin-right: 0.25em;color: #696969;}#sk-container-id-3 label.sk-toggleable__label-arrow:hover:before {color: black;}#sk-container-id-3 div.sk-estimator:hover label.sk-toggleable__label-arrow:before {color: black;}#sk-container-id-3 div.sk-toggleable__content {max-height: 0;max-width: 0;overflow: hidden;text-align: left;background-color: #f0f8ff;}#sk-container-id-3 div.sk-toggleable__content pre {margin: 0.2em;color: black;border-radius: 0.25em;background-color: #f0f8ff;}#sk-container-id-3 input.sk-toggleable__control:checked~div.sk-toggleable__content {max-height: 200px;max-width: 100%;overflow: auto;}#sk-container-id-3 input.sk-toggleable__control:checked~label.sk-toggleable__label-arrow:before {content: \"▾\";}#sk-container-id-3 div.sk-estimator input.sk-toggleable__control:checked~label.sk-toggleable__label {background-color: #d4ebff;}#sk-container-id-3 div.sk-label input.sk-toggleable__control:checked~label.sk-toggleable__label {background-color: #d4ebff;}#sk-container-id-3 input.sk-hidden--visually {border: 0;clip: rect(1px 1px 1px 1px);clip: rect(1px, 1px, 1px, 1px);height: 1px;margin: -1px;overflow: hidden;padding: 0;position: absolute;width: 1px;}#sk-container-id-3 div.sk-estimator {font-family: monospace;background-color: #f0f8ff;border: 1px dotted black;border-radius: 0.25em;box-sizing: border-box;margin-bottom: 0.5em;}#sk-container-id-3 div.sk-estimator:hover {background-color: #d4ebff;}#sk-container-id-3 div.sk-parallel-item::after {content: \"\";width: 100%;border-bottom: 1px solid gray;flex-grow: 1;}#sk-container-id-3 div.sk-label:hover label.sk-toggleable__label {background-color: #d4ebff;}#sk-container-id-3 div.sk-serial::before {content: \"\";position: absolute;border-left: 1px solid gray;box-sizing: border-box;top: 0;bottom: 0;left: 50%;z-index: 0;}#sk-container-id-3 div.sk-serial {display: flex;flex-direction: column;align-items: center;background-color: white;padding-right: 0.2em;padding-left: 0.2em;position: relative;}#sk-container-id-3 div.sk-item {position: relative;z-index: 1;}#sk-container-id-3 div.sk-parallel {display: flex;align-items: stretch;justify-content: center;background-color: white;position: relative;}#sk-container-id-3 div.sk-item::before, #sk-container-id-3 div.sk-parallel-item::before {content: \"\";position: absolute;border-left: 1px solid gray;box-sizing: border-box;top: 0;bottom: 0;left: 50%;z-index: -1;}#sk-container-id-3 div.sk-parallel-item {display: flex;flex-direction: column;z-index: 1;position: relative;background-color: white;}#sk-container-id-3 div.sk-parallel-item:first-child::after {align-self: flex-end;width: 50%;}#sk-container-id-3 div.sk-parallel-item:last-child::after {align-self: flex-start;width: 50%;}#sk-container-id-3 div.sk-parallel-item:only-child::after {width: 0;}#sk-container-id-3 div.sk-dashed-wrapped {border: 1px dashed gray;margin: 0 0.4em 0.5em 0.4em;box-sizing: border-box;padding-bottom: 0.4em;background-color: white;}#sk-container-id-3 div.sk-label label {font-family: monospace;font-weight: bold;display: inline-block;line-height: 1.2em;}#sk-container-id-3 div.sk-label-container {text-align: center;}#sk-container-id-3 div.sk-container {/* jupyter's `normalize.less` sets `[hidden] { display: none; }` but bootstrap.min.css set `[hidden] { display: none !important; }` so we also need the `!important` here to be able to override the default hidden behavior on the sphinx rendered scikit-learn.org. See: https://github.com/scikit-learn/scikit-learn/issues/21755 */display: inline-block !important;position: relative;}#sk-container-id-3 div.sk-text-repr-fallback {display: none;}</style><div id=\"sk-container-id-3\" class=\"sk-top-container\"><div class=\"sk-text-repr-fallback\"><pre>XGBRegressor(base_score=None, booster=None, callbacks=None,\n",
              "             colsample_bylevel=None, colsample_bynode=None,\n",
              "             colsample_bytree=None, device=None, early_stopping_rounds=None,\n",
              "             enable_categorical=False, eval_metric=None, feature_types=None,\n",
              "             gamma=1, grow_policy=None, importance_type=None,\n",
              "             interaction_constraints=None, learning_rate=None, max_bin=None,\n",
              "             max_cat_threshold=None, max_cat_to_onehot=None,\n",
              "             max_delta_step=None, max_depth=1, max_leaves=None,\n",
              "             min_child_weight=None, missing=nan, monotone_constraints=None,\n",
              "             multi_strategy=None, n_estimators=200, n_jobs=None,\n",
              "             num_parallel_tree=None, random_state=None, ...)</pre><b>In a Jupyter environment, please rerun this cell to show the HTML representation or trust the notebook. <br />On GitHub, the HTML representation is unable to render, please try loading this page with nbviewer.org.</b></div><div class=\"sk-container\" hidden><div class=\"sk-item\"><div class=\"sk-estimator sk-toggleable\"><input class=\"sk-toggleable__control sk-hidden--visually\" id=\"sk-estimator-id-3\" type=\"checkbox\" checked><label for=\"sk-estimator-id-3\" class=\"sk-toggleable__label sk-toggleable__label-arrow\">XGBRegressor</label><div class=\"sk-toggleable__content\"><pre>XGBRegressor(base_score=None, booster=None, callbacks=None,\n",
              "             colsample_bylevel=None, colsample_bynode=None,\n",
              "             colsample_bytree=None, device=None, early_stopping_rounds=None,\n",
              "             enable_categorical=False, eval_metric=None, feature_types=None,\n",
              "             gamma=1, grow_policy=None, importance_type=None,\n",
              "             interaction_constraints=None, learning_rate=None, max_bin=None,\n",
              "             max_cat_threshold=None, max_cat_to_onehot=None,\n",
              "             max_delta_step=None, max_depth=1, max_leaves=None,\n",
              "             min_child_weight=None, missing=nan, monotone_constraints=None,\n",
              "             multi_strategy=None, n_estimators=200, n_jobs=None,\n",
              "             num_parallel_tree=None, random_state=None, ...)</pre></div></div></div></div></div>"
            ]
          },
          "metadata": {},
          "execution_count": 36
        }
      ]
    },
    {
      "cell_type": "code",
      "source": [
        "y_xgb_pred = xgb_regr.predict(test_windows)"
      ],
      "metadata": {
        "id": "i7NAPTQm6iYY"
      },
      "execution_count": null,
      "outputs": []
    },
    {
      "cell_type": "code",
      "source": [
        "y_xgb_pred[0:2]"
      ],
      "metadata": {
        "colab": {
          "base_uri": "https://localhost:8080/"
        },
        "id": "6Buv8AVb6k7f",
        "outputId": "481da087-692f-448d-d2a8-35ad28bdf8bf"
      },
      "execution_count": null,
      "outputs": [
        {
          "output_type": "execute_result",
          "data": {
            "text/plain": [
              "array([61.991184, 48.948338], dtype=float32)"
            ]
          },
          "metadata": {},
          "execution_count": 38
        }
      ]
    },
    {
      "cell_type": "code",
      "source": [
        "evaluate_metrics(test_labels, y_xgb_pred)"
      ],
      "metadata": {
        "colab": {
          "base_uri": "https://localhost:8080/"
        },
        "id": "c_pdVb8B6oH8",
        "outputId": "ffeff72f-d3b3-48b1-b7bd-d899319aed7c"
      },
      "execution_count": null,
      "outputs": [
        {
          "output_type": "execute_result",
          "data": {
            "text/plain": [
              "{'mae': 11.886547583483773, 'rmse': 14.945440279740344}"
            ]
          },
          "metadata": {},
          "execution_count": 39
        }
      ]
    },
    {
      "cell_type": "markdown",
      "source": [
        "**Neural Network**"
      ],
      "metadata": {
        "id": "jMtjjgFR60JV"
      }
    },
    {
      "cell_type": "code",
      "source": [
        "import tensorflow as tf\n",
        "from keras import layers\n",
        "from keras.callbacks import EarlyStopping, ModelCheckpoint"
      ],
      "metadata": {
        "id": "gtRXZI2E6zNi"
      },
      "execution_count": null,
      "outputs": []
    },
    {
      "cell_type": "code",
      "source": [
        "tf.random.set_seed(42)\n",
        "\n",
        "# Construct model\n",
        "nn_model = tf.keras.Sequential([\n",
        "  layers.Dense(64, activation=\"relu\"),\n",
        "  layers.Dense(64),\n",
        "  layers.Dense(1)\n",
        "], name=\"model_1_dense\")\n",
        "\n",
        "# Compile model\n",
        "nn_model.compile(loss=\"mae\",\n",
        "                optimizer=tf.keras.optimizers.Adam(),\n",
        "                metrics=[\"mae\"]\n",
        ")\n",
        "\n",
        "# Fit model\n",
        "nn_model.fit(x=train_windows,\n",
        "            y=train_labels,\n",
        "            epochs=100,\n",
        "            verbose=1,\n",
        "            batch_size=32,\n",
        "            callbacks=[\n",
        "                EarlyStopping(monitor='loss', patience=10)\n",
        "            ]\n",
        ")"
      ],
      "metadata": {
        "colab": {
          "base_uri": "https://localhost:8080/"
        },
        "id": "r7OrxjkK7Ckq",
        "outputId": "2889dd54-f02d-43e3-f20c-f9e0c29ea6d1"
      },
      "execution_count": null,
      "outputs": [
        {
          "output_type": "stream",
          "name": "stdout",
          "text": [
            "Epoch 1/100\n",
            "28/28 [==============================] - 3s 6ms/step - loss: 26.9728 - mae: 26.9728\n",
            "Epoch 2/100\n",
            "28/28 [==============================] - 0s 6ms/step - loss: 23.8758 - mae: 23.8758\n",
            "Epoch 3/100\n",
            "28/28 [==============================] - 0s 7ms/step - loss: 22.6951 - mae: 22.6951\n",
            "Epoch 4/100\n",
            "28/28 [==============================] - 0s 4ms/step - loss: 22.0036 - mae: 22.0036\n",
            "Epoch 5/100\n",
            "28/28 [==============================] - 0s 5ms/step - loss: 21.6870 - mae: 21.6870\n",
            "Epoch 6/100\n",
            "28/28 [==============================] - 0s 7ms/step - loss: 21.3024 - mae: 21.3024\n",
            "Epoch 7/100\n",
            "28/28 [==============================] - 0s 9ms/step - loss: 21.4197 - mae: 21.4197\n",
            "Epoch 8/100\n",
            "28/28 [==============================] - 0s 9ms/step - loss: 21.4266 - mae: 21.4266\n",
            "Epoch 9/100\n",
            "28/28 [==============================] - 0s 14ms/step - loss: 21.8699 - mae: 21.8699\n",
            "Epoch 10/100\n",
            "28/28 [==============================] - 0s 8ms/step - loss: 20.5708 - mae: 20.5708\n",
            "Epoch 11/100\n",
            "28/28 [==============================] - 0s 5ms/step - loss: 21.8658 - mae: 21.8658\n",
            "Epoch 12/100\n",
            "28/28 [==============================] - 0s 5ms/step - loss: 20.1833 - mae: 20.1833\n",
            "Epoch 13/100\n",
            "28/28 [==============================] - 0s 7ms/step - loss: 20.0466 - mae: 20.0466\n",
            "Epoch 14/100\n",
            "28/28 [==============================] - 0s 7ms/step - loss: 19.8533 - mae: 19.8533\n",
            "Epoch 15/100\n",
            "28/28 [==============================] - 0s 12ms/step - loss: 19.6635 - mae: 19.6635\n",
            "Epoch 16/100\n",
            "28/28 [==============================] - 0s 14ms/step - loss: 19.5691 - mae: 19.5691\n",
            "Epoch 17/100\n",
            "28/28 [==============================] - 0s 7ms/step - loss: 19.5523 - mae: 19.5523\n",
            "Epoch 18/100\n",
            "28/28 [==============================] - 0s 12ms/step - loss: 19.2978 - mae: 19.2978\n",
            "Epoch 19/100\n",
            "28/28 [==============================] - 0s 6ms/step - loss: 19.0963 - mae: 19.0963\n",
            "Epoch 20/100\n",
            "28/28 [==============================] - 0s 10ms/step - loss: 18.5887 - mae: 18.5887\n",
            "Epoch 21/100\n",
            "28/28 [==============================] - 0s 14ms/step - loss: 18.4780 - mae: 18.4780\n",
            "Epoch 22/100\n",
            "28/28 [==============================] - 0s 12ms/step - loss: 18.4625 - mae: 18.4625\n",
            "Epoch 23/100\n",
            "28/28 [==============================] - 0s 8ms/step - loss: 18.6310 - mae: 18.6310\n",
            "Epoch 24/100\n",
            "28/28 [==============================] - 0s 9ms/step - loss: 17.8702 - mae: 17.8702\n",
            "Epoch 25/100\n",
            "28/28 [==============================] - 0s 13ms/step - loss: 17.9058 - mae: 17.9058\n",
            "Epoch 26/100\n",
            "28/28 [==============================] - 0s 9ms/step - loss: 18.0992 - mae: 18.0992\n",
            "Epoch 27/100\n",
            "28/28 [==============================] - 0s 6ms/step - loss: 17.3211 - mae: 17.3211\n",
            "Epoch 28/100\n",
            "28/28 [==============================] - 0s 10ms/step - loss: 17.4242 - mae: 17.4242\n",
            "Epoch 29/100\n",
            "28/28 [==============================] - 0s 9ms/step - loss: 17.2956 - mae: 17.2956\n",
            "Epoch 30/100\n",
            "28/28 [==============================] - 0s 10ms/step - loss: 17.2454 - mae: 17.2454\n",
            "Epoch 31/100\n",
            "28/28 [==============================] - 0s 7ms/step - loss: 16.9322 - mae: 16.9322\n",
            "Epoch 32/100\n",
            "28/28 [==============================] - 0s 8ms/step - loss: 16.4962 - mae: 16.4962\n",
            "Epoch 33/100\n",
            "28/28 [==============================] - 0s 8ms/step - loss: 16.7881 - mae: 16.7881\n",
            "Epoch 34/100\n",
            "28/28 [==============================] - 0s 7ms/step - loss: 16.7139 - mae: 16.7139\n",
            "Epoch 35/100\n",
            "28/28 [==============================] - 0s 7ms/step - loss: 16.1804 - mae: 16.1804\n",
            "Epoch 36/100\n",
            "28/28 [==============================] - 0s 6ms/step - loss: 15.8572 - mae: 15.8572\n",
            "Epoch 37/100\n",
            "28/28 [==============================] - 0s 5ms/step - loss: 16.1547 - mae: 16.1547\n",
            "Epoch 38/100\n",
            "28/28 [==============================] - 0s 8ms/step - loss: 17.0262 - mae: 17.0262\n",
            "Epoch 39/100\n",
            "28/28 [==============================] - 0s 9ms/step - loss: 15.6487 - mae: 15.6487\n",
            "Epoch 40/100\n",
            "28/28 [==============================] - 0s 5ms/step - loss: 16.2226 - mae: 16.2226\n",
            "Epoch 41/100\n",
            "28/28 [==============================] - 0s 4ms/step - loss: 15.2740 - mae: 15.2740\n",
            "Epoch 42/100\n",
            "28/28 [==============================] - 0s 5ms/step - loss: 15.2557 - mae: 15.2557\n",
            "Epoch 43/100\n",
            "28/28 [==============================] - 0s 9ms/step - loss: 15.7857 - mae: 15.7857\n",
            "Epoch 44/100\n",
            "28/28 [==============================] - 0s 5ms/step - loss: 15.5918 - mae: 15.5918\n",
            "Epoch 45/100\n",
            "28/28 [==============================] - 0s 5ms/step - loss: 15.1234 - mae: 15.1234\n",
            "Epoch 46/100\n",
            "28/28 [==============================] - 0s 5ms/step - loss: 14.9208 - mae: 14.9208\n",
            "Epoch 47/100\n",
            "28/28 [==============================] - 0s 4ms/step - loss: 16.2824 - mae: 16.2824\n",
            "Epoch 48/100\n",
            "28/28 [==============================] - 0s 4ms/step - loss: 14.6571 - mae: 14.6571\n",
            "Epoch 49/100\n",
            "28/28 [==============================] - 0s 8ms/step - loss: 15.1614 - mae: 15.1614\n",
            "Epoch 50/100\n",
            "28/28 [==============================] - 0s 6ms/step - loss: 14.3176 - mae: 14.3176\n",
            "Epoch 51/100\n",
            "28/28 [==============================] - 0s 5ms/step - loss: 13.9711 - mae: 13.9711\n",
            "Epoch 52/100\n",
            "28/28 [==============================] - 0s 11ms/step - loss: 13.9734 - mae: 13.9734\n",
            "Epoch 53/100\n",
            "28/28 [==============================] - 0s 12ms/step - loss: 13.5507 - mae: 13.5507\n",
            "Epoch 54/100\n",
            "28/28 [==============================] - 0s 7ms/step - loss: 13.7448 - mae: 13.7448\n",
            "Epoch 55/100\n",
            "28/28 [==============================] - 0s 6ms/step - loss: 13.5353 - mae: 13.5353\n",
            "Epoch 56/100\n",
            "28/28 [==============================] - 0s 6ms/step - loss: 13.3189 - mae: 13.3189\n",
            "Epoch 57/100\n",
            "28/28 [==============================] - 0s 7ms/step - loss: 13.1162 - mae: 13.1162\n",
            "Epoch 58/100\n",
            "28/28 [==============================] - 0s 5ms/step - loss: 13.7601 - mae: 13.7601\n",
            "Epoch 59/100\n",
            "28/28 [==============================] - 0s 6ms/step - loss: 12.9442 - mae: 12.9442\n",
            "Epoch 60/100\n",
            "28/28 [==============================] - 0s 7ms/step - loss: 12.7530 - mae: 12.7530\n",
            "Epoch 61/100\n",
            "28/28 [==============================] - 0s 4ms/step - loss: 13.1513 - mae: 13.1513\n",
            "Epoch 62/100\n",
            "28/28 [==============================] - 0s 8ms/step - loss: 13.3339 - mae: 13.3339\n",
            "Epoch 63/100\n",
            "28/28 [==============================] - 0s 5ms/step - loss: 13.2479 - mae: 13.2479\n",
            "Epoch 64/100\n",
            "28/28 [==============================] - 0s 5ms/step - loss: 13.0157 - mae: 13.0157\n",
            "Epoch 65/100\n",
            "28/28 [==============================] - 0s 3ms/step - loss: 12.9254 - mae: 12.9254\n",
            "Epoch 66/100\n",
            "28/28 [==============================] - 0s 4ms/step - loss: 12.2343 - mae: 12.2343\n",
            "Epoch 67/100\n",
            "28/28 [==============================] - 0s 4ms/step - loss: 12.2172 - mae: 12.2172\n",
            "Epoch 68/100\n",
            "28/28 [==============================] - 0s 4ms/step - loss: 12.1930 - mae: 12.1930\n",
            "Epoch 69/100\n",
            "28/28 [==============================] - 0s 4ms/step - loss: 12.0096 - mae: 12.0096\n",
            "Epoch 70/100\n",
            "28/28 [==============================] - 0s 3ms/step - loss: 12.0145 - mae: 12.0145\n",
            "Epoch 71/100\n",
            "28/28 [==============================] - 0s 5ms/step - loss: 12.1935 - mae: 12.1935\n",
            "Epoch 72/100\n",
            "28/28 [==============================] - 0s 4ms/step - loss: 11.9375 - mae: 11.9375\n",
            "Epoch 73/100\n",
            "28/28 [==============================] - 0s 4ms/step - loss: 12.2468 - mae: 12.2468\n",
            "Epoch 74/100\n",
            "28/28 [==============================] - 0s 6ms/step - loss: 12.2544 - mae: 12.2544\n",
            "Epoch 75/100\n",
            "28/28 [==============================] - 0s 5ms/step - loss: 11.8659 - mae: 11.8659\n",
            "Epoch 76/100\n",
            "28/28 [==============================] - 0s 3ms/step - loss: 12.2411 - mae: 12.2411\n",
            "Epoch 77/100\n",
            "28/28 [==============================] - 0s 4ms/step - loss: 11.7527 - mae: 11.7527\n",
            "Epoch 78/100\n",
            "28/28 [==============================] - 0s 9ms/step - loss: 11.7466 - mae: 11.7466\n",
            "Epoch 79/100\n",
            "28/28 [==============================] - 0s 8ms/step - loss: 11.4673 - mae: 11.4673\n",
            "Epoch 80/100\n",
            "28/28 [==============================] - 0s 7ms/step - loss: 12.4744 - mae: 12.4744\n",
            "Epoch 81/100\n",
            "28/28 [==============================] - 0s 12ms/step - loss: 11.9496 - mae: 11.9496\n",
            "Epoch 82/100\n",
            "28/28 [==============================] - 0s 11ms/step - loss: 11.2253 - mae: 11.2253\n",
            "Epoch 83/100\n",
            "28/28 [==============================] - 0s 11ms/step - loss: 11.2671 - mae: 11.2671\n",
            "Epoch 84/100\n",
            "28/28 [==============================] - 0s 9ms/step - loss: 11.5453 - mae: 11.5453\n",
            "Epoch 85/100\n",
            "28/28 [==============================] - 0s 9ms/step - loss: 11.9038 - mae: 11.9038\n",
            "Epoch 86/100\n",
            "28/28 [==============================] - 0s 7ms/step - loss: 11.5121 - mae: 11.5121\n",
            "Epoch 87/100\n",
            "28/28 [==============================] - 0s 7ms/step - loss: 10.7817 - mae: 10.7817\n",
            "Epoch 88/100\n",
            "28/28 [==============================] - 0s 12ms/step - loss: 11.2304 - mae: 11.2304\n",
            "Epoch 89/100\n",
            "28/28 [==============================] - 0s 12ms/step - loss: 10.7129 - mae: 10.7129\n",
            "Epoch 90/100\n",
            "28/28 [==============================] - 0s 18ms/step - loss: 10.4500 - mae: 10.4500\n",
            "Epoch 91/100\n",
            "28/28 [==============================] - 0s 12ms/step - loss: 11.5091 - mae: 11.5091\n",
            "Epoch 92/100\n",
            "28/28 [==============================] - 0s 5ms/step - loss: 11.8075 - mae: 11.8075\n",
            "Epoch 93/100\n",
            "28/28 [==============================] - 0s 5ms/step - loss: 10.6009 - mae: 10.6009\n",
            "Epoch 94/100\n",
            "28/28 [==============================] - 0s 3ms/step - loss: 11.1143 - mae: 11.1143\n",
            "Epoch 95/100\n",
            "28/28 [==============================] - 0s 5ms/step - loss: 10.7389 - mae: 10.7389\n",
            "Epoch 96/100\n",
            "28/28 [==============================] - 0s 5ms/step - loss: 10.3656 - mae: 10.3656\n",
            "Epoch 97/100\n",
            "28/28 [==============================] - 0s 5ms/step - loss: 11.4209 - mae: 11.4209\n",
            "Epoch 98/100\n",
            "28/28 [==============================] - 0s 6ms/step - loss: 10.5396 - mae: 10.5396\n",
            "Epoch 99/100\n",
            "28/28 [==============================] - 0s 5ms/step - loss: 10.6345 - mae: 10.6345\n",
            "Epoch 100/100\n",
            "28/28 [==============================] - 0s 4ms/step - loss: 10.3842 - mae: 10.3842\n"
          ]
        },
        {
          "output_type": "execute_result",
          "data": {
            "text/plain": [
              "<keras.src.callbacks.History at 0x7fd774530cd0>"
            ]
          },
          "metadata": {},
          "execution_count": 41
        }
      ]
    },
    {
      "cell_type": "code",
      "source": [
        "nn_model.evaluate(test_windows, test_labels)"
      ],
      "metadata": {
        "colab": {
          "base_uri": "https://localhost:8080/"
        },
        "id": "BX1Xmzaq7lSD",
        "outputId": "8f92e372-9d76-4f2d-d622-8e3644d96856"
      },
      "execution_count": null,
      "outputs": [
        {
          "output_type": "stream",
          "name": "stdout",
          "text": [
            "7/7 [==============================] - 0s 9ms/step - loss: 11.7157 - mae: 11.7157\n"
          ]
        },
        {
          "output_type": "execute_result",
          "data": {
            "text/plain": [
              "[11.715659141540527, 11.715659141540527]"
            ]
          },
          "metadata": {},
          "execution_count": 42
        }
      ]
    },
    {
      "cell_type": "code",
      "source": [
        "y_nn_pred = nn_model.predict(test_windows)"
      ],
      "metadata": {
        "id": "AAYMv-so81jT",
        "colab": {
          "base_uri": "https://localhost:8080/"
        },
        "outputId": "4ed47d9d-47c1-48e4-a3c9-08b328e82db0"
      },
      "execution_count": null,
      "outputs": [
        {
          "output_type": "stream",
          "name": "stdout",
          "text": [
            "7/7 [==============================] - 0s 10ms/step\n"
          ]
        }
      ]
    },
    {
      "cell_type": "code",
      "source": [
        "y_nn_pred_out = tf.squeeze(y_nn_pred)"
      ],
      "metadata": {
        "id": "CpepAcaWCdKk"
      },
      "execution_count": null,
      "outputs": []
    },
    {
      "cell_type": "code",
      "source": [
        "evaluate_metrics(test_labels, y_nn_pred)"
      ],
      "metadata": {
        "colab": {
          "base_uri": "https://localhost:8080/"
        },
        "id": "rFDTFxAj8m1Z",
        "outputId": "eb3f3b3b-f938-46cb-8ca7-ad7197399db3"
      },
      "execution_count": null,
      "outputs": [
        {
          "output_type": "execute_result",
          "data": {
            "text/plain": [
              "{'mae': 11.715658877311496, 'rmse': 14.533568347974855}"
            ]
          },
          "metadata": {},
          "execution_count": 45
        }
      ]
    },
    {
      "cell_type": "markdown",
      "source": [
        "**LSTM**"
      ],
      "metadata": {
        "id": "jfrS5gj39ghM"
      }
    },
    {
      "cell_type": "code",
      "source": [
        "from keras.models import Sequential\n",
        "from keras.layers import Dense, Input\n",
        "from keras.layers import LSTM"
      ],
      "metadata": {
        "id": "iZg-rRID9fze"
      },
      "execution_count": null,
      "outputs": []
    },
    {
      "cell_type": "code",
      "source": [
        "tf.random.set_seed(42)\n",
        "\n",
        "inputs = Input(shape=(WINDOW_SIZE))\n",
        "\n",
        "layer_inp = layers.Lambda(lambda x: tf.expand_dims(x, axis=1))(inputs)\n",
        "layer_inp = layers.LSTM(64, activation=\"relu\")(layer_inp)\n",
        "output = layers.Dense(HORIZON)(layer_inp)\n",
        "\n",
        "lstm_model = tf.keras.Model(inputs=inputs,\n",
        "                         outputs=output,\n",
        "                         name=\"model_2_lstm\")\n",
        "\n",
        "lstm_model.compile(loss=\"mae\",\n",
        "                optimizer=tf.keras.optimizers.Adam(),\n",
        "                metrics=[\"mae\"])\n",
        "\n",
        "lstm_model.fit(train_windows,\n",
        "            train_labels,\n",
        "            epochs=100,\n",
        "            verbose=1,\n",
        "            batch_size=32,\n",
        "            callbacks=[\n",
        "              EarlyStopping(monitor='loss', patience=10),\n",
        "            ]\n",
        ")"
      ],
      "metadata": {
        "colab": {
          "base_uri": "https://localhost:8080/"
        },
        "id": "4dF2E5kH9kPP",
        "outputId": "c2f97390-b90e-4157-8287-cbc04a8aae54"
      },
      "execution_count": null,
      "outputs": [
        {
          "output_type": "stream",
          "name": "stdout",
          "text": [
            "Epoch 1/100\n",
            "28/28 [==============================] - 4s 10ms/step - loss: 26.7691 - mae: 26.7691\n",
            "Epoch 2/100\n",
            "28/28 [==============================] - 0s 12ms/step - loss: 22.4853 - mae: 22.4853\n",
            "Epoch 3/100\n",
            "28/28 [==============================] - 0s 7ms/step - loss: 21.9896 - mae: 21.9896\n",
            "Epoch 4/100\n",
            "28/28 [==============================] - 0s 8ms/step - loss: 21.6907 - mae: 21.6907\n",
            "Epoch 5/100\n",
            "28/28 [==============================] - 0s 7ms/step - loss: 21.4752 - mae: 21.4752\n",
            "Epoch 6/100\n",
            "28/28 [==============================] - 0s 8ms/step - loss: 21.4779 - mae: 21.4779\n",
            "Epoch 7/100\n",
            "28/28 [==============================] - 0s 8ms/step - loss: 21.2229 - mae: 21.2229\n",
            "Epoch 8/100\n",
            "28/28 [==============================] - 0s 7ms/step - loss: 20.7381 - mae: 20.7381\n",
            "Epoch 9/100\n",
            "28/28 [==============================] - 0s 9ms/step - loss: 20.5463 - mae: 20.5463\n",
            "Epoch 10/100\n",
            "28/28 [==============================] - 0s 10ms/step - loss: 20.0958 - mae: 20.0958\n",
            "Epoch 11/100\n",
            "28/28 [==============================] - 0s 8ms/step - loss: 19.6932 - mae: 19.6932\n",
            "Epoch 12/100\n",
            "28/28 [==============================] - 0s 8ms/step - loss: 19.2677 - mae: 19.2677\n",
            "Epoch 13/100\n",
            "28/28 [==============================] - 0s 12ms/step - loss: 19.3555 - mae: 19.3555\n",
            "Epoch 14/100\n",
            "28/28 [==============================] - 0s 10ms/step - loss: 19.7222 - mae: 19.7222\n",
            "Epoch 15/100\n",
            "28/28 [==============================] - 0s 8ms/step - loss: 19.0096 - mae: 19.0096\n",
            "Epoch 16/100\n",
            "28/28 [==============================] - 0s 9ms/step - loss: 18.5377 - mae: 18.5377\n",
            "Epoch 17/100\n",
            "28/28 [==============================] - 0s 9ms/step - loss: 18.4096 - mae: 18.4096\n",
            "Epoch 18/100\n",
            "28/28 [==============================] - 0s 9ms/step - loss: 18.4924 - mae: 18.4924\n",
            "Epoch 19/100\n",
            "28/28 [==============================] - 0s 9ms/step - loss: 17.8677 - mae: 17.8677\n",
            "Epoch 20/100\n",
            "28/28 [==============================] - 0s 12ms/step - loss: 17.6231 - mae: 17.6231\n",
            "Epoch 21/100\n",
            "28/28 [==============================] - 0s 12ms/step - loss: 17.2450 - mae: 17.2450\n",
            "Epoch 22/100\n",
            "28/28 [==============================] - 0s 6ms/step - loss: 17.9213 - mae: 17.9213\n",
            "Epoch 23/100\n",
            "28/28 [==============================] - 0s 6ms/step - loss: 17.0973 - mae: 17.0973\n",
            "Epoch 24/100\n",
            "28/28 [==============================] - 0s 6ms/step - loss: 17.0580 - mae: 17.0580\n",
            "Epoch 25/100\n",
            "28/28 [==============================] - 0s 7ms/step - loss: 16.3989 - mae: 16.3989\n",
            "Epoch 26/100\n",
            "28/28 [==============================] - 0s 7ms/step - loss: 16.3423 - mae: 16.3423\n",
            "Epoch 27/100\n",
            "28/28 [==============================] - 0s 8ms/step - loss: 15.8408 - mae: 15.8408\n",
            "Epoch 28/100\n",
            "28/28 [==============================] - 0s 8ms/step - loss: 15.6753 - mae: 15.6753\n",
            "Epoch 29/100\n",
            "28/28 [==============================] - 0s 7ms/step - loss: 16.4007 - mae: 16.4007\n",
            "Epoch 30/100\n",
            "28/28 [==============================] - 0s 9ms/step - loss: 15.5070 - mae: 15.5070\n",
            "Epoch 31/100\n",
            "28/28 [==============================] - 0s 7ms/step - loss: 15.3734 - mae: 15.3734\n",
            "Epoch 32/100\n",
            "28/28 [==============================] - 0s 7ms/step - loss: 15.0298 - mae: 15.0298\n",
            "Epoch 33/100\n",
            "28/28 [==============================] - 0s 8ms/step - loss: 14.9719 - mae: 14.9719\n",
            "Epoch 34/100\n",
            "28/28 [==============================] - 0s 6ms/step - loss: 14.8206 - mae: 14.8206\n",
            "Epoch 35/100\n",
            "28/28 [==============================] - 0s 7ms/step - loss: 14.5930 - mae: 14.5930\n",
            "Epoch 36/100\n",
            "28/28 [==============================] - 0s 7ms/step - loss: 14.8931 - mae: 14.8931\n",
            "Epoch 37/100\n",
            "28/28 [==============================] - 0s 5ms/step - loss: 15.2718 - mae: 15.2718\n",
            "Epoch 38/100\n",
            "28/28 [==============================] - 0s 7ms/step - loss: 14.9335 - mae: 14.9335\n",
            "Epoch 39/100\n",
            "28/28 [==============================] - 0s 7ms/step - loss: 14.7228 - mae: 14.7228\n",
            "Epoch 40/100\n",
            "28/28 [==============================] - 0s 9ms/step - loss: 14.0972 - mae: 14.0972\n",
            "Epoch 41/100\n",
            "28/28 [==============================] - 0s 8ms/step - loss: 14.6592 - mae: 14.6592\n",
            "Epoch 42/100\n",
            "28/28 [==============================] - 0s 7ms/step - loss: 13.9096 - mae: 13.9096\n",
            "Epoch 43/100\n",
            "28/28 [==============================] - 0s 8ms/step - loss: 13.5808 - mae: 13.5808\n",
            "Epoch 44/100\n",
            "28/28 [==============================] - 0s 11ms/step - loss: 13.0994 - mae: 13.0994\n",
            "Epoch 45/100\n",
            "28/28 [==============================] - 0s 10ms/step - loss: 12.8061 - mae: 12.8061\n",
            "Epoch 46/100\n",
            "28/28 [==============================] - 0s 7ms/step - loss: 13.3585 - mae: 13.3585\n",
            "Epoch 47/100\n",
            "28/28 [==============================] - 0s 5ms/step - loss: 13.7951 - mae: 13.7951\n",
            "Epoch 48/100\n",
            "28/28 [==============================] - 0s 6ms/step - loss: 13.2019 - mae: 13.2019\n",
            "Epoch 49/100\n",
            "28/28 [==============================] - 0s 12ms/step - loss: 12.7941 - mae: 12.7941\n",
            "Epoch 50/100\n",
            "28/28 [==============================] - 0s 6ms/step - loss: 12.7107 - mae: 12.7107\n",
            "Epoch 51/100\n",
            "28/28 [==============================] - 0s 7ms/step - loss: 12.9157 - mae: 12.9157\n",
            "Epoch 52/100\n",
            "28/28 [==============================] - 0s 6ms/step - loss: 11.9933 - mae: 11.9933\n",
            "Epoch 53/100\n",
            "28/28 [==============================] - 0s 6ms/step - loss: 11.9963 - mae: 11.9963\n",
            "Epoch 54/100\n",
            "28/28 [==============================] - 0s 10ms/step - loss: 12.2115 - mae: 12.2115\n",
            "Epoch 55/100\n",
            "28/28 [==============================] - 0s 9ms/step - loss: 11.7635 - mae: 11.7635\n",
            "Epoch 56/100\n",
            "28/28 [==============================] - 0s 6ms/step - loss: 11.5042 - mae: 11.5042\n",
            "Epoch 57/100\n",
            "28/28 [==============================] - 0s 9ms/step - loss: 11.3043 - mae: 11.3043\n",
            "Epoch 58/100\n",
            "28/28 [==============================] - 0s 5ms/step - loss: 11.4039 - mae: 11.4039\n",
            "Epoch 59/100\n",
            "28/28 [==============================] - 0s 5ms/step - loss: 11.3701 - mae: 11.3701\n",
            "Epoch 60/100\n",
            "28/28 [==============================] - 0s 4ms/step - loss: 11.8509 - mae: 11.8509\n",
            "Epoch 61/100\n",
            "28/28 [==============================] - 0s 4ms/step - loss: 12.1760 - mae: 12.1760\n",
            "Epoch 62/100\n",
            "28/28 [==============================] - 0s 4ms/step - loss: 11.6421 - mae: 11.6421\n",
            "Epoch 63/100\n",
            "28/28 [==============================] - 0s 4ms/step - loss: 10.9876 - mae: 10.9876\n",
            "Epoch 64/100\n",
            "28/28 [==============================] - 0s 4ms/step - loss: 11.1315 - mae: 11.1315\n",
            "Epoch 65/100\n",
            "28/28 [==============================] - 0s 3ms/step - loss: 10.5979 - mae: 10.5979\n",
            "Epoch 66/100\n",
            "28/28 [==============================] - 0s 3ms/step - loss: 10.6856 - mae: 10.6856\n",
            "Epoch 67/100\n",
            "28/28 [==============================] - 0s 4ms/step - loss: 10.1976 - mae: 10.1976\n",
            "Epoch 68/100\n",
            "28/28 [==============================] - 0s 4ms/step - loss: 10.1724 - mae: 10.1724\n",
            "Epoch 69/100\n",
            "28/28 [==============================] - 0s 4ms/step - loss: 10.1227 - mae: 10.1227\n",
            "Epoch 70/100\n",
            "28/28 [==============================] - 0s 4ms/step - loss: 10.0129 - mae: 10.0129\n",
            "Epoch 71/100\n",
            "28/28 [==============================] - 0s 4ms/step - loss: 9.5367 - mae: 9.5367\n",
            "Epoch 72/100\n",
            "28/28 [==============================] - 0s 3ms/step - loss: 9.7126 - mae: 9.7126\n",
            "Epoch 73/100\n",
            "28/28 [==============================] - 0s 4ms/step - loss: 9.4682 - mae: 9.4682\n",
            "Epoch 74/100\n",
            "28/28 [==============================] - 0s 6ms/step - loss: 9.9259 - mae: 9.9259\n",
            "Epoch 75/100\n",
            "28/28 [==============================] - 0s 5ms/step - loss: 9.6240 - mae: 9.6240\n",
            "Epoch 76/100\n",
            "28/28 [==============================] - 0s 5ms/step - loss: 9.8897 - mae: 9.8897\n",
            "Epoch 77/100\n",
            "28/28 [==============================] - 0s 5ms/step - loss: 9.4540 - mae: 9.4540\n",
            "Epoch 78/100\n",
            "28/28 [==============================] - 0s 5ms/step - loss: 9.5918 - mae: 9.5918\n",
            "Epoch 79/100\n",
            "28/28 [==============================] - 0s 5ms/step - loss: 10.0460 - mae: 10.0460\n",
            "Epoch 80/100\n",
            "28/28 [==============================] - 0s 5ms/step - loss: 9.4783 - mae: 9.4783\n",
            "Epoch 81/100\n",
            "28/28 [==============================] - 0s 5ms/step - loss: 8.9422 - mae: 8.9422\n",
            "Epoch 82/100\n",
            "28/28 [==============================] - 0s 6ms/step - loss: 8.6290 - mae: 8.6290\n",
            "Epoch 83/100\n",
            "28/28 [==============================] - 0s 6ms/step - loss: 8.5749 - mae: 8.5749\n",
            "Epoch 84/100\n",
            "28/28 [==============================] - 0s 5ms/step - loss: 8.4699 - mae: 8.4699\n",
            "Epoch 85/100\n",
            "28/28 [==============================] - 0s 6ms/step - loss: 8.5812 - mae: 8.5812\n",
            "Epoch 86/100\n",
            "28/28 [==============================] - 0s 5ms/step - loss: 9.3746 - mae: 9.3746\n",
            "Epoch 87/100\n",
            "28/28 [==============================] - 0s 6ms/step - loss: 8.6436 - mae: 8.6436\n",
            "Epoch 88/100\n",
            "28/28 [==============================] - 0s 6ms/step - loss: 8.2832 - mae: 8.2832\n",
            "Epoch 89/100\n",
            "28/28 [==============================] - 0s 6ms/step - loss: 8.2620 - mae: 8.2620\n",
            "Epoch 90/100\n",
            "28/28 [==============================] - 0s 6ms/step - loss: 7.9348 - mae: 7.9348\n",
            "Epoch 91/100\n",
            "28/28 [==============================] - 0s 6ms/step - loss: 8.4191 - mae: 8.4191\n",
            "Epoch 92/100\n",
            "28/28 [==============================] - 0s 6ms/step - loss: 8.0543 - mae: 8.0543\n",
            "Epoch 93/100\n",
            "28/28 [==============================] - 0s 4ms/step - loss: 8.5899 - mae: 8.5899\n",
            "Epoch 94/100\n",
            "28/28 [==============================] - 0s 4ms/step - loss: 7.9331 - mae: 7.9331\n",
            "Epoch 95/100\n",
            "28/28 [==============================] - 0s 4ms/step - loss: 7.9405 - mae: 7.9405\n",
            "Epoch 96/100\n",
            "28/28 [==============================] - 0s 3ms/step - loss: 7.5412 - mae: 7.5412\n",
            "Epoch 97/100\n",
            "28/28 [==============================] - 0s 4ms/step - loss: 7.4315 - mae: 7.4315\n",
            "Epoch 98/100\n",
            "28/28 [==============================] - 0s 4ms/step - loss: 7.6523 - mae: 7.6523\n",
            "Epoch 99/100\n",
            "28/28 [==============================] - 0s 4ms/step - loss: 7.5614 - mae: 7.5614\n",
            "Epoch 100/100\n",
            "28/28 [==============================] - 0s 5ms/step - loss: 7.7817 - mae: 7.7817\n"
          ]
        },
        {
          "output_type": "execute_result",
          "data": {
            "text/plain": [
              "<keras.src.callbacks.History at 0x7fd76c362440>"
            ]
          },
          "metadata": {},
          "execution_count": 47
        }
      ]
    },
    {
      "cell_type": "code",
      "source": [
        "lstm_model.summary()"
      ],
      "metadata": {
        "colab": {
          "base_uri": "https://localhost:8080/"
        },
        "id": "g8fIKv9M98yT",
        "outputId": "d4d36829-9727-4201-b661-a395760feb21"
      },
      "execution_count": null,
      "outputs": [
        {
          "output_type": "stream",
          "name": "stdout",
          "text": [
            "Model: \"model_2_lstm\"\n",
            "_________________________________________________________________\n",
            " Layer (type)                Output Shape              Param #   \n",
            "=================================================================\n",
            " input_1 (InputLayer)        [(None, 30)]              0         \n",
            "                                                                 \n",
            " lambda (Lambda)             (None, 1, 30)             0         \n",
            "                                                                 \n",
            " lstm (LSTM)                 (None, 64)                24320     \n",
            "                                                                 \n",
            " dense_3 (Dense)             (None, 1)                 65        \n",
            "                                                                 \n",
            "=================================================================\n",
            "Total params: 24385 (95.25 KB)\n",
            "Trainable params: 24385 (95.25 KB)\n",
            "Non-trainable params: 0 (0.00 Byte)\n",
            "_________________________________________________________________\n"
          ]
        }
      ]
    },
    {
      "cell_type": "code",
      "source": [
        "y_lstm_pred = lstm_model.predict(test_windows)"
      ],
      "metadata": {
        "id": "Qd5bha2r-ODn",
        "colab": {
          "base_uri": "https://localhost:8080/"
        },
        "outputId": "6fb711ed-353c-4205-b601-62871b880d88"
      },
      "execution_count": null,
      "outputs": [
        {
          "output_type": "stream",
          "name": "stdout",
          "text": [
            "7/7 [==============================] - 0s 3ms/step\n"
          ]
        }
      ]
    },
    {
      "cell_type": "code",
      "source": [
        "y_lstm_pred_out = tf.squeeze(y_lstm_pred)"
      ],
      "metadata": {
        "id": "C9IMBdAJCGXy"
      },
      "execution_count": null,
      "outputs": []
    },
    {
      "cell_type": "code",
      "source": [
        "evaluate_metrics(test_labels, y_lstm_pred)"
      ],
      "metadata": {
        "colab": {
          "base_uri": "https://localhost:8080/"
        },
        "id": "YgJG9QHD-R_e",
        "outputId": "7e7b55a8-eed1-4b4e-994b-1038822c3d6e"
      },
      "execution_count": null,
      "outputs": [
        {
          "output_type": "execute_result",
          "data": {
            "text/plain": [
              "{'mae': 13.644905173275449, 'rmse': 17.503100308996974}"
            ]
          },
          "metadata": {},
          "execution_count": 51
        }
      ]
    },
    {
      "cell_type": "markdown",
      "source": [
        "**ARIMA**"
      ],
      "metadata": {
        "id": "wGv1Wq0JGKm_"
      }
    },
    {
      "cell_type": "code",
      "source": [
        "# from statsmodels.tsa.arima_model import ARIMA\n",
        "from statsmodels.tsa.arima.model import ARIMA"
      ],
      "metadata": {
        "id": "79WXJox6GMh_"
      },
      "execution_count": null,
      "outputs": []
    },
    {
      "cell_type": "code",
      "source": [
        "model=ARIMA(dataset['kwh test'],order=(1,1,1))\n",
        "model_fit=model.fit()"
      ],
      "metadata": {
        "id": "RPGvWCeIGbUp"
      },
      "execution_count": null,
      "outputs": []
    },
    {
      "cell_type": "code",
      "source": [
        "dataset['forecast']=model_fit.predict(start=90,end=103,dynamic=True)\n",
        "dataset[['kwh test','forecast']].plot(figsize=(12,8))"
      ],
      "metadata": {
        "colab": {
          "base_uri": "https://localhost:8080/",
          "height": 694
        },
        "id": "79JF1xWEGgHF",
        "outputId": "5f0713e8-e494-4e7f-b0c3-ebb06f95f1b6"
      },
      "execution_count": null,
      "outputs": [
        {
          "output_type": "execute_result",
          "data": {
            "text/plain": [
              "<Axes: >"
            ]
          },
          "metadata": {},
          "execution_count": 54
        },
        {
          "output_type": "display_data",
          "data": {
            "text/plain": [
              "<Figure size 1200x800 with 1 Axes>"
            ],
            "image/png": "[encoded data removed]"
          },
          "metadata": {}
        }
      ]
    },
    {
      "cell_type": "code",
      "source": [
        "import statsmodels.api as sm\n",
        "\n",
        "model=sm.tsa.statespace.SARIMAX(dataset['kwh test'],order=(1, 1, 1),seasonal_order=(1,1,1,60))\n",
        "results=model.fit()"
      ],
      "metadata": {
        "id": "qVtaJK6uGl_A"
      },
      "execution_count": null,
      "outputs": []
    },
    {
      "cell_type": "code",
      "source": [
        "from pandas.tseries.offsets import DateOffset\n",
        "future_dates=[dataset['hours test'].iloc[-1]]"
      ],
      "metadata": {
        "id": "tZhinCkjeX4u"
      },
      "execution_count": null,
      "outputs": []
    },
    {
      "cell_type": "code",
      "source": [
        "import datetime,time\n",
        "futured = str(future_dates)\n",
        "print(futured)\n",
        "\n",
        "#start_time = datetime.datetime.strptime(future_dates, '%H:%M')\n",
        "start_time = datetime.datetime.strptime('23:59', '%H:%M')\n",
        "newarr = []\n",
        "\n",
        "for i in range(0,31):\n",
        "  #start_time += datetime.timedelta(minutes=1)\n",
        "  start_time += datetime.timedelta(minutes=1)\n",
        "  newarr.append(start_time.strftime('%H:%M:%S'))\n",
        "  #newd = start_time.strftime('%H:%M:%S')\n",
        "print(newarr)\n",
        "  #time.sleep(1)"
      ],
      "metadata": {
        "colab": {
          "base_uri": "https://localhost:8080/"
        },
        "id": "guAFAkKPea5L",
        "outputId": "b2fcd6e0-c978-4c48-ebbf-47bbce772afc"
      },
      "execution_count": null,
      "outputs": [
        {
          "output_type": "stream",
          "name": "stdout",
          "text": [
            "['23:59']\n",
            "['00:00:00', '00:01:00', '00:02:00', '00:03:00', '00:04:00', '00:05:00', '00:06:00', '00:07:00', '00:08:00', '00:09:00', '00:10:00', '00:11:00', '00:12:00', '00:13:00', '00:14:00', '00:15:00', '00:16:00', '00:17:00', '00:18:00', '00:19:00', '00:20:00', '00:21:00', '00:22:00', '00:23:00', '00:24:00', '00:25:00', '00:26:00', '00:27:00', '00:28:00', '00:29:00', '00:30:00']\n"
          ]
        }
      ]
    },
    {
      "cell_type": "code",
      "source": [
        "newfuture = np.array(newarr)\n",
        "print(type(newarr))\n",
        "print(newfuture)"
      ],
      "metadata": {
        "colab": {
          "base_uri": "https://localhost:8080/"
        },
        "id": "4XIMyQhHejHO",
        "outputId": "41275b58-ed19-4f87-d104-97592536713b"
      },
      "execution_count": null,
      "outputs": [
        {
          "output_type": "stream",
          "name": "stdout",
          "text": [
            "<class 'list'>\n",
            "['00:00:00' '00:01:00' '00:02:00' '00:03:00' '00:04:00' '00:05:00'\n",
            " '00:06:00' '00:07:00' '00:08:00' '00:09:00' '00:10:00' '00:11:00'\n",
            " '00:12:00' '00:13:00' '00:14:00' '00:15:00' '00:16:00' '00:17:00'\n",
            " '00:18:00' '00:19:00' '00:20:00' '00:21:00' '00:22:00' '00:23:00'\n",
            " '00:24:00' '00:25:00' '00:26:00' '00:27:00' '00:28:00' '00:29:00'\n",
            " '00:30:00']\n"
          ]
        }
      ]
    },
    {
      "cell_type": "code",
      "source": [
        "forecast_ARIMA = results.predict(start = 991, end = 1193, dynamic=True)"
      ],
      "metadata": {
        "id": "_TbwK4eKeplU"
      },
      "execution_count": null,
      "outputs": []
    },
    {
      "cell_type": "markdown",
      "source": [
        "**Prediction Visualization**"
      ],
      "metadata": {
        "id": "hTnFPDOk-d_n"
      }
    },
    {
      "cell_type": "code",
      "source": [
        "actual_test = go.Scatter(\n",
        "    x = x_test,\n",
        "    y = test_labels[:, 0],\n",
        "    mode = 'lines',\n",
        "    name = 'Actual Test Data'\n",
        ")\n",
        "\n",
        "rf_test_pred = go.Scatter(\n",
        "    x = x_test,\n",
        "    y = y_rf_pred,\n",
        "    mode = 'lines',\n",
        "    name = 'Random Forest Prediction'\n",
        ")\n",
        "\n",
        "svr_test_pred = go.Scatter(\n",
        "    x = x_test,\n",
        "    y = y_svr_pred,\n",
        "    mode = 'lines',\n",
        "    name = 'SVR Prediction'\n",
        ")\n",
        "\n",
        "xgb_test_pred = go.Scatter(\n",
        "    x = x_test,\n",
        "    y = y_xgb_pred,\n",
        "    mode = 'lines',\n",
        "    name = 'XGBoost Prediction'\n",
        ")\n",
        "\n",
        "nn_test_pred = go.Scatter(\n",
        "    x = x_test,\n",
        "    y = y_nn_pred_out,\n",
        "    mode = 'lines',\n",
        "    name = 'NN Prediction'\n",
        ")\n",
        "\n",
        "lstm_test_pred = go.Scatter(\n",
        "    x = x_test,\n",
        "    y = y_lstm_pred_out,\n",
        "    mode = 'lines',\n",
        "    name = 'LSTM Prediction'\n",
        ")\n",
        "\n",
        "ARIMA_test_pred = go.Scatter(\n",
        "    x = x_test,\n",
        "    y = forecast_ARIMA,\n",
        "    mode = 'lines',\n",
        "    name = 'SARIMA Prediction'\n",
        ")\n",
        "\n",
        "layout = go.Layout(\n",
        "    #title = 'Load Forecasting',\n",
        "    xaxis = {'title' : \"Time\"},\n",
        "    yaxis = {'title' : \"Kwh Delivered\"}\n",
        ")\n",
        "fig = go.Figure(data=[actual_test,\n",
        "                      nn_test_pred,\n",
        "                      rf_test_pred,\n",
        "                      ARIMA_test_pred],\n",
        "                layout=layout)\n",
        "fig.update_layout(\n",
        "    legend=dict(\n",
        "        x=.5,\n",
        "        y=.05,\n",
        "        traceorder=\"normal\",\n",
        "        font=dict(\n",
        "            family=\"sans-serif\",\n",
        "            size=16,\n",
        "            color=\"black\"\n",
        "        ),\n",
        "    )\n",
        ")"
      ],
      "metadata": {
        "colab": {
          "base_uri": "https://localhost:8080/",
          "height": 542
        },
        "id": "OiL7F-EG-bxB",
        "outputId": "d0631c26-15f9-42c9-d37a-b9a2b4a0df8a"
      },
      "execution_count": null,
      "outputs": [
        {
          "output_type": "display_data",
          "data": {
            "text/html": [
              "<html>\n",
              "<head><meta charset=\"utf-8\" /></head>\n",
              "<body>\n",
              "    <div>            <script src=\"https://cdnjs.cloudflare.com/ajax/libs/mathjax/2.7.5/MathJax.js?config=TeX-AMS-MML_SVG\"></script><script type=\"text/javascript\">if (window.MathJax && window.MathJax.Hub && window.MathJax.Hub.Config) {window.MathJax.Hub.Config({SVG: {font: \"STIX-Web\"}});}</script>                <script type=\"text/javascript\">window.PlotlyConfig = {MathJaxConfig: 'local'};</script>\n",
              "        <script charset=\"utf-8\" src=\"https://cdn.plot.ly/plotly-2.24.1.min.js\"></script>                <div id=\"c648c3ea-5bc9-4a4c-90df-e8c985059d5b\" class=\"plotly-graph-div\" style=\"height:525px; width:100%;\"></div>            <script type=\"text/javascript\">                                    window.PLOTLYENV=window.PLOTLYENV || {};                                    if (document.getElementById(\"c648c3ea-5bc9-4a4c-90df-e8c985059d5b\")) {                    Plotly.newPlot(                        \"c648c3ea-5bc9-4a4c-90df-e8c985059d5b\",                        [{\"mode\":\"lines\",\"name\":\"Actual Test Data\",\"x\":[\"20:15\",\"20:16\",\"20:17\",\"20:18\",\"20:19\",\"20:20\",\"20:21\",\"20:22\",\"20:23\",\"20:24\",\"20:25\",\"20:26\",\"20:27\",\"20:28\",\"20:29\",\"20:30\",\"20:31\",\"20:32\",\"20:33\",\"20:34\",\"20:35\",\"20:36\",\"20:37\",\"20:38\",\"20:39\",\"20:40\",\"20:41\",\"20:42\",\"20:43\",\"20:44\",\"20:45\",\"20:46\",\"20:47\",\"20:48\",\"20:49\",\"20:50\",\"20:51\",\"20:52\",\"20:53\",\"20:54\",\"20:55\",\"20:56\",\"20:57\",\"20:58\",\"20:59\",\"21:00\",\"21:01\",\"21:02\",\"21:03\",\"21:04\",\"21:05\",\"21:06\",\"21:07\",\"21:08\",\"21:09\",\"21:10\",\"21:11\",\"21:12\",\"21:13\",\"21:14\",\"21:15\",\"21:16\",\"21:17\",\"21:18\",\"21:19\",\"21:20\",\"21:21\",\"21:22\",\"21:23\",\"21:24\",\"21:25\",\"21:26\",\"21:27\",\"21:28\",\"21:29\",\"21:30\",\"21:31\",\"21:32\",\"21:33\",\"21:34\",\"21:35\",\"21:36\",\"21:37\",\"21:38\",\"21:39\",\"21:40\",\"21:41\",\"21:42\",\"21:43\",\"21:44\",\"21:45\",\"21:46\",\"21:47\",\"21:48\",\"21:49\",\"21:50\",\"21:51\",\"21:52\",\"21:53\",\"21:54\",\"21:55\",\"21:56\",\"21:57\",\"21:58\",\"21:59\",\"22:00\",\"22:01\",\"22:02\",\"22:03\",\"22:04\",\"22:05\",\"22:06\",\"22:07\",\"22:08\",\"22:09\",\"22:10\",\"22:11\",\"22:12\",\"22:13\",\"22:14\",\"22:15\",\"22:16\",\"22:17\",\"22:18\",\"22:19\",\"22:20\",\"22:21\",\"22:22\",\"22:23\",\"22:24\",\"22:25\",\"22:26\",\"22:27\",\"22:28\",\"22:29\",\"22:30\",\"22:31\",\"22:32\",\"22:33\",\"22:34\",\"22:35\",\"22:36\",\"22:37\",\"22:38\",\"22:39\",\"22:40\",\"22:41\",\"22:42\",\"22:43\",\"22:45\",\"22:46\",\"22:47\",\"22:48\",\"22:49\",\"22:50\",\"22:51\",\"22:52\",\"22:53\",\"22:54\",\"22:55\",\"22:56\",\"22:57\",\"22:58\",\"22:59\",\"23:00\",\"23:01\",\"23:02\",\"23:03\",\"23:04\",\"23:05\",\"23:06\",\"23:07\",\"23:08\",\"23:09\",\"23:10\",\"23:11\",\"23:12\",\"23:13\",\"23:14\",\"23:15\",\"23:16\",\"23:17\",\"23:18\",\"23:19\",\"23:20\",\"23:21\",\"23:22\",\"23:23\",\"23:24\",\"23:25\",\"23:26\",\"23:27\",\"23:28\",\"23:29\",\"23:30\",\"23:31\",\"23:32\",\"23:33\",\"23:34\",\"23:35\",\"23:36\",\"23:37\",\"23:38\",\"23:39\",\"23:40\",\"23:41\",\"23:42\",\"23:43\",\"23:44\",\"23:45\",\"23:46\",\"23:47\",\"23:48\",\"23:49\",\"23:50\",\"23:51\",\"23:52\",\"23:53\",\"23:54\",\"23:55\",\"23:56\",\"23:57\",\"23:58\",\"23:59\"],\"y\":[47.35,60.71,69.09,70.29,63.2,52.68,48.65,35.72,43.61,26.27,41.92,22.49,50.74,61.0,49.24,31.18,37.78,56.58,36.31,59.31,66.47,51.42,57.57,41.76,50.88,44.91,48.49,56.96,42.56,57.14,49.08,61.32,44.53,33.14,47.58,54.74,33.19,43.17,35.4,31.75,52.89,29.23,53.31,40.72,49.62,62.34,55.48,22.98,36.73,59.45,54.94,69.44,62.32,52.24,34.84,29.83,57.62,59.75,59.72,62.71,49.82,45.06,40.86,54.31,67.46,49.87,38.22,26.77,43.49,31.98,50.61,55.98,49.98,64.51,38.52,58.74,47.05,50.62,50.92,56.18,53.77,31.83,48.93,22.1,34.77,51.29,57.69,49.55,59.64,44.72,60.88,55.91,47.85,52.36,60.36,54.25,51.64,50.39,30.02,44.34,52.21,50.9,53.99,29.7,57.65,55.82,28.18,39.03,49.56,54.79,67.99,49.62,59.94,25.12,43.41,52.7,63.38,46.74,59.57,48.95,26.48,33.21,61.58,22.29,23.86,54.36,32.74,43.15,29.48,48.3,57.44,55.06,49.23,49.82,63.48,21.78,63.3,50.45,69.68,53.02,60.73,62.06,24.25,45.08,23.86,25.4,40.56,67.54,43.9,26.49,41.05,67.54,53.09,21.24,49.15,34.52,56.99,64.0,30.64,57.5,69.22,40.34,51.48,46.0,67.25,57.32,40.2,64.92,43.89,61.18,34.72,55.11,49.63,67.63,59.95,52.93,46.04,43.93,35.76,21.54,33.52,32.51,32.12,58.73,41.0,39.66,25.19,66.47,56.92,51.59,26.64,28.06,61.2,41.13,62.96,62.12,49.63,42.14,59.04,33.74,37.13,35.19,51.61,43.99,51.35,48.36,22.12,41.43,57.02,21.87,46.64,55.66,22.51,36.28,59.86,58.38,37.77,43.74],\"type\":\"scatter\"},{\"mode\":\"lines\",\"name\":\"NN Prediction\",\"x\":[\"20:15\",\"20:16\",\"20:17\",\"20:18\",\"20:19\",\"20:20\",\"20:21\",\"20:22\",\"20:23\",\"20:24\",\"20:25\",\"20:26\",\"20:27\",\"20:28\",\"20:29\",\"20:30\",\"20:31\",\"20:32\",\"20:33\",\"20:34\",\"20:35\",\"20:36\",\"20:37\",\"20:38\",\"20:39\",\"20:40\",\"20:41\",\"20:42\",\"20:43\",\"20:44\",\"20:45\",\"20:46\",\"20:47\",\"20:48\",\"20:49\",\"20:50\",\"20:51\",\"20:52\",\"20:53\",\"20:54\",\"20:55\",\"20:56\",\"20:57\",\"20:58\",\"20:59\",\"21:00\",\"21:01\",\"21:02\",\"21:03\",\"21:04\",\"21:05\",\"21:06\",\"21:07\",\"21:08\",\"21:09\",\"21:10\",\"21:11\",\"21:12\",\"21:13\",\"21:14\",\"21:15\",\"21:16\",\"21:17\",\"21:18\",\"21:19\",\"21:20\",\"21:21\",\"21:22\",\"21:23\",\"21:24\",\"21:25\",\"21:26\",\"21:27\",\"21:28\",\"21:29\",\"21:30\",\"21:31\",\"21:32\",\"21:33\",\"21:34\",\"21:35\",\"21:36\",\"21:37\",\"21:38\",\"21:39\",\"21:40\",\"21:41\",\"21:42\",\"21:43\",\"21:44\",\"21:45\",\"21:46\",\"21:47\",\"21:48\",\"21:49\",\"21:50\",\"21:51\",\"21:52\",\"21:53\",\"21:54\",\"21:55\",\"21:56\",\"21:57\",\"21:58\",\"21:59\",\"22:00\",\"22:01\",\"22:02\",\"22:03\",\"22:04\",\"22:05\",\"22:06\",\"22:07\",\"22:08\",\"22:09\",\"22:10\",\"22:11\",\"22:12\",\"22:13\",\"22:14\",\"22:15\",\"22:16\",\"22:17\",\"22:18\",\"22:19\",\"22:20\",\"22:21\",\"22:22\",\"22:23\",\"22:24\",\"22:25\",\"22:26\",\"22:27\",\"22:28\",\"22:29\",\"22:30\",\"22:31\",\"22:32\",\"22:33\",\"22:34\",\"22:35\",\"22:36\",\"22:37\",\"22:38\",\"22:39\",\"22:40\",\"22:41\",\"22:42\",\"22:43\",\"22:45\",\"22:46\",\"22:47\",\"22:48\",\"22:49\",\"22:50\",\"22:51\",\"22:52\",\"22:53\",\"22:54\",\"22:55\",\"22:56\",\"22:57\",\"22:58\",\"22:59\",\"23:00\",\"23:01\",\"23:02\",\"23:03\",\"23:04\",\"23:05\",\"23:06\",\"23:07\",\"23:08\",\"23:09\",\"23:10\",\"23:11\",\"23:12\",\"23:13\",\"23:14\",\"23:15\",\"23:16\",\"23:17\",\"23:18\",\"23:19\",\"23:20\",\"23:21\",\"23:22\",\"23:23\",\"23:24\",\"23:25\",\"23:26\",\"23:27\",\"23:28\",\"23:29\",\"23:30\",\"23:31\",\"23:32\",\"23:33\",\"23:34\",\"23:35\",\"23:36\",\"23:37\",\"23:38\",\"23:39\",\"23:40\",\"23:41\",\"23:42\",\"23:43\",\"23:44\",\"23:45\",\"23:46\",\"23:47\",\"23:48\",\"23:49\",\"23:50\",\"23:51\",\"23:52\",\"23:53\",\"23:54\",\"23:55\",\"23:56\",\"23:57\",\"23:58\",\"23:59\"],\"y\":[80.16234588623047,46.99549102783203,41.07341003417969,83.95085906982422,57.96870422363281,38.830657958984375,38.289066314697266,32.95629119873047,55.150352478027344,27.53602409362793,45.55137634277344,60.98736572265625,40.396419525146484,59.045692443847656,51.40914535522461,53.542999267578125,46.11990737915039,54.9559326171875,55.8444709777832,53.04100799560547,64.49449157714844,58.032997131347656,55.407127380371094,43.95732498168945,38.58883285522461,59.20712661743164,44.10654067993164,42.987579345703125,48.97062301635742,54.87629699707031,39.51460266113281,45.839683532714844,49.954811096191406,43.844581604003906,42.85777282714844,42.06128692626953,48.87196731567383,40.22917938232422,42.01096725463867,31.25428009033203,39.05095672607422,39.25035858154297,39.81826400756836,59.954010009765625,39.55613327026367,42.761444091796875,46.08196258544922,48.782127380371094,34.18810272216797,42.55241394042969,50.174781799316406,49.601051330566406,60.959251403808594,36.11748504638672,38.50215530395508,38.269317626953125,31.5135440826416,50.856956481933594,55.403926849365234,52.48107147216797,46.31682586669922,53.17658233642578,35.2733039855957,37.728172302246094,50.67380142211914,52.1158561706543,51.471588134765625,37.33767318725586,42.637351989746094,36.41975021362305,45.038963317871094,55.73028564453125,53.36567687988281,42.537445068359375,39.1491584777832,43.976966857910156,45.184486389160156,45.9527587890625,55.99681854248047,40.01936721801758,49.64830780029297,46.69987869262695,47.132686614990234,46.263671875,32.49571228027344,43.04025650024414,49.173580169677734,42.17405700683594,46.88732147216797,53.1021728515625,36.66045379638672,43.31066131591797,43.196285247802734,45.703861236572266,52.57901382446289,49.645835876464844,35.61540222167969,37.78582763671875,35.98980712890625,34.76451110839844,48.85383605957031,47.837242126464844,42.75068664550781,47.319984436035156,29.218658447265625,46.213134765625,43.22119903564453,48.648868560791016,46.300865173339844,48.07026672363281,47.04584503173828,50.9705810546875,46.21913146972656,34.05936050415039,34.59781265258789,41.69917678833008,46.306278228759766,61.261295318603516,50.61187744140625,40.275108337402344,48.753395080566406,43.07229995727539,38.38957977294922,61.142356872558594,34.60467529296875,25.844234466552734,46.93080139160156,55.20237731933594,34.84154510498047,37.06666564941406,49.75482940673828,50.889251708984375,49.407806396484375,38.554908752441406,60.42022705078125,48.712188720703125,23.938772201538086,49.45201873779297,42.324668884277344,49.27131652832031,41.53021240234375,50.8797607421875,39.11974334716797,35.0025634765625,30.713132858276367,41.39448928833008,35.56557083129883,30.20692253112793,52.872825622558594,42.27141571044922,41.62173843383789,50.24251937866211,58.44700622558594,45.922752380371094,38.97439193725586,47.98713684082031,44.05242156982422,38.27714538574219,40.140281677246094,40.49529266357422,44.260841369628906,43.92584228515625,37.5853157043457,57.99512481689453,40.69562530517578,35.164920806884766,63.65381622314453,34.40919494628906,49.4364128112793,56.29393768310547,48.47185516357422,30.177053451538086,49.99295425415039,53.86542510986328,38.83274459838867,29.05638313293457,50.895835876464844,45.70049285888672,48.67028045654297,29.074161529541016,36.915618896484375,47.32301712036133,47.84952926635742,41.72843551635742,46.84424591064453,40.391910552978516,56.04707336425781,42.2694091796875,52.93842315673828,61.761783599853516,59.969764709472656,37.13282775878906,35.56008529663086,56.55311584472656,47.691558837890625,62.909420013427734,42.298667907714844,40.958839416503906,39.47542953491211,49.776145935058594,27.285200119018555,37.37784957885742,32.49724578857422,33.71813201904297,42.16340637207031,41.757293701171875,32.53459548950195,38.53216552734375,38.497005462646484,53.936317443847656,39.65748977661133,39.2597770690918,39.217872619628906,37.02705764770508,52.366737365722656,54.93098831176758,47.06561279296875,50.95411682128906],\"type\":\"scatter\"},{\"mode\":\"lines\",\"name\":\"Random Forest Prediction\",\"x\":[\"20:15\",\"20:16\",\"20:17\",\"20:18\",\"20:19\",\"20:20\",\"20:21\",\"20:22\",\"20:23\",\"20:24\",\"20:25\",\"20:26\",\"20:27\",\"20:28\",\"20:29\",\"20:30\",\"20:31\",\"20:32\",\"20:33\",\"20:34\",\"20:35\",\"20:36\",\"20:37\",\"20:38\",\"20:39\",\"20:40\",\"20:41\",\"20:42\",\"20:43\",\"20:44\",\"20:45\",\"20:46\",\"20:47\",\"20:48\",\"20:49\",\"20:50\",\"20:51\",\"20:52\",\"20:53\",\"20:54\",\"20:55\",\"20:56\",\"20:57\",\"20:58\",\"20:59\",\"21:00\",\"21:01\",\"21:02\",\"21:03\",\"21:04\",\"21:05\",\"21:06\",\"21:07\",\"21:08\",\"21:09\",\"21:10\",\"21:11\",\"21:12\",\"21:13\",\"21:14\",\"21:15\",\"21:16\",\"21:17\",\"21:18\",\"21:19\",\"21:20\",\"21:21\",\"21:22\",\"21:23\",\"21:24\",\"21:25\",\"21:26\",\"21:27\",\"21:28\",\"21:29\",\"21:30\",\"21:31\",\"21:32\",\"21:33\",\"21:34\",\"21:35\",\"21:36\",\"21:37\",\"21:38\",\"21:39\",\"21:40\",\"21:41\",\"21:42\",\"21:43\",\"21:44\",\"21:45\",\"21:46\",\"21:47\",\"21:48\",\"21:49\",\"21:50\",\"21:51\",\"21:52\",\"21:53\",\"21:54\",\"21:55\",\"21:56\",\"21:57\",\"21:58\",\"21:59\",\"22:00\",\"22:01\",\"22:02\",\"22:03\",\"22:04\",\"22:05\",\"22:06\",\"22:07\",\"22:08\",\"22:09\",\"22:10\",\"22:11\",\"22:12\",\"22:13\",\"22:14\",\"22:15\",\"22:16\",\"22:17\",\"22:18\",\"22:19\",\"22:20\",\"22:21\",\"22:22\",\"22:23\",\"22:24\",\"22:25\",\"22:26\",\"22:27\",\"22:28\",\"22:29\",\"22:30\",\"22:31\",\"22:32\",\"22:33\",\"22:34\",\"22:35\",\"22:36\",\"22:37\",\"22:38\",\"22:39\",\"22:40\",\"22:41\",\"22:42\",\"22:43\",\"22:45\",\"22:46\",\"22:47\",\"22:48\",\"22:49\",\"22:50\",\"22:51\",\"22:52\",\"22:53\",\"22:54\",\"22:55\",\"22:56\",\"22:57\",\"22:58\",\"22:59\",\"23:00\",\"23:01\",\"23:02\",\"23:03\",\"23:04\",\"23:05\",\"23:06\",\"23:07\",\"23:08\",\"23:09\",\"23:10\",\"23:11\",\"23:12\",\"23:13\",\"23:14\",\"23:15\",\"23:16\",\"23:17\",\"23:18\",\"23:19\",\"23:20\",\"23:21\",\"23:22\",\"23:23\",\"23:24\",\"23:25\",\"23:26\",\"23:27\",\"23:28\",\"23:29\",\"23:30\",\"23:31\",\"23:32\",\"23:33\",\"23:34\",\"23:35\",\"23:36\",\"23:37\",\"23:38\",\"23:39\",\"23:40\",\"23:41\",\"23:42\",\"23:43\",\"23:44\",\"23:45\",\"23:46\",\"23:47\",\"23:48\",\"23:49\",\"23:50\",\"23:51\",\"23:52\",\"23:53\",\"23:54\",\"23:55\",\"23:56\",\"23:57\",\"23:58\",\"23:59\"],\"y\":[59.265,43.983000000000004,40.404999999999994,55.242,49.426,39.982,68.623,31.552,46.381,54.229,60.11799999999998,45.592,63.361000000000004,61.647000000000006,60.27,51.232000000000006,58.272000000000006,51.262,61.90599999999999,65.84700000000001,56.057,59.37199999999999,40.38,37.154,48.14,46.34400000000001,47.574,50.07599999999999,41.159000000000006,45.885,48.95,48.133,63.013999999999996,38.47699999999999,45.483999999999995,43.660000000000004,65.825,46.83299999999999,36.385,54.318999999999996,27.899,62.70700000000001,49.553000000000004,62.43500000000002,59.18300000000001,49.005,50.57399999999999,43.720000000000006,36.799,53.386,52.684000000000005,43.264,58.387,62.35,56.007999999999996,39.90500000000001,27.711000000000002,49.068,44.49900000000001,49.214,50.937,59.68299999999999,51.461,50.36900000000001,53.204999999999984,44.602000000000004,57.177,38.926,36.762,45.182,50.29199999999999,56.629000000000005,53.473,52.003,43.431000000000004,43.556000000000004,45.019999999999996,49.87499999999999,52.197,51.827999999999996,67.03300000000002,44.906,33.009,47.876999999999995,59.629,36.18,49.353,56.698,49.708000000000006,60.121,42.05999999999999,56.001,53.902,73.154,56.04600000000001,62.47099999999998,43.565000000000005,42.534000000000006,44.838,39.561,51.213,70.39099999999999,57.59400000000001,49.265,48.65400000000001,43.329,48.922000000000004,39.305,43.742999999999995,58.141,49.95,53.72100000000002,54.803999999999995,42.96600000000001,47.453,58.03399999999999,54.818999999999996,60.08800000000001,54.50899999999999,55.685,35.557,41.236999999999995,40.678999999999995,64.719,41.205999999999996,36.424,38.906000000000006,49.794,46.16,57.36899999999999,32.813,38.702000000000005,54.892999999999994,53.84400000000001,50.817,50.79099999999999,35.437,61.33599999999999,50.10900000000001,47.04299999999999,42.208000000000006,41.67100000000001,40.928000000000004,42.17,27.865,67.841,44.44800000000001,54.090999999999994,62.754999999999995,47.757999999999996,48.625,40.386,63.09000000000001,54.419000000000004,47.689,45.407000000000004,55.852999999999994,37.344,50.79,49.766000000000005,43.35799999999999,47.290000000000006,33.152,53.3,45.137,50.178,47.25100000000001,30.089,47.305,50.03,56.53500000000001,37.234,58.361000000000004,58.561,50.35699999999999,42.22500000000001,34.408,56.062,52.17999999999999,59.815999999999995,44.57599999999999,57.745999999999995,53.044000000000004,53.452,63.501999999999995,44.158,42.207,59.69200000000001,43.344,49.93300000000001,58.182,36.556,39.618,33.053,52.239,49.756,59.86800000000001,36.618,38.838,49.254000000000005,30.305,41.604,67.82000000000001,40.676,51.34100000000001,59.891999999999996,49.649,39.528,32.663,44.729,40.940999999999995,46.586,61.467000000000006,42.948,37.766,51.91799999999999,45.355000000000004,41.900000000000006],\"type\":\"scatter\"},{\"mode\":\"lines\",\"name\":\"SARIMA Prediction\",\"x\":[\"20:15\",\"20:16\",\"20:17\",\"20:18\",\"20:19\",\"20:20\",\"20:21\",\"20:22\",\"20:23\",\"20:24\",\"20:25\",\"20:26\",\"20:27\",\"20:28\",\"20:29\",\"20:30\",\"20:31\",\"20:32\",\"20:33\",\"20:34\",\"20:35\",\"20:36\",\"20:37\",\"20:38\",\"20:39\",\"20:40\",\"20:41\",\"20:42\",\"20:43\",\"20:44\",\"20:45\",\"20:46\",\"20:47\",\"20:48\",\"20:49\",\"20:50\",\"20:51\",\"20:52\",\"20:53\",\"20:54\",\"20:55\",\"20:56\",\"20:57\",\"20:58\",\"20:59\",\"21:00\",\"21:01\",\"21:02\",\"21:03\",\"21:04\",\"21:05\",\"21:06\",\"21:07\",\"21:08\",\"21:09\",\"21:10\",\"21:11\",\"21:12\",\"21:13\",\"21:14\",\"21:15\",\"21:16\",\"21:17\",\"21:18\",\"21:19\",\"21:20\",\"21:21\",\"21:22\",\"21:23\",\"21:24\",\"21:25\",\"21:26\",\"21:27\",\"21:28\",\"21:29\",\"21:30\",\"21:31\",\"21:32\",\"21:33\",\"21:34\",\"21:35\",\"21:36\",\"21:37\",\"21:38\",\"21:39\",\"21:40\",\"21:41\",\"21:42\",\"21:43\",\"21:44\",\"21:45\",\"21:46\",\"21:47\",\"21:48\",\"21:49\",\"21:50\",\"21:51\",\"21:52\",\"21:53\",\"21:54\",\"21:55\",\"21:56\",\"21:57\",\"21:58\",\"21:59\",\"22:00\",\"22:01\",\"22:02\",\"22:03\",\"22:04\",\"22:05\",\"22:06\",\"22:07\",\"22:08\",\"22:09\",\"22:10\",\"22:11\",\"22:12\",\"22:13\",\"22:14\",\"22:15\",\"22:16\",\"22:17\",\"22:18\",\"22:19\",\"22:20\",\"22:21\",\"22:22\",\"22:23\",\"22:24\",\"22:25\",\"22:26\",\"22:27\",\"22:28\",\"22:29\",\"22:30\",\"22:31\",\"22:32\",\"22:33\",\"22:34\",\"22:35\",\"22:36\",\"22:37\",\"22:38\",\"22:39\",\"22:40\",\"22:41\",\"22:42\",\"22:43\",\"22:45\",\"22:46\",\"22:47\",\"22:48\",\"22:49\",\"22:50\",\"22:51\",\"22:52\",\"22:53\",\"22:54\",\"22:55\",\"22:56\",\"22:57\",\"22:58\",\"22:59\",\"23:00\",\"23:01\",\"23:02\",\"23:03\",\"23:04\",\"23:05\",\"23:06\",\"23:07\",\"23:08\",\"23:09\",\"23:10\",\"23:11\",\"23:12\",\"23:13\",\"23:14\",\"23:15\",\"23:16\",\"23:17\",\"23:18\",\"23:19\",\"23:20\",\"23:21\",\"23:22\",\"23:23\",\"23:24\",\"23:25\",\"23:26\",\"23:27\",\"23:28\",\"23:29\",\"23:30\",\"23:31\",\"23:32\",\"23:33\",\"23:34\",\"23:35\",\"23:36\",\"23:37\",\"23:38\",\"23:39\",\"23:40\",\"23:41\",\"23:42\",\"23:43\",\"23:44\",\"23:45\",\"23:46\",\"23:47\",\"23:48\",\"23:49\",\"23:50\",\"23:51\",\"23:52\",\"23:53\",\"23:54\",\"23:55\",\"23:56\",\"23:57\",\"23:58\",\"23:59\"],\"y\":[49.74587910863072,46.40627519326294,54.9005170957906,53.53828820524629,49.94508199609355,43.44717436570138,42.20088898647298,60.17469040356703,42.021093501676724,50.905246501443955,52.212062113133285,53.78619923196279,49.90342889622431,46.515713613484024,52.87015540415587,37.53735604203746,47.36653635883536,56.61859570325681,55.907583521463756,54.08609000952477,49.16805935937524,51.86521833525897,49.41530634815186,47.33789680798911,45.58972353475462,54.209514134631355,50.515944493580946,41.946840366056406,42.45878149696203,50.84179118547863,38.64466058549919,49.30131403365711,45.04335546473114,48.52795097488842,40.80972203226645,40.2715724317916,41.1350572852304,52.14481266292118,55.311851507024514,41.58119860081462,52.434159575366664,47.98457668090767,50.59089700882241,46.33574951012513,47.77434050922052,38.80024979493322,51.98637100544097,57.75795316588238,49.43628699240651,44.48790564217296,40.93772645541311,42.50283262761555,39.555852601292045,45.95615360695728,47.18605768487386,50.98557945570204,51.044441904227796,60.48495972871572,52.448138045598284,46.79966917373686,50.456285562967125,45.70779815871097,54.31833484280256,54.62720979355077,49.910866057713875,43.51822967701654,42.470853404849265,60.18265027872771,42.484711114655795,50.11139983514794,52.56818420034631,53.53610233772566,48.279444081137996,45.17906217314934,54.748729324895244,37.009313118713436,45.77177137079197,56.16264831715393,54.19291692899593,52.80987759761137,48.319002608483615,52.67921199113735,50.44114862483866,45.892195338391225,43.82310120030631,53.15866649216125,48.91202797089935,40.70048023465151,41.64867724892558,51.07293756425911,36.753493505548434,47.20382122367479,44.04909604965942,48.786087246673226,41.37666430903896,39.41039381109752,41.29779100176603,51.6769671550985,54.66170981242196,40.29134133866852,50.840025412474624,48.17292328917103,49.3217024204157,45.681792851189144,46.944008641718916,37.20248207476582,51.044493957137234,57.4931063165372,50.298364383293894,43.52546795522637,41.90170610533738,42.54787651056808,37.989993714842704,44.39031962888401,46.395588165372786,49.674569575727354,50.97294071888329,59.857417882167375,51.56681510224317,46.11790169135023,49.92022001060106,45.05514676144518,53.675306899479544,54.122466566308844,49.31318261325757,42.92925748348064,41.89834104386009,59.588456904880296,41.92822365671104,49.45085655102115,52.00280143147397,52.920554631366294,47.55020643142065,44.473601510335094,54.309330240785144,36.370765233209966,45.04495167703088,55.53006637502811,53.45617531481565,52.109418295980646,47.65389066100721,52.151718333827084,49.93118555159909,45.17771072867277,43.08206022132834,52.47685624296348,48.184450982864945,40.002491224831815,40.986788641414606,50.49721299020955,36.00214638380087,46.435400539954216,43.371968505848336,48.21259610037301,40.828727021014124,38.74427877256086,40.71640524416754,51.04340063718318,54.013058189794044,39.58975291855113,50.113257919824456,47.59365701174671,48.62182384734726,45.032825538269186,46.28044618812753,36.47541390335246,50.37170108154796,56.87633804368529,49.7748496801812,42.85097367604569,41.386623867407714,41.95675185774328,37.26556601609307,43.665893991315514,45.735324341908004,48.97123076543161,50.37217190075775,59.21063640877522,50.89903311048016,45.466633018257546,49.28100824835226,44.406287459610475,53.02724394348722,53.485846742831164,48.668871938240656,42.285667669029344,41.25611328915292,58.944435035029976,41.2873219711044,48.801344191424896,51.36116365423995,52.27476567934217,46.8950095771764,43.820372214181454,53.67811767929636,35.7230730043432,44.389954909905484,54.882867831093286,52.800357503591,51.45660286507833,47.00400024213148,51.51321590037329,49.29413378313754],\"type\":\"scatter\"}],                        {\"xaxis\":{\"title\":{\"text\":\"Time\"}},\"yaxis\":{\"title\":{\"text\":\"Kwh Delivered\"}},\"template\":{\"data\":{\"histogram2dcontour\":[{\"type\":\"histogram2dcontour\",\"colorbar\":{\"outlinewidth\":0,\"ticks\":\"\"},\"colorscale\":[[0.0,\"#0d0887\"],[0.1111111111111111,\"#46039f\"],[0.2222222222222222,\"#7201a8\"],[0.3333333333333333,\"#9c179e\"],[0.4444444444444444,\"#bd3786\"],[0.5555555555555556,\"#d8576b\"],[0.6666666666666666,\"#ed7953\"],[0.7777777777777778,\"#fb9f3a\"],[0.8888888888888888,\"#fdca26\"],[1.0,\"#f0f921\"]]}],\"choropleth\":[{\"type\":\"choropleth\",\"colorbar\":{\"outlinewidth\":0,\"ticks\":\"\"}}],\"histogram2d\":[{\"type\":\"histogram2d\",\"colorbar\":{\"outlinewidth\":0,\"ticks\":\"\"},\"colorscale\":[[0.0,\"#0d0887\"],[0.1111111111111111,\"#46039f\"],[0.2222222222222222,\"#7201a8\"],[0.3333333333333333,\"#9c179e\"],[0.4444444444444444,\"#bd3786\"],[0.5555555555555556,\"#d8576b\"],[0.6666666666666666,\"#ed7953\"],[0.7777777777777778,\"#fb9f3a\"],[0.8888888888888888,\"#fdca26\"],[1.0,\"#f0f921\"]]}],\"heatmap\":[{\"type\":\"heatmap\",\"colorbar\":{\"outlinewidth\":0,\"ticks\":\"\"},\"colorscale\":[[0.0,\"#0d0887\"],[0.1111111111111111,\"#46039f\"],[0.2222222222222222,\"#7201a8\"],[0.3333333333333333,\"#9c179e\"],[0.4444444444444444,\"#bd3786\"],[0.5555555555555556,\"#d8576b\"],[0.6666666666666666,\"#ed7953\"],[0.7777777777777778,\"#fb9f3a\"],[0.8888888888888888,\"#fdca26\"],[1.0,\"#f0f921\"]]}],\"heatmapgl\":[{\"type\":\"heatmapgl\",\"colorbar\":{\"outlinewidth\":0,\"ticks\":\"\"},\"colorscale\":[[0.0,\"#0d0887\"],[0.1111111111111111,\"#46039f\"],[0.2222222222222222,\"#7201a8\"],[0.3333333333333333,\"#9c179e\"],[0.4444444444444444,\"#bd3786\"],[0.5555555555555556,\"#d8576b\"],[0.6666666666666666,\"#ed7953\"],[0.7777777777777778,\"#fb9f3a\"],[0.8888888888888888,\"#fdca26\"],[1.0,\"#f0f921\"]]}],\"contourcarpet\":[{\"type\":\"contourcarpet\",\"colorbar\":{\"outlinewidth\":0,\"ticks\":\"\"}}],\"contour\":[{\"type\":\"contour\",\"colorbar\":{\"outlinewidth\":0,\"ticks\":\"\"},\"colorscale\":[[0.0,\"#0d0887\"],[0.1111111111111111,\"#46039f\"],[0.2222222222222222,\"#7201a8\"],[0.3333333333333333,\"#9c179e\"],[0.4444444444444444,\"#bd3786\"],[0.5555555555555556,\"#d8576b\"],[0.6666666666666666,\"#ed7953\"],[0.7777777777777778,\"#fb9f3a\"],[0.8888888888888888,\"#fdca26\"],[1.0,\"#f0f921\"]]}],\"surface\":[{\"type\":\"surface\",\"colorbar\":{\"outlinewidth\":0,\"ticks\":\"\"},\"colorscale\":[[0.0,\"#0d0887\"],[0.1111111111111111,\"#46039f\"],[0.2222222222222222,\"#7201a8\"],[0.3333333333333333,\"#9c179e\"],[0.4444444444444444,\"#bd3786\"],[0.5555555555555556,\"#d8576b\"],[0.6666666666666666,\"#ed7953\"],[0.7777777777777778,\"#fb9f3a\"],[0.8888888888888888,\"#fdca26\"],[1.0,\"#f0f921\"]]}],\"mesh3d\":[{\"type\":\"mesh3d\",\"colorbar\":{\"outlinewidth\":0,\"ticks\":\"\"}}],\"scatter\":[{\"fillpattern\":{\"fillmode\":\"overlay\",\"size\":10,\"solidity\":0.2},\"type\":\"scatter\"}],\"parcoords\":[{\"type\":\"parcoords\",\"line\":{\"colorbar\":{\"outlinewidth\":0,\"ticks\":\"\"}}}],\"scatterpolargl\":[{\"type\":\"scatterpolargl\",\"marker\":{\"colorbar\":{\"outlinewidth\":0,\"ticks\":\"\"}}}],\"bar\":[{\"error_x\":{\"color\":\"#2a3f5f\"},\"error_y\":{\"color\":\"#2a3f5f\"},\"marker\":{\"line\":{\"color\":\"#E5ECF6\",\"width\":0.5},\"pattern\":{\"fillmode\":\"overlay\",\"size\":10,\"solidity\":0.2}},\"type\":\"bar\"}],\"scattergeo\":[{\"type\":\"scattergeo\",\"marker\":{\"colorbar\":{\"outlinewidth\":0,\"ticks\":\"\"}}}],\"scatterpolar\":[{\"type\":\"scatterpolar\",\"marker\":{\"colorbar\":{\"outlinewidth\":0,\"ticks\":\"\"}}}],\"histogram\":[{\"marker\":{\"pattern\":{\"fillmode\":\"overlay\",\"size\":10,\"solidity\":0.2}},\"type\":\"histogram\"}],\"scattergl\":[{\"type\":\"scattergl\",\"marker\":{\"colorbar\":{\"outlinewidth\":0,\"ticks\":\"\"}}}],\"scatter3d\":[{\"type\":\"scatter3d\",\"line\":{\"colorbar\":{\"outlinewidth\":0,\"ticks\":\"\"}},\"marker\":{\"colorbar\":{\"outlinewidth\":0,\"ticks\":\"\"}}}],\"scattermapbox\":[{\"type\":\"scattermapbox\",\"marker\":{\"colorbar\":{\"outlinewidth\":0,\"ticks\":\"\"}}}],\"scatterternary\":[{\"type\":\"scatterternary\",\"marker\":{\"colorbar\":{\"outlinewidth\":0,\"ticks\":\"\"}}}],\"scattercarpet\":[{\"type\":\"scattercarpet\",\"marker\":{\"colorbar\":{\"outlinewidth\":0,\"ticks\":\"\"}}}],\"carpet\":[{\"aaxis\":{\"endlinecolor\":\"#2a3f5f\",\"gridcolor\":\"white\",\"linecolor\":\"white\",\"minorgridcolor\":\"white\",\"startlinecolor\":\"#2a3f5f\"},\"baxis\":{\"endlinecolor\":\"#2a3f5f\",\"gridcolor\":\"white\",\"linecolor\":\"white\",\"minorgridcolor\":\"white\",\"startlinecolor\":\"#2a3f5f\"},\"type\":\"carpet\"}],\"table\":[{\"cells\":{\"fill\":{\"color\":\"#EBF0F8\"},\"line\":{\"color\":\"white\"}},\"header\":{\"fill\":{\"color\":\"#C8D4E3\"},\"line\":{\"color\":\"white\"}},\"type\":\"table\"}],\"barpolar\":[{\"marker\":{\"line\":{\"color\":\"#E5ECF6\",\"width\":0.5},\"pattern\":{\"fillmode\":\"overlay\",\"size\":10,\"solidity\":0.2}},\"type\":\"barpolar\"}],\"pie\":[{\"automargin\":true,\"type\":\"pie\"}]},\"layout\":{\"autotypenumbers\":\"strict\",\"colorway\":[\"#636efa\",\"#EF553B\",\"#00cc96\",\"#ab63fa\",\"#FFA15A\",\"#19d3f3\",\"#FF6692\",\"#B6E880\",\"#FF97FF\",\"#FECB52\"],\"font\":{\"color\":\"#2a3f5f\"},\"hovermode\":\"closest\",\"hoverlabel\":{\"align\":\"left\"},\"paper_bgcolor\":\"white\",\"plot_bgcolor\":\"#E5ECF6\",\"polar\":{\"bgcolor\":\"#E5ECF6\",\"angularaxis\":{\"gridcolor\":\"white\",\"linecolor\":\"white\",\"ticks\":\"\"},\"radialaxis\":{\"gridcolor\":\"white\",\"linecolor\":\"white\",\"ticks\":\"\"}},\"ternary\":{\"bgcolor\":\"#E5ECF6\",\"aaxis\":{\"gridcolor\":\"white\",\"linecolor\":\"white\",\"ticks\":\"\"},\"baxis\":{\"gridcolor\":\"white\",\"linecolor\":\"white\",\"ticks\":\"\"},\"caxis\":{\"gridcolor\":\"white\",\"linecolor\":\"white\",\"ticks\":\"\"}},\"coloraxis\":{\"colorbar\":{\"outlinewidth\":0,\"ticks\":\"\"}},\"colorscale\":{\"sequential\":[[0.0,\"#0d0887\"],[0.1111111111111111,\"#46039f\"],[0.2222222222222222,\"#7201a8\"],[0.3333333333333333,\"#9c179e\"],[0.4444444444444444,\"#bd3786\"],[0.5555555555555556,\"#d8576b\"],[0.6666666666666666,\"#ed7953\"],[0.7777777777777778,\"#fb9f3a\"],[0.8888888888888888,\"#fdca26\"],[1.0,\"#f0f921\"]],\"sequentialminus\":[[0.0,\"#0d0887\"],[0.1111111111111111,\"#46039f\"],[0.2222222222222222,\"#7201a8\"],[0.3333333333333333,\"#9c179e\"],[0.4444444444444444,\"#bd3786\"],[0.5555555555555556,\"#d8576b\"],[0.6666666666666666,\"#ed7953\"],[0.7777777777777778,\"#fb9f3a\"],[0.8888888888888888,\"#fdca26\"],[1.0,\"#f0f921\"]],\"diverging\":[[0,\"#8e0152\"],[0.1,\"#c51b7d\"],[0.2,\"#de77ae\"],[0.3,\"#f1b6da\"],[0.4,\"#fde0ef\"],[0.5,\"#f7f7f7\"],[0.6,\"#e6f5d0\"],[0.7,\"#b8e186\"],[0.8,\"#7fbc41\"],[0.9,\"#4d9221\"],[1,\"#276419\"]]},\"xaxis\":{\"gridcolor\":\"white\",\"linecolor\":\"white\",\"ticks\":\"\",\"title\":{\"standoff\":15},\"zerolinecolor\":\"white\",\"automargin\":true,\"zerolinewidth\":2},\"yaxis\":{\"gridcolor\":\"white\",\"linecolor\":\"white\",\"ticks\":\"\",\"title\":{\"standoff\":15},\"zerolinecolor\":\"white\",\"automargin\":true,\"zerolinewidth\":2},\"scene\":{\"xaxis\":{\"backgroundcolor\":\"#E5ECF6\",\"gridcolor\":\"white\",\"linecolor\":\"white\",\"showbackground\":true,\"ticks\":\"\",\"zerolinecolor\":\"white\",\"gridwidth\":2},\"yaxis\":{\"backgroundcolor\":\"#E5ECF6\",\"gridcolor\":\"white\",\"linecolor\":\"white\",\"showbackground\":true,\"ticks\":\"\",\"zerolinecolor\":\"white\",\"gridwidth\":2},\"zaxis\":{\"backgroundcolor\":\"#E5ECF6\",\"gridcolor\":\"white\",\"linecolor\":\"white\",\"showbackground\":true,\"ticks\":\"\",\"zerolinecolor\":\"white\",\"gridwidth\":2}},\"shapedefaults\":{\"line\":{\"color\":\"#2a3f5f\"}},\"annotationdefaults\":{\"arrowcolor\":\"#2a3f5f\",\"arrowhead\":0,\"arrowwidth\":1},\"geo\":{\"bgcolor\":\"white\",\"landcolor\":\"#E5ECF6\",\"subunitcolor\":\"white\",\"showland\":true,\"showlakes\":true,\"lakecolor\":\"white\"},\"title\":{\"x\":0.05},\"mapbox\":{\"style\":\"light\"}}},\"legend\":{\"font\":{\"family\":\"sans-serif\",\"size\":16,\"color\":\"black\"},\"x\":0.5,\"y\":0.05,\"traceorder\":\"normal\"}},                        {\"responsive\": true}                    ).then(function(){\n",
              "                            \n",
              "var gd = document.getElementById('c648c3ea-5bc9-4a4c-90df-e8c985059d5b');\n",
              "var x = new MutationObserver(function (mutations, observer) {{\n",
              "        var display = window.getComputedStyle(gd).display;\n",
              "        if (!display || display === 'none') {{\n",
              "            console.log([gd, 'removed!']);\n",
              "            Plotly.purge(gd);\n",
              "            observer.disconnect();\n",
              "        }}\n",
              "}});\n",
              "\n",
              "// Listen for the removal of the full notebook cells\n",
              "var notebookContainer = gd.closest('#notebook-container');\n",
              "if (notebookContainer) {{\n",
              "    x.observe(notebookContainer, {childList: true});\n",
              "}}\n",
              "\n",
              "// Listen for the clearing of the current output cell\n",
              "var outputEl = gd.closest('.output');\n",
              "if (outputEl) {{\n",
              "    x.observe(outputEl, {childList: true});\n",
              "}}\n",
              "\n",
              "                        })                };                            </script>        </div>\n",
              "</body>\n",
              "</html>"
            ]
          },
          "metadata": {}
        }
      ]
    },
    {
      "cell_type": "markdown",
      "source": [
        "**FORECASTING**"
      ],
      "metadata": {
        "id": "jL7Wz9mZEkkE"
      }
    },
    {
      "cell_type": "code",
      "source": [
        "FUTURE = 32\n",
        "\n",
        "def make_future_forecast(values, model, into_future, window_size=WINDOW_SIZE) -> list:\n",
        "  future_forecast = []\n",
        "  last_window = values[-WINDOW_SIZE:]\n",
        "\n",
        "  for _ in range(into_future):\n",
        "\n",
        "    future_pred = model.predict(np.expand_dims(last_window, axis=0))\n",
        "\n",
        "    # print(f\"Predicting on: \\n {last_window} -> Prediction: {tf.squeeze(future_pred)}\\n\")\n",
        "\n",
        "    future_forecast.append(np.squeeze(future_pred))\n",
        "\n",
        "    last_window = np.append(last_window, future_pred)[-WINDOW_SIZE:]\n",
        "\n",
        "  return future_forecast"
      ],
      "metadata": {
        "id": "XygXqmcrEmjC"
      },
      "execution_count": null,
      "outputs": []
    },
    {
      "cell_type": "code",
      "source": [
        "def get_future_dates(start_date, into_future, offset=1):\n",
        "  start_date = start_date + np.timedelta64(offset, \"D\")\n",
        "  end_date = start_date + np.timedelta64(into_future, \"D\")\n",
        "\n",
        "  return np.arange(start_date, end_date, dtype=\"datetime64[D]\")"
      ],
      "metadata": {
        "id": "lFfIkc23E2pb"
      },
      "execution_count": null,
      "outputs": []
    },
    {
      "cell_type": "code",
      "source": [
        "last_timestep = dataset['hours test'].iloc[-1]\n",
        "\n",
        "last_timestep"
      ],
      "metadata": {
        "colab": {
          "base_uri": "https://localhost:8080/",
          "height": 36
        },
        "id": "j7JsE8CH3Qvw",
        "outputId": "adadb9f3-4d66-4c1d-a2c3-325aeb37ae7d"
      },
      "execution_count": null,
      "outputs": [
        {
          "output_type": "execute_result",
          "data": {
            "text/plain": [
              "'23:59'"
            ],
            "application/vnd.google.colaboratory.intrinsic+json": {
              "type": "string"
            }
          },
          "metadata": {},
          "execution_count": 63
        }
      ]
    },
    {
      "cell_type": "code",
      "source": [
        "from pandas.tseries.offsets import DateOffset\n",
        "future_dates=[dataset['hours test'].iloc[-1]]"
      ],
      "metadata": {
        "id": "p_MT4cq73T35"
      },
      "execution_count": null,
      "outputs": []
    },
    {
      "cell_type": "code",
      "source": [
        "import datetime,time\n",
        "futured = str(future_dates)\n",
        "print(futured)\n",
        "\n",
        "#start_time = datetime.datetime.strptime(future_dates, '%H:%M')\n",
        "start_time = datetime.datetime.strptime('23:59', '%H:%M')\n",
        "newarr = []\n",
        "\n",
        "for i in range(0,31):\n",
        "  #start_time += datetime.timedelta(minutes=1)\n",
        "  start_time += datetime.timedelta(minutes=1)\n",
        "  newarr.append(start_time.strftime('%H:%M:%S'))\n",
        "  #newd = start_time.strftime('%H:%M:%S')\n",
        "print(newarr)\n",
        "  #time.sleep(1)"
      ],
      "metadata": {
        "colab": {
          "base_uri": "https://localhost:8080/"
        },
        "id": "x-K5USbO3WIm",
        "outputId": "46e0471c-138d-4e21-fe29-ec10a218c21e"
      },
      "execution_count": null,
      "outputs": [
        {
          "output_type": "stream",
          "name": "stdout",
          "text": [
            "['23:59']\n",
            "['00:00:00', '00:01:00', '00:02:00', '00:03:00', '00:04:00', '00:05:00', '00:06:00', '00:07:00', '00:08:00', '00:09:00', '00:10:00', '00:11:00', '00:12:00', '00:13:00', '00:14:00', '00:15:00', '00:16:00', '00:17:00', '00:18:00', '00:19:00', '00:20:00', '00:21:00', '00:22:00', '00:23:00', '00:24:00', '00:25:00', '00:26:00', '00:27:00', '00:28:00', '00:29:00', '00:30:00']\n"
          ]
        }
      ]
    },
    {
      "cell_type": "code",
      "source": [
        "newfuture = np.array(newarr)\n",
        "print(type(newarr))\n",
        "print(newfuture)"
      ],
      "metadata": {
        "colab": {
          "base_uri": "https://localhost:8080/"
        },
        "id": "F0JZbOuD3Zkc",
        "outputId": "e8c7edf7-4c20-4ea9-a909-bcb500ccd3f3"
      },
      "execution_count": null,
      "outputs": [
        {
          "output_type": "stream",
          "name": "stdout",
          "text": [
            "<class 'list'>\n",
            "['00:00:00' '00:01:00' '00:02:00' '00:03:00' '00:04:00' '00:05:00'\n",
            " '00:06:00' '00:07:00' '00:08:00' '00:09:00' '00:10:00' '00:11:00'\n",
            " '00:12:00' '00:13:00' '00:14:00' '00:15:00' '00:16:00' '00:17:00'\n",
            " '00:18:00' '00:19:00' '00:20:00' '00:21:00' '00:22:00' '00:23:00'\n",
            " '00:24:00' '00:25:00' '00:26:00' '00:27:00' '00:28:00' '00:29:00'\n",
            " '00:30:00']\n"
          ]
        }
      ]
    },
    {
      "cell_type": "code",
      "source": [
        "future_forecast_rf = make_future_forecast(values=kwh,\n",
        "                                          model=rf_regr,\n",
        "                                          into_future=FUTURE,\n",
        "                                          window_size=WINDOW_SIZE)"
      ],
      "metadata": {
        "id": "-ycwve3lEq47"
      },
      "execution_count": null,
      "outputs": []
    },
    {
      "cell_type": "code",
      "source": [
        "future_forecast_rf"
      ],
      "metadata": {
        "colab": {
          "base_uri": "https://localhost:8080/"
        },
        "id": "9XD6PiFqFkY5",
        "outputId": "32b0135e-42bc-4a6a-a62f-05f8c1d8bb1c"
      },
      "execution_count": null,
      "outputs": [
        {
          "output_type": "execute_result",
          "data": {
            "text/plain": [
              "[array(31.17),\n",
              " array(42.047),\n",
              " array(39.553),\n",
              " array(61.748),\n",
              " array(53.347),\n",
              " array(49.564),\n",
              " array(47.662),\n",
              " array(42.21),\n",
              " array(44.843),\n",
              " array(41.044),\n",
              " array(55.761),\n",
              " array(40.985),\n",
              " array(45.142),\n",
              " array(39.436),\n",
              " array(36.842),\n",
              " array(39.474),\n",
              " array(54.06),\n",
              " array(41.514),\n",
              " array(47.565),\n",
              " array(53.339),\n",
              " array(52.868),\n",
              " array(41.977),\n",
              " array(32.695),\n",
              " array(48.019),\n",
              " array(52.77),\n",
              " array(69.147),\n",
              " array(57.043),\n",
              " array(50.717),\n",
              " array(41.386),\n",
              " array(36.735),\n",
              " array(52.292),\n",
              " array(43.367)]"
            ]
          },
          "metadata": {},
          "execution_count": 82
        }
      ]
    },
    {
      "cell_type": "code",
      "source": [
        "future_forecast_svr = make_future_forecast(values=kwh,\n",
        "                                          model=svr_regr,\n",
        "                                          into_future=FUTURE,\n",
        "                                          window_size=WINDOW_SIZE)"
      ],
      "metadata": {
        "id": "se33AyhTFOz3"
      },
      "execution_count": null,
      "outputs": []
    },
    {
      "cell_type": "code",
      "source": [
        "future_forecast_xgb = make_future_forecast(values=kwh,\n",
        "                                          model=xgb_regr,\n",
        "                                          into_future=FUTURE,\n",
        "                                          window_size=WINDOW_SIZE)"
      ],
      "metadata": {
        "id": "efThgGRgFPL2"
      },
      "execution_count": null,
      "outputs": []
    },
    {
      "cell_type": "code",
      "source": [
        "future_forecast_nn = make_future_forecast(values=kwh,\n",
        "                                          model=nn_model,\n",
        "                                          into_future=FUTURE,\n",
        "                                          window_size=WINDOW_SIZE)"
      ],
      "metadata": {
        "id": "bvngJrURFPbx",
        "colab": {
          "base_uri": "https://localhost:8080/"
        },
        "outputId": "6a9e8cdf-1fb1-44af-b915-5eae1ee4881a"
      },
      "execution_count": null,
      "outputs": [
        {
          "output_type": "stream",
          "name": "stdout",
          "text": [
            "1/1 [==============================] - 0s 44ms/step\n",
            "1/1 [==============================] - 0s 41ms/step\n",
            "1/1 [==============================] - 0s 41ms/step\n",
            "1/1 [==============================] - 0s 35ms/step\n",
            "1/1 [==============================] - 0s 35ms/step\n",
            "1/1 [==============================] - 0s 58ms/step\n",
            "1/1 [==============================] - 0s 99ms/step\n",
            "1/1 [==============================] - 0s 43ms/step\n",
            "1/1 [==============================] - 0s 45ms/step\n",
            "1/1 [==============================] - 0s 46ms/step\n",
            "1/1 [==============================] - 0s 42ms/step\n",
            "1/1 [==============================] - 0s 59ms/step\n",
            "1/1 [==============================] - 0s 94ms/step\n",
            "1/1 [==============================] - 0s 48ms/step\n",
            "1/1 [==============================] - 0s 40ms/step\n",
            "1/1 [==============================] - 0s 124ms/step\n",
            "1/1 [==============================] - 0s 121ms/step\n",
            "1/1 [==============================] - 0s 138ms/step\n",
            "1/1 [==============================] - 0s 29ms/step\n",
            "1/1 [==============================] - 0s 29ms/step\n",
            "1/1 [==============================] - 0s 34ms/step\n",
            "1/1 [==============================] - 0s 25ms/step\n",
            "1/1 [==============================] - 0s 25ms/step\n",
            "1/1 [==============================] - 0s 24ms/step\n",
            "1/1 [==============================] - 0s 26ms/step\n",
            "1/1 [==============================] - 0s 24ms/step\n",
            "1/1 [==============================] - 0s 23ms/step\n",
            "1/1 [==============================] - 0s 27ms/step\n",
            "1/1 [==============================] - 0s 27ms/step\n",
            "1/1 [==============================] - 0s 23ms/step\n",
            "1/1 [==============================] - 0s 22ms/step\n",
            "1/1 [==============================] - 0s 24ms/step\n"
          ]
        }
      ]
    },
    {
      "cell_type": "code",
      "source": [
        "future_forecast_lstm = make_future_forecast(values=kwh,\n",
        "                                          model=lstm_model,\n",
        "                                          into_future=FUTURE,\n",
        "                                          window_size=WINDOW_SIZE)"
      ],
      "metadata": {
        "id": "DkwR20_EFPpw",
        "colab": {
          "base_uri": "https://localhost:8080/"
        },
        "outputId": "f43bc1fa-c8b5-4eb9-c9cc-12cd953e0776"
      },
      "execution_count": null,
      "outputs": [
        {
          "output_type": "stream",
          "name": "stdout",
          "text": [
            "1/1 [==============================] - 0s 31ms/step\n",
            "1/1 [==============================] - 0s 28ms/step\n",
            "1/1 [==============================] - 0s 32ms/step\n",
            "1/1 [==============================] - 0s 24ms/step\n",
            "1/1 [==============================] - 0s 23ms/step\n",
            "1/1 [==============================] - 0s 24ms/step\n",
            "1/1 [==============================] - 0s 25ms/step\n",
            "1/1 [==============================] - 0s 31ms/step\n",
            "1/1 [==============================] - 0s 30ms/step\n",
            "1/1 [==============================] - 0s 28ms/step\n",
            "1/1 [==============================] - 0s 23ms/step\n",
            "1/1 [==============================] - 0s 25ms/step\n",
            "1/1 [==============================] - 0s 24ms/step\n",
            "1/1 [==============================] - 0s 25ms/step\n",
            "1/1 [==============================] - 0s 27ms/step\n",
            "1/1 [==============================] - 0s 23ms/step\n",
            "1/1 [==============================] - 0s 25ms/step\n",
            "1/1 [==============================] - 0s 30ms/step\n",
            "1/1 [==============================] - 0s 28ms/step\n",
            "1/1 [==============================] - 0s 30ms/step\n",
            "1/1 [==============================] - 0s 27ms/step\n",
            "1/1 [==============================] - 0s 25ms/step\n",
            "1/1 [==============================] - 0s 24ms/step\n",
            "1/1 [==============================] - 0s 28ms/step\n",
            "1/1 [==============================] - 0s 24ms/step\n",
            "1/1 [==============================] - 0s 37ms/step\n",
            "1/1 [==============================] - 0s 26ms/step\n",
            "1/1 [==============================] - 0s 26ms/step\n",
            "1/1 [==============================] - 0s 25ms/step\n",
            "1/1 [==============================] - 0s 33ms/step\n",
            "1/1 [==============================] - 0s 25ms/step\n",
            "1/1 [==============================] - 0s 26ms/step\n"
          ]
        }
      ]
    },
    {
      "cell_type": "code",
      "source": [
        "future_forecast_rf_steps = np.insert(future_forecast_rf, 0, kwh[-1])\n",
        "future_forecast_svr_steps = np.insert(future_forecast_svr, 0, kwh[-1])\n",
        "future_forecast_xgb_steps = np.insert(future_forecast_xgb, 0, kwh[-1])\n",
        "future_forecast_nn_steps = np.insert(future_forecast_nn, 0, kwh[-1])\n",
        "future_forecast_lstm_steps = np.insert(future_forecast_lstm, 0, kwh[-1])"
      ],
      "metadata": {
        "id": "r0p-U6rQHIFo"
      },
      "execution_count": null,
      "outputs": []
    },
    {
      "cell_type": "code",
      "source": [
        "#next_time_steps, future_forecast_svr_steps"
      ],
      "metadata": {
        "id": "P-RidAcPGzou"
      },
      "execution_count": null,
      "outputs": []
    },
    {
      "cell_type": "markdown",
      "source": [
        "**Forecast Visualization**"
      ],
      "metadata": {
        "id": "1jXnhuFjIlXE"
      }
    },
    {
      "cell_type": "code",
      "source": [
        "trace1 = go.Scatter(\n",
        "    x = hours,\n",
        "    y = kwh,\n",
        "    mode = 'lines',\n",
        "    name = 'Actual Data from Previous Day'\n",
        ")\n",
        "\n",
        "trace2 = go.Scatter(\n",
        "    x = newfuture,\n",
        "    y = future_forecast_rf_steps,\n",
        "    mode = 'lines',\n",
        "    name = 'Forecasted RF'\n",
        ")\n",
        "\n",
        "trace3 = go.Scatter(\n",
        "    x = newfuture,\n",
        "    y = future_forecast_svr_steps,\n",
        "    mode = 'lines',\n",
        "    name = 'Forecasted SVR'\n",
        ")\n",
        "\n",
        "trace4 = go.Scatter(\n",
        "    x = newfuture,\n",
        "    y = future_forecast_xgb_steps,\n",
        "    mode = 'lines',\n",
        "    name = 'Forecasted XGB'\n",
        ")\n",
        "\n",
        "trace5 = go.Scatter(\n",
        "    x = newfuture,\n",
        "    y = future_forecast_nn_steps,\n",
        "    mode = 'lines',\n",
        "    name = 'Forecasted NN'\n",
        ")\n",
        "\n",
        "trace6 = go.Scatter(\n",
        "    x = newfuture,\n",
        "    y = future_forecast_lstm_steps,\n",
        "    mode = 'lines',\n",
        "    name = 'Forecasted LSTM'\n",
        ")\n",
        "trace7 = go.Scatter(\n",
        "    x = newfuture,\n",
        "    y = forecast_ARIMA,\n",
        "    mode = 'lines',\n",
        "    name = 'Forecasted ARIMA'\n",
        "\n",
        ")\n",
        "\n",
        "layout = go.Layout(\n",
        "    #title = 'Load Forecasting',\n",
        "    xaxis = {'title' : \"Time\"},\n",
        "    yaxis = {'title' : \"kWh Delivered\"}\n",
        ")\n",
        "#fig = go.Figure(data=[trace1, trace2, trace3, trace4, trace5, trace6, trace7], layout=layout)\n",
        "fig = go.Figure(data=[trace1, trace2, trace5, trace7], layout=layout)\n",
        "#fig.show()\n",
        "\n",
        "fig.update_layout(\n",
        "    legend=dict(\n",
        "        x=.2,\n",
        "        y=1,\n",
        "        traceorder=\"normal\",\n",
        "        font=dict(\n",
        "            family=\"sans-serif\",\n",
        "            size=16,\n",
        "            color=\"black\"\n",
        "        ),\n",
        "    )\n",
        ")"
      ],
      "metadata": {
        "colab": {
          "base_uri": "https://localhost:8080/",
          "height": 542
        },
        "id": "CH6ML1oMFEP5",
        "outputId": "5ad71367-4c6d-47dc-b69a-94b0dba4fec0"
      },
      "execution_count": null,
      "outputs": [
        {
          "output_type": "display_data",
          "data": {
            "text/html": [
              "<html>\n",
              "<head><meta charset=\"utf-8\" /></head>\n",
              "<body>\n",
              "    <div>            <script src=\"https://cdnjs.cloudflare.com/ajax/libs/mathjax/2.7.5/MathJax.js?config=TeX-AMS-MML_SVG\"></script><script type=\"text/javascript\">if (window.MathJax && window.MathJax.Hub && window.MathJax.Hub.Config) {window.MathJax.Hub.Config({SVG: {font: \"STIX-Web\"}});}</script>                <script type=\"text/javascript\">window.PlotlyConfig = {MathJaxConfig: 'local'};</script>\n",
              "        <script charset=\"utf-8\" src=\"https://cdn.plot.ly/plotly-2.24.1.min.js\"></script>                <div id=\"499327d1-e8f7-4d5d-8473-08fa00cab792\" class=\"plotly-graph-div\" style=\"height:525px; width:100%;\"></div>            <script type=\"text/javascript\">                                    window.PLOTLYENV=window.PLOTLYENV || {};                                    if (document.getElementById(\"499327d1-e8f7-4d5d-8473-08fa00cab792\")) {                    Plotly.newPlot(                        \"499327d1-e8f7-4d5d-8473-08fa00cab792\",                        [{\"mode\":\"lines\",\"name\":\"Actual Data from Previous Day\",\"x\":[\"00:00\",\"00:01\",\"00:02\",\"00:03\",\"00:04\",\"00:05\",\"00:06\",\"00:07\",\"00:08\",\"00:09\",\"00:10\",\"00:11\",\"00:12\",\"00:13\",\"00:14\",\"00:15\",\"00:16\",\"00:17\",\"00:18\",\"00:19\",\"00:20\",\"00:21\",\"00:22\",\"00:23\",\"00:24\",\"00:25\",\"00:26\",\"00:27\",\"00:28\",\"00:29\",\"00:30\",\"00:31\",\"00:32\",\"00:33\",\"00:34\",\"00:35\",\"00:36\",\"00:37\",\"00:38\",\"00:39\",\"00:40\",\"00:41\",\"00:42\",\"00:43\",\"00:44\",\"00:45\",\"00:46\",\"00:47\",\"00:48\",\"00:49\",\"00:50\",\"00:51\",\"00:52\",\"00:53\",\"00:54\",\"00:55\",\"00:56\",\"00:57\",\"00:58\",\"00:59\",\"01:00\",\"01:01\",\"01:02\",\"01:03\",\"01:04\",\"01:05\",\"01:06\",\"01:07\",\"01:08\",\"01:09\",\"01:10\",\"01:11\",\"01:12\",\"01:13\",\"01:14\",\"01:15\",\"01:16\",\"01:18\",\"01:19\",\"01:20\",\"01:21\",\"01:22\",\"01:23\",\"01:25\",\"01:26\",\"01:27\",\"01:28\",\"01:29\",\"01:30\",\"01:31\",\"01:32\",\"01:33\",\"01:34\",\"01:35\",\"01:36\",\"01:37\",\"01:38\",\"01:39\",\"01:40\",\"01:41\",\"01:42\",\"01:43\",\"01:44\",\"01:45\",\"01:46\",\"01:47\",\"01:48\",\"01:49\",\"01:50\",\"01:51\",\"01:52\",\"01:53\",\"01:54\",\"01:55\",\"01:56\",\"01:57\",\"01:58\",\"01:59\",\"02:00\",\"02:01\",\"02:02\",\"02:03\",\"02:04\",\"02:05\",\"02:06\",\"02:07\",\"02:08\",\"02:09\",\"02:10\",\"02:11\",\"02:12\",\"02:13\",\"02:14\",\"02:15\",\"02:16\",\"02:17\",\"02:18\",\"02:19\",\"02:20\",\"02:21\",\"02:22\",\"02:23\",\"02:24\",\"02:25\",\"02:26\",\"02:27\",\"02:28\",\"02:29\",\"02:30\",\"02:31\",\"02:32\",\"02:33\",\"02:34\",\"02:35\",\"02:36\",\"02:37\",\"02:40\",\"02:41\",\"02:42\",\"02:43\",\"02:44\",\"02:45\",\"02:46\",\"02:47\",\"02:48\",\"02:49\",\"02:50\",\"02:51\",\"02:52\",\"02:53\",\"02:54\",\"02:55\",\"02:56\",\"02:57\",\"02:58\",\"02:59\",\"03:00\",\"03:01\",\"03:02\",\"03:03\",\"03:04\",\"03:05\",\"03:06\",\"03:07\",\"03:09\",\"03:10\",\"03:11\",\"03:12\",\"03:13\",\"03:14\",\"03:15\",\"03:16\",\"03:17\",\"03:18\",\"03:19\",\"03:20\",\"03:21\",\"03:22\",\"03:23\",\"03:24\",\"03:25\",\"03:26\",\"03:27\",\"03:28\",\"03:29\",\"03:30\",\"03:31\",\"03:32\",\"03:33\",\"03:34\",\"03:35\",\"03:36\",\"03:37\",\"03:38\",\"03:39\",\"03:40\",\"03:41\",\"03:42\",\"03:43\",\"03:44\",\"03:45\",\"03:46\",\"03:47\",\"03:48\",\"03:49\",\"03:50\",\"03:51\",\"03:52\",\"03:53\",\"03:54\",\"03:55\",\"03:56\",\"03:57\",\"03:58\",\"03:59\",\"04:00\",\"04:01\",\"04:02\",\"04:03\",\"04:05\",\"04:06\",\"04:07\",\"04:08\",\"04:09\",\"04:10\",\"04:11\",\"04:12\",\"04:13\",\"04:15\",\"04:16\",\"04:17\",\"04:18\",\"04:19\",\"04:20\",\"04:21\",\"04:22\",\"04:23\",\"04:24\",\"04:25\",\"04:26\",\"04:27\",\"04:28\",\"04:29\",\"04:30\",\"04:31\",\"04:32\",\"04:33\",\"04:34\",\"04:35\",\"04:36\",\"04:37\",\"04:38\",\"04:39\",\"04:40\",\"04:41\",\"04:42\",\"04:44\",\"04:45\",\"04:46\",\"04:47\",\"04:48\",\"04:49\",\"04:50\",\"04:51\",\"04:52\",\"04:54\",\"04:55\",\"04:56\",\"04:58\",\"04:59\",\"05:00\",\"05:01\",\"05:02\",\"05:03\",\"05:04\",\"05:05\",\"05:06\",\"05:07\",\"05:09\",\"05:10\",\"05:11\",\"05:12\",\"05:14\",\"05:15\",\"05:18\",\"05:19\",\"05:20\",\"05:21\",\"05:22\",\"05:24\",\"05:25\",\"05:26\",\"05:27\",\"05:28\",\"05:29\",\"05:30\",\"05:31\",\"05:32\",\"05:33\",\"05:34\",\"05:35\",\"05:37\",\"05:38\",\"05:39\",\"05:40\",\"05:41\",\"05:42\",\"05:43\",\"05:44\",\"05:45\",\"05:46\",\"05:47\",\"05:48\",\"05:49\",\"05:52\",\"05:53\",\"05:54\",\"05:55\",\"05:56\",\"05:57\",\"05:58\",\"06:00\",\"06:01\",\"06:02\",\"06:03\",\"06:04\",\"06:05\",\"06:06\",\"06:07\",\"06:08\",\"06:09\",\"06:10\",\"06:16\",\"06:17\",\"06:19\",\"06:20\",\"06:21\",\"06:22\",\"06:23\",\"06:24\",\"06:25\",\"06:26\",\"06:27\",\"06:28\",\"06:29\",\"06:30\",\"06:31\",\"06:32\",\"06:33\",\"06:34\",\"06:38\",\"06:39\",\"06:40\",\"06:41\",\"06:44\",\"06:46\",\"06:48\",\"06:49\",\"06:50\",\"06:51\",\"06:55\",\"06:58\",\"06:59\",\"07:01\",\"07:02\",\"07:03\",\"07:05\",\"07:06\",\"07:08\",\"07:09\",\"07:10\",\"07:11\",\"07:13\",\"07:15\",\"07:18\",\"07:20\",\"07:21\",\"07:23\",\"07:24\",\"07:27\",\"07:28\",\"07:32\",\"07:33\",\"07:34\",\"07:35\",\"07:36\",\"07:37\",\"07:38\",\"07:41\",\"07:42\",\"07:43\",\"07:45\",\"07:46\",\"07:49\",\"07:50\",\"07:54\",\"07:55\",\"07:56\",\"07:57\",\"07:59\",\"08:00\",\"08:02\",\"08:04\",\"08:05\",\"08:08\",\"08:10\",\"08:11\",\"08:14\",\"08:15\",\"08:18\",\"08:19\",\"08:22\",\"08:23\",\"08:26\",\"08:27\",\"08:28\",\"08:32\",\"08:33\",\"08:34\",\"08:36\",\"08:39\",\"08:40\",\"08:41\",\"08:42\",\"08:44\",\"08:45\",\"08:49\",\"08:52\",\"08:56\",\"08:59\",\"09:01\",\"09:03\",\"09:06\",\"09:12\",\"09:14\",\"09:18\",\"09:20\",\"09:22\",\"09:27\",\"09:31\",\"09:38\",\"09:41\",\"09:44\",\"09:47\",\"09:54\",\"10:00\",\"10:16\",\"10:17\",\"10:19\",\"10:26\",\"10:30\",\"10:34\",\"10:41\",\"10:49\",\"11:01\",\"11:10\",\"11:27\",\"11:30\",\"11:32\",\"11:33\",\"11:39\",\"11:40\",\"11:55\",\"11:58\",\"12:01\",\"12:07\",\"12:10\",\"12:23\",\"12:30\",\"12:33\",\"12:50\",\"12:51\",\"12:54\",\"12:58\",\"12:59\",\"13:01\",\"13:04\",\"13:08\",\"13:10\",\"13:11\",\"13:12\",\"13:13\",\"13:16\",\"13:18\",\"13:19\",\"13:20\",\"13:23\",\"13:25\",\"13:27\",\"13:28\",\"13:31\",\"13:34\",\"13:36\",\"13:38\",\"13:40\",\"13:41\",\"13:42\",\"13:44\",\"13:45\",\"13:47\",\"13:49\",\"13:51\",\"13:53\",\"13:55\",\"13:56\",\"13:59\",\"14:00\",\"14:01\",\"14:03\",\"14:04\",\"14:05\",\"14:06\",\"14:07\",\"14:08\",\"14:10\",\"14:11\",\"14:12\",\"14:13\",\"14:14\",\"14:15\",\"14:16\",\"14:17\",\"14:18\",\"14:20\",\"14:21\",\"14:23\",\"14:24\",\"14:27\",\"14:28\",\"14:29\",\"14:30\",\"14:31\",\"14:32\",\"14:33\",\"14:34\",\"14:35\",\"14:36\",\"14:37\",\"14:38\",\"14:39\",\"14:40\",\"14:41\",\"14:42\",\"14:43\",\"14:44\",\"14:45\",\"14:46\",\"14:47\",\"14:48\",\"14:49\",\"14:50\",\"14:51\",\"14:52\",\"14:53\",\"14:54\",\"14:55\",\"14:56\",\"14:57\",\"14:58\",\"14:59\",\"15:00\",\"15:01\",\"15:02\",\"15:03\",\"15:04\",\"15:05\",\"15:06\",\"15:07\",\"15:08\",\"15:09\",\"15:10\",\"15:12\",\"15:13\",\"15:14\",\"15:15\",\"15:16\",\"15:17\",\"15:18\",\"15:19\",\"15:20\",\"15:21\",\"15:22\",\"15:23\",\"15:24\",\"15:25\",\"15:26\",\"15:27\",\"15:28\",\"15:29\",\"15:30\",\"15:31\",\"15:32\",\"15:33\",\"15:34\",\"15:35\",\"15:37\",\"15:38\",\"15:39\",\"15:40\",\"15:41\",\"15:42\",\"15:43\",\"15:44\",\"15:45\",\"15:46\",\"15:47\",\"15:48\",\"15:49\",\"15:50\",\"15:51\",\"15:52\",\"15:53\",\"15:54\",\"15:55\",\"15:56\",\"15:57\",\"15:58\",\"15:59\",\"16:00\",\"16:01\",\"16:02\",\"16:03\",\"16:04\",\"16:05\",\"16:06\",\"16:07\",\"16:08\",\"16:09\",\"16:10\",\"16:11\",\"16:12\",\"16:13\",\"16:14\",\"16:15\",\"16:16\",\"16:17\",\"16:18\",\"16:19\",\"16:20\",\"16:21\",\"16:22\",\"16:23\",\"16:24\",\"16:25\",\"16:26\",\"16:27\",\"16:28\",\"16:29\",\"16:30\",\"16:31\",\"16:32\",\"16:33\",\"16:34\",\"16:35\",\"16:36\",\"16:37\",\"16:38\",\"16:39\",\"16:40\",\"16:41\",\"16:42\",\"16:43\",\"16:44\",\"16:45\",\"16:46\",\"16:47\",\"16:48\",\"16:49\",\"16:50\",\"16:51\",\"16:52\",\"16:53\",\"16:54\",\"16:55\",\"16:56\",\"16:57\",\"16:58\",\"16:59\",\"17:00\",\"17:01\",\"17:02\",\"17:03\",\"17:05\",\"17:06\",\"17:07\",\"17:08\",\"17:09\",\"17:10\",\"17:11\",\"17:12\",\"17:13\",\"17:14\",\"17:15\",\"17:16\",\"17:17\",\"17:18\",\"17:19\",\"17:20\",\"17:21\",\"17:22\",\"17:23\",\"17:24\",\"17:25\",\"17:26\",\"17:27\",\"17:28\",\"17:29\",\"17:30\",\"17:31\",\"17:32\",\"17:33\",\"17:34\",\"17:35\",\"17:36\",\"17:37\",\"17:38\",\"17:39\",\"17:40\",\"17:41\",\"17:42\",\"17:43\",\"17:44\",\"17:45\",\"17:46\",\"17:47\",\"17:48\",\"17:49\",\"17:50\",\"17:51\",\"17:52\",\"17:53\",\"17:54\",\"17:55\",\"17:56\",\"17:57\",\"17:58\",\"17:59\",\"18:00\",\"18:01\",\"18:02\",\"18:03\",\"18:04\",\"18:05\",\"18:06\",\"18:07\",\"18:08\",\"18:09\",\"18:10\",\"18:11\",\"18:12\",\"18:13\",\"18:14\",\"18:15\",\"18:16\",\"18:17\",\"18:18\",\"18:19\",\"18:20\",\"18:21\",\"18:22\",\"18:23\",\"18:24\",\"18:25\",\"18:26\",\"18:27\",\"18:28\",\"18:29\",\"18:30\",\"18:31\",\"18:32\",\"18:33\",\"18:34\",\"18:35\",\"18:36\",\"18:37\",\"18:38\",\"18:39\",\"18:40\",\"18:41\",\"18:42\",\"18:43\",\"18:44\",\"18:45\",\"18:46\",\"18:47\",\"18:48\",\"18:49\",\"18:50\",\"18:51\",\"18:52\",\"18:53\",\"18:54\",\"18:55\",\"18:56\",\"18:57\",\"18:58\",\"18:59\",\"19:00\",\"19:01\",\"19:02\",\"19:03\",\"19:04\",\"19:05\",\"19:06\",\"19:07\",\"19:08\",\"19:09\",\"19:10\",\"19:11\",\"19:12\",\"19:13\",\"19:14\",\"19:15\",\"19:16\",\"19:17\",\"19:18\",\"19:19\",\"19:20\",\"19:21\",\"19:22\",\"19:23\",\"19:24\",\"19:25\",\"19:26\",\"19:27\",\"19:28\",\"19:29\",\"19:30\",\"19:31\",\"19:32\",\"19:33\",\"19:34\",\"19:35\",\"19:36\",\"19:37\",\"19:38\",\"19:39\",\"19:40\",\"19:41\",\"19:42\",\"19:43\",\"19:44\",\"19:45\",\"19:46\",\"19:47\",\"19:48\",\"19:49\",\"19:50\",\"19:51\",\"19:52\",\"19:53\",\"19:54\",\"19:55\",\"19:56\",\"19:57\",\"19:58\",\"19:59\",\"20:00\",\"20:01\",\"20:02\",\"20:03\",\"20:04\",\"20:05\",\"20:06\",\"20:07\",\"20:08\",\"20:09\",\"20:10\",\"20:11\",\"20:12\",\"20:13\",\"20:14\",\"20:15\",\"20:16\",\"20:17\",\"20:18\",\"20:19\",\"20:20\",\"20:21\",\"20:22\",\"20:23\",\"20:24\",\"20:25\",\"20:26\",\"20:27\",\"20:28\",\"20:29\",\"20:30\",\"20:31\",\"20:32\",\"20:33\",\"20:34\",\"20:35\",\"20:36\",\"20:37\",\"20:38\",\"20:39\",\"20:40\",\"20:41\",\"20:42\",\"20:43\",\"20:44\",\"20:45\",\"20:46\",\"20:47\",\"20:48\",\"20:49\",\"20:50\",\"20:51\",\"20:52\",\"20:53\",\"20:54\",\"20:55\",\"20:56\",\"20:57\",\"20:58\",\"20:59\",\"21:00\",\"21:01\",\"21:02\",\"21:03\",\"21:04\",\"21:05\",\"21:06\",\"21:07\",\"21:08\",\"21:09\",\"21:10\",\"21:11\",\"21:12\",\"21:13\",\"21:14\",\"21:15\",\"21:16\",\"21:17\",\"21:18\",\"21:19\",\"21:20\",\"21:21\",\"21:22\",\"21:23\",\"21:24\",\"21:25\",\"21:26\",\"21:27\",\"21:28\",\"21:29\",\"21:30\",\"21:31\",\"21:32\",\"21:33\",\"21:34\",\"21:35\",\"21:36\",\"21:37\",\"21:38\",\"21:39\",\"21:40\",\"21:41\",\"21:42\",\"21:43\",\"21:44\",\"21:45\",\"21:46\",\"21:47\",\"21:48\",\"21:49\",\"21:50\",\"21:51\",\"21:52\",\"21:53\",\"21:54\",\"21:55\",\"21:56\",\"21:57\",\"21:58\",\"21:59\",\"22:00\",\"22:01\",\"22:02\",\"22:03\",\"22:04\",\"22:05\",\"22:06\",\"22:07\",\"22:08\",\"22:09\",\"22:10\",\"22:11\",\"22:12\",\"22:13\",\"22:14\",\"22:15\",\"22:16\",\"22:17\",\"22:18\",\"22:19\",\"22:20\",\"22:21\",\"22:22\",\"22:23\",\"22:24\",\"22:25\",\"22:26\",\"22:27\",\"22:28\",\"22:29\",\"22:30\",\"22:31\",\"22:32\",\"22:33\",\"22:34\",\"22:35\",\"22:36\",\"22:37\",\"22:38\",\"22:39\",\"22:40\",\"22:41\",\"22:42\",\"22:43\",\"22:45\",\"22:46\",\"22:47\",\"22:48\",\"22:49\",\"22:50\",\"22:51\",\"22:52\",\"22:53\",\"22:54\",\"22:55\",\"22:56\",\"22:57\",\"22:58\",\"22:59\",\"23:00\",\"23:01\",\"23:02\",\"23:03\",\"23:04\",\"23:05\",\"23:06\",\"23:07\",\"23:08\",\"23:09\",\"23:10\",\"23:11\",\"23:12\",\"23:13\",\"23:14\",\"23:15\",\"23:16\",\"23:17\",\"23:18\",\"23:19\",\"23:20\",\"23:21\",\"23:22\",\"23:23\",\"23:24\",\"23:25\",\"23:26\",\"23:27\",\"23:28\",\"23:29\",\"23:30\",\"23:31\",\"23:32\",\"23:33\",\"23:34\",\"23:35\",\"23:36\",\"23:37\",\"23:38\",\"23:39\",\"23:40\",\"23:41\",\"23:42\",\"23:43\",\"23:44\",\"23:45\",\"23:46\",\"23:47\",\"23:48\",\"23:49\",\"23:50\",\"23:51\",\"23:52\",\"23:53\",\"23:54\",\"23:55\",\"23:56\",\"23:57\",\"23:58\",\"23:59\"],\"y\":[80.24,7.5,59.48,46.85,83.28,40.75,121.35,25.25,66.5,106.23,21.84,27.14,68.19,42.47,60.01,44.87,50.39,125.28,41.44,38.32,89.71,18.23,37.01,54.23,39.6,89.85,67.71,92.24,86.38,24.14,100.16,6.44,30.48,93.58,85.86,30.25,71.53,52.01,82.2,105.54,54.14,76.04,33.36,43.55,14.28,28.73,100.85,21.01,80.41,56.7,57.18,123.64,38.41,57.29,18.15,89.82,97.76,22.72,50.34,35.43,91.3,36.91,53.12,75.31,33.75,55.83,67.95,69.91,12.6,35.99,23.97,73.99,81.21,81.76,31.79,60.37,33.36,47.95,84.83,62.22,39.81,22.43,32.33,2.25,130.58,155.3,61.14,46.12,43.19,15.2,59.28,4.56,12.34,25.97,52.31,46.18,107.29,37.7,100.59,53.59,68.17,75.74,63.75,111.7,72.74,90.55,48.71,82.29,99.81,36.67,78.09,58.54,15.9,5.81,102.55,36.7,19.73,70.92,73.19,54.96,67.27,74.86,62.76,59.94,65.56,80.08,36.32,41.72,40.94,24.63,41.74,72.33,59.36,57.47,48.93,65.11,28.53,68.16,57.3,38.76,55.83,25.74,35.63,36.01,57.13,55.89,40.77,27.5,22.15,64.19,33.65,41.9,56.52,51.04,97.24,18.6,22.92,0.94,13.17,8.66,12.23,69.49,53.47,37.14,16.78,12.69,20.08,27.77,28.41,34.47,80.0,54.16,67.31,28.44,20.67,106.12,54.58,23.0,47.49,67.41,52.07,14.85,20.16,86.41,22.86,29.68,3.12,13.88,132.96,75.28,19.25,39.75,13.72,82.36,52.8,48.16,43.2,5.8,45.14,19.23,50.26,101.36,124.89,38.9,17.01,3.21,36.63,61.66,40.75,7.21,21.18,57.8,44.85,28.08,65.15,114.32,21.37,10.42,47.32,5.44,62.13,72.93,42.59,7.09,10.0,45.77,51.89,15.21,37.74,49.34,23.24,57.84,66.37,107.37,8.15,2.44,68.29,36.21,9.59,54.82,45.56,3.7,38.15,20.5,84.25,46.72,30.64,15.04,72.28,92.03,16.06,68.29,60.4,31.29,39.84,31.9,8.25,24.02,67.78,7.28,45.07,40.77,52.51,3.59,11.85,17.33,81.79,81.41,48.61,40.9,6.71,21.17,53.75,14.32,31.06,68.67,45.08,60.29,133.93,14.74,35.29,87.37,120.21,52.66,28.12,67.61,9.43,67.58,6.1,129.84,58.7,14.57,29.45,50.51,15.95,3.37,12.58,1.44,6.9,37.18,24.42,84.99,22.52,25.48,37.22,29.76,38.15,18.16,16.11,16.18,2.09,84.62,58.86,24.85,22.92,0.79,33.0,29.32,8.26,54.7,2.63,0.97,29.85,7.07,5.8,5.55,31.03,61.65,17.78,60.1,35.89,53.74,5.35,17.11,56.15,13.21,39.83,4.91,53.27,85.82,30.42,6.09,28.82,85.55,47.97,92.44,65.74,43.58,26.18,47.78,25.89,7.44,35.83,13.8,111.18,26.18,8.45,31.38,24.93,5.44,6.24,24.58,96.92,14.67,16.5,9.89,2.89,34.8,56.68,65.9,39.76,11.03,0.83,9.83,1.86,11.67,67.8,24.82,62.57,44.71,2.7,5.55,13.65,24.73,24.73,4.1,37.14,0.64,51.25,3.69,5.67,15.95,17.03,6.01,3.43,6.21,1.2,33.12,2.05,2.48,14.03,12.14,47.8,56.86,30.4,58.46,23.36,3.71,13.48,17.8,6.06,29.9,39.48,8.44,13.59,3.82,4.81,6.28,45.43,1.24,13.87,0.71,1.33,3.15,94.38,6.16,48.21,29.17,6.04,13.52,15.85,11.53,13.9,6.14,61.55,48.06,1.66,55.51,16.38,1.72,2.36,30.98,16.34,5.88,41.45,13.94,26.0,6.02,37.96,4.15,1.86,40.43,2.14,42.38,13.73,12.53,11.96,58.89,41.43,6.2,43.96,30.22,36.5,3.26,17.59,13.76,2.29,5.97,15.88,6.32,7.4,5.52,13.9,1.94,7.78,13.89,6.65,1.65,18.51,26.0,4.67,4.49,60.98,3.76,3.15,3.74,13.9,2.53,34.52,3.98,1.81,13.89,9.39,2.79,0.98,13.56,0.88,2.28,18.42,23.38,4.62,3.77,13.25,11.23,19.69,3.47,7.71,20.18,15.41,30.14,23.8,38.7,13.08,34.34,10.59,6.08,10.87,9.03,13.68,13.88,37.19,4.62,52.18,6.55,43.19,16.34,38.88,18.63,1.58,18.12,5.82,4.84,5.98,34.0,2.42,2.25,60.96,12.54,2.39,29.21,25.57,23.59,7.78,6.67,87.68,17.1,13.88,32.03,38.04,0.52,1.54,4.54,13.87,13.79,3.51,13.72,2.4,2.64,45.6,26.17,13.54,53.71,57.53,16.89,13.2,37.99,66.33,16.89,45.56,41.45,74.67,91.07,69.03,60.37,67.33,26.87,19.55,49.16,99.33,56.04,51.88,7.13,55.99,25.96,19.4,22.38,61.57,47.56,3.5,34.49,19.08,47.54,70.19,26.99,31.02,15.75,13.5,89.11,73.79,27.02,110.01,0.89,20.35,49.77,7.75,127.57,4.29,8.13,29.86,109.08,32.15,37.7,31.3,19.96,61.14,20.19,36.17,53.03,30.78,60.71,59.78,66.91,14.92,14.3,30.25,45.2,39.06,66.85,25.78,52.83,41.05,4.8,30.17,39.08,40.41,42.27,18.48,40.45,25.41,65.17,43.71,41.93,34.17,27.94,39.42,43.44,21.82,42.35,60.82,4.97,107.66,54.32,65.51,28.54,48.21,12.12,57.84,60.47,85.82,19.88,57.52,12.11,21.68,13.89,21.71,65.38,20.15,87.54,72.39,51.64,47.38,52.61,47.89,56.47,69.65,82.06,15.79,84.76,75.77,56.02,46.3,139.36,23.82,122.88,29.14,44.51,25.62,17.04,98.1,144.37,143.56,68.09,103.35,78.29,47.5,43.19,45.22,52.86,63.42,49.07,68.61,123.38,50.01,34.74,47.2,125.7,10.69,50.74,134.37,27.51,6.71,14.95,65.84,83.46,44.21,49.31,89.36,121.65,12.75,62.49,23.64,17.0,41.54,64.35,48.63,53.14,1.99,125.92,51.25,46.97,90.11,104.75,112.58,97.96,82.42,65.92,81.17,69.54,15.29,67.47,47.29,59.97,35.77,26.96,49.58,44.43,95.47,139.44,141.49,102.96,18.11,47.32,55.61,89.84,83.22,100.31,53.31,83.29,65.75,17.93,58.21,56.42,18.1,40.09,89.85,71.95,14.77,88.0,150.78,105.28,81.28,61.79,95.94,92.86,55.24,71.94,147.34,106.1,24.02,46.1,61.18,61.15,75.46,34.93,40.11,26.67,72.94,83.1,35.67,75.24,147.03,61.08,64.24,56.83,14.1,35.06,62.64,31.22,95.29,124.22,44.22,27.72,97.66,82.7,82.2,54.14,55.56,40.65,110.42,43.56,41.92,102.09,46.86,139.04,90.42,116.35,66.83,54.14,55.09,24.53,77.84,66.64,97.98,62.81,122.9,60.05,0.72,56.06,87.03,105.03,75.46,67.31,81.66,118.05,85.97,104.0,22.84,4.42,21.03,36.79,50.99,88.57,40.99,95.87,51.51,8.28,55.6,16.75,75.77,85.42,40.01,31.55,52.39,119.97,95.42,105.57,32.64,76.92,151.26,108.58,80.76,14.0,11.37,54.5,50.64,59.47,23.34,40.71,76.93,82.81,35.62,132.39,89.15,36.28,42.96,58.49,69.56,46.86,57.9,83.41,34.65,15.51,19.64,56.82,13.24,56.9,23.91,46.9,40.64,65.02,92.75,55.92,66.14,68.27,56.69,41.34,65.79,76.55,47.35,60.71,69.09,70.29,63.2,52.68,48.65,35.72,43.61,26.27,41.92,22.49,50.74,61.0,49.24,31.18,37.78,56.58,36.31,59.31,66.47,51.42,57.57,41.76,50.88,44.91,48.49,56.96,42.56,57.14,49.08,61.32,44.53,33.14,47.58,54.74,33.19,43.17,35.4,31.75,52.89,29.23,53.31,40.72,49.62,62.34,55.48,22.98,36.73,59.45,54.94,69.44,62.32,52.24,34.84,29.83,57.62,59.75,59.72,62.71,49.82,45.06,40.86,54.31,67.46,49.87,38.22,26.77,43.49,31.98,50.61,55.98,49.98,64.51,38.52,58.74,47.05,50.62,50.92,56.18,53.77,31.83,48.93,22.1,34.77,51.29,57.69,49.55,59.64,44.72,60.88,55.91,47.85,52.36,60.36,54.25,51.64,50.39,30.02,44.34,52.21,50.9,53.99,29.7,57.65,55.82,28.18,39.03,49.56,54.79,67.99,49.62,59.94,25.12,43.41,52.7,63.38,46.74,59.57,48.95,26.48,33.21,61.58,22.29,23.86,54.36,32.74,43.15,29.48,48.3,57.44,55.06,49.23,49.82,63.48,21.78,63.3,50.45,69.68,53.02,60.73,62.06,24.25,45.08,23.86,25.4,40.56,67.54,43.9,26.49,41.05,67.54,53.09,21.24,49.15,34.52,56.99,64.0,30.64,57.5,69.22,40.34,51.48,46.0,67.25,57.32,40.2,64.92,43.89,61.18,34.72,55.11,49.63,67.63,59.95,52.93,46.04,43.93,35.76,21.54,33.52,32.51,32.12,58.73,41.0,39.66,25.19,66.47,56.92,51.59,26.64,28.06,61.2,41.13,62.96,62.12,49.63,42.14,59.04,33.74,37.13,35.19,51.61,43.99,51.35,48.36,22.12,41.43,57.02,21.87,46.64,55.66,22.51,36.28,59.86,58.38,37.77,43.74],\"type\":\"scatter\"},{\"mode\":\"lines\",\"name\":\"Forecasted RF\",\"x\":[\"00:00:00\",\"00:01:00\",\"00:02:00\",\"00:03:00\",\"00:04:00\",\"00:05:00\",\"00:06:00\",\"00:07:00\",\"00:08:00\",\"00:09:00\",\"00:10:00\",\"00:11:00\",\"00:12:00\",\"00:13:00\",\"00:14:00\",\"00:15:00\",\"00:16:00\",\"00:17:00\",\"00:18:00\",\"00:19:00\",\"00:20:00\",\"00:21:00\",\"00:22:00\",\"00:23:00\",\"00:24:00\",\"00:25:00\",\"00:26:00\",\"00:27:00\",\"00:28:00\",\"00:29:00\",\"00:30:00\"],\"y\":[43.74,31.170000000000005,42.047,39.553,61.748000000000005,53.346999999999994,49.564,47.662000000000006,42.21,44.843,41.044,55.76099999999999,40.985,45.141999999999996,39.436,36.842,39.474000000000004,54.06,41.513999999999996,47.565,53.339,52.86800000000001,41.977000000000004,32.69500000000001,48.01899999999999,52.77,69.14699999999999,57.043000000000006,50.717,41.38600000000001,36.735,52.291999999999994,43.367000000000004],\"type\":\"scatter\"},{\"mode\":\"lines\",\"name\":\"Forecasted NN\",\"x\":[\"00:00:00\",\"00:01:00\",\"00:02:00\",\"00:03:00\",\"00:04:00\",\"00:05:00\",\"00:06:00\",\"00:07:00\",\"00:08:00\",\"00:09:00\",\"00:10:00\",\"00:11:00\",\"00:12:00\",\"00:13:00\",\"00:14:00\",\"00:15:00\",\"00:16:00\",\"00:17:00\",\"00:18:00\",\"00:19:00\",\"00:20:00\",\"00:21:00\",\"00:22:00\",\"00:23:00\",\"00:24:00\",\"00:25:00\",\"00:26:00\",\"00:27:00\",\"00:28:00\",\"00:29:00\",\"00:30:00\"],\"y\":[43.7400016784668,54.9201545715332,43.08345031738281,43.47691345214844,35.69459533691406,34.12710952758789,43.80278396606445,42.9909553527832,39.2152214050293,41.85395431518555,43.4716796875,38.08671569824219,37.948123931884766,35.77599334716797,36.89441680908203,45.189212799072266,40.19448471069336,41.211177825927734,42.73835372924805,40.48472213745117,39.778724670410156,30.85808563232422,33.09436798095703,42.65068435668945,47.80675506591797,33.8765983581543,27.21742057800293,38.8155403137207,37.90386199951172,33.14926528930664,36.205902099609375,39.01759338378906,37.13759994506836],\"type\":\"scatter\"},{\"mode\":\"lines\",\"name\":\"Forecasted ARIMA\",\"x\":[\"00:00:00\",\"00:01:00\",\"00:02:00\",\"00:03:00\",\"00:04:00\",\"00:05:00\",\"00:06:00\",\"00:07:00\",\"00:08:00\",\"00:09:00\",\"00:10:00\",\"00:11:00\",\"00:12:00\",\"00:13:00\",\"00:14:00\",\"00:15:00\",\"00:16:00\",\"00:17:00\",\"00:18:00\",\"00:19:00\",\"00:20:00\",\"00:21:00\",\"00:22:00\",\"00:23:00\",\"00:24:00\",\"00:25:00\",\"00:26:00\",\"00:27:00\",\"00:28:00\",\"00:29:00\",\"00:30:00\"],\"y\":[49.74587910863072,46.40627519326294,54.9005170957906,53.53828820524629,49.94508199609355,43.44717436570138,42.20088898647298,60.17469040356703,42.021093501676724,50.905246501443955,52.212062113133285,53.78619923196279,49.90342889622431,46.515713613484024,52.87015540415587,37.53735604203746,47.36653635883536,56.61859570325681,55.907583521463756,54.08609000952477,49.16805935937524,51.86521833525897,49.41530634815186,47.33789680798911,45.58972353475462,54.209514134631355,50.515944493580946,41.946840366056406,42.45878149696203,50.84179118547863,38.64466058549919,49.30131403365711,45.04335546473114,48.52795097488842,40.80972203226645,40.2715724317916,41.1350572852304,52.14481266292118,55.311851507024514,41.58119860081462,52.434159575366664,47.98457668090767,50.59089700882241,46.33574951012513,47.77434050922052,38.80024979493322,51.98637100544097,57.75795316588238,49.43628699240651,44.48790564217296,40.93772645541311,42.50283262761555,39.555852601292045,45.95615360695728,47.18605768487386,50.98557945570204,51.044441904227796,60.48495972871572,52.448138045598284,46.79966917373686,50.456285562967125,45.70779815871097,54.31833484280256,54.62720979355077,49.910866057713875,43.51822967701654,42.470853404849265,60.18265027872771,42.484711114655795,50.11139983514794,52.56818420034631,53.53610233772566,48.279444081137996,45.17906217314934,54.748729324895244,37.009313118713436,45.77177137079197,56.16264831715393,54.19291692899593,52.80987759761137,48.319002608483615,52.67921199113735,50.44114862483866,45.892195338391225,43.82310120030631,53.15866649216125,48.91202797089935,40.70048023465151,41.64867724892558,51.07293756425911,36.753493505548434,47.20382122367479,44.04909604965942,48.786087246673226,41.37666430903896,39.41039381109752,41.29779100176603,51.6769671550985,54.66170981242196,40.29134133866852,50.840025412474624,48.17292328917103,49.3217024204157,45.681792851189144,46.944008641718916,37.20248207476582,51.044493957137234,57.4931063165372,50.298364383293894,43.52546795522637,41.90170610533738,42.54787651056808,37.989993714842704,44.39031962888401,46.395588165372786,49.674569575727354,50.97294071888329,59.857417882167375,51.56681510224317,46.11790169135023,49.92022001060106,45.05514676144518,53.675306899479544,54.122466566308844,49.31318261325757,42.92925748348064,41.89834104386009,59.588456904880296,41.92822365671104,49.45085655102115,52.00280143147397,52.920554631366294,47.55020643142065,44.473601510335094,54.309330240785144,36.370765233209966,45.04495167703088,55.53006637502811,53.45617531481565,52.109418295980646,47.65389066100721,52.151718333827084,49.93118555159909,45.17771072867277,43.08206022132834,52.47685624296348,48.184450982864945,40.002491224831815,40.986788641414606,50.49721299020955,36.00214638380087,46.435400539954216,43.371968505848336,48.21259610037301,40.828727021014124,38.74427877256086,40.71640524416754,51.04340063718318,54.013058189794044,39.58975291855113,50.113257919824456,47.59365701174671,48.62182384734726,45.032825538269186,46.28044618812753,36.47541390335246,50.37170108154796,56.87633804368529,49.7748496801812,42.85097367604569,41.386623867407714,41.95675185774328,37.26556601609307,43.665893991315514,45.735324341908004,48.97123076543161,50.37217190075775,59.21063640877522,50.89903311048016,45.466633018257546,49.28100824835226,44.406287459610475,53.02724394348722,53.485846742831164,48.668871938240656,42.285667669029344,41.25611328915292,58.944435035029976,41.2873219711044,48.801344191424896,51.36116365423995,52.27476567934217,46.8950095771764,43.820372214181454,53.67811767929636,35.7230730043432,44.389954909905484,54.882867831093286,52.800357503591,51.45660286507833,47.00400024213148,51.51321590037329,49.29413378313754],\"type\":\"scatter\"}],                        {\"xaxis\":{\"title\":{\"text\":\"Time\"}},\"yaxis\":{\"title\":{\"text\":\"kWh Delivered\"}},\"template\":{\"data\":{\"histogram2dcontour\":[{\"type\":\"histogram2dcontour\",\"colorbar\":{\"outlinewidth\":0,\"ticks\":\"\"},\"colorscale\":[[0.0,\"#0d0887\"],[0.1111111111111111,\"#46039f\"],[0.2222222222222222,\"#7201a8\"],[0.3333333333333333,\"#9c179e\"],[0.4444444444444444,\"#bd3786\"],[0.5555555555555556,\"#d8576b\"],[0.6666666666666666,\"#ed7953\"],[0.7777777777777778,\"#fb9f3a\"],[0.8888888888888888,\"#fdca26\"],[1.0,\"#f0f921\"]]}],\"choropleth\":[{\"type\":\"choropleth\",\"colorbar\":{\"outlinewidth\":0,\"ticks\":\"\"}}],\"histogram2d\":[{\"type\":\"histogram2d\",\"colorbar\":{\"outlinewidth\":0,\"ticks\":\"\"},\"colorscale\":[[0.0,\"#0d0887\"],[0.1111111111111111,\"#46039f\"],[0.2222222222222222,\"#7201a8\"],[0.3333333333333333,\"#9c179e\"],[0.4444444444444444,\"#bd3786\"],[0.5555555555555556,\"#d8576b\"],[0.6666666666666666,\"#ed7953\"],[0.7777777777777778,\"#fb9f3a\"],[0.8888888888888888,\"#fdca26\"],[1.0,\"#f0f921\"]]}],\"heatmap\":[{\"type\":\"heatmap\",\"colorbar\":{\"outlinewidth\":0,\"ticks\":\"\"},\"colorscale\":[[0.0,\"#0d0887\"],[0.1111111111111111,\"#46039f\"],[0.2222222222222222,\"#7201a8\"],[0.3333333333333333,\"#9c179e\"],[0.4444444444444444,\"#bd3786\"],[0.5555555555555556,\"#d8576b\"],[0.6666666666666666,\"#ed7953\"],[0.7777777777777778,\"#fb9f3a\"],[0.8888888888888888,\"#fdca26\"],[1.0,\"#f0f921\"]]}],\"heatmapgl\":[{\"type\":\"heatmapgl\",\"colorbar\":{\"outlinewidth\":0,\"ticks\":\"\"},\"colorscale\":[[0.0,\"#0d0887\"],[0.1111111111111111,\"#46039f\"],[0.2222222222222222,\"#7201a8\"],[0.3333333333333333,\"#9c179e\"],[0.4444444444444444,\"#bd3786\"],[0.5555555555555556,\"#d8576b\"],[0.6666666666666666,\"#ed7953\"],[0.7777777777777778,\"#fb9f3a\"],[0.8888888888888888,\"#fdca26\"],[1.0,\"#f0f921\"]]}],\"contourcarpet\":[{\"type\":\"contourcarpet\",\"colorbar\":{\"outlinewidth\":0,\"ticks\":\"\"}}],\"contour\":[{\"type\":\"contour\",\"colorbar\":{\"outlinewidth\":0,\"ticks\":\"\"},\"colorscale\":[[0.0,\"#0d0887\"],[0.1111111111111111,\"#46039f\"],[0.2222222222222222,\"#7201a8\"],[0.3333333333333333,\"#9c179e\"],[0.4444444444444444,\"#bd3786\"],[0.5555555555555556,\"#d8576b\"],[0.6666666666666666,\"#ed7953\"],[0.7777777777777778,\"#fb9f3a\"],[0.8888888888888888,\"#fdca26\"],[1.0,\"#f0f921\"]]}],\"surface\":[{\"type\":\"surface\",\"colorbar\":{\"outlinewidth\":0,\"ticks\":\"\"},\"colorscale\":[[0.0,\"#0d0887\"],[0.1111111111111111,\"#46039f\"],[0.2222222222222222,\"#7201a8\"],[0.3333333333333333,\"#9c179e\"],[0.4444444444444444,\"#bd3786\"],[0.5555555555555556,\"#d8576b\"],[0.6666666666666666,\"#ed7953\"],[0.7777777777777778,\"#fb9f3a\"],[0.8888888888888888,\"#fdca26\"],[1.0,\"#f0f921\"]]}],\"mesh3d\":[{\"type\":\"mesh3d\",\"colorbar\":{\"outlinewidth\":0,\"ticks\":\"\"}}],\"scatter\":[{\"fillpattern\":{\"fillmode\":\"overlay\",\"size\":10,\"solidity\":0.2},\"type\":\"scatter\"}],\"parcoords\":[{\"type\":\"parcoords\",\"line\":{\"colorbar\":{\"outlinewidth\":0,\"ticks\":\"\"}}}],\"scatterpolargl\":[{\"type\":\"scatterpolargl\",\"marker\":{\"colorbar\":{\"outlinewidth\":0,\"ticks\":\"\"}}}],\"bar\":[{\"error_x\":{\"color\":\"#2a3f5f\"},\"error_y\":{\"color\":\"#2a3f5f\"},\"marker\":{\"line\":{\"color\":\"#E5ECF6\",\"width\":0.5},\"pattern\":{\"fillmode\":\"overlay\",\"size\":10,\"solidity\":0.2}},\"type\":\"bar\"}],\"scattergeo\":[{\"type\":\"scattergeo\",\"marker\":{\"colorbar\":{\"outlinewidth\":0,\"ticks\":\"\"}}}],\"scatterpolar\":[{\"type\":\"scatterpolar\",\"marker\":{\"colorbar\":{\"outlinewidth\":0,\"ticks\":\"\"}}}],\"histogram\":[{\"marker\":{\"pattern\":{\"fillmode\":\"overlay\",\"size\":10,\"solidity\":0.2}},\"type\":\"histogram\"}],\"scattergl\":[{\"type\":\"scattergl\",\"marker\":{\"colorbar\":{\"outlinewidth\":0,\"ticks\":\"\"}}}],\"scatter3d\":[{\"type\":\"scatter3d\",\"line\":{\"colorbar\":{\"outlinewidth\":0,\"ticks\":\"\"}},\"marker\":{\"colorbar\":{\"outlinewidth\":0,\"ticks\":\"\"}}}],\"scattermapbox\":[{\"type\":\"scattermapbox\",\"marker\":{\"colorbar\":{\"outlinewidth\":0,\"ticks\":\"\"}}}],\"scatterternary\":[{\"type\":\"scatterternary\",\"marker\":{\"colorbar\":{\"outlinewidth\":0,\"ticks\":\"\"}}}],\"scattercarpet\":[{\"type\":\"scattercarpet\",\"marker\":{\"colorbar\":{\"outlinewidth\":0,\"ticks\":\"\"}}}],\"carpet\":[{\"aaxis\":{\"endlinecolor\":\"#2a3f5f\",\"gridcolor\":\"white\",\"linecolor\":\"white\",\"minorgridcolor\":\"white\",\"startlinecolor\":\"#2a3f5f\"},\"baxis\":{\"endlinecolor\":\"#2a3f5f\",\"gridcolor\":\"white\",\"linecolor\":\"white\",\"minorgridcolor\":\"white\",\"startlinecolor\":\"#2a3f5f\"},\"type\":\"carpet\"}],\"table\":[{\"cells\":{\"fill\":{\"color\":\"#EBF0F8\"},\"line\":{\"color\":\"white\"}},\"header\":{\"fill\":{\"color\":\"#C8D4E3\"},\"line\":{\"color\":\"white\"}},\"type\":\"table\"}],\"barpolar\":[{\"marker\":{\"line\":{\"color\":\"#E5ECF6\",\"width\":0.5},\"pattern\":{\"fillmode\":\"overlay\",\"size\":10,\"solidity\":0.2}},\"type\":\"barpolar\"}],\"pie\":[{\"automargin\":true,\"type\":\"pie\"}]},\"layout\":{\"autotypenumbers\":\"strict\",\"colorway\":[\"#636efa\",\"#EF553B\",\"#00cc96\",\"#ab63fa\",\"#FFA15A\",\"#19d3f3\",\"#FF6692\",\"#B6E880\",\"#FF97FF\",\"#FECB52\"],\"font\":{\"color\":\"#2a3f5f\"},\"hovermode\":\"closest\",\"hoverlabel\":{\"align\":\"left\"},\"paper_bgcolor\":\"white\",\"plot_bgcolor\":\"#E5ECF6\",\"polar\":{\"bgcolor\":\"#E5ECF6\",\"angularaxis\":{\"gridcolor\":\"white\",\"linecolor\":\"white\",\"ticks\":\"\"},\"radialaxis\":{\"gridcolor\":\"white\",\"linecolor\":\"white\",\"ticks\":\"\"}},\"ternary\":{\"bgcolor\":\"#E5ECF6\",\"aaxis\":{\"gridcolor\":\"white\",\"linecolor\":\"white\",\"ticks\":\"\"},\"baxis\":{\"gridcolor\":\"white\",\"linecolor\":\"white\",\"ticks\":\"\"},\"caxis\":{\"gridcolor\":\"white\",\"linecolor\":\"white\",\"ticks\":\"\"}},\"coloraxis\":{\"colorbar\":{\"outlinewidth\":0,\"ticks\":\"\"}},\"colorscale\":{\"sequential\":[[0.0,\"#0d0887\"],[0.1111111111111111,\"#46039f\"],[0.2222222222222222,\"#7201a8\"],[0.3333333333333333,\"#9c179e\"],[0.4444444444444444,\"#bd3786\"],[0.5555555555555556,\"#d8576b\"],[0.6666666666666666,\"#ed7953\"],[0.7777777777777778,\"#fb9f3a\"],[0.8888888888888888,\"#fdca26\"],[1.0,\"#f0f921\"]],\"sequentialminus\":[[0.0,\"#0d0887\"],[0.1111111111111111,\"#46039f\"],[0.2222222222222222,\"#7201a8\"],[0.3333333333333333,\"#9c179e\"],[0.4444444444444444,\"#bd3786\"],[0.5555555555555556,\"#d8576b\"],[0.6666666666666666,\"#ed7953\"],[0.7777777777777778,\"#fb9f3a\"],[0.8888888888888888,\"#fdca26\"],[1.0,\"#f0f921\"]],\"diverging\":[[0,\"#8e0152\"],[0.1,\"#c51b7d\"],[0.2,\"#de77ae\"],[0.3,\"#f1b6da\"],[0.4,\"#fde0ef\"],[0.5,\"#f7f7f7\"],[0.6,\"#e6f5d0\"],[0.7,\"#b8e186\"],[0.8,\"#7fbc41\"],[0.9,\"#4d9221\"],[1,\"#276419\"]]},\"xaxis\":{\"gridcolor\":\"white\",\"linecolor\":\"white\",\"ticks\":\"\",\"title\":{\"standoff\":15},\"zerolinecolor\":\"white\",\"automargin\":true,\"zerolinewidth\":2},\"yaxis\":{\"gridcolor\":\"white\",\"linecolor\":\"white\",\"ticks\":\"\",\"title\":{\"standoff\":15},\"zerolinecolor\":\"white\",\"automargin\":true,\"zerolinewidth\":2},\"scene\":{\"xaxis\":{\"backgroundcolor\":\"#E5ECF6\",\"gridcolor\":\"white\",\"linecolor\":\"white\",\"showbackground\":true,\"ticks\":\"\",\"zerolinecolor\":\"white\",\"gridwidth\":2},\"yaxis\":{\"backgroundcolor\":\"#E5ECF6\",\"gridcolor\":\"white\",\"linecolor\":\"white\",\"showbackground\":true,\"ticks\":\"\",\"zerolinecolor\":\"white\",\"gridwidth\":2},\"zaxis\":{\"backgroundcolor\":\"#E5ECF6\",\"gridcolor\":\"white\",\"linecolor\":\"white\",\"showbackground\":true,\"ticks\":\"\",\"zerolinecolor\":\"white\",\"gridwidth\":2}},\"shapedefaults\":{\"line\":{\"color\":\"#2a3f5f\"}},\"annotationdefaults\":{\"arrowcolor\":\"#2a3f5f\",\"arrowhead\":0,\"arrowwidth\":1},\"geo\":{\"bgcolor\":\"white\",\"landcolor\":\"#E5ECF6\",\"subunitcolor\":\"white\",\"showland\":true,\"showlakes\":true,\"lakecolor\":\"white\"},\"title\":{\"x\":0.05},\"mapbox\":{\"style\":\"light\"}}},\"legend\":{\"font\":{\"family\":\"sans-serif\",\"size\":16,\"color\":\"black\"},\"x\":0.2,\"y\":1,\"traceorder\":\"normal\"}},                        {\"responsive\": true}                    ).then(function(){\n",
              "                            \n",
              "var gd = document.getElementById('499327d1-e8f7-4d5d-8473-08fa00cab792');\n",
              "var x = new MutationObserver(function (mutations, observer) {{\n",
              "        var display = window.getComputedStyle(gd).display;\n",
              "        if (!display || display === 'none') {{\n",
              "            console.log([gd, 'removed!']);\n",
              "            Plotly.purge(gd);\n",
              "            observer.disconnect();\n",
              "        }}\n",
              "}});\n",
              "\n",
              "// Listen for the removal of the full notebook cells\n",
              "var notebookContainer = gd.closest('#notebook-container');\n",
              "if (notebookContainer) {{\n",
              "    x.observe(notebookContainer, {childList: true});\n",
              "}}\n",
              "\n",
              "// Listen for the clearing of the current output cell\n",
              "var outputEl = gd.closest('.output');\n",
              "if (outputEl) {{\n",
              "    x.observe(outputEl, {childList: true});\n",
              "}}\n",
              "\n",
              "                        })                };                            </script>        </div>\n",
              "</body>\n",
              "</html>"
            ]
          },
          "metadata": {}
        }
      ]
    }
  ]
}