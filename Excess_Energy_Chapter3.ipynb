{
  "cells": [
    {
      "cell_type": "code",
      "execution_count": null,
      "metadata": {
        "id": "WLlk94yl0VuC"
      },
      "outputs": [],
      "source": [
        "import os\n",
        "from pathlib import Path\n",
        "import pandas as pd\n",
        "import numpy as np\n",
        "import tensorflow as tf"
      ]
    },
    {
      "cell_type": "code",
      "execution_count": null,
      "metadata": {
        "id": "-ECVzYTL0W34"
      },
      "outputs": [],
      "source": [
        "import plotly.express as px\n",
        "import plotly.graph_objects as go"
      ]
    },
    {
      "cell_type": "code",
      "execution_count": null,
      "metadata": {
        "colab": {
          "base_uri": "https://localhost:8080/",
          "height": 112
        },
        "id": "OBKbZULB0Ydf",
        "outputId": "0c4c3178-b1b2-4c9c-8a3c-c08b72f99d2b"
      },
      "outputs": [
        {
          "output_type": "execute_result",
          "data": {
            "text/plain": [
              "   CONNECT TIME   hours test  kWhDelivered  userInputs/0/kWhRequested  \\\n",
              "0  4/25/23 0:00  12:00:00 AM         2.200                      12.00   \n",
              "1  4/25/23 0:00  12:00:47 AM        15.575                      34.64   \n",
              "\n",
              "   kwh test  \n",
              "0  3.400000  \n",
              "1  3.347691  "
            ],
            "text/html": [
              "\n",
              "  <div id=\"df-f9754596-35f2-498a-9a33-021f85cc3320\" class=\"colab-df-container\">\n",
              "    <div>\n",
              "<style scoped>\n",
              "    .dataframe tbody tr th:only-of-type {\n",
              "        vertical-align: middle;\n",
              "    }\n",
              "\n",
              "    .dataframe tbody tr th {\n",
              "        vertical-align: top;\n",
              "    }\n",
              "\n",
              "    .dataframe thead th {\n",
              "        text-align: right;\n",
              "    }\n",
              "</style>\n",
              "<table border=\"1\" class=\"dataframe\">\n",
              "  <thead>\n",
              "    <tr style=\"text-align: right;\">\n",
              "      <th></th>\n",
              "      <th>CONNECT TIME</th>\n",
              "      <th>hours test</th>\n",
              "      <th>kWhDelivered</th>\n",
              "      <th>userInputs/0/kWhRequested</th>\n",
              "      <th>kwh test</th>\n",
              "    </tr>\n",
              "  </thead>\n",
              "  <tbody>\n",
              "    <tr>\n",
              "      <th>0</th>\n",
              "      <td>4/25/23 0:00</td>\n",
              "      <td>12:00:00 AM</td>\n",
              "      <td>2.200</td>\n",
              "      <td>12.00</td>\n",
              "      <td>3.400000</td>\n",
              "    </tr>\n",
              "    <tr>\n",
              "      <th>1</th>\n",
              "      <td>4/25/23 0:00</td>\n",
              "      <td>12:00:47 AM</td>\n",
              "      <td>15.575</td>\n",
              "      <td>34.64</td>\n",
              "      <td>3.347691</td>\n",
              "    </tr>\n",
              "  </tbody>\n",
              "</table>\n",
              "</div>\n",
              "    <div class=\"colab-df-buttons\">\n",
              "\n",
              "  <div class=\"colab-df-container\">\n",
              "    <button class=\"colab-df-convert\" onclick=\"convertToInteractive('df-f9754596-35f2-498a-9a33-021f85cc3320')\"\n",
              "            title=\"Convert this dataframe to an interactive table.\"\n",
              "            style=\"display:none;\">\n",
              "\n",
              "  <svg xmlns=\"http://www.w3.org/2000/svg\" height=\"24px\" viewBox=\"0 -960 960 960\">\n",
              "    <path d=\"M120-120v-720h720v720H120Zm60-500h600v-160H180v160Zm220 220h160v-160H400v160Zm0 220h160v-160H400v160ZM180-400h160v-160H180v160Zm440 0h160v-160H620v160ZM180-180h160v-160H180v160Zm440 0h160v-160H620v160Z\"/>\n",
              "  </svg>\n",
              "    </button>\n",
              "\n",
              "  <style>\n",
              "    .colab-df-container {\n",
              "      display:flex;\n",
              "      gap: 12px;\n",
              "    }\n",
              "\n",
              "    .colab-df-convert {\n",
              "      background-color: #E8F0FE;\n",
              "      border: none;\n",
              "      border-radius: 50%;\n",
              "      cursor: pointer;\n",
              "      display: none;\n",
              "      fill: #1967D2;\n",
              "      height: 32px;\n",
              "      padding: 0 0 0 0;\n",
              "      width: 32px;\n",
              "    }\n",
              "\n",
              "    .colab-df-convert:hover {\n",
              "      background-color: #E2EBFA;\n",
              "      box-shadow: 0px 1px 2px rgba(60, 64, 67, 0.3), 0px 1px 3px 1px rgba(60, 64, 67, 0.15);\n",
              "      fill: #174EA6;\n",
              "    }\n",
              "\n",
              "    .colab-df-buttons div {\n",
              "      margin-bottom: 4px;\n",
              "    }\n",
              "\n",
              "    [theme=dark] .colab-df-convert {\n",
              "      background-color: #3B4455;\n",
              "      fill: #D2E3FC;\n",
              "    }\n",
              "\n",
              "    [theme=dark] .colab-df-convert:hover {\n",
              "      background-color: #434B5C;\n",
              "      box-shadow: 0px 1px 3px 1px rgba(0, 0, 0, 0.15);\n",
              "      filter: drop-shadow(0px 1px 2px rgba(0, 0, 0, 0.3));\n",
              "      fill: #FFFFFF;\n",
              "    }\n",
              "  </style>\n",
              "\n",
              "    <script>\n",
              "      const buttonEl =\n",
              "        document.querySelector('#df-f9754596-35f2-498a-9a33-021f85cc3320 button.colab-df-convert');\n",
              "      buttonEl.style.display =\n",
              "        google.colab.kernel.accessAllowed ? 'block' : 'none';\n",
              "\n",
              "      async function convertToInteractive(key) {\n",
              "        const element = document.querySelector('#df-f9754596-35f2-498a-9a33-021f85cc3320');\n",
              "        const dataTable =\n",
              "          await google.colab.kernel.invokeFunction('convertToInteractive',\n",
              "                                                    [key], {});\n",
              "        if (!dataTable) return;\n",
              "\n",
              "        const docLinkHtml = 'Like what you see? Visit the ' +\n",
              "          '<a target=\"_blank\" href=https://colab.research.google.com/notebooks/data_table.ipynb>data table notebook</a>'\n",
              "          + ' to learn more about interactive tables.';\n",
              "        element.innerHTML = '';\n",
              "        dataTable['output_type'] = 'display_data';\n",
              "        await google.colab.output.renderOutput(dataTable, element);\n",
              "        const docLink = document.createElement('div');\n",
              "        docLink.innerHTML = docLinkHtml;\n",
              "        element.appendChild(docLink);\n",
              "      }\n",
              "    </script>\n",
              "  </div>\n",
              "\n",
              "\n",
              "<div id=\"df-1d126706-220b-4508-bd97-a40f5a5ff606\">\n",
              "  <button class=\"colab-df-quickchart\" onclick=\"quickchart('df-1d126706-220b-4508-bd97-a40f5a5ff606')\"\n",
              "            title=\"Suggest charts.\"\n",
              "            style=\"display:none;\">\n",
              "\n",
              "<svg xmlns=\"http://www.w3.org/2000/svg\" height=\"24px\"viewBox=\"0 0 24 24\"\n",
              "     width=\"24px\">\n",
              "    <g>\n",
              "        <path d=\"M19 3H5c-1.1 0-2 .9-2 2v14c0 1.1.9 2 2 2h14c1.1 0 2-.9 2-2V5c0-1.1-.9-2-2-2zM9 17H7v-7h2v7zm4 0h-2V7h2v10zm4 0h-2v-4h2v4z\"/>\n",
              "    </g>\n",
              "</svg>\n",
              "  </button>\n",
              "\n",
              "<style>\n",
              "  .colab-df-quickchart {\n",
              "      --bg-color: #E8F0FE;\n",
              "      --fill-color: #1967D2;\n",
              "      --hover-bg-color: #E2EBFA;\n",
              "      --hover-fill-color: #174EA6;\n",
              "      --disabled-fill-color: #AAA;\n",
              "      --disabled-bg-color: #DDD;\n",
              "  }\n",
              "\n",
              "  [theme=dark] .colab-df-quickchart {\n",
              "      --bg-color: #3B4455;\n",
              "      --fill-color: #D2E3FC;\n",
              "      --hover-bg-color: #434B5C;\n",
              "      --hover-fill-color: #FFFFFF;\n",
              "      --disabled-bg-color: #3B4455;\n",
              "      --disabled-fill-color: #666;\n",
              "  }\n",
              "\n",
              "  .colab-df-quickchart {\n",
              "    background-color: var(--bg-color);\n",
              "    border: none;\n",
              "    border-radius: 50%;\n",
              "    cursor: pointer;\n",
              "    display: none;\n",
              "    fill: var(--fill-color);\n",
              "    height: 32px;\n",
              "    padding: 0;\n",
              "    width: 32px;\n",
              "  }\n",
              "\n",
              "  .colab-df-quickchart:hover {\n",
              "    background-color: var(--hover-bg-color);\n",
              "    box-shadow: 0 1px 2px rgba(60, 64, 67, 0.3), 0 1px 3px 1px rgba(60, 64, 67, 0.15);\n",
              "    fill: var(--button-hover-fill-color);\n",
              "  }\n",
              "\n",
              "  .colab-df-quickchart-complete:disabled,\n",
              "  .colab-df-quickchart-complete:disabled:hover {\n",
              "    background-color: var(--disabled-bg-color);\n",
              "    fill: var(--disabled-fill-color);\n",
              "    box-shadow: none;\n",
              "  }\n",
              "\n",
              "  .colab-df-spinner {\n",
              "    border: 2px solid var(--fill-color);\n",
              "    border-color: transparent;\n",
              "    border-bottom-color: var(--fill-color);\n",
              "    animation:\n",
              "      spin 1s steps(1) infinite;\n",
              "  }\n",
              "\n",
              "  @keyframes spin {\n",
              "    0% {\n",
              "      border-color: transparent;\n",
              "      border-bottom-color: var(--fill-color);\n",
              "      border-left-color: var(--fill-color);\n",
              "    }\n",
              "    20% {\n",
              "      border-color: transparent;\n",
              "      border-left-color: var(--fill-color);\n",
              "      border-top-color: var(--fill-color);\n",
              "    }\n",
              "    30% {\n",
              "      border-color: transparent;\n",
              "      border-left-color: var(--fill-color);\n",
              "      border-top-color: var(--fill-color);\n",
              "      border-right-color: var(--fill-color);\n",
              "    }\n",
              "    40% {\n",
              "      border-color: transparent;\n",
              "      border-right-color: var(--fill-color);\n",
              "      border-top-color: var(--fill-color);\n",
              "    }\n",
              "    60% {\n",
              "      border-color: transparent;\n",
              "      border-right-color: var(--fill-color);\n",
              "    }\n",
              "    80% {\n",
              "      border-color: transparent;\n",
              "      border-right-color: var(--fill-color);\n",
              "      border-bottom-color: var(--fill-color);\n",
              "    }\n",
              "    90% {\n",
              "      border-color: transparent;\n",
              "      border-bottom-color: var(--fill-color);\n",
              "    }\n",
              "  }\n",
              "</style>\n",
              "\n",
              "  <script>\n",
              "    async function quickchart(key) {\n",
              "      const quickchartButtonEl =\n",
              "        document.querySelector('#' + key + ' button');\n",
              "      quickchartButtonEl.disabled = true;  // To prevent multiple clicks.\n",
              "      quickchartButtonEl.classList.add('colab-df-spinner');\n",
              "      try {\n",
              "        const charts = await google.colab.kernel.invokeFunction(\n",
              "            'suggestCharts', [key], {});\n",
              "      } catch (error) {\n",
              "        console.error('Error during call to suggestCharts:', error);\n",
              "      }\n",
              "      quickchartButtonEl.classList.remove('colab-df-spinner');\n",
              "      quickchartButtonEl.classList.add('colab-df-quickchart-complete');\n",
              "    }\n",
              "    (() => {\n",
              "      let quickchartButtonEl =\n",
              "        document.querySelector('#df-1d126706-220b-4508-bd97-a40f5a5ff606 button');\n",
              "      quickchartButtonEl.style.display =\n",
              "        google.colab.kernel.accessAllowed ? 'block' : 'none';\n",
              "    })();\n",
              "  </script>\n",
              "</div>\n",
              "    </div>\n",
              "  </div>\n"
            ]
          },
          "metadata": {},
          "execution_count": 3
        }
      ],
      "source": [
        "dataset = pd.read_csv(\"/content/Friday_Interpolated.csv\")\n",
        "dataset.head(2)"
      ]
    },
    {
      "cell_type": "code",
      "execution_count": null,
      "metadata": {
        "id": "3UFagSaX0ci4"
      },
      "outputs": [],
      "source": [
        "filtered_df = dataset.filter(items=['hours test', 'kwh test'], axis=1)"
      ]
    },
    {
      "cell_type": "code",
      "execution_count": null,
      "metadata": {
        "colab": {
          "base_uri": "https://localhost:8080/",
          "height": 112
        },
        "id": "VLlr-6KV0fQi",
        "outputId": "5d4bcab2-7d98-42f7-86ce-98961ee6f016"
      },
      "outputs": [
        {
          "output_type": "execute_result",
          "data": {
            "text/plain": [
              "    hours test  kwh test\n",
              "0  12:00:00 AM  3.400000\n",
              "1  12:00:47 AM  3.347691"
            ],
            "text/html": [
              "\n",
              "  <div id=\"df-20d2e293-6540-4033-9cad-c4fa794103c9\" class=\"colab-df-container\">\n",
              "    <div>\n",
              "<style scoped>\n",
              "    .dataframe tbody tr th:only-of-type {\n",
              "        vertical-align: middle;\n",
              "    }\n",
              "\n",
              "    .dataframe tbody tr th {\n",
              "        vertical-align: top;\n",
              "    }\n",
              "\n",
              "    .dataframe thead th {\n",
              "        text-align: right;\n",
              "    }\n",
              "</style>\n",
              "<table border=\"1\" class=\"dataframe\">\n",
              "  <thead>\n",
              "    <tr style=\"text-align: right;\">\n",
              "      <th></th>\n",
              "      <th>hours test</th>\n",
              "      <th>kwh test</th>\n",
              "    </tr>\n",
              "  </thead>\n",
              "  <tbody>\n",
              "    <tr>\n",
              "      <th>0</th>\n",
              "      <td>12:00:00 AM</td>\n",
              "      <td>3.400000</td>\n",
              "    </tr>\n",
              "    <tr>\n",
              "      <th>1</th>\n",
              "      <td>12:00:47 AM</td>\n",
              "      <td>3.347691</td>\n",
              "    </tr>\n",
              "  </tbody>\n",
              "</table>\n",
              "</div>\n",
              "    <div class=\"colab-df-buttons\">\n",
              "\n",
              "  <div class=\"colab-df-container\">\n",
              "    <button class=\"colab-df-convert\" onclick=\"convertToInteractive('df-20d2e293-6540-4033-9cad-c4fa794103c9')\"\n",
              "            title=\"Convert this dataframe to an interactive table.\"\n",
              "            style=\"display:none;\">\n",
              "\n",
              "  <svg xmlns=\"http://www.w3.org/2000/svg\" height=\"24px\" viewBox=\"0 -960 960 960\">\n",
              "    <path d=\"M120-120v-720h720v720H120Zm60-500h600v-160H180v160Zm220 220h160v-160H400v160Zm0 220h160v-160H400v160ZM180-400h160v-160H180v160Zm440 0h160v-160H620v160ZM180-180h160v-160H180v160Zm440 0h160v-160H620v160Z\"/>\n",
              "  </svg>\n",
              "    </button>\n",
              "\n",
              "  <style>\n",
              "    .colab-df-container {\n",
              "      display:flex;\n",
              "      gap: 12px;\n",
              "    }\n",
              "\n",
              "    .colab-df-convert {\n",
              "      background-color: #E8F0FE;\n",
              "      border: none;\n",
              "      border-radius: 50%;\n",
              "      cursor: pointer;\n",
              "      display: none;\n",
              "      fill: #1967D2;\n",
              "      height: 32px;\n",
              "      padding: 0 0 0 0;\n",
              "      width: 32px;\n",
              "    }\n",
              "\n",
              "    .colab-df-convert:hover {\n",
              "      background-color: #E2EBFA;\n",
              "      box-shadow: 0px 1px 2px rgba(60, 64, 67, 0.3), 0px 1px 3px 1px rgba(60, 64, 67, 0.15);\n",
              "      fill: #174EA6;\n",
              "    }\n",
              "\n",
              "    .colab-df-buttons div {\n",
              "      margin-bottom: 4px;\n",
              "    }\n",
              "\n",
              "    [theme=dark] .colab-df-convert {\n",
              "      background-color: #3B4455;\n",
              "      fill: #D2E3FC;\n",
              "    }\n",
              "\n",
              "    [theme=dark] .colab-df-convert:hover {\n",
              "      background-color: #434B5C;\n",
              "      box-shadow: 0px 1px 3px 1px rgba(0, 0, 0, 0.15);\n",
              "      filter: drop-shadow(0px 1px 2px rgba(0, 0, 0, 0.3));\n",
              "      fill: #FFFFFF;\n",
              "    }\n",
              "  </style>\n",
              "\n",
              "    <script>\n",
              "      const buttonEl =\n",
              "        document.querySelector('#df-20d2e293-6540-4033-9cad-c4fa794103c9 button.colab-df-convert');\n",
              "      buttonEl.style.display =\n",
              "        google.colab.kernel.accessAllowed ? 'block' : 'none';\n",
              "\n",
              "      async function convertToInteractive(key) {\n",
              "        const element = document.querySelector('#df-20d2e293-6540-4033-9cad-c4fa794103c9');\n",
              "        const dataTable =\n",
              "          await google.colab.kernel.invokeFunction('convertToInteractive',\n",
              "                                                    [key], {});\n",
              "        if (!dataTable) return;\n",
              "\n",
              "        const docLinkHtml = 'Like what you see? Visit the ' +\n",
              "          '<a target=\"_blank\" href=https://colab.research.google.com/notebooks/data_table.ipynb>data table notebook</a>'\n",
              "          + ' to learn more about interactive tables.';\n",
              "        element.innerHTML = '';\n",
              "        dataTable['output_type'] = 'display_data';\n",
              "        await google.colab.output.renderOutput(dataTable, element);\n",
              "        const docLink = document.createElement('div');\n",
              "        docLink.innerHTML = docLinkHtml;\n",
              "        element.appendChild(docLink);\n",
              "      }\n",
              "    </script>\n",
              "  </div>\n",
              "\n",
              "\n",
              "<div id=\"df-0b96de03-6469-4903-8555-d3921c3078f7\">\n",
              "  <button class=\"colab-df-quickchart\" onclick=\"quickchart('df-0b96de03-6469-4903-8555-d3921c3078f7')\"\n",
              "            title=\"Suggest charts.\"\n",
              "            style=\"display:none;\">\n",
              "\n",
              "<svg xmlns=\"http://www.w3.org/2000/svg\" height=\"24px\"viewBox=\"0 0 24 24\"\n",
              "     width=\"24px\">\n",
              "    <g>\n",
              "        <path d=\"M19 3H5c-1.1 0-2 .9-2 2v14c0 1.1.9 2 2 2h14c1.1 0 2-.9 2-2V5c0-1.1-.9-2-2-2zM9 17H7v-7h2v7zm4 0h-2V7h2v10zm4 0h-2v-4h2v4z\"/>\n",
              "    </g>\n",
              "</svg>\n",
              "  </button>\n",
              "\n",
              "<style>\n",
              "  .colab-df-quickchart {\n",
              "      --bg-color: #E8F0FE;\n",
              "      --fill-color: #1967D2;\n",
              "      --hover-bg-color: #E2EBFA;\n",
              "      --hover-fill-color: #174EA6;\n",
              "      --disabled-fill-color: #AAA;\n",
              "      --disabled-bg-color: #DDD;\n",
              "  }\n",
              "\n",
              "  [theme=dark] .colab-df-quickchart {\n",
              "      --bg-color: #3B4455;\n",
              "      --fill-color: #D2E3FC;\n",
              "      --hover-bg-color: #434B5C;\n",
              "      --hover-fill-color: #FFFFFF;\n",
              "      --disabled-bg-color: #3B4455;\n",
              "      --disabled-fill-color: #666;\n",
              "  }\n",
              "\n",
              "  .colab-df-quickchart {\n",
              "    background-color: var(--bg-color);\n",
              "    border: none;\n",
              "    border-radius: 50%;\n",
              "    cursor: pointer;\n",
              "    display: none;\n",
              "    fill: var(--fill-color);\n",
              "    height: 32px;\n",
              "    padding: 0;\n",
              "    width: 32px;\n",
              "  }\n",
              "\n",
              "  .colab-df-quickchart:hover {\n",
              "    background-color: var(--hover-bg-color);\n",
              "    box-shadow: 0 1px 2px rgba(60, 64, 67, 0.3), 0 1px 3px 1px rgba(60, 64, 67, 0.15);\n",
              "    fill: var(--button-hover-fill-color);\n",
              "  }\n",
              "\n",
              "  .colab-df-quickchart-complete:disabled,\n",
              "  .colab-df-quickchart-complete:disabled:hover {\n",
              "    background-color: var(--disabled-bg-color);\n",
              "    fill: var(--disabled-fill-color);\n",
              "    box-shadow: none;\n",
              "  }\n",
              "\n",
              "  .colab-df-spinner {\n",
              "    border: 2px solid var(--fill-color);\n",
              "    border-color: transparent;\n",
              "    border-bottom-color: var(--fill-color);\n",
              "    animation:\n",
              "      spin 1s steps(1) infinite;\n",
              "  }\n",
              "\n",
              "  @keyframes spin {\n",
              "    0% {\n",
              "      border-color: transparent;\n",
              "      border-bottom-color: var(--fill-color);\n",
              "      border-left-color: var(--fill-color);\n",
              "    }\n",
              "    20% {\n",
              "      border-color: transparent;\n",
              "      border-left-color: var(--fill-color);\n",
              "      border-top-color: var(--fill-color);\n",
              "    }\n",
              "    30% {\n",
              "      border-color: transparent;\n",
              "      border-left-color: var(--fill-color);\n",
              "      border-top-color: var(--fill-color);\n",
              "      border-right-color: var(--fill-color);\n",
              "    }\n",
              "    40% {\n",
              "      border-color: transparent;\n",
              "      border-right-color: var(--fill-color);\n",
              "      border-top-color: var(--fill-color);\n",
              "    }\n",
              "    60% {\n",
              "      border-color: transparent;\n",
              "      border-right-color: var(--fill-color);\n",
              "    }\n",
              "    80% {\n",
              "      border-color: transparent;\n",
              "      border-right-color: var(--fill-color);\n",
              "      border-bottom-color: var(--fill-color);\n",
              "    }\n",
              "    90% {\n",
              "      border-color: transparent;\n",
              "      border-bottom-color: var(--fill-color);\n",
              "    }\n",
              "  }\n",
              "</style>\n",
              "\n",
              "  <script>\n",
              "    async function quickchart(key) {\n",
              "      const quickchartButtonEl =\n",
              "        document.querySelector('#' + key + ' button');\n",
              "      quickchartButtonEl.disabled = true;  // To prevent multiple clicks.\n",
              "      quickchartButtonEl.classList.add('colab-df-spinner');\n",
              "      try {\n",
              "        const charts = await google.colab.kernel.invokeFunction(\n",
              "            'suggestCharts', [key], {});\n",
              "      } catch (error) {\n",
              "        console.error('Error during call to suggestCharts:', error);\n",
              "      }\n",
              "      quickchartButtonEl.classList.remove('colab-df-spinner');\n",
              "      quickchartButtonEl.classList.add('colab-df-quickchart-complete');\n",
              "    }\n",
              "    (() => {\n",
              "      let quickchartButtonEl =\n",
              "        document.querySelector('#df-0b96de03-6469-4903-8555-d3921c3078f7 button');\n",
              "      quickchartButtonEl.style.display =\n",
              "        google.colab.kernel.accessAllowed ? 'block' : 'none';\n",
              "    })();\n",
              "  </script>\n",
              "</div>\n",
              "    </div>\n",
              "  </div>\n"
            ]
          },
          "metadata": {},
          "execution_count": 5
        }
      ],
      "source": [
        "filtered_df.head(2)"
      ]
    },
    {
      "cell_type": "code",
      "execution_count": null,
      "metadata": {
        "colab": {
          "base_uri": "https://localhost:8080/"
        },
        "id": "JZAVfKYx0grp",
        "outputId": "7d4f7f07-43f3-4379-b15b-2d59975292b7"
      },
      "outputs": [
        {
          "output_type": "execute_result",
          "data": {
            "text/plain": [
              "hours test    0\n",
              "kwh test      0\n",
              "dtype: int64"
            ]
          },
          "metadata": {},
          "execution_count": 6
        }
      ],
      "source": [
        "filtered_df.isnull().sum()"
      ]
    },
    {
      "cell_type": "code",
      "execution_count": null,
      "metadata": {
        "colab": {
          "base_uri": "https://localhost:8080/"
        },
        "id": "gOUTt8WK0h_E",
        "outputId": "b387fbcd-73c4-4fe0-e548-36f3f5efb0c8"
      },
      "outputs": [
        {
          "output_type": "execute_result",
          "data": {
            "text/plain": [
              "hours test     object\n",
              "kwh test      float64\n",
              "dtype: object"
            ]
          },
          "metadata": {},
          "execution_count": 7
        }
      ],
      "source": [
        "filtered_df.dtypes"
      ]
    },
    {
      "cell_type": "code",
      "execution_count": null,
      "metadata": {
        "colab": {
          "base_uri": "https://localhost:8080/"
        },
        "id": "OXBAAeoc0j8W",
        "outputId": "95e3449d-e9a7-450e-a2df-6d7f8595c685"
      },
      "outputs": [
        {
          "output_type": "execute_result",
          "data": {
            "text/plain": [
              "hours test    2854\n",
              "kwh test      2854\n",
              "dtype: int64"
            ]
          },
          "metadata": {},
          "execution_count": 8
        }
      ],
      "source": [
        "filtered_df.count()"
      ]
    },
    {
      "cell_type": "code",
      "execution_count": null,
      "metadata": {
        "id": "fcGIOqeg0lub",
        "colab": {
          "base_uri": "https://localhost:8080/",
          "height": 112
        },
        "outputId": "c8837acd-df80-4d2f-dc63-733e1e87a25f"
      },
      "outputs": [
        {
          "output_type": "execute_result",
          "data": {
            "text/plain": [
              "   CONNECT TIME hours test  kWhDelivered  userInputs/0/kWhRequested  kwh test\n",
              "0  4/25/23 0:00      00:00         2.200                      12.00  3.400000\n",
              "1  4/25/23 0:00      00:00        15.575                      34.64  3.347691"
            ],
            "text/html": [
              "\n",
              "  <div id=\"df-6e929315-e159-4ef2-b1ee-91d91983944f\" class=\"colab-df-container\">\n",
              "    <div>\n",
              "<style scoped>\n",
              "    .dataframe tbody tr th:only-of-type {\n",
              "        vertical-align: middle;\n",
              "    }\n",
              "\n",
              "    .dataframe tbody tr th {\n",
              "        vertical-align: top;\n",
              "    }\n",
              "\n",
              "    .dataframe thead th {\n",
              "        text-align: right;\n",
              "    }\n",
              "</style>\n",
              "<table border=\"1\" class=\"dataframe\">\n",
              "  <thead>\n",
              "    <tr style=\"text-align: right;\">\n",
              "      <th></th>\n",
              "      <th>CONNECT TIME</th>\n",
              "      <th>hours test</th>\n",
              "      <th>kWhDelivered</th>\n",
              "      <th>userInputs/0/kWhRequested</th>\n",
              "      <th>kwh test</th>\n",
              "    </tr>\n",
              "  </thead>\n",
              "  <tbody>\n",
              "    <tr>\n",
              "      <th>0</th>\n",
              "      <td>4/25/23 0:00</td>\n",
              "      <td>00:00</td>\n",
              "      <td>2.200</td>\n",
              "      <td>12.00</td>\n",
              "      <td>3.400000</td>\n",
              "    </tr>\n",
              "    <tr>\n",
              "      <th>1</th>\n",
              "      <td>4/25/23 0:00</td>\n",
              "      <td>00:00</td>\n",
              "      <td>15.575</td>\n",
              "      <td>34.64</td>\n",
              "      <td>3.347691</td>\n",
              "    </tr>\n",
              "  </tbody>\n",
              "</table>\n",
              "</div>\n",
              "    <div class=\"colab-df-buttons\">\n",
              "\n",
              "  <div class=\"colab-df-container\">\n",
              "    <button class=\"colab-df-convert\" onclick=\"convertToInteractive('df-6e929315-e159-4ef2-b1ee-91d91983944f')\"\n",
              "            title=\"Convert this dataframe to an interactive table.\"\n",
              "            style=\"display:none;\">\n",
              "\n",
              "  <svg xmlns=\"http://www.w3.org/2000/svg\" height=\"24px\" viewBox=\"0 -960 960 960\">\n",
              "    <path d=\"M120-120v-720h720v720H120Zm60-500h600v-160H180v160Zm220 220h160v-160H400v160Zm0 220h160v-160H400v160ZM180-400h160v-160H180v160Zm440 0h160v-160H620v160ZM180-180h160v-160H180v160Zm440 0h160v-160H620v160Z\"/>\n",
              "  </svg>\n",
              "    </button>\n",
              "\n",
              "  <style>\n",
              "    .colab-df-container {\n",
              "      display:flex;\n",
              "      gap: 12px;\n",
              "    }\n",
              "\n",
              "    .colab-df-convert {\n",
              "      background-color: #E8F0FE;\n",
              "      border: none;\n",
              "      border-radius: 50%;\n",
              "      cursor: pointer;\n",
              "      display: none;\n",
              "      fill: #1967D2;\n",
              "      height: 32px;\n",
              "      padding: 0 0 0 0;\n",
              "      width: 32px;\n",
              "    }\n",
              "\n",
              "    .colab-df-convert:hover {\n",
              "      background-color: #E2EBFA;\n",
              "      box-shadow: 0px 1px 2px rgba(60, 64, 67, 0.3), 0px 1px 3px 1px rgba(60, 64, 67, 0.15);\n",
              "      fill: #174EA6;\n",
              "    }\n",
              "\n",
              "    .colab-df-buttons div {\n",
              "      margin-bottom: 4px;\n",
              "    }\n",
              "\n",
              "    [theme=dark] .colab-df-convert {\n",
              "      background-color: #3B4455;\n",
              "      fill: #D2E3FC;\n",
              "    }\n",
              "\n",
              "    [theme=dark] .colab-df-convert:hover {\n",
              "      background-color: #434B5C;\n",
              "      box-shadow: 0px 1px 3px 1px rgba(0, 0, 0, 0.15);\n",
              "      filter: drop-shadow(0px 1px 2px rgba(0, 0, 0, 0.3));\n",
              "      fill: #FFFFFF;\n",
              "    }\n",
              "  </style>\n",
              "\n",
              "    <script>\n",
              "      const buttonEl =\n",
              "        document.querySelector('#df-6e929315-e159-4ef2-b1ee-91d91983944f button.colab-df-convert');\n",
              "      buttonEl.style.display =\n",
              "        google.colab.kernel.accessAllowed ? 'block' : 'none';\n",
              "\n",
              "      async function convertToInteractive(key) {\n",
              "        const element = document.querySelector('#df-6e929315-e159-4ef2-b1ee-91d91983944f');\n",
              "        const dataTable =\n",
              "          await google.colab.kernel.invokeFunction('convertToInteractive',\n",
              "                                                    [key], {});\n",
              "        if (!dataTable) return;\n",
              "\n",
              "        const docLinkHtml = 'Like what you see? Visit the ' +\n",
              "          '<a target=\"_blank\" href=https://colab.research.google.com/notebooks/data_table.ipynb>data table notebook</a>'\n",
              "          + ' to learn more about interactive tables.';\n",
              "        element.innerHTML = '';\n",
              "        dataTable['output_type'] = 'display_data';\n",
              "        await google.colab.output.renderOutput(dataTable, element);\n",
              "        const docLink = document.createElement('div');\n",
              "        docLink.innerHTML = docLinkHtml;\n",
              "        element.appendChild(docLink);\n",
              "      }\n",
              "    </script>\n",
              "  </div>\n",
              "\n",
              "\n",
              "<div id=\"df-1d40c71e-a285-4bbe-9890-311f4a2d964c\">\n",
              "  <button class=\"colab-df-quickchart\" onclick=\"quickchart('df-1d40c71e-a285-4bbe-9890-311f4a2d964c')\"\n",
              "            title=\"Suggest charts.\"\n",
              "            style=\"display:none;\">\n",
              "\n",
              "<svg xmlns=\"http://www.w3.org/2000/svg\" height=\"24px\"viewBox=\"0 0 24 24\"\n",
              "     width=\"24px\">\n",
              "    <g>\n",
              "        <path d=\"M19 3H5c-1.1 0-2 .9-2 2v14c0 1.1.9 2 2 2h14c1.1 0 2-.9 2-2V5c0-1.1-.9-2-2-2zM9 17H7v-7h2v7zm4 0h-2V7h2v10zm4 0h-2v-4h2v4z\"/>\n",
              "    </g>\n",
              "</svg>\n",
              "  </button>\n",
              "\n",
              "<style>\n",
              "  .colab-df-quickchart {\n",
              "      --bg-color: #E8F0FE;\n",
              "      --fill-color: #1967D2;\n",
              "      --hover-bg-color: #E2EBFA;\n",
              "      --hover-fill-color: #174EA6;\n",
              "      --disabled-fill-color: #AAA;\n",
              "      --disabled-bg-color: #DDD;\n",
              "  }\n",
              "\n",
              "  [theme=dark] .colab-df-quickchart {\n",
              "      --bg-color: #3B4455;\n",
              "      --fill-color: #D2E3FC;\n",
              "      --hover-bg-color: #434B5C;\n",
              "      --hover-fill-color: #FFFFFF;\n",
              "      --disabled-bg-color: #3B4455;\n",
              "      --disabled-fill-color: #666;\n",
              "  }\n",
              "\n",
              "  .colab-df-quickchart {\n",
              "    background-color: var(--bg-color);\n",
              "    border: none;\n",
              "    border-radius: 50%;\n",
              "    cursor: pointer;\n",
              "    display: none;\n",
              "    fill: var(--fill-color);\n",
              "    height: 32px;\n",
              "    padding: 0;\n",
              "    width: 32px;\n",
              "  }\n",
              "\n",
              "  .colab-df-quickchart:hover {\n",
              "    background-color: var(--hover-bg-color);\n",
              "    box-shadow: 0 1px 2px rgba(60, 64, 67, 0.3), 0 1px 3px 1px rgba(60, 64, 67, 0.15);\n",
              "    fill: var(--button-hover-fill-color);\n",
              "  }\n",
              "\n",
              "  .colab-df-quickchart-complete:disabled,\n",
              "  .colab-df-quickchart-complete:disabled:hover {\n",
              "    background-color: var(--disabled-bg-color);\n",
              "    fill: var(--disabled-fill-color);\n",
              "    box-shadow: none;\n",
              "  }\n",
              "\n",
              "  .colab-df-spinner {\n",
              "    border: 2px solid var(--fill-color);\n",
              "    border-color: transparent;\n",
              "    border-bottom-color: var(--fill-color);\n",
              "    animation:\n",
              "      spin 1s steps(1) infinite;\n",
              "  }\n",
              "\n",
              "  @keyframes spin {\n",
              "    0% {\n",
              "      border-color: transparent;\n",
              "      border-bottom-color: var(--fill-color);\n",
              "      border-left-color: var(--fill-color);\n",
              "    }\n",
              "    20% {\n",
              "      border-color: transparent;\n",
              "      border-left-color: var(--fill-color);\n",
              "      border-top-color: var(--fill-color);\n",
              "    }\n",
              "    30% {\n",
              "      border-color: transparent;\n",
              "      border-left-color: var(--fill-color);\n",
              "      border-top-color: var(--fill-color);\n",
              "      border-right-color: var(--fill-color);\n",
              "    }\n",
              "    40% {\n",
              "      border-color: transparent;\n",
              "      border-right-color: var(--fill-color);\n",
              "      border-top-color: var(--fill-color);\n",
              "    }\n",
              "    60% {\n",
              "      border-color: transparent;\n",
              "      border-right-color: var(--fill-color);\n",
              "    }\n",
              "    80% {\n",
              "      border-color: transparent;\n",
              "      border-right-color: var(--fill-color);\n",
              "      border-bottom-color: var(--fill-color);\n",
              "    }\n",
              "    90% {\n",
              "      border-color: transparent;\n",
              "      border-bottom-color: var(--fill-color);\n",
              "    }\n",
              "  }\n",
              "</style>\n",
              "\n",
              "  <script>\n",
              "    async function quickchart(key) {\n",
              "      const quickchartButtonEl =\n",
              "        document.querySelector('#' + key + ' button');\n",
              "      quickchartButtonEl.disabled = true;  // To prevent multiple clicks.\n",
              "      quickchartButtonEl.classList.add('colab-df-spinner');\n",
              "      try {\n",
              "        const charts = await google.colab.kernel.invokeFunction(\n",
              "            'suggestCharts', [key], {});\n",
              "      } catch (error) {\n",
              "        console.error('Error during call to suggestCharts:', error);\n",
              "      }\n",
              "      quickchartButtonEl.classList.remove('colab-df-spinner');\n",
              "      quickchartButtonEl.classList.add('colab-df-quickchart-complete');\n",
              "    }\n",
              "    (() => {\n",
              "      let quickchartButtonEl =\n",
              "        document.querySelector('#df-1d40c71e-a285-4bbe-9890-311f4a2d964c button');\n",
              "      quickchartButtonEl.style.display =\n",
              "        google.colab.kernel.accessAllowed ? 'block' : 'none';\n",
              "    })();\n",
              "  </script>\n",
              "</div>\n",
              "    </div>\n",
              "  </div>\n"
            ]
          },
          "metadata": {},
          "execution_count": 9
        }
      ],
      "source": [
        "dataset['hours test'] = dataset['hours test'].apply(lambda x: pd.to_datetime(x).strftime('%H:%M'))\n",
        "dataset.head(2)"
      ]
    },
    {
      "cell_type": "markdown",
      "source": [
        "Grouping - Optional"
      ],
      "metadata": {
        "id": "kLR4yPLsGeid"
      }
    },
    {
      "cell_type": "code",
      "source": [
        "sf_df = dataset.groupby('hours test', as_index=False)['kwh test'].sum()\n",
        "sf_df.head(2)"
      ],
      "metadata": {
        "colab": {
          "base_uri": "https://localhost:8080/",
          "height": 112
        },
        "id": "vdTRllhmGb4Y",
        "outputId": "2aec8263-2cde-4416-da06-18dad01a5ad7"
      },
      "execution_count": null,
      "outputs": [
        {
          "output_type": "execute_result",
          "data": {
            "text/plain": [
              "  hours test  kwh test\n",
              "0      00:00  6.747691\n",
              "1      00:01  3.297608"
            ],
            "text/html": [
              "\n",
              "  <div id=\"df-d8a7f9fb-3fe8-42c3-ae5e-a6a350cf5d4c\" class=\"colab-df-container\">\n",
              "    <div>\n",
              "<style scoped>\n",
              "    .dataframe tbody tr th:only-of-type {\n",
              "        vertical-align: middle;\n",
              "    }\n",
              "\n",
              "    .dataframe tbody tr th {\n",
              "        vertical-align: top;\n",
              "    }\n",
              "\n",
              "    .dataframe thead th {\n",
              "        text-align: right;\n",
              "    }\n",
              "</style>\n",
              "<table border=\"1\" class=\"dataframe\">\n",
              "  <thead>\n",
              "    <tr style=\"text-align: right;\">\n",
              "      <th></th>\n",
              "      <th>hours test</th>\n",
              "      <th>kwh test</th>\n",
              "    </tr>\n",
              "  </thead>\n",
              "  <tbody>\n",
              "    <tr>\n",
              "      <th>0</th>\n",
              "      <td>00:00</td>\n",
              "      <td>6.747691</td>\n",
              "    </tr>\n",
              "    <tr>\n",
              "      <th>1</th>\n",
              "      <td>00:01</td>\n",
              "      <td>3.297608</td>\n",
              "    </tr>\n",
              "  </tbody>\n",
              "</table>\n",
              "</div>\n",
              "    <div class=\"colab-df-buttons\">\n",
              "\n",
              "  <div class=\"colab-df-container\">\n",
              "    <button class=\"colab-df-convert\" onclick=\"convertToInteractive('df-d8a7f9fb-3fe8-42c3-ae5e-a6a350cf5d4c')\"\n",
              "            title=\"Convert this dataframe to an interactive table.\"\n",
              "            style=\"display:none;\">\n",
              "\n",
              "  <svg xmlns=\"http://www.w3.org/2000/svg\" height=\"24px\" viewBox=\"0 -960 960 960\">\n",
              "    <path d=\"M120-120v-720h720v720H120Zm60-500h600v-160H180v160Zm220 220h160v-160H400v160Zm0 220h160v-160H400v160ZM180-400h160v-160H180v160Zm440 0h160v-160H620v160ZM180-180h160v-160H180v160Zm440 0h160v-160H620v160Z\"/>\n",
              "  </svg>\n",
              "    </button>\n",
              "\n",
              "  <style>\n",
              "    .colab-df-container {\n",
              "      display:flex;\n",
              "      gap: 12px;\n",
              "    }\n",
              "\n",
              "    .colab-df-convert {\n",
              "      background-color: #E8F0FE;\n",
              "      border: none;\n",
              "      border-radius: 50%;\n",
              "      cursor: pointer;\n",
              "      display: none;\n",
              "      fill: #1967D2;\n",
              "      height: 32px;\n",
              "      padding: 0 0 0 0;\n",
              "      width: 32px;\n",
              "    }\n",
              "\n",
              "    .colab-df-convert:hover {\n",
              "      background-color: #E2EBFA;\n",
              "      box-shadow: 0px 1px 2px rgba(60, 64, 67, 0.3), 0px 1px 3px 1px rgba(60, 64, 67, 0.15);\n",
              "      fill: #174EA6;\n",
              "    }\n",
              "\n",
              "    .colab-df-buttons div {\n",
              "      margin-bottom: 4px;\n",
              "    }\n",
              "\n",
              "    [theme=dark] .colab-df-convert {\n",
              "      background-color: #3B4455;\n",
              "      fill: #D2E3FC;\n",
              "    }\n",
              "\n",
              "    [theme=dark] .colab-df-convert:hover {\n",
              "      background-color: #434B5C;\n",
              "      box-shadow: 0px 1px 3px 1px rgba(0, 0, 0, 0.15);\n",
              "      filter: drop-shadow(0px 1px 2px rgba(0, 0, 0, 0.3));\n",
              "      fill: #FFFFFF;\n",
              "    }\n",
              "  </style>\n",
              "\n",
              "    <script>\n",
              "      const buttonEl =\n",
              "        document.querySelector('#df-d8a7f9fb-3fe8-42c3-ae5e-a6a350cf5d4c button.colab-df-convert');\n",
              "      buttonEl.style.display =\n",
              "        google.colab.kernel.accessAllowed ? 'block' : 'none';\n",
              "\n",
              "      async function convertToInteractive(key) {\n",
              "        const element = document.querySelector('#df-d8a7f9fb-3fe8-42c3-ae5e-a6a350cf5d4c');\n",
              "        const dataTable =\n",
              "          await google.colab.kernel.invokeFunction('convertToInteractive',\n",
              "                                                    [key], {});\n",
              "        if (!dataTable) return;\n",
              "\n",
              "        const docLinkHtml = 'Like what you see? Visit the ' +\n",
              "          '<a target=\"_blank\" href=https://colab.research.google.com/notebooks/data_table.ipynb>data table notebook</a>'\n",
              "          + ' to learn more about interactive tables.';\n",
              "        element.innerHTML = '';\n",
              "        dataTable['output_type'] = 'display_data';\n",
              "        await google.colab.output.renderOutput(dataTable, element);\n",
              "        const docLink = document.createElement('div');\n",
              "        docLink.innerHTML = docLinkHtml;\n",
              "        element.appendChild(docLink);\n",
              "      }\n",
              "    </script>\n",
              "  </div>\n",
              "\n",
              "\n",
              "<div id=\"df-e1386a03-04b8-41d1-8ea0-ef5333f7207d\">\n",
              "  <button class=\"colab-df-quickchart\" onclick=\"quickchart('df-e1386a03-04b8-41d1-8ea0-ef5333f7207d')\"\n",
              "            title=\"Suggest charts.\"\n",
              "            style=\"display:none;\">\n",
              "\n",
              "<svg xmlns=\"http://www.w3.org/2000/svg\" height=\"24px\"viewBox=\"0 0 24 24\"\n",
              "     width=\"24px\">\n",
              "    <g>\n",
              "        <path d=\"M19 3H5c-1.1 0-2 .9-2 2v14c0 1.1.9 2 2 2h14c1.1 0 2-.9 2-2V5c0-1.1-.9-2-2-2zM9 17H7v-7h2v7zm4 0h-2V7h2v10zm4 0h-2v-4h2v4z\"/>\n",
              "    </g>\n",
              "</svg>\n",
              "  </button>\n",
              "\n",
              "<style>\n",
              "  .colab-df-quickchart {\n",
              "      --bg-color: #E8F0FE;\n",
              "      --fill-color: #1967D2;\n",
              "      --hover-bg-color: #E2EBFA;\n",
              "      --hover-fill-color: #174EA6;\n",
              "      --disabled-fill-color: #AAA;\n",
              "      --disabled-bg-color: #DDD;\n",
              "  }\n",
              "\n",
              "  [theme=dark] .colab-df-quickchart {\n",
              "      --bg-color: #3B4455;\n",
              "      --fill-color: #D2E3FC;\n",
              "      --hover-bg-color: #434B5C;\n",
              "      --hover-fill-color: #FFFFFF;\n",
              "      --disabled-bg-color: #3B4455;\n",
              "      --disabled-fill-color: #666;\n",
              "  }\n",
              "\n",
              "  .colab-df-quickchart {\n",
              "    background-color: var(--bg-color);\n",
              "    border: none;\n",
              "    border-radius: 50%;\n",
              "    cursor: pointer;\n",
              "    display: none;\n",
              "    fill: var(--fill-color);\n",
              "    height: 32px;\n",
              "    padding: 0;\n",
              "    width: 32px;\n",
              "  }\n",
              "\n",
              "  .colab-df-quickchart:hover {\n",
              "    background-color: var(--hover-bg-color);\n",
              "    box-shadow: 0 1px 2px rgba(60, 64, 67, 0.3), 0 1px 3px 1px rgba(60, 64, 67, 0.15);\n",
              "    fill: var(--button-hover-fill-color);\n",
              "  }\n",
              "\n",
              "  .colab-df-quickchart-complete:disabled,\n",
              "  .colab-df-quickchart-complete:disabled:hover {\n",
              "    background-color: var(--disabled-bg-color);\n",
              "    fill: var(--disabled-fill-color);\n",
              "    box-shadow: none;\n",
              "  }\n",
              "\n",
              "  .colab-df-spinner {\n",
              "    border: 2px solid var(--fill-color);\n",
              "    border-color: transparent;\n",
              "    border-bottom-color: var(--fill-color);\n",
              "    animation:\n",
              "      spin 1s steps(1) infinite;\n",
              "  }\n",
              "\n",
              "  @keyframes spin {\n",
              "    0% {\n",
              "      border-color: transparent;\n",
              "      border-bottom-color: var(--fill-color);\n",
              "      border-left-color: var(--fill-color);\n",
              "    }\n",
              "    20% {\n",
              "      border-color: transparent;\n",
              "      border-left-color: var(--fill-color);\n",
              "      border-top-color: var(--fill-color);\n",
              "    }\n",
              "    30% {\n",
              "      border-color: transparent;\n",
              "      border-left-color: var(--fill-color);\n",
              "      border-top-color: var(--fill-color);\n",
              "      border-right-color: var(--fill-color);\n",
              "    }\n",
              "    40% {\n",
              "      border-color: transparent;\n",
              "      border-right-color: var(--fill-color);\n",
              "      border-top-color: var(--fill-color);\n",
              "    }\n",
              "    60% {\n",
              "      border-color: transparent;\n",
              "      border-right-color: var(--fill-color);\n",
              "    }\n",
              "    80% {\n",
              "      border-color: transparent;\n",
              "      border-right-color: var(--fill-color);\n",
              "      border-bottom-color: var(--fill-color);\n",
              "    }\n",
              "    90% {\n",
              "      border-color: transparent;\n",
              "      border-bottom-color: var(--fill-color);\n",
              "    }\n",
              "  }\n",
              "</style>\n",
              "\n",
              "  <script>\n",
              "    async function quickchart(key) {\n",
              "      const quickchartButtonEl =\n",
              "        document.querySelector('#' + key + ' button');\n",
              "      quickchartButtonEl.disabled = true;  // To prevent multiple clicks.\n",
              "      quickchartButtonEl.classList.add('colab-df-spinner');\n",
              "      try {\n",
              "        const charts = await google.colab.kernel.invokeFunction(\n",
              "            'suggestCharts', [key], {});\n",
              "      } catch (error) {\n",
              "        console.error('Error during call to suggestCharts:', error);\n",
              "      }\n",
              "      quickchartButtonEl.classList.remove('colab-df-spinner');\n",
              "      quickchartButtonEl.classList.add('colab-df-quickchart-complete');\n",
              "    }\n",
              "    (() => {\n",
              "      let quickchartButtonEl =\n",
              "        document.querySelector('#df-e1386a03-04b8-41d1-8ea0-ef5333f7207d button');\n",
              "      quickchartButtonEl.style.display =\n",
              "        google.colab.kernel.accessAllowed ? 'block' : 'none';\n",
              "    })();\n",
              "  </script>\n",
              "</div>\n",
              "    </div>\n",
              "  </div>\n"
            ]
          },
          "metadata": {},
          "execution_count": 10
        }
      ]
    },
    {
      "cell_type": "code",
      "execution_count": null,
      "metadata": {
        "id": "SBD-owoP047u"
      },
      "outputs": [],
      "source": [
        "sf_df = dataset[['hours test', 'kwh test']]"
      ]
    },
    {
      "cell_type": "code",
      "execution_count": null,
      "metadata": {
        "colab": {
          "base_uri": "https://localhost:8080/"
        },
        "id": "1pGWpv8k070j",
        "outputId": "8814f540-2df6-4fa1-ffd5-a057a1b52de1"
      },
      "outputs": [
        {
          "output_type": "execute_result",
          "data": {
            "text/plain": [
              "(2854, 2)"
            ]
          },
          "metadata": {},
          "execution_count": 12
        }
      ],
      "source": [
        "sf_df.shape"
      ]
    },
    {
      "cell_type": "code",
      "execution_count": null,
      "metadata": {
        "id": "1uVKkKXw2GxQ"
      },
      "outputs": [],
      "source": [
        "hours = dataset['hours test'].to_numpy()\n",
        "kwh = dataset['kwh test'].to_numpy()"
      ]
    },
    {
      "cell_type": "code",
      "execution_count": null,
      "metadata": {
        "colab": {
          "base_uri": "https://localhost:8080/"
        },
        "id": "unD03OhO0-x0",
        "outputId": "e0308185-43fe-42f3-c78c-296e3f0e58a5"
      },
      "outputs": [
        {
          "output_type": "execute_result",
          "data": {
            "text/plain": [
              "(2283, 571, 2283, 571)"
            ]
          },
          "metadata": {},
          "execution_count": 14
        }
      ],
      "source": [
        "from sklearn.model_selection import train_test_split\n",
        "#X_train, X_test, y_train, y_test = train_test_split(Timesteps, Aqi, test_size = 0.08)\n",
        "\n",
        "#split_size = int(0.8*len(Aqi))\n",
        "\n",
        "#X_train,y_train = Timesteps[:split_size],Aqi[:split_size]\n",
        "#X_test,y_test = Timesteps[split_size:],Aqi[split_size:]\n",
        "\n",
        "split_size = int(0.8*len(kwh))\n",
        "\n",
        "x_train,y_train = hours[:split_size],kwh[:split_size]\n",
        "x_test,y_test = hours[split_size:],kwh[split_size:]\n",
        "\n",
        "len(x_train), len(x_test), len(y_train), len(y_test)"
      ]
    },
    {
      "cell_type": "code",
      "execution_count": null,
      "metadata": {
        "colab": {
          "base_uri": "https://localhost:8080/",
          "height": 542
        },
        "id": "VtYQS91R1AUb",
        "outputId": "2e2bb8c9-f0a6-4ad1-b328-326cae017bdf"
      },
      "outputs": [
        {
          "output_type": "display_data",
          "data": {
            "text/html": [
              "<html>\n",
              "<head><meta charset=\"utf-8\" /></head>\n",
              "<body>\n",
              "    <div>            <script src=\"https://cdnjs.cloudflare.com/ajax/libs/mathjax/2.7.5/MathJax.js?config=TeX-AMS-MML_SVG\"></script><script type=\"text/javascript\">if (window.MathJax && window.MathJax.Hub && window.MathJax.Hub.Config) {window.MathJax.Hub.Config({SVG: {font: \"STIX-Web\"}});}</script>                <script type=\"text/javascript\">window.PlotlyConfig = {MathJaxConfig: 'local'};</script>\n",
              "        <script charset=\"utf-8\" src=\"https://cdn.plot.ly/plotly-2.24.1.min.js\"></script>                <div id=\"6921d723-f116-4267-8d49-8943e7769d80\" class=\"plotly-graph-div\" style=\"height:525px; width:100%;\"></div>            <script type=\"text/javascript\">                                    window.PLOTLYENV=window.PLOTLYENV || {};                                    if (document.getElementById(\"6921d723-f116-4267-8d49-8943e7769d80\")) {                    Plotly.newPlot(                        \"6921d723-f116-4267-8d49-8943e7769d80\",                        [{\"mode\":\"lines\",\"name\":\"Actual Train\",\"x\":[\"00:00\",\"00:00\",\"00:01\",\"00:03\",\"00:03\",\"00:06\",\"00:07\",\"00:08\",\"00:09\",\"00:09\",\"00:09\",\"00:10\",\"00:11\",\"00:16\",\"00:16\",\"00:21\",\"00:25\",\"00:25\",\"00:25\",\"00:25\",\"00:28\",\"00:28\",\"00:29\",\"00:30\",\"00:31\",\"00:32\",\"00:33\",\"00:34\",\"00:35\",\"00:35\",\"00:37\",\"00:38\",\"00:39\",\"00:39\",\"00:40\",\"00:40\",\"00:42\",\"00:42\",\"00:43\",\"00:43\",\"00:44\",\"00:44\",\"00:46\",\"00:46\",\"00:46\",\"00:47\",\"00:47\",\"00:47\",\"00:48\",\"00:48\",\"00:48\",\"00:48\",\"00:49\",\"00:51\",\"00:51\",\"00:51\",\"00:51\",\"00:52\",\"00:52\",\"00:52\",\"00:54\",\"00:54\",\"00:54\",\"00:54\",\"00:54\",\"00:55\",\"00:56\",\"00:56\",\"00:56\",\"00:56\",\"00:57\",\"00:57\",\"00:59\",\"00:59\",\"01:00\",\"01:00\",\"01:00\",\"01:02\",\"01:02\",\"01:02\",\"01:03\",\"01:03\",\"01:04\",\"01:05\",\"01:05\",\"01:07\",\"01:08\",\"01:10\",\"01:10\",\"01:11\",\"01:12\",\"01:12\",\"01:12\",\"01:13\",\"01:14\",\"01:14\",\"01:14\",\"01:17\",\"01:18\",\"01:18\",\"01:18\",\"01:18\",\"01:19\",\"01:20\",\"01:20\",\"01:20\",\"01:22\",\"01:22\",\"01:23\",\"01:23\",\"01:23\",\"01:23\",\"01:26\",\"01:27\",\"01:27\",\"01:28\",\"01:28\",\"01:28\",\"01:29\",\"01:29\",\"01:30\",\"01:30\",\"01:30\",\"01:30\",\"01:30\",\"01:31\",\"01:31\",\"01:32\",\"01:36\",\"01:36\",\"01:36\",\"01:37\",\"01:37\",\"01:37\",\"01:37\",\"01:37\",\"01:38\",\"01:38\",\"01:39\",\"01:39\",\"01:41\",\"01:41\",\"01:41\",\"01:42\",\"01:44\",\"01:44\",\"01:45\",\"01:46\",\"01:46\",\"01:46\",\"01:47\",\"01:47\",\"01:48\",\"01:48\",\"01:49\",\"01:50\",\"01:50\",\"01:50\",\"01:50\",\"01:51\",\"01:51\",\"01:51\",\"01:51\",\"01:52\",\"01:54\",\"01:54\",\"01:55\",\"01:55\",\"01:56\",\"01:56\",\"01:56\",\"01:57\",\"01:57\",\"01:58\",\"01:58\",\"01:58\",\"01:58\",\"01:58\",\"01:59\",\"01:59\",\"01:59\",\"01:59\",\"01:59\",\"02:02\",\"02:02\",\"02:03\",\"02:03\",\"02:03\",\"02:04\",\"02:05\",\"02:05\",\"02:06\",\"02:07\",\"02:07\",\"02:07\",\"02:07\",\"02:09\",\"02:10\",\"02:10\",\"02:12\",\"02:13\",\"02:13\",\"02:14\",\"02:14\",\"02:15\",\"02:15\",\"02:15\",\"02:16\",\"02:16\",\"02:16\",\"02:18\",\"02:18\",\"02:22\",\"02:22\",\"02:22\",\"02:22\",\"02:23\",\"02:23\",\"02:23\",\"02:24\",\"02:25\",\"02:25\",\"02:26\",\"02:26\",\"02:27\",\"02:27\",\"02:27\",\"02:28\",\"02:29\",\"02:29\",\"02:30\",\"02:30\",\"02:31\",\"02:32\",\"02:32\",\"02:33\",\"02:34\",\"02:34\",\"02:35\",\"02:36\",\"02:38\",\"02:38\",\"02:38\",\"02:38\",\"02:39\",\"02:39\",\"02:41\",\"02:41\",\"02:42\",\"02:43\",\"02:44\",\"02:45\",\"02:45\",\"02:46\",\"02:46\",\"02:48\",\"02:48\",\"02:48\",\"02:50\",\"02:50\",\"02:51\",\"02:51\",\"02:51\",\"02:52\",\"02:52\",\"02:53\",\"02:53\",\"02:56\",\"02:56\",\"02:57\",\"02:59\",\"02:59\",\"03:00\",\"03:01\",\"03:01\",\"03:04\",\"03:06\",\"03:06\",\"03:06\",\"03:06\",\"03:07\",\"03:07\",\"03:07\",\"03:09\",\"03:10\",\"03:11\",\"03:11\",\"03:12\",\"03:12\",\"03:12\",\"03:13\",\"03:13\",\"03:14\",\"03:14\",\"03:15\",\"03:15\",\"03:18\",\"03:18\",\"03:20\",\"03:20\",\"03:21\",\"03:21\",\"03:21\",\"03:22\",\"03:22\",\"03:22\",\"03:23\",\"03:23\",\"03:23\",\"03:24\",\"03:24\",\"03:25\",\"03:25\",\"03:26\",\"03:28\",\"03:28\",\"03:29\",\"03:30\",\"03:31\",\"03:31\",\"03:32\",\"03:32\",\"03:33\",\"03:34\",\"03:34\",\"03:34\",\"03:35\",\"03:39\",\"03:39\",\"03:39\",\"03:39\",\"03:40\",\"03:40\",\"03:41\",\"03:41\",\"03:42\",\"03:49\",\"03:51\",\"03:51\",\"03:53\",\"03:54\",\"03:55\",\"03:59\",\"03:59\",\"04:01\",\"04:02\",\"04:03\",\"04:04\",\"04:06\",\"04:07\",\"04:07\",\"04:08\",\"04:08\",\"04:09\",\"04:10\",\"04:10\",\"04:10\",\"04:10\",\"04:10\",\"04:12\",\"04:12\",\"04:13\",\"04:14\",\"04:16\",\"04:17\",\"04:18\",\"04:18\",\"04:20\",\"04:20\",\"04:20\",\"04:21\",\"04:22\",\"04:22\",\"04:22\",\"04:23\",\"04:23\",\"04:24\",\"04:24\",\"04:25\",\"04:25\",\"04:26\",\"04:26\",\"04:27\",\"04:27\",\"04:28\",\"04:29\",\"04:31\",\"04:31\",\"04:32\",\"04:33\",\"04:33\",\"04:35\",\"04:37\",\"04:37\",\"04:37\",\"04:38\",\"04:41\",\"04:43\",\"04:45\",\"04:47\",\"04:47\",\"04:47\",\"04:49\",\"04:49\",\"04:50\",\"04:50\",\"04:50\",\"04:55\",\"04:58\",\"05:07\",\"05:07\",\"05:12\",\"05:15\",\"05:16\",\"05:23\",\"05:24\",\"05:27\",\"05:33\",\"05:34\",\"05:35\",\"05:38\",\"05:40\",\"05:52\",\"05:54\",\"06:04\",\"06:07\",\"06:14\",\"06:14\",\"06:15\",\"06:18\",\"06:20\",\"06:29\",\"06:29\",\"06:37\",\"06:38\",\"06:45\",\"06:50\",\"06:57\",\"07:00\",\"07:05\",\"07:08\",\"07:12\",\"07:17\",\"07:59\",\"08:00\",\"08:17\",\"08:55\",\"09:22\",\"09:23\",\"09:38\",\"10:39\",\"11:07\",\"11:48\",\"11:56\",\"12:19\",\"12:22\",\"12:37\",\"12:50\",\"12:52\",\"12:56\",\"12:57\",\"13:04\",\"13:05\",\"13:06\",\"13:06\",\"13:07\",\"13:08\",\"13:09\",\"13:13\",\"13:15\",\"13:18\",\"13:19\",\"13:21\",\"13:23\",\"13:25\",\"13:26\",\"13:26\",\"13:28\",\"13:29\",\"13:30\",\"13:30\",\"13:31\",\"13:31\",\"13:32\",\"13:32\",\"13:33\",\"13:34\",\"13:34\",\"13:34\",\"13:34\",\"13:34\",\"13:35\",\"13:35\",\"13:37\",\"13:39\",\"13:39\",\"13:41\",\"13:46\",\"13:47\",\"13:49\",\"13:50\",\"13:54\",\"13:54\",\"13:55\",\"13:56\",\"13:56\",\"13:56\",\"13:57\",\"13:57\",\"13:58\",\"13:58\",\"13:59\",\"14:00\",\"14:01\",\"14:02\",\"14:04\",\"14:04\",\"14:04\",\"14:04\",\"14:05\",\"14:05\",\"14:05\",\"14:06\",\"14:07\",\"14:08\",\"14:08\",\"14:08\",\"14:09\",\"14:10\",\"14:10\",\"14:11\",\"14:11\",\"14:12\",\"14:12\",\"14:12\",\"14:16\",\"14:18\",\"14:18\",\"14:18\",\"14:22\",\"14:22\",\"14:23\",\"14:23\",\"14:24\",\"14:24\",\"14:25\",\"14:25\",\"14:25\",\"14:26\",\"14:28\",\"14:29\",\"14:30\",\"14:30\",\"14:30\",\"14:31\",\"14:31\",\"14:31\",\"14:32\",\"14:34\",\"14:34\",\"14:34\",\"14:35\",\"14:35\",\"14:35\",\"14:35\",\"14:36\",\"14:37\",\"14:38\",\"14:39\",\"14:39\",\"14:39\",\"14:40\",\"14:40\",\"14:40\",\"14:40\",\"14:41\",\"14:42\",\"14:43\",\"14:43\",\"14:43\",\"14:43\",\"14:43\",\"14:43\",\"14:45\",\"14:45\",\"14:46\",\"14:46\",\"14:46\",\"14:47\",\"14:47\",\"14:47\",\"14:47\",\"14:48\",\"14:49\",\"14:49\",\"14:50\",\"14:50\",\"14:51\",\"14:52\",\"14:52\",\"14:52\",\"14:52\",\"14:55\",\"14:55\",\"14:55\",\"14:55\",\"14:55\",\"14:56\",\"14:56\",\"14:56\",\"14:56\",\"14:56\",\"14:56\",\"14:57\",\"14:57\",\"14:57\",\"14:57\",\"14:58\",\"14:58\",\"14:58\",\"14:58\",\"14:59\",\"14:59\",\"15:00\",\"15:00\",\"15:00\",\"15:00\",\"15:00\",\"15:01\",\"15:01\",\"15:01\",\"15:01\",\"15:01\",\"15:01\",\"15:02\",\"15:02\",\"15:02\",\"15:02\",\"15:03\",\"15:03\",\"15:03\",\"15:03\",\"15:04\",\"15:04\",\"15:05\",\"15:05\",\"15:05\",\"15:06\",\"15:06\",\"15:07\",\"15:07\",\"15:07\",\"15:07\",\"15:07\",\"15:07\",\"15:07\",\"15:07\",\"15:08\",\"15:08\",\"15:08\",\"15:08\",\"15:08\",\"15:08\",\"15:08\",\"15:08\",\"15:09\",\"15:09\",\"15:09\",\"15:09\",\"15:10\",\"15:10\",\"15:11\",\"15:11\",\"15:11\",\"15:11\",\"15:11\",\"15:11\",\"15:11\",\"15:12\",\"15:12\",\"15:13\",\"15:13\",\"15:13\",\"15:13\",\"15:13\",\"15:13\",\"15:13\",\"15:13\",\"15:13\",\"15:14\",\"15:14\",\"15:14\",\"15:14\",\"15:14\",\"15:14\",\"15:15\",\"15:15\",\"15:15\",\"15:15\",\"15:16\",\"15:16\",\"15:16\",\"15:16\",\"15:16\",\"15:16\",\"15:17\",\"15:17\",\"15:17\",\"15:17\",\"15:17\",\"15:18\",\"15:18\",\"15:18\",\"15:18\",\"15:18\",\"15:19\",\"15:19\",\"15:19\",\"15:19\",\"15:20\",\"15:20\",\"15:20\",\"15:20\",\"15:20\",\"15:21\",\"15:21\",\"15:21\",\"15:21\",\"15:21\",\"15:22\",\"15:22\",\"15:22\",\"15:22\",\"15:22\",\"15:22\",\"15:23\",\"15:23\",\"15:23\",\"15:23\",\"15:23\",\"15:23\",\"15:24\",\"15:24\",\"15:24\",\"15:24\",\"15:24\",\"15:24\",\"15:24\",\"15:25\",\"15:25\",\"15:25\",\"15:25\",\"15:26\",\"15:26\",\"15:26\",\"15:26\",\"15:26\",\"15:26\",\"15:26\",\"15:26\",\"15:26\",\"15:26\",\"15:27\",\"15:27\",\"15:27\",\"15:27\",\"15:27\",\"15:27\",\"15:27\",\"15:27\",\"15:28\",\"15:28\",\"15:28\",\"15:28\",\"15:28\",\"15:28\",\"15:28\",\"15:28\",\"15:28\",\"15:28\",\"15:29\",\"15:29\",\"15:29\",\"15:29\",\"15:29\",\"15:29\",\"15:29\",\"15:30\",\"15:30\",\"15:30\",\"15:30\",\"15:30\",\"15:30\",\"15:30\",\"15:30\",\"15:30\",\"15:30\",\"15:30\",\"15:30\",\"15:30\",\"15:30\",\"15:30\",\"15:31\",\"15:31\",\"15:31\",\"15:31\",\"15:31\",\"15:31\",\"15:32\",\"15:32\",\"15:32\",\"15:32\",\"15:32\",\"15:32\",\"15:32\",\"15:33\",\"15:33\",\"15:33\",\"15:34\",\"15:34\",\"15:34\",\"15:34\",\"15:34\",\"15:34\",\"15:34\",\"15:34\",\"15:34\",\"15:34\",\"15:35\",\"15:35\",\"15:35\",\"15:35\",\"15:35\",\"15:35\",\"15:35\",\"15:35\",\"15:35\",\"15:35\",\"15:35\",\"15:35\",\"15:36\",\"15:36\",\"15:36\",\"15:36\",\"15:36\",\"15:36\",\"15:36\",\"15:36\",\"15:37\",\"15:37\",\"15:37\",\"15:37\",\"15:37\",\"15:37\",\"15:37\",\"15:37\",\"15:37\",\"15:38\",\"15:38\",\"15:38\",\"15:38\",\"15:38\",\"15:38\",\"15:38\",\"15:38\",\"15:38\",\"15:38\",\"15:38\",\"15:39\",\"15:39\",\"15:39\",\"15:39\",\"15:39\",\"15:39\",\"15:39\",\"15:39\",\"15:39\",\"15:40\",\"15:40\",\"15:40\",\"15:40\",\"15:40\",\"15:40\",\"15:40\",\"15:40\",\"15:40\",\"15:40\",\"15:40\",\"15:40\",\"15:41\",\"15:41\",\"15:42\",\"15:42\",\"15:42\",\"15:42\",\"15:42\",\"15:42\",\"15:42\",\"15:42\",\"15:42\",\"15:42\",\"15:42\",\"15:42\",\"15:42\",\"15:42\",\"15:43\",\"15:43\",\"15:43\",\"15:43\",\"15:43\",\"15:43\",\"15:43\",\"15:44\",\"15:44\",\"15:44\",\"15:44\",\"15:44\",\"15:44\",\"15:44\",\"15:45\",\"15:45\",\"15:45\",\"15:45\",\"15:45\",\"15:45\",\"15:46\",\"15:46\",\"15:46\",\"15:46\",\"15:46\",\"15:46\",\"15:46\",\"15:47\",\"15:47\",\"15:47\",\"15:47\",\"15:47\",\"15:47\",\"15:48\",\"15:48\",\"15:48\",\"15:48\",\"15:48\",\"15:48\",\"15:49\",\"15:49\",\"15:49\",\"15:49\",\"15:49\",\"15:50\",\"15:51\",\"15:51\",\"15:51\",\"15:51\",\"15:51\",\"15:51\",\"15:51\",\"15:51\",\"15:52\",\"15:52\",\"15:52\",\"15:52\",\"15:52\",\"15:52\",\"15:52\",\"15:53\",\"15:53\",\"15:53\",\"15:53\",\"15:53\",\"15:53\",\"15:53\",\"15:53\",\"15:53\",\"15:54\",\"15:54\",\"15:54\",\"15:54\",\"15:54\",\"15:54\",\"15:54\",\"15:54\",\"15:54\",\"15:55\",\"15:55\",\"15:55\",\"15:55\",\"15:55\",\"15:55\",\"15:56\",\"15:56\",\"15:56\",\"15:56\",\"15:56\",\"15:56\",\"15:56\",\"15:57\",\"15:57\",\"15:57\",\"15:57\",\"15:57\",\"15:57\",\"15:57\",\"15:57\",\"15:57\",\"15:58\",\"15:58\",\"15:58\",\"15:58\",\"15:58\",\"15:58\",\"15:59\",\"15:59\",\"15:59\",\"15:59\",\"15:59\",\"15:59\",\"15:59\",\"15:59\",\"15:59\",\"15:59\",\"16:00\",\"16:00\",\"16:00\",\"16:00\",\"16:00\",\"16:00\",\"16:00\",\"16:00\",\"16:00\",\"16:01\",\"16:01\",\"16:01\",\"16:01\",\"16:01\",\"16:01\",\"16:01\",\"16:01\",\"16:02\",\"16:02\",\"16:02\",\"16:02\",\"16:02\",\"16:02\",\"16:02\",\"16:03\",\"16:04\",\"16:04\",\"16:04\",\"16:04\",\"16:04\",\"16:04\",\"16:04\",\"16:05\",\"16:05\",\"16:05\",\"16:06\",\"16:06\",\"16:07\",\"16:07\",\"16:07\",\"16:07\",\"16:07\",\"16:07\",\"16:07\",\"16:08\",\"16:08\",\"16:08\",\"16:08\",\"16:08\",\"16:08\",\"16:09\",\"16:09\",\"16:09\",\"16:09\",\"16:09\",\"16:09\",\"16:09\",\"16:09\",\"16:09\",\"16:10\",\"16:10\",\"16:10\",\"16:10\",\"16:10\",\"16:10\",\"16:11\",\"16:11\",\"16:11\",\"16:11\",\"16:11\",\"16:11\",\"16:11\",\"16:11\",\"16:11\",\"16:11\",\"16:11\",\"16:12\",\"16:12\",\"16:12\",\"16:12\",\"16:12\",\"16:13\",\"16:13\",\"16:13\",\"16:13\",\"16:13\",\"16:13\",\"16:13\",\"16:13\",\"16:13\",\"16:13\",\"16:13\",\"16:13\",\"16:13\",\"16:13\",\"16:14\",\"16:14\",\"16:14\",\"16:14\",\"16:14\",\"16:14\",\"16:14\",\"16:14\",\"16:14\",\"16:14\",\"16:15\",\"16:15\",\"16:15\",\"16:15\",\"16:15\",\"16:15\",\"16:15\",\"16:15\",\"16:15\",\"16:15\",\"16:16\",\"16:16\",\"16:16\",\"16:16\",\"16:16\",\"16:16\",\"16:16\",\"16:16\",\"16:16\",\"16:16\",\"16:17\",\"16:17\",\"16:17\",\"16:17\",\"16:17\",\"16:17\",\"16:17\",\"16:17\",\"16:17\",\"16:18\",\"16:18\",\"16:18\",\"16:18\",\"16:18\",\"16:19\",\"16:19\",\"16:19\",\"16:19\",\"16:19\",\"16:20\",\"16:20\",\"16:20\",\"16:20\",\"16:20\",\"16:20\",\"16:20\",\"16:20\",\"16:20\",\"16:21\",\"16:21\",\"16:21\",\"16:21\",\"16:21\",\"16:21\",\"16:22\",\"16:22\",\"16:22\",\"16:22\",\"16:22\",\"16:22\",\"16:23\",\"16:23\",\"16:23\",\"16:23\",\"16:23\",\"16:23\",\"16:23\",\"16:23\",\"16:23\",\"16:24\",\"16:24\",\"16:24\",\"16:24\",\"16:24\",\"16:24\",\"16:24\",\"16:24\",\"16:24\",\"16:25\",\"16:25\",\"16:25\",\"16:25\",\"16:25\",\"16:25\",\"16:25\",\"16:26\",\"16:26\",\"16:26\",\"16:26\",\"16:26\",\"16:26\",\"16:26\",\"16:26\",\"16:26\",\"16:26\",\"16:26\",\"16:26\",\"16:27\",\"16:27\",\"16:27\",\"16:27\",\"16:27\",\"16:27\",\"16:27\",\"16:27\",\"16:27\",\"16:28\",\"16:28\",\"16:28\",\"16:28\",\"16:28\",\"16:28\",\"16:28\",\"16:28\",\"16:28\",\"16:28\",\"16:29\",\"16:29\",\"16:29\",\"16:29\",\"16:29\",\"16:29\",\"16:29\",\"16:29\",\"16:29\",\"16:29\",\"16:29\",\"16:29\",\"16:29\",\"16:30\",\"16:30\",\"16:30\",\"16:30\",\"16:30\",\"16:30\",\"16:30\",\"16:30\",\"16:30\",\"16:30\",\"16:30\",\"16:30\",\"16:30\",\"16:30\",\"16:30\",\"16:30\",\"16:30\",\"16:30\",\"16:31\",\"16:31\",\"16:31\",\"16:31\",\"16:31\",\"16:31\",\"16:31\",\"16:31\",\"16:32\",\"16:32\",\"16:32\",\"16:32\",\"16:32\",\"16:32\",\"16:32\",\"16:32\",\"16:32\",\"16:33\",\"16:33\",\"16:33\",\"16:33\",\"16:33\",\"16:33\",\"16:33\",\"16:33\",\"16:33\",\"16:33\",\"16:33\",\"16:33\",\"16:33\",\"16:34\",\"16:34\",\"16:34\",\"16:34\",\"16:34\",\"16:34\",\"16:34\",\"16:34\",\"16:34\",\"16:34\",\"16:34\",\"16:35\",\"16:35\",\"16:35\",\"16:35\",\"16:35\",\"16:35\",\"16:35\",\"16:35\",\"16:36\",\"16:36\",\"16:36\",\"16:36\",\"16:36\",\"16:37\",\"16:37\",\"16:37\",\"16:37\",\"16:37\",\"16:37\",\"16:37\",\"16:37\",\"16:37\",\"16:37\",\"16:37\",\"16:37\",\"16:37\",\"16:37\",\"16:37\",\"16:38\",\"16:38\",\"16:38\",\"16:38\",\"16:39\",\"16:39\",\"16:39\",\"16:39\",\"16:39\",\"16:39\",\"16:39\",\"16:39\",\"16:39\",\"16:39\",\"16:39\",\"16:40\",\"16:40\",\"16:40\",\"16:40\",\"16:40\",\"16:40\",\"16:40\",\"16:40\",\"16:40\",\"16:41\",\"16:41\",\"16:41\",\"16:41\",\"16:41\",\"16:41\",\"16:41\",\"16:41\",\"16:41\",\"16:41\",\"16:42\",\"16:42\",\"16:42\",\"16:42\",\"16:42\",\"16:42\",\"16:42\",\"16:42\",\"16:42\",\"16:43\",\"16:43\",\"16:43\",\"16:43\",\"16:43\",\"16:43\",\"16:43\",\"16:43\",\"16:43\",\"16:43\",\"16:43\",\"16:43\",\"16:44\",\"16:44\",\"16:44\",\"16:44\",\"16:44\",\"16:45\",\"16:45\",\"16:45\",\"16:45\",\"16:45\",\"16:45\",\"16:45\",\"16:45\",\"16:46\",\"16:46\",\"16:46\",\"16:46\",\"16:46\",\"16:46\",\"16:47\",\"16:47\",\"16:47\",\"16:47\",\"16:47\",\"16:47\",\"16:47\",\"16:47\",\"16:47\",\"16:48\",\"16:48\",\"16:48\",\"16:48\",\"16:48\",\"16:49\",\"16:49\",\"16:49\",\"16:49\",\"16:49\",\"16:49\",\"16:49\",\"16:49\",\"16:50\",\"16:50\",\"16:50\",\"16:50\",\"16:50\",\"16:51\",\"16:51\",\"16:51\",\"16:51\",\"16:51\",\"16:51\",\"16:51\",\"16:52\",\"16:52\",\"16:52\",\"16:52\",\"16:52\",\"16:52\",\"16:52\",\"16:52\",\"16:53\",\"16:53\",\"16:53\",\"16:53\",\"16:53\",\"16:53\",\"16:53\",\"16:53\",\"16:53\",\"16:53\",\"16:54\",\"16:54\",\"16:54\",\"16:54\",\"16:54\",\"16:55\",\"16:55\",\"16:55\",\"16:55\",\"16:55\",\"16:56\",\"16:56\",\"16:56\",\"16:56\",\"16:56\",\"16:56\",\"16:56\",\"16:56\",\"16:56\",\"16:56\",\"16:57\",\"16:57\",\"16:57\",\"16:57\",\"16:57\",\"16:57\",\"16:57\",\"16:57\",\"16:57\",\"16:57\",\"16:57\",\"16:57\",\"16:57\",\"16:58\",\"16:58\",\"16:58\",\"16:58\",\"16:59\",\"16:59\",\"16:59\",\"16:59\",\"16:59\",\"16:59\",\"16:59\",\"16:59\",\"16:59\",\"17:00\",\"17:00\",\"17:00\",\"17:00\",\"17:00\",\"17:00\",\"17:01\",\"17:01\",\"17:01\",\"17:01\",\"17:01\",\"17:01\",\"17:01\",\"17:01\",\"17:01\",\"17:01\",\"17:01\",\"17:01\",\"17:01\",\"17:01\",\"17:01\",\"17:01\",\"17:01\",\"17:01\",\"17:02\",\"17:02\",\"17:02\",\"17:02\",\"17:02\",\"17:02\",\"17:02\",\"17:02\",\"17:03\",\"17:03\",\"17:03\",\"17:03\",\"17:03\",\"17:03\",\"17:03\",\"17:03\",\"17:03\",\"17:03\",\"17:03\",\"17:04\",\"17:04\",\"17:04\",\"17:04\",\"17:04\",\"17:04\",\"17:04\",\"17:04\",\"17:05\",\"17:05\",\"17:05\",\"17:05\",\"17:05\",\"17:05\",\"17:05\",\"17:06\",\"17:06\",\"17:06\",\"17:06\",\"17:06\",\"17:06\",\"17:06\",\"17:06\",\"17:06\",\"17:06\",\"17:06\",\"17:06\",\"17:07\",\"17:07\",\"17:07\",\"17:07\",\"17:07\",\"17:07\",\"17:07\",\"17:07\",\"17:07\",\"17:07\",\"17:08\",\"17:08\",\"17:08\",\"17:08\",\"17:08\",\"17:08\",\"17:08\",\"17:08\",\"17:08\",\"17:08\",\"17:08\",\"17:09\",\"17:09\",\"17:09\",\"17:09\",\"17:09\",\"17:09\",\"17:10\",\"17:10\",\"17:10\",\"17:10\",\"17:10\",\"17:10\",\"17:10\",\"17:10\",\"17:10\",\"17:10\",\"17:11\",\"17:11\",\"17:11\",\"17:11\",\"17:11\",\"17:11\",\"17:11\",\"17:11\",\"17:11\",\"17:12\",\"17:12\",\"17:12\",\"17:12\",\"17:12\",\"17:12\",\"17:12\",\"17:13\",\"17:13\",\"17:13\",\"17:13\",\"17:13\",\"17:13\",\"17:13\",\"17:13\",\"17:14\",\"17:14\",\"17:14\",\"17:14\",\"17:14\",\"17:14\",\"17:14\",\"17:15\",\"17:15\",\"17:15\",\"17:15\",\"17:15\",\"17:15\",\"17:15\",\"17:16\",\"17:16\",\"17:16\",\"17:16\",\"17:16\",\"17:16\",\"17:16\",\"17:16\",\"17:16\",\"17:16\",\"17:16\",\"17:17\",\"17:17\",\"17:17\",\"17:17\",\"17:17\",\"17:17\",\"17:17\",\"17:18\",\"17:18\",\"17:18\",\"17:18\",\"17:18\",\"17:18\",\"17:18\",\"17:18\",\"17:19\",\"17:19\",\"17:19\",\"17:19\",\"17:19\",\"17:19\",\"17:19\",\"17:20\",\"17:20\",\"17:20\",\"17:20\",\"17:20\",\"17:20\",\"17:20\",\"17:20\",\"17:20\",\"17:21\",\"17:21\",\"17:21\",\"17:21\",\"17:21\",\"17:21\",\"17:22\",\"17:22\",\"17:22\",\"17:22\",\"17:22\",\"17:22\",\"17:22\",\"17:23\",\"17:23\",\"17:23\",\"17:23\",\"17:23\",\"17:23\",\"17:23\",\"17:24\",\"17:24\",\"17:25\",\"17:25\",\"17:25\",\"17:25\",\"17:25\",\"17:25\",\"17:25\",\"17:25\",\"17:25\",\"17:25\",\"17:25\",\"17:25\",\"17:25\",\"17:26\",\"17:26\",\"17:26\",\"17:26\",\"17:26\",\"17:26\",\"17:27\",\"17:27\",\"17:27\",\"17:27\",\"17:27\",\"17:29\",\"17:29\",\"17:29\",\"17:29\",\"17:29\",\"17:29\",\"17:29\",\"17:30\",\"17:30\",\"17:30\",\"17:30\",\"17:30\",\"17:31\",\"17:31\",\"17:31\",\"17:31\",\"17:32\",\"17:32\",\"17:32\",\"17:32\",\"17:32\",\"17:32\",\"17:32\",\"17:32\",\"17:33\",\"17:33\",\"17:33\",\"17:33\",\"17:33\",\"17:34\",\"17:34\",\"17:34\",\"17:34\",\"17:34\",\"17:34\",\"17:34\",\"17:35\",\"17:35\",\"17:35\",\"17:35\",\"17:36\",\"17:36\",\"17:36\",\"17:36\",\"17:36\",\"17:37\",\"17:37\",\"17:37\",\"17:37\",\"17:37\",\"17:38\",\"17:38\",\"17:38\",\"17:38\",\"17:38\",\"17:38\",\"17:38\",\"17:38\",\"17:39\",\"17:39\",\"17:39\",\"17:39\",\"17:39\",\"17:40\",\"17:40\",\"17:40\",\"17:40\",\"17:40\",\"17:40\",\"17:40\",\"17:40\",\"17:40\",\"17:41\",\"17:41\",\"17:41\",\"17:41\",\"17:41\",\"17:42\",\"17:42\",\"17:42\",\"17:42\",\"17:42\",\"17:42\",\"17:42\",\"17:42\",\"17:42\",\"17:43\",\"17:43\",\"17:43\",\"17:43\",\"17:43\",\"17:43\",\"17:44\",\"17:44\",\"17:44\",\"17:44\",\"17:44\",\"17:44\",\"17:44\",\"17:44\",\"17:45\",\"17:45\",\"17:45\",\"17:46\",\"17:46\",\"17:46\",\"17:46\",\"17:46\",\"17:47\",\"17:47\",\"17:47\",\"17:47\",\"17:47\",\"17:47\",\"17:47\",\"17:47\",\"17:47\",\"17:47\",\"17:47\",\"17:48\",\"17:48\",\"17:48\",\"17:48\",\"17:48\",\"17:48\",\"17:48\",\"17:48\",\"17:49\",\"17:49\",\"17:49\",\"17:49\",\"17:49\",\"17:50\",\"17:50\",\"17:50\",\"17:50\",\"17:50\",\"17:50\",\"17:50\",\"17:50\",\"17:50\",\"17:51\",\"17:51\",\"17:51\",\"17:51\",\"17:52\",\"17:52\",\"17:52\",\"17:52\",\"17:52\",\"17:52\",\"17:53\",\"17:53\",\"17:53\",\"17:53\",\"17:53\",\"17:54\",\"17:54\",\"17:54\",\"17:54\",\"17:55\",\"17:55\",\"17:55\",\"17:55\",\"17:55\",\"17:55\",\"17:56\",\"17:56\",\"17:56\",\"17:56\",\"17:56\",\"17:56\",\"17:56\",\"17:56\",\"17:56\",\"17:56\",\"17:56\",\"17:56\",\"17:57\",\"17:57\",\"17:57\",\"17:57\",\"17:57\",\"17:58\",\"17:58\",\"17:58\",\"17:58\",\"17:58\",\"17:58\",\"17:59\",\"17:59\",\"17:59\",\"17:59\",\"17:59\",\"17:59\",\"17:59\",\"17:59\",\"18:00\",\"18:00\",\"18:00\",\"18:00\",\"18:01\",\"18:01\",\"18:01\",\"18:01\",\"18:01\",\"18:01\",\"18:02\",\"18:02\",\"18:02\",\"18:02\",\"18:03\",\"18:03\",\"18:03\",\"18:03\",\"18:03\",\"18:03\",\"18:03\",\"18:03\",\"18:03\",\"18:03\",\"18:04\",\"18:04\",\"18:04\",\"18:05\",\"18:05\",\"18:05\",\"18:05\",\"18:05\",\"18:05\",\"18:06\",\"18:06\",\"18:06\",\"18:06\",\"18:06\",\"18:07\",\"18:07\",\"18:07\",\"18:07\",\"18:07\",\"18:08\",\"18:08\",\"18:08\",\"18:08\",\"18:08\",\"18:08\",\"18:08\",\"18:08\",\"18:08\",\"18:09\",\"18:09\",\"18:09\",\"18:09\",\"18:09\",\"18:09\",\"18:09\",\"18:09\",\"18:09\",\"18:09\",\"18:10\",\"18:10\",\"18:10\",\"18:11\",\"18:11\",\"18:11\",\"18:12\",\"18:12\",\"18:12\",\"18:12\",\"18:13\",\"18:13\",\"18:13\",\"18:13\",\"18:13\",\"18:13\",\"18:14\",\"18:14\",\"18:14\",\"18:14\",\"18:14\",\"18:14\",\"18:14\",\"18:15\",\"18:15\",\"18:15\",\"18:15\",\"18:16\",\"18:16\",\"18:16\",\"18:16\",\"18:16\",\"18:16\",\"18:17\",\"18:17\",\"18:17\",\"18:17\",\"18:18\",\"18:18\",\"18:18\",\"18:18\",\"18:20\",\"18:20\",\"18:20\",\"18:20\",\"18:21\",\"18:21\",\"18:21\",\"18:21\",\"18:21\",\"18:22\",\"18:22\",\"18:22\",\"18:22\",\"18:22\",\"18:23\",\"18:23\",\"18:23\",\"18:24\",\"18:24\",\"18:24\",\"18:24\",\"18:25\",\"18:25\",\"18:25\",\"18:26\",\"18:26\",\"18:26\",\"18:26\",\"18:27\",\"18:28\",\"18:28\",\"18:28\",\"18:29\",\"18:29\",\"18:29\",\"18:29\",\"18:29\",\"18:29\",\"18:30\",\"18:30\",\"18:30\",\"18:32\",\"18:32\",\"18:32\",\"18:32\",\"18:32\",\"18:33\",\"18:33\",\"18:33\",\"18:33\",\"18:33\",\"18:33\",\"18:33\",\"18:34\",\"18:34\",\"18:34\",\"18:35\",\"18:35\",\"18:36\",\"18:36\",\"18:36\",\"18:36\",\"18:37\",\"18:37\",\"18:37\",\"18:38\",\"18:38\",\"18:38\",\"18:38\",\"18:39\",\"18:39\",\"18:39\",\"18:39\",\"18:39\",\"18:40\",\"18:40\",\"18:40\",\"18:41\",\"18:41\",\"18:41\",\"18:41\",\"18:42\",\"18:42\",\"18:42\",\"18:43\",\"18:43\",\"18:44\",\"18:44\",\"18:44\",\"18:45\",\"18:45\",\"18:45\",\"18:46\",\"18:46\",\"18:46\",\"18:47\",\"18:47\",\"18:47\",\"18:48\",\"18:49\",\"18:49\",\"18:49\",\"18:50\",\"18:50\",\"18:50\",\"18:50\",\"18:51\",\"18:51\",\"18:51\",\"18:52\",\"18:52\",\"18:52\",\"18:52\",\"18:53\",\"18:54\",\"18:54\",\"18:54\",\"18:54\",\"18:55\",\"18:55\",\"18:55\",\"18:55\",\"18:55\",\"18:55\",\"18:55\",\"18:55\",\"18:56\",\"18:56\",\"18:56\",\"18:56\",\"18:56\",\"18:57\",\"18:57\",\"18:58\",\"18:58\",\"18:58\",\"18:58\",\"18:59\",\"18:59\",\"19:00\",\"19:01\",\"19:01\",\"19:02\",\"19:02\",\"19:02\",\"19:02\",\"19:02\",\"19:02\",\"19:02\",\"19:03\",\"19:03\",\"19:04\",\"19:04\",\"19:05\",\"19:05\",\"19:06\",\"19:07\",\"19:07\",\"19:07\",\"19:07\",\"19:08\",\"19:08\",\"19:09\",\"19:09\",\"19:09\",\"19:09\",\"19:10\",\"19:10\",\"19:10\",\"19:10\",\"19:10\",\"19:10\",\"19:11\",\"19:11\",\"19:11\",\"19:11\",\"19:11\",\"19:12\",\"19:12\",\"19:12\",\"19:13\",\"19:13\",\"19:13\",\"19:14\",\"19:14\",\"19:14\",\"19:15\",\"19:15\",\"19:15\",\"19:16\",\"19:16\",\"19:16\",\"19:17\",\"19:18\",\"19:18\",\"19:18\",\"19:19\",\"19:20\",\"19:20\",\"19:20\",\"19:20\",\"19:21\",\"19:22\",\"19:23\",\"19:23\",\"19:23\",\"19:24\",\"19:24\",\"19:25\",\"19:25\",\"19:25\",\"19:26\",\"19:26\",\"19:26\",\"19:26\",\"19:26\",\"19:27\",\"19:27\",\"19:28\",\"19:28\",\"19:28\",\"19:29\",\"19:30\",\"19:30\",\"19:30\",\"19:30\",\"19:30\",\"19:31\",\"19:31\",\"19:31\",\"19:31\",\"19:31\",\"19:31\",\"19:33\",\"19:33\",\"19:33\"],\"y\":[3.4,3.347691273,3.297608448,3.189652138,3.187426235,2.943689824,2.883590435,2.87052092,2.862754977,2.860482018,2.858209059,2.856883166,2.845707784,2.783580236,2.782633169,2.728460978,2.684327689,2.681675904,2.680539424,2.702630872,2.971744875,3.076177175,3.170567908,3.272991894,3.437673597,3.493906374,3.690721093,3.724862422,3.825278095,3.849377856,4.066275709,4.214890905,4.309281638,4.409697311,4.486013222,4.504088043,4.676803,4.712952643,4.861567838,4.883659286,4.947925317,4.951941944,5.144740036,5.150764976,5.198964499,5.271263784,5.319463307,5.365654516,5.429920547,5.468078502,5.48414501,5.498203204,5.616693698,5.793425283,5.817525044,5.817525044,5.817525044,5.875766134,5.885807702,5.899865896,6.12278869,6.126805316,6.138855197,6.219187735,6.221196049,6.231237616,6.347719797,6.393911006,6.413994141,6.434077275,6.466210291,6.488301739,6.803606951,6.817665146,6.871889609,6.879922863,6.918080819,7.09882903,7.116903851,7.15104518,7.201253016,7.285602181,7.359909779,7.428192437,7.450283885,7.74952259,7.80173874,8.098969131,8.131102147,8.167251789,8.30180879,8.305825417,8.348,8.446362319,8.732507246,8.888992754,8.965,4.723398058,2.939,2.939688329,2.942048316,2.942048316,2.945096632,2.948734944,2.949521606,2.951979925,2.963583192,2.966041511,2.966926506,2.969483158,2.970564818,2.970761483,2.986199728,2.990821368,2.99268969,2.999966315,3.000359646,3.000359646,3.004194624,3.005276284,3.008619599,3.010389588,3.012159578,3.013044573,3.013142906,3.015404559,3.018649541,3.021304525,3.046576046,3.046772712,3.048444369,3.049722695,3.049722695,3.050116026,3.050411024,3.053361007,3.057589316,3.058670977,3.062112623,3.065062606,3.073912555,3.076764206,3.077452535,3.078730861,3.092399115,3.09328411,3.099872406,3.102134059,3.103707383,3.105674039,3.108329023,3.112262334,3.117277305,3.1181623,3.121603947,3.126028921,3.127110582,3.130847227,3.131142225,3.131535556,3.13202722,3.134485539,3.136845526,3.140385505,3.151103777,3.153168765,3.159363729,3.160248724,3.164673699,3.166443688,3.166738687,3.167328683,3.167820347,3.173031984,3.173916979,3.174703641,3.17539197,3.177948622,3.180701939,3.180898605,3.181291936,3.181390269,3.182078598,3.198696836,3.198893501,3.202826812,3.205285131,3.205776795,3.210103437,3.215118408,3.218560054,3.223870024,3.226033345,3.226328343,3.227508336,3.228,3.806296568,4.429949729,4.452628026,4.957220129,5.393777342,5.410786065,5.631899458,5.824664981,5.809461308,5.804900206,5.803759931,5.799959013,5.798058553,5.784375248,5.739524413,5.735343403,5.661605589,5.646401916,5.646021824,5.645261641,5.639180172,5.631578335,5.626637141,5.603831632,5.586347408,5.577985388,5.563921991,5.55746043,5.545297491,5.544157216,5.536175288,5.506908217,5.503107299,5.500446656,5.481822157,5.466238392,5.44077224,5.43659123,5.428609302,5.39896214,5.385278834,5.369695069,5.3636136,5.342328458,5.299378082,5.294436889,5.288355419,5.284554501,5.27391193,5.263269359,5.230201371,5.224880085,5.193332464,5.179269066,5.143540435,5.139359425,5.137078874,5.103250702,5.101350243,5.071322989,5.061440601,5.055359132,5.024951786,5.024191603,5.001006002,4.986942604,4.98618242,4.978960676,4.959195901,4.951974156,4.944752412,4.887738638,4.88393772,4.845928538,4.814761008,4.799937427,4.797276785,4.76496898,4.753566225,4.695792268,4.661203912,4.650561341,4.646380331,4.640298862,4.632697025,4.623574822,4.619393812,4.573782793,4.654043657,4.719972223,4.724271912,4.805966006,4.810265695,4.811698925,4.850396127,4.887660099,4.977953571,5.015217543,5.042448908,5.058214435,5.28036504,5.298997026,5.498215955,5.512548253,5.548378995,5.561278063,5.565577752,5.678802899,5.680236128,5.691701966,5.708900723,5.749031155,5.750464384,5.827858789,5.876588599,5.908119652,5.913852571,5.989813746,6.171833919,6.189032675,6.293658444,6.366753159,6.465646009,6.467079239,6.517242279,6.5616724,6.571705008,6.65913202,6.679197236,6.717894438,6.798155302,7.097700311,7.102,7.094026925,7.090837694,7.048580394,7.022269245,7.012701555,7.007120402,6.953700796,6.631588548,6.535114334,6.511195108,6.441829352,6.358112059,6.302300531,6.142041714,6.142041714,6.019256352,5.973012514,5.961850209,5.882916761,5.791226394,5.760131399,5.752955631,5.693954873,5.689171028,5.668441031,5.622994501,5.615818733,5.605453735,5.590304892,5.588710277,5.502601062,5.490641449,5.442005688,5.402140311,5.318423019,5.287328024,5.225138036,5.218759575,5.148596511,5.127069207,5.118298824,5.088798445,5.046541145,5.03537884,5.031392302,4.977972696,4.965215776,4.95405347,4.943688472,4.899836557,4.893458096,4.856781949,4.846416951,4.790605423,4.78502427,4.724428896,4.696523132,4.610413917,4.578521615,4.541048161,4.517926242,4.513142397,4.399127418,4.325775123,4.311423587,4.304247819,4.276342055,4.117677854,4.026784793,3.918350967,3.859350209,3.837025597,3.814700986,3.730983694,3.729389078,3.708659082,3.690321009,3.677564088,3.436777209,3.291667235,2.897,3.025037736,5.315490566,6.439377358,7.008433962,9.789698113,10.437,10.28486283,9.9805885,9.94068367,9.883320476,9.756123828,9.650542297,9.049475787,8.976316931,8.435939017,8.282970499,7.965394556,7.950430244,7.93130918,7.754231494,7.638673756,7.222998437,7.208865476,6.812311222,6.774900444,6.394141852,6.173833933,6.10572573,6.084115907,6.042088526,6.013474139,5.973682256,5.929419376,5.555942011,5.545211616,5.392303485,5.049825039,4.812862146,4.804069183,4.671429576,4.121943924,3.872015136,3.510013333,3.4341554,3.228191426,3.204346104,3.065,5.409429265,5.891639344,6.507091682,6.776748634,8.036205222,8.337586521,8.486690953,8.52476017,8.651657559,8.845176078,9.041867031,9.850837887,10.19663327,10.72642987,11.03415604,11.32602004,11.78919551,12.07788707,12.25871585,12.31581967,12.77582271,12.80754706,13.06451427,13.15968731,13.19775653,13.25486035,13.48327565,13.515,11.89216849,9.14583825,8.209589304,8.151161852,7.581494194,7.566887331,7.026433399,6.748903002,5.594960823,3.55,2.984,3.015719298,3.095017544,3.113142857,3.143162907,3.168085213,3.228125313,3.24002005,3.247100251,3.263526316,3.264942356,3.275704261,3.287598997,3.291280702,3.306290727,3.311105263,3.315070175,3.333761905,3.353303258,3.375676692,3.400882206,3.405696742,3.406263158,3.409378446,3.417025063,3.418157895,3.418441103,3.448177945,3.450443609,3.469418546,3.47026817,3.479047619,3.486411028,3.501137845,3.504536341,3.520679198,3.522944862,3.537954887,3.539654135,3.549283208,3.605075188,3.63906015,3.641325815,3.650671679,3.703914787,3.707596491,3.734501253,3.736766917,3.74073183,3.754042607,3.754892231,3.759706767,3.764238095,3.775,3.820879699,3.834473684,3.841553885,3.852315789,3.852598997,3.857696742,3.86364411,3.869025063,3.888,3.78281793,3.756882625,3.728065619,3.694926063,3.68195841,3.676195009,3.6272061,3.552281885,3.477357671,3.363530499,3.298692237,3.292928835,3.288606285,3.230972274,3.215122921,3.196391867,3.189187616,3.125790203,3.024930684,3.00331793,2.968737523,2.965855823,2.962974122,2.958651571,2.929834566,2.834738447,2.761255083,2.718029575,2.712266174,2.671922366,2.63878281,2.607084104,2.596998152,2.582589649,2.548009242,2.465880776,2.412569316,2.38087061,2.329,2.367255602,2.52240332,2.584037344,2.584037344,2.588287967,2.883706224,2.883706224,2.928337759,2.966593361,2.977219917,2.983595851,3.026102075,3.043104564,3.045229876,3.049480498,3.100487967,3.113239834,3.206753527,3.211004149,3.234382573,3.242883817,3.270512863,3.272638174,3.302392531,3.376778423,3.387404979,3.491545228,3.521299585,3.540427386,3.578682988,3.5999361,3.63606639,3.644567635,3.667946058,3.701951037,3.704076349,3.704076349,3.761459751,3.769960996,3.769960996,3.818843154,3.908106224,3.914482158,3.963364315,3.995243983,4.035624896,4.061128631,4.1312639,4.163143568,4.246030705,4.256657261,4.320416598,4.39480249,4.407554357,4.41393029,4.424556846,4.462812448,4.496817427,4.498942739,4.50106805,4.518070539,4.539323651,4.541448963,4.552075519,4.562702075,4.586080498,4.622210788,4.630712033,4.654090456,4.656215768,4.707223237,4.719975104,4.817739419,4.89,4.854476684,4.739025907,4.730145078,4.659098446,4.596932642,4.517005181,4.481481865,4.055202073,3.89534715,3.80653886,3.744373057,3.682207254,3.673326425,3.655564767,3.575637306,3.54011399,3.531233161,3.406901554,3.26480829,3.176,9.673695652,9.864804348,10.24702174,11.967,11.85567266,11.84175674,11.73738736,11.56343838,11.45211104,11.2224984,11.18075065,11.16683473,11.15291881,11.12508697,11.1042131,11.04159147,10.81197882,10.77718903,10.72152536,10.57540822,10.55453434,10.40145925,10.3249217,10.30404782,10.15793069,10.03268743,9.935276004,9.872654374,9.70566336,9.691747442,9.636083771,9.608251936,9.587378059,9.260353991,9.239480114,9.232522156,9.183816443,9.100320937,9.009867471,8.975372314,8.837391687,8.794272741,8.785648952,8.535559066,8.311340547,8.242350234,8.233726444,8.121617185,8.061250661,8.009507926,7.845655931,7.828408353,7.776665618,7.759418039,7.552447099,7.54382331,7.483456785,7.474832996,7.448961629,7.267862056,7.00914838,6.940158067,6.888415332,6.862543964,6.793553651,6.793553651,6.776306072,6.741810916,6.69869197,6.638325445,6.569335132,6.414106927,6.388235559,6.370987981,6.319245246,6.181264619,6.138145673,6.120898094,6.103650516,5.888055786,5.879431997,5.844936841,5.75007516,5.681084846,5.6379659,5.620718322,5.568975587,5.543104219,5.465490116,5.396499803,5.386316769,5.386316769,5.371042218,5.353221909,5.269211879,5.269211879,5.246300052,5.243754294,5.223388226,5.208113675,5.190293365,5.177564573,5.177564573,5.159744264,5.13174092,5.119012128,5.116466369,5.113920611,5.101191818,5.101191818,5.09864606,5.032456339,5.029910581,5.01463603,5.004452996,4.973903894,4.96372086,4.928080241,4.91280569,4.849161728,4.846615969,4.836432935,4.821158385,4.798246558,4.739694113,4.72696532,4.663321358,4.620043464,4.612406188,4.602223154,4.599677396,4.574219811,4.561491019,4.551307985,4.523304641,4.490209781,4.485118264,4.482572506,4.464752196,4.452023404,4.449477645,4.434203094,4.434203094,4.434203094,4.393470958,4.352738823,4.342555789,4.34001003,4.332372755,4.294186377,4.261091517,4.256,4.322842105,4.336210526,4.349578947,4.536736842,4.563473684,4.710526316,4.897684211,4.911052632,5.004631579,5.138315789,5.151684211,5.392315789,5.392315789,5.445789474,5.526,5.526,5.552736842,5.632947368,5.820105263,5.873578947,5.993894737,6.034,6.221157895,6.234526316,6.261263158,6.288,7.00306087,7.228869565,7.228869565,7.379408696,7.86866087,7.86866087,8.282643478,8.433182609,8.696626087,8.73426087,9.110608696,9.148243478,9.411686957,9.449321739,9.675130435,10.05147826,10.35255652,10.3901913,10.616,10.59098264,10.54928703,10.18236568,10.08229622,10.04893973,10.02392237,9.998905005,9.923852911,9.898835546,9.890496425,9.840461696,9.832122574,9.790426966,9.748731359,9.715374872,9.698696629,9.623644535,9.556931563,9.390149132,9.390149132,9.315097038,9.290079673,9.223366701,9.198349336,8.956514811,8.873123596,8.873123596,8.856445352,8.839767109,8.664645557,8.589593463,8.497863126,8.464506639,8.439489275,8.397793667,8.19765475,8.139280899,8.072567926,7.955820225,7.847411645,7.814055158,7.739003064,7.722324821,7.588898876,7.563881512,7.455472932,7.44713381,7.397099081,7.372081716,7.33872523,7.046855975,6.863395301,6.863395301,6.754986721,6.7466476,6.738308478,6.404743616,6.37138713,6.26297855,6.087856997,6.087856997,5.854361593,5.570831461,5.51245761,5.445744637,5.437405516,5.395709908,5.395709908,5.387370787,5.203910112,5.062145046,5.053805924,5.037127681,4.895362615,4.862006129,4.728580184,4.686884576,4.511763023,4.420032686,4.361658836,4.311624106,4.27826762,4.269928498,4.253250255,4.136502554,4.086467824,3.861311542,3.827955056,3.761242084,3.652833504,3.63615526,3.627816139,3.627816139,3.602798774,3.594459653,3.477711951,3.452694586,3.444355465,3.302590398,3.15248621,3.110790603,3.04407763,2.960686415,2.860616956,2.860616956,2.727191011,2.702173647,2.693834525,2.568747702,2.527052094,2.493695608,2.468678243,2.452,2.495229108,2.526107042,2.661969953,2.66814554,2.841061972,2.859588732,2.908993427,2.952222535,3.00162723,3.026329577,3.131314554,3.162192488,3.168368075,3.21777277,3.261001878,3.359811268,3.396864789,3.396864789,3.409215962,3.458620657,3.483323005,3.489498592,3.575956808,3.588307981,3.66859061,3.687117371,3.699468545,3.785926761,3.785926761,3.903262911,3.958843192,3.98354554,4.020599061,4.063828169,4.08235493,4.174988732,4.193515493,4.21821784,4.255271362,4.286149296,4.310851643,4.31702723,4.446714554,4.557875117,4.891356808,5.051922066,5.076624413,5.169258216,5.206311737,5.212487324,5.255716432,5.29894554,5.428632864,5.570671362,5.570671362,5.700358685,5.897977465,6.126474178,6.151176526,6.18205446,6.188230047,6.231459155,6.237634742,6.367322066,6.466131455,6.49700939,6.577292019,6.61434554,6.700803756,6.744032864,6.824315493,6.83049108,6.855193427,6.861369014,6.879895775,7.028109859,7.04663662,7.102216901,7.133094836,7.268957746,7.312186854,7.361591549,7.386293897,7.392469484,7.528332394,7.565385915,7.590088263,7.602439437,7.61479061,7.639492958,7.676546479,7.676546479,7.732126761,7.83093615,7.861814085,7.867989671,7.9482723,7.985325822,8.121188732,8.158242254,8.207646948,8.287929577,8.306456338,8.312631925,8.337334272,8.392914554,8.436143662,8.467021596,8.504075117,8.510250704,8.522601878,8.522601878,8.528777465,8.627586854,8.646113615,8.69551831,8.707869484,8.720220657,8.788152113,8.81285446,8.880785915,8.886961502,8.917839437,8.954892958,8.961068545,9.029,9.025181818,9.017545455,9.013727273,8.996545455,8.979363636,8.975545455,8.958363636,8.945,8.927818182,8.901090909,8.887727273,8.878181818,8.868636364,8.859090909,8.859090909,8.855272727,8.853363636,8.826636364,8.824727273,8.765545455,8.759818182,8.756,8.746454545,8.744545455,8.719727273,8.719727273,8.704454545,8.689181818,8.685363636,8.673909091,8.673909091,8.656727273,8.639545455,8.559363636,8.551727273,8.534545455,8.490636364,8.463909091,8.454363636,8.452454545,8.439090909,8.439090909,8.410454545,8.389454545,8.370363636,8.357,8.345545455,8.303545455,8.288272727,8.271090909,8.250090909,8.236727273,8.232909091,8.217636364,8.204272727,8.162272727,8.156545455,8.145090909,8.124090909,8.091636364,8.070636364,8.063,6.297,6.297,4.531,4.52054023,4.517925287,4.502235632,4.478701149,4.473471264,4.449936782,4.395022989,4.392408046,4.392408046,4.387178161,4.374103448,4.371488506,4.332264368,4.32441954,4.319189655,4.316574713,4.274735632,4.232896552,4.193672414,4.164908046,4.143988506,4.123068966,4.112609195,4.081229885,4.078614943,4.076,4.070770115,4.052465517,4.039390805,4.031545977,4.021086207,4.015856322,3.987091954,3.981862069,3.979247126,3.953097701,3.937408046,3.932178161,3.911258621,3.87987931,3.845885057,3.832810345,3.762206897,3.754362069,3.741287356,3.730827586,3.717752874,3.715137931,3.709908046,3.707293103,3.688988506,3.670683908,3.670683908,3.660224138,3.654994253,3.649764368,3.636689655,3.626229885,3.621,3.444902839,3.427293123,3.427293123,3.233586246,3.092708517,2.916611356,2.916611356,2.846172491,2.846172491,2.775733627,2.758123911,2.687685046,2.634855898,2.546807317,2.529197601,2.511587885,2.511587885,2.500178526,2.494473847,2.443131731,2.431722372,2.431722372,2.329038141,2.152193077,2.12366968,2.117965,2.095146282,2.095146282,2.043804167,2.038099487,1.975348013,1.958233974,1.918301218,1.918301218,1.866959103,1.827026346,1.821321667,1.718637436,1.718637436,1.673,1.702310631,1.741391472,1.800012734,1.81466805,1.839093576,1.843978681,1.848863786,1.863519101,1.868404207,1.887944627,1.897714838,1.936795679,1.96610631,1.985646731,2.014957362,2.019842467,2.034497782,2.073578624,2.122429675,2.151740306,2.195706253,2.215246673,2.239672199,2.24944241,2.361799828,2.371570039,2.376455144,2.381340249,2.415535985,2.474157247,2.488812563,2.645135928,2.70375719,2.718412505,2.762378452,2.777033767,2.850310345,2.86496566,2.879620976,2.918701817,2.938242238,2.991978395,2.9968635,3.00663371,3.026174131,3.031059236,3.040829446,3.045714552,3.114106024,3.114106024,3.123876234,3.202037917,3.236233653,3.260659179,3.343705967,3.421867649,3.446293175,3.446293175,3.446293175,3.509799542,3.534225068,3.539110173,3.543995278,3.646582487,3.685663328,3.690548433,3.719859064,3.758939906,3.827331378,3.832216483,3.837101588,3.87618243,3.881067535,3.964114323,3.993424954,4.0373909,4.061816426,4.115552583,4.120437688,4.130207898,4.139978109,4.149748319,4.154633424,4.17905895,4.227910002,4.34026742,4.34026742,4.403773788,4.428199313,4.457509944,4.506360996,4.513910461,4.517685193,4.559207248,4.574306178,4.574306178,4.581855642,4.585630375,4.638476627,4.646026092,4.729070203,4.736619668,4.736619668,4.755493329,4.774366991,4.78946592,4.804564849,4.864960566,4.906482622,4.948004677,5.019724592,5.068796112,5.076345576,5.102768703,5.140516026,5.155614955,5.155614955,5.170713884,5.200911743,5.268856925,5.276406389,5.276406389,5.336802106,5.351901036,5.461368273,5.491566131,5.502890328,5.502890328,5.506665061,5.536862919,5.57083551,5.657654354,5.687852212,5.691626944,5.733149,5.785995252,5.827517308,5.853940434,5.906786687,5.94453401,6.004929727,6.021629579,6.038329431,6.047872203,6.057414976,6.066957749,6.066957749,6.109900225,6.140914236,6.169542553,6.200556564,6.233956268,6.286441517,6.28882721,6.303141369,6.315069835,6.315069835,6.317455528,6.317455528,6.393797708,6.441511571,6.441511571,6.446282957,6.462982809,6.467754195,6.496382513,6.505925286,6.544096376,6.596581625,6.596581625,6.613281477,6.618052863,6.632367022,6.632367022,6.649066874,6.658609646,6.658609646,6.711094895,6.730180441,6.785051383,6.799365541,6.8136797,6.863779256,6.887636188,6.887636188,6.937735743,6.949664209,6.985449606,6.990220992,7.004535151,7.004535151,7.035549162,7.037934855,7.040320548,7.042706241,7.045091935,7.052249014,7.107119956,7.107119956,7.114277036,7.116662729,7.145291046,7.147676739,7.171533671,7.202547682,7.212090454,7.228790306,7.235947385,7.240718772,7.245490158,7.247875851,7.255032931,7.271732783,7.352846349,7.402945905,7.410102984,7.436345609,7.443502688,7.455431154,7.464973927,7.464973927,7.488830858,7.510302096,7.553244573,7.562787345,7.577101504,7.577101504,7.873759506,7.885169429,8.0677282,8.090548046,8.159007585,8.204647278,7.999885927,6.361795121,5.747511068,4.928465665,3.904658911,3.69989756,3.69989756,2.676090806,2.471329456,1.857045403,1.038,1.039344086,1.040688172,1.042032258,1.048080645,1.048080645,1.056817204,1.060177419,1.060849462,1.069586022,1.071602151,1.084370968,1.088403226,1.089747312,1.102516129,1.102516129,1.103188172,1.111252688,1.111252688,1.111252688,1.115956989,1.124021505,1.124693548,1.141494624,1.145526882,1.148215054,1.153591398,1.159639785,1.160983871,1.163,1.342526316,1.414336842,1.414336842,1.701578947,1.809294737,2.096536842,2.132442105,2.671021053,3.999515789,4.143136842,4.322663158,4.538094737,4.574,4.567190801,4.565488502,4.560381602,4.545060905,4.541656306,4.529740208,4.524633309,4.511014911,4.507610312,4.478671217,4.476968917,4.473564318,4.473564318,4.540582148,4.607599978,4.920349852,5.009706958,5.188421172,5.233099725,5.456492492,5.523510322,5.568188876,5.612867429,5.635206706,5.657545982,5.679885259,6.149010069,6.461759943,6.707491987,6.774509817,7.042581137,7.176616797,7.176616797,7.066130589,6.974058749,6.969455157,6.914212053,6.732488023,6.369039963,5.642143842,5.460419812,5.278695782,2.371111301,2.771917956,3.287240799,3.802563642,3.802563642,3.798304611,3.79457796,3.792980823,3.792980823,3.788721792,3.783398004,3.778606595,3.775412322,3.774347564,3.774347564,3.756779063,3.754649548,3.748261002,3.746131486,3.74453435,3.738145804,3.736016289,3.730160121,3.728562985,3.725901091,3.716318272,3.715253514,3.706735453,3.705138317,3.701411665,3.698217392,3.696620255,3.684375542,3.677986996,3.673727966,3.673727966,3.66733942,3.66254801,3.658821359,3.651900434,3.646576646,3.646576646,3.644979509,3.6401881,3.638058584,3.636461448,3.632202417,3.631670038,3.630072902,3.630072902,3.623684356,3.611972022,3.610374885,3.606648234,3.596000657,3.594403521,3.591741626,3.591741626,3.577899777,3.576835019,3.574705504,3.570446473,3.565122685,3.56299317,3.56299317,3.558734139,3.555007487,3.554475108,3.548086563,3.546489426,3.545424668,3.54010088,3.532647577,3.522,3.522,3.522,3.522,3.522,3.522,3.522,3.522,3.522,3.522,3.522,3.522,3.522,3.522,3.522,3.522,3.522,3.522,3.522,3.522,3.522,3.522,3.522,3.522,3.522,3.522,3.522,3.522,3.522,3.522,3.522,3.522,3.522,3.522,3.522,3.474241935,3.410564516,3.410564516,3.315048387,3.299129032,3.267290323,3.139935484,3.06033871,3.012580645,2.837467742,2.789709677,2.773790323,2.471322581,2.391725806,2.057419355,1.834548387,1.548,1.559683032,1.559683032,1.863441871,2.78640142,2.798084452,2.821450517,2.973329936,3.090160259,3.101843291,3.101843291,3.452334259,3.487383356,3.487383356,3.907972517,3.954704647,4.200048324,4.480441098,4.573905357,4.690735679,4.784199937,4.842615099,4.854298131,4.912713292,4.924396325,5.111324841,5.274887292,5.403400647,5.566963099,5.602012196,5.672110389,5.812306777,6.081016519,6.232895938,6.24457897,6.408141422,6.524971745,6.548337809,6.711900261,6.828730584,7.296051874,7.366150068,7.3778331,7.471297358,7.63485981,7.681591939,6.412186867,6.310634461,5.75209623,3.619495709,2.603971652,2.553195449,2.502419246,2.451643043,2.096209623,1.69,1.69,2.214819657,2.357952291,2.405663169,2.644217559,2.787350192,3.145181777,3.76542319,3.860844946,3.908555824,4.21867653,4.433375481,4.743496187,4.838917943,5.029761455,5.101327772,5.125183211,5.387593039,5.578436551,5.650002868,5.983979014,6.150967086,6.317955159,6.842774816,7.009762889,7.343739035,7.534582546,7.606148863,7.701570619,7.313365539,7.257907671,6.925160459,6.53695538,5.871460957,5.095050798,4.873219324,4.429556375,3.819519821,3.48677261,2.377615239,2.155783765,1.98941016,1.712120817,1.213,1.221427231,1.309913156,1.314126771,1.368903772,1.516380314,1.545875622,1.621720701,1.65964324,1.663856855,1.790265319,1.853469551,1.857683167,1.908246553,1.916673783,1.916673783,2.009373324,2.047295863,2.051509478,2.064150325,2.089432018,2.123140941,2.127354557,2.131568172,2.211626866,2.232694944,2.279044714,2.312753638,2.380171485,2.392812332,2.392812332,2.397025947,2.408692706,2.426192844,2.502026776,2.537027052,2.566193949,2.586610776,2.595360846,2.621611053,2.64786126,2.665361398,2.691611605,2.694528295,2.74119533,2.744112019,2.755778778,2.770362227,2.892863193,2.916196711,2.957030366,2.965780435,2.974530505,2.983280574,3.006614091,3.059114505,3.158281955,3.164115334,3.175782093,3.213699059,3.228282507,3.283699611,3.38286706,3.394533819,3.438284164,3.499534648,3.508284717,3.534534924,3.589952028,3.705185386,3.748397896,3.777206235,3.964460443,4.050885462,4.13731048,4.209331329,4.209331329,4.238139669,4.238139669,4.266948009,4.324564688,4.425393876,4.627052253,4.742285612,5.131198196,5.174410706,5.347260743,5.476898272,5.520110781,5.62093997,5.750577498,5.764981667,5.808194177,5.880215026,6.427573478,6.499594327,6.586019346,6.701252704,6.946123591,7.01814444,7.104569459,7.133377798,7.464673704,7.479077873,7.781565439,7.896798798,8.141669684,8.156073854,8.285711382,8.544986438,8.631411457,8.905090683,8.991515702,9.034728212,9.337215777,9.495661645,9.8989784,10.01421176,10.0430201,10.11504095,10.20146597,10.21587014,10.2302743,10.33110349,10.46074102,10.56157021,10.8064411,10.97929113,11.09452449,11.5698621,11.68509545,11.72830796,12.11722055,12.20364557,12.24685808,12.43411228,12.43411228,12.53494147,12.85183321,12.93825823,13.2839583,13.428,13.428,13.12894656,12.38131298,9.16648855,9.091725191,7.970274809,7.596458015,6.923587786,6.848824427,6.848824427,5.802137405,5.652610687,5.204030534,4.157343511,3.634,3.602431446,3.600458412,3.594539308,3.592566273,3.58664717,3.584674135,3.56099772,3.497860612,3.493914543,3.46234599,3.403154951,3.399208882,3.397235848,3.282799841,3.249258252,3.225581837,3.213743629,3.195986318,3.182175076,3.182175076,3.160471695,3.138768315,3.115091899,3.046035688,3.03814355,3.020386238,3.014467135,2.990790719,2.975006442,2.971060373,2.93554575,2.911869335,2.902004162,2.890165955,2.846759193,2.844786159,2.842813124,2.757972636,2.750080498,2.742188359,2.684970356,2.667213044,2.635644491,2.627752352,2.590264695,2.574480418,2.507397241,2.505424207,2.310093781,2.302201643,2.268660054,2.268660054,2.254848812,2.248929708,2.246956674,2.211442051,2.433376981,3.4043423,4.070147089,4.652726281,4.708210013,4.763693746,6.039819593,6.178528924,6.234012656,7.454654771,7.565622236,7.732073434,7.7598153,8.370136357,8.675296886,8.684197563,8.819932887,8.835509072,8.844409749,8.857760765,8.980145073,9.064701505,7.521265739,6.074294708,4.145,4.191233546,4.329934183,4.43395966,4.457076433,4.480193206,5.219929936,5.254605096,5.49733121,6.213951168,6.237067941,6.526027601,6.757195329,6.88433758,6.976804671,7.057713376,7.127063694,7.17329724,7.358231423,7.358231423,7.416023355,7.774333333,8.178876858,8.282902335,8.444719745,8.964847134,9.022639066,9.30004034,9.334715499,9.589,9.480137255,9.33045098,8.895,8.707911195,8.437671809,8.167432424,8.105069489,8.084281844,7.949162151,7.751679524,7.554196896,7.533409251,7.211200753,7.190413108,7.169625463,6.70190345,6.61875287,6.348513484,6.317332017,6.182212324,6.005517342,5.984729697,5.392281813,5.153223896,4.581563657,4.415262497,4.394474852,4.196992224,4.009903419,3.802026969,3.583756696,3.562969051,3.542181406,2.89776441,2.60673738,2.663367435,2.730293865,3.003147768,3.116407879,3.121556066,3.29659442,3.306890793,3.502521894,3.590041071,3.605485631,3.816561293,3.857746788,3.950414151,4.146045252,4.151193439,4.197527121,4.34682454,4.521862893,4.671160312,4.748383115,4.799864984,4.877087787,4.88738416,4.954310589,5.083015261,5.113904382,5.113904382,5.129348943,5.13449713,5.144793503,5.381610099,5.39705466,5.422795594,5.427943781,5.536055705,5.541203892,5.783168674,5.886132412,5.917021533,5.973651588,6.10235626,6.128097194,6.452432967,6.704694123,6.797361486,7.054770829,7.059919016,7.07021539,7.101104511,7.15258638,7.229809183,7.260698304,7.43058847,7.518107647,7.703442374,7.801257925,7.95570353,7.971148091,8.290335677,8.583782328,8.614671449,8.707338812,8.81030255,9.062563706,9.067711893,9.232453872,9.330269423,9.330269423,9.402344039,9.536196897,9.541345084,9.551641458,9.618567887,9.716383438,9.716383438,9.783309867,9.891421791,9.963496407,9.807873756,9.444754239,8.511018335,8.459144119,8.199773034,7.810716408,7.8358695,7.884696091,7.905410402,7.960155367,7.960155367,8.00602277,8.05041058,8.010305905,7.967694688,7.955161977,7.877459169,7.817302156,7.676935794,7.641844203,7.599232986,7.52403672,7.358604936,7.293434839,7.270875959,7.268369417,7.165601187,7.060326415,6.945025475,6.902414257,6.897401173,9.628,8.680101386,7.698349249,7.664495727,7.529081639,6.073380196,5.97181963,5.97181963,14.955,14.78906629,14.10458974,13.77272232,12.48673607,12.36228579,12.21709379,11.22149154,10.22588928,10.12218071,9.70734644,9.645121299,9.562154444,9.292512166,9.230287025,8.91916132,8.545810474,8.400618478,8.068751059,6.575347674,5.870129409,5.641970559],\"type\":\"scatter\"},{\"mode\":\"lines\",\"name\":\"Actual Test\",\"x\":[\"19:34\",\"19:34\",\"19:34\",\"19:35\",\"19:36\",\"19:36\",\"19:36\",\"19:37\",\"19:37\",\"19:37\",\"19:37\",\"19:37\",\"19:38\",\"19:38\",\"19:38\",\"19:38\",\"19:38\",\"19:39\",\"19:39\",\"19:39\",\"19:40\",\"19:40\",\"19:40\",\"19:40\",\"19:41\",\"19:41\",\"19:42\",\"19:42\",\"19:42\",\"19:42\",\"19:43\",\"19:44\",\"19:44\",\"19:44\",\"19:45\",\"19:45\",\"19:45\",\"19:47\",\"19:47\",\"19:47\",\"19:47\",\"19:47\",\"19:48\",\"19:48\",\"19:48\",\"19:48\",\"19:48\",\"19:49\",\"19:49\",\"19:50\",\"19:50\",\"19:50\",\"19:50\",\"19:50\",\"19:50\",\"19:51\",\"19:51\",\"19:51\",\"19:52\",\"19:53\",\"19:54\",\"19:54\",\"19:54\",\"19:56\",\"19:56\",\"19:57\",\"19:57\",\"19:57\",\"19:57\",\"19:58\",\"19:59\",\"19:59\",\"20:00\",\"20:00\",\"20:00\",\"20:01\",\"20:02\",\"20:02\",\"20:03\",\"20:03\",\"20:04\",\"20:04\",\"20:04\",\"20:04\",\"20:04\",\"20:05\",\"20:05\",\"20:05\",\"20:06\",\"20:06\",\"20:06\",\"20:06\",\"20:06\",\"20:07\",\"20:07\",\"20:07\",\"20:08\",\"20:08\",\"20:09\",\"20:09\",\"20:09\",\"20:10\",\"20:10\",\"20:10\",\"20:11\",\"20:12\",\"20:12\",\"20:12\",\"20:12\",\"20:12\",\"20:13\",\"20:14\",\"20:14\",\"20:15\",\"20:15\",\"20:15\",\"20:15\",\"20:15\",\"20:16\",\"20:16\",\"20:17\",\"20:17\",\"20:17\",\"20:18\",\"20:18\",\"20:19\",\"20:19\",\"20:19\",\"20:19\",\"20:20\",\"20:21\",\"20:22\",\"20:22\",\"20:22\",\"20:22\",\"20:22\",\"20:22\",\"20:22\",\"20:23\",\"20:23\",\"20:23\",\"20:24\",\"20:24\",\"20:25\",\"20:25\",\"20:25\",\"20:26\",\"20:26\",\"20:26\",\"20:26\",\"20:26\",\"20:27\",\"20:27\",\"20:27\",\"20:27\",\"20:27\",\"20:27\",\"20:27\",\"20:29\",\"20:29\",\"20:30\",\"20:30\",\"20:30\",\"20:31\",\"20:31\",\"20:31\",\"20:31\",\"20:32\",\"20:32\",\"20:33\",\"20:33\",\"20:33\",\"20:34\",\"20:34\",\"20:34\",\"20:35\",\"20:35\",\"20:35\",\"20:36\",\"20:36\",\"20:36\",\"20:36\",\"20:37\",\"20:37\",\"20:38\",\"20:38\",\"20:38\",\"20:38\",\"20:38\",\"20:39\",\"20:39\",\"20:39\",\"20:39\",\"20:40\",\"20:41\",\"20:41\",\"20:42\",\"20:42\",\"20:42\",\"20:45\",\"20:45\",\"20:46\",\"20:47\",\"20:47\",\"20:47\",\"20:48\",\"20:49\",\"20:49\",\"20:49\",\"20:50\",\"20:50\",\"20:51\",\"20:52\",\"20:52\",\"20:52\",\"20:52\",\"20:53\",\"20:53\",\"20:53\",\"20:53\",\"20:54\",\"20:54\",\"20:54\",\"20:54\",\"20:55\",\"20:55\",\"20:55\",\"20:55\",\"20:56\",\"20:57\",\"20:57\",\"20:57\",\"20:57\",\"20:58\",\"20:59\",\"20:59\",\"20:59\",\"21:00\",\"21:00\",\"21:00\",\"21:00\",\"21:01\",\"21:01\",\"21:01\",\"21:01\",\"21:02\",\"21:03\",\"21:04\",\"21:04\",\"21:06\",\"21:07\",\"21:07\",\"21:07\",\"21:08\",\"21:08\",\"21:08\",\"21:09\",\"21:09\",\"21:09\",\"21:10\",\"21:10\",\"21:10\",\"21:11\",\"21:11\",\"21:11\",\"21:12\",\"21:12\",\"21:12\",\"21:12\",\"21:13\",\"21:13\",\"21:13\",\"21:14\",\"21:14\",\"21:14\",\"21:14\",\"21:14\",\"21:15\",\"21:15\",\"21:16\",\"21:16\",\"21:16\",\"21:17\",\"21:17\",\"21:18\",\"21:18\",\"21:18\",\"21:19\",\"21:19\",\"21:20\",\"21:20\",\"21:21\",\"21:21\",\"21:23\",\"21:23\",\"21:23\",\"21:23\",\"21:24\",\"21:24\",\"21:24\",\"21:25\",\"21:26\",\"21:26\",\"21:26\",\"21:27\",\"21:27\",\"21:28\",\"21:29\",\"21:29\",\"21:30\",\"21:30\",\"21:30\",\"21:30\",\"21:31\",\"21:31\",\"21:31\",\"21:31\",\"21:31\",\"21:31\",\"21:32\",\"21:33\",\"21:33\",\"21:33\",\"21:33\",\"21:33\",\"21:33\",\"21:34\",\"21:34\",\"21:35\",\"21:35\",\"21:35\",\"21:35\",\"21:36\",\"21:36\",\"21:37\",\"21:38\",\"21:38\",\"21:39\",\"21:39\",\"21:39\",\"21:39\",\"21:39\",\"21:39\",\"21:40\",\"21:40\",\"21:41\",\"21:41\",\"21:42\",\"21:43\",\"21:44\",\"21:44\",\"21:45\",\"21:45\",\"21:46\",\"21:46\",\"21:46\",\"21:48\",\"21:48\",\"21:48\",\"21:49\",\"21:49\",\"21:49\",\"21:50\",\"21:50\",\"21:50\",\"21:51\",\"21:52\",\"21:53\",\"21:53\",\"21:53\",\"21:54\",\"21:55\",\"21:55\",\"21:55\",\"21:55\",\"21:55\",\"21:55\",\"21:57\",\"21:58\",\"21:58\",\"21:59\",\"21:59\",\"21:59\",\"21:59\",\"22:00\",\"22:00\",\"22:01\",\"22:01\",\"22:01\",\"22:01\",\"22:01\",\"22:02\",\"22:02\",\"22:02\",\"22:02\",\"22:02\",\"22:03\",\"22:04\",\"22:04\",\"22:06\",\"22:07\",\"22:07\",\"22:07\",\"22:07\",\"22:08\",\"22:08\",\"22:09\",\"22:09\",\"22:11\",\"22:11\",\"22:11\",\"22:11\",\"22:11\",\"22:12\",\"22:12\",\"22:12\",\"22:12\",\"22:13\",\"22:13\",\"22:13\",\"22:14\",\"22:14\",\"22:15\",\"22:15\",\"22:15\",\"22:15\",\"22:15\",\"22:16\",\"22:17\",\"22:18\",\"22:18\",\"22:20\",\"22:20\",\"22:20\",\"22:21\",\"22:23\",\"22:23\",\"22:23\",\"22:23\",\"22:26\",\"22:26\",\"22:26\",\"22:26\",\"22:27\",\"22:27\",\"22:27\",\"22:28\",\"22:28\",\"22:28\",\"22:29\",\"22:29\",\"22:30\",\"22:31\",\"22:31\",\"22:32\",\"22:33\",\"22:33\",\"22:34\",\"22:34\",\"22:35\",\"22:35\",\"22:35\",\"22:35\",\"22:35\",\"22:36\",\"22:37\",\"22:39\",\"22:39\",\"22:40\",\"22:40\",\"22:41\",\"22:43\",\"22:43\",\"22:45\",\"22:45\",\"22:46\",\"22:46\",\"22:48\",\"22:48\",\"22:49\",\"22:50\",\"22:50\",\"22:51\",\"22:52\",\"22:53\",\"22:53\",\"22:53\",\"22:55\",\"22:55\",\"22:56\",\"22:56\",\"22:56\",\"22:56\",\"22:57\",\"22:57\",\"22:59\",\"23:02\",\"23:03\",\"23:06\",\"23:06\",\"23:07\",\"23:07\",\"23:07\",\"23:07\",\"23:07\",\"23:08\",\"23:09\",\"23:10\",\"23:11\",\"23:11\",\"23:11\",\"23:12\",\"23:12\",\"23:13\",\"23:13\",\"23:14\",\"23:16\",\"23:16\",\"23:16\",\"23:16\",\"23:18\",\"23:18\",\"23:18\",\"23:20\",\"23:22\",\"23:22\",\"23:22\",\"23:22\",\"23:24\",\"23:25\",\"23:26\",\"23:28\",\"23:31\",\"23:32\",\"23:33\",\"23:34\",\"23:35\",\"23:35\",\"23:36\",\"23:36\",\"23:37\",\"23:37\",\"23:37\",\"23:39\",\"23:39\",\"23:40\",\"23:41\",\"23:41\",\"23:44\",\"23:44\",\"23:44\",\"23:46\",\"23:47\",\"23:47\",\"23:48\",\"23:48\",\"23:48\",\"23:49\",\"23:50\",\"23:50\",\"23:53\",\"23:55\",\"23:55\",\"23:55\",\"23:55\",\"23:57\",\"23:57\",\"23:57\",\"23:58\",\"23:58\",\"23:59\"],\"y\":[5.164911144,4.584143161,4.355984311,3.775216328,5.304676203,5.326842288,5.836662246,5.880994416,5.947492672,6.723305652,6.789803907,7.122295184,7.343956036,7.765111653,7.898108164,7.986772505,8.119769015,8.518758548,8.806917655,9.272405443,9.981720167,10.3807097,10.75753315,10.8240314,11.82150523,12.021,11.59957106,11.4965551,11.28115809,11.26242791,11.24369774,10.60687179,10.30718899,10.18544285,9.848299699,9.810839349,9.745283736,8.977346561,8.949251299,8.799409898,8.743219373,8.537187448,8.256234823,8.153218861,8.050202898,8.022107636,7.975282198,7.731789923,8.615061804,8.72547079,8.924206963,8.924206963,7.894779649,7.122709164,6.5436563,3.262356737,2.361607837,2.364167934,2.376328396,2.432650533,2.449291165,2.451851262,2.456971457,2.525454056,2.547854906,2.582416218,2.589456485,2.592656607,2.593936655,2.597136777,2.640658428,2.656019011,2.673939692,2.674579716,2.686100153,2.714261222,2.759062923,2.785943943,2.793624234,2.80194455,2.831385668,2.832025692,2.833945765,2.856346615,2.858266688,2.885787732,2.890267902,2.900508291,2.908188583,2.91074868,2.920349044,2.933789554,2.936989676,2.945309992,2.952350259,2.974751109,2.997151959,2.997151959,3.031713271,3.042593684,3.048993927,3.061794413,3.086115336,3.093795627,3.111076283,3.144357546,3.150757789,3.151397814,3.155237959,3.170598542,3.209,3.185245751,3.168863511,3.132822582,3.122993238,3.121355014,3.118897678,3.108249222,3.082037637,3.073027405,3.057464276,3.05091138,3.023061572,3.003402883,2.994392651,2.959989946,2.954256162,2.944426818,2.914119673,2.910024113,2.817464455,2.806815999,2.806815999,2.784699974,2.780604414,2.77896619,3.445934869,3.529305954,3.737733666,4.15458909,4.196274632,7.447746941,7.78123128,8.573256586,8.82336984,10.44910599,11.15776022,11.57461564,12.908553,13.32540842,13.53383613,13.61720722,13.82563493,13.9923771,13.9923771,14.2841759,15.368,15.368,14.82667464,14.58061766,14.48219486,14.266895,14.23613788,14.05774657,13.93471808,13.88550668,13.85474956,13.57178403,13.55332976,13.30727277,13.11042719,13.09812434,12.98124727,12.97509585,12.77209884,12.67367605,12.64907035,12.51373901,12.24922775,12.15695638,12.02162504,11.9601108,11.83708231,11.82477946,11.46184541,11.43723971,11.40033116,11.34496834,11.24039412,11.11736563,11.11121421,11.10506278,11.01279142,10.77288586,10.33613471,10.31768044,9.99165494,9.905534996,9.831717901,8.847489973,8.675250085,8.484555924,8.170833272,8.133924724,7.91247344,7.7771421,7.30348241,7.30348241,7.248119589,6.946699785,6.940548361,6.688339954,6.380768726,6.356163028,6.343860179,6.122408895,6.005531829,5.993228979,5.820989092,5.679506327,5.482660741,5.43960077,5.396540798,5.371935099,5.230452335,5.199695212,5.15663524,5.027455324,4.744489795,4.547644209,4.356950048,4.338495774,4.283132953,3.98171315,3.766413291,3.747959017,3.698747621,3.372722119,3.305056449,3.231239355,3.15742226,3.225171175,3.306469874,3.323407103,3.347119223,3.580852981,3.641827005,3.855236089,3.943309679,4.339640834,4.536112689,4.549662472,4.576762038,4.725809652,4.78339623,4.80710835,4.830820471,4.918894061,5.000192759,5.067941675,5.071329121,5.203439506,5.298287987,5.389749023,5.396523915,5.433785818,5.504922179,5.521859408,5.57605854,5.742043383,5.742043383,5.748818275,5.877541214,5.887703551,5.918190563,5.985939479,6.006264153,6.141761984,6.23322302,6.267097478,6.351783622,6.416145092,6.507606127,6.538093139,6.758277115,6.778601789,6.809088801,6.944586632,6.968298752,7.076697017,7.083471909,7.279943763,7.300268438,7.713536822,7.788060629,7.788060629,7.79483552,7.933720797,7.987919929,8.055668845,8.167454555,8.309727278,8.438450217,8.452,8.239757353,8.020439951,7.949692402,7.263441176,7.129020833,7.058273284,6.966301471,6.895553922,6.754058824,6.690386029,6.655012255,6.655012255,6.61963848,6.598414216,6.350797794,5.905088235,5.770667892,5.756518382,5.728219363,5.678696078,5.53720098,5.530126225,5.388631127,5.374481618,4.865099265,4.82972549,4.667006127,4.603333333,4.525511029,4.214221814,3.74728799,3.443073529,3.329877451,3.181307598,3.06811152,3.02566299,2.940765931,2.933691176,2.933691176,2.679,2.633244787,2.594869447,2.590441523,2.484171351,2.413324569,2.355761559,2.296722575,2.267203083,2.25687126,2.163884859,2.146173164,2.132889393,2.0103835,1.986767906,1.963152312,1.9114932,1.855406165,1.845074343,1.827362647,1.821458749,1.778655485,1.70338078,1.622202176,1.564639166,1.508552131,1.504124207,1.394902085,1.375714415,1.374238441,1.368334542,1.362430644,1.349146872,1.332911151,1.186789665,1.051,1.082657817,1.462551616,1.810787598,2.25399703,3.203731528,3.362020611,4.470044191,5.989619387,6.021277204,6.021277204,6.401171003,6.686091352,7.097642967,7.572510216,8.047377465,8.058566436,8.094371145,8.168218356,8.262205716,8.315912779,8.541930002,8.676197659,8.680673247,8.696337807,8.705288984,8.792562961,8.913403853,8.935781796,9.045433716,9.190890344,9.202079315,9.244597407,9.258024173,9.302780058,9.358724915,9.394529624,9.412431978,9.430334332,9.454950069,9.504181544,9.513132721,9.602644492,9.719009795,9.752576709,9.766003475,9.783905829,9.788381418,9.842088481,9.895795543,10.01887423,10.16656865,10.21803792,10.40825043,10.49552441,10.5,10.86963528,11.20230703,11.27095358,11.33431963,11.35544164,12.21088329,12.31649337,12.32705438,12.3587374,12.50131101,12.69668966,12.73893369,12.81286074,12.98711737,12.99239788,13.2828256,13.36731366,13.5574118,13.86368103,14.00097414,14.06434019,14.55014655,14.68215915,14.81417175,14.84585477,15.12572149,15.21020955,15.22077056,15.24189257,15.2841366,15.4055882,15.75410146,16.30855438,16.43528647,16.82076326,16.87884881,17.17455703,17.5389118,17.58643634,18.43659748,18.463,18.45464103,18.40588034,18.25959829,18.24288034,18.17879487,18.1035641,18.06455556,18.03111966,17.90991453,17.87090598,17.83607692,17.81657265,17.70094017,17.6368547,17.60481197,17.59784615,17.56858974,17.55744444,17.51982906,17.49893162,17.32617949,17.1032735,17.00575214,16.71597436,16.71040171,16.68393162,16.66721368,16.62959829,16.62959829,16.61845299,16.5404359,16.48749573,16.36768376,16.35653846,16.344,16.11888905,15.962562,15.78747571,15.59363017,15.4435562,15.24345758,14.3367607,14.30549529,14.28673604,14.2304583,13.81150181,13.64892168,13.56137854,12.86728644,12.31076215,12.12316969,12.12316969,12.0168673,11.41031835,10.82878173,10.52863379,9.759504714,8.765264685,8.296283539,7.983629442,7.721,1.571,1.766921053,2.080394737,2.602850877,3.125307018,3.216736842,3.556333333,4.549,5.515452542,7.389784746,7.711935593,7.916940678,13.65708305,13.80351525,14.56496271,17.23002881,18.48934576,19.22150678,20.33439153,20.65654237,20.77368814,21.828,18.95506338,17.93680736,13.0273587,7.681514599,7.499683167,7.063287731,6.881456299,3.717589384,6.782,6.751644068,5.324915254,4.839220339,3.2],\"type\":\"scatter\"}],                        {\"title\":{\"text\":\"San Francisco Air Quality Index (2010-2021)\"},\"xaxis\":{\"title\":{\"text\":\"Year\"}},\"yaxis\":{\"title\":{\"text\":\"AQI Value\"}},\"template\":{\"data\":{\"histogram2dcontour\":[{\"type\":\"histogram2dcontour\",\"colorbar\":{\"outlinewidth\":0,\"ticks\":\"\"},\"colorscale\":[[0.0,\"#0d0887\"],[0.1111111111111111,\"#46039f\"],[0.2222222222222222,\"#7201a8\"],[0.3333333333333333,\"#9c179e\"],[0.4444444444444444,\"#bd3786\"],[0.5555555555555556,\"#d8576b\"],[0.6666666666666666,\"#ed7953\"],[0.7777777777777778,\"#fb9f3a\"],[0.8888888888888888,\"#fdca26\"],[1.0,\"#f0f921\"]]}],\"choropleth\":[{\"type\":\"choropleth\",\"colorbar\":{\"outlinewidth\":0,\"ticks\":\"\"}}],\"histogram2d\":[{\"type\":\"histogram2d\",\"colorbar\":{\"outlinewidth\":0,\"ticks\":\"\"},\"colorscale\":[[0.0,\"#0d0887\"],[0.1111111111111111,\"#46039f\"],[0.2222222222222222,\"#7201a8\"],[0.3333333333333333,\"#9c179e\"],[0.4444444444444444,\"#bd3786\"],[0.5555555555555556,\"#d8576b\"],[0.6666666666666666,\"#ed7953\"],[0.7777777777777778,\"#fb9f3a\"],[0.8888888888888888,\"#fdca26\"],[1.0,\"#f0f921\"]]}],\"heatmap\":[{\"type\":\"heatmap\",\"colorbar\":{\"outlinewidth\":0,\"ticks\":\"\"},\"colorscale\":[[0.0,\"#0d0887\"],[0.1111111111111111,\"#46039f\"],[0.2222222222222222,\"#7201a8\"],[0.3333333333333333,\"#9c179e\"],[0.4444444444444444,\"#bd3786\"],[0.5555555555555556,\"#d8576b\"],[0.6666666666666666,\"#ed7953\"],[0.7777777777777778,\"#fb9f3a\"],[0.8888888888888888,\"#fdca26\"],[1.0,\"#f0f921\"]]}],\"heatmapgl\":[{\"type\":\"heatmapgl\",\"colorbar\":{\"outlinewidth\":0,\"ticks\":\"\"},\"colorscale\":[[0.0,\"#0d0887\"],[0.1111111111111111,\"#46039f\"],[0.2222222222222222,\"#7201a8\"],[0.3333333333333333,\"#9c179e\"],[0.4444444444444444,\"#bd3786\"],[0.5555555555555556,\"#d8576b\"],[0.6666666666666666,\"#ed7953\"],[0.7777777777777778,\"#fb9f3a\"],[0.8888888888888888,\"#fdca26\"],[1.0,\"#f0f921\"]]}],\"contourcarpet\":[{\"type\":\"contourcarpet\",\"colorbar\":{\"outlinewidth\":0,\"ticks\":\"\"}}],\"contour\":[{\"type\":\"contour\",\"colorbar\":{\"outlinewidth\":0,\"ticks\":\"\"},\"colorscale\":[[0.0,\"#0d0887\"],[0.1111111111111111,\"#46039f\"],[0.2222222222222222,\"#7201a8\"],[0.3333333333333333,\"#9c179e\"],[0.4444444444444444,\"#bd3786\"],[0.5555555555555556,\"#d8576b\"],[0.6666666666666666,\"#ed7953\"],[0.7777777777777778,\"#fb9f3a\"],[0.8888888888888888,\"#fdca26\"],[1.0,\"#f0f921\"]]}],\"surface\":[{\"type\":\"surface\",\"colorbar\":{\"outlinewidth\":0,\"ticks\":\"\"},\"colorscale\":[[0.0,\"#0d0887\"],[0.1111111111111111,\"#46039f\"],[0.2222222222222222,\"#7201a8\"],[0.3333333333333333,\"#9c179e\"],[0.4444444444444444,\"#bd3786\"],[0.5555555555555556,\"#d8576b\"],[0.6666666666666666,\"#ed7953\"],[0.7777777777777778,\"#fb9f3a\"],[0.8888888888888888,\"#fdca26\"],[1.0,\"#f0f921\"]]}],\"mesh3d\":[{\"type\":\"mesh3d\",\"colorbar\":{\"outlinewidth\":0,\"ticks\":\"\"}}],\"scatter\":[{\"fillpattern\":{\"fillmode\":\"overlay\",\"size\":10,\"solidity\":0.2},\"type\":\"scatter\"}],\"parcoords\":[{\"type\":\"parcoords\",\"line\":{\"colorbar\":{\"outlinewidth\":0,\"ticks\":\"\"}}}],\"scatterpolargl\":[{\"type\":\"scatterpolargl\",\"marker\":{\"colorbar\":{\"outlinewidth\":0,\"ticks\":\"\"}}}],\"bar\":[{\"error_x\":{\"color\":\"#2a3f5f\"},\"error_y\":{\"color\":\"#2a3f5f\"},\"marker\":{\"line\":{\"color\":\"#E5ECF6\",\"width\":0.5},\"pattern\":{\"fillmode\":\"overlay\",\"size\":10,\"solidity\":0.2}},\"type\":\"bar\"}],\"scattergeo\":[{\"type\":\"scattergeo\",\"marker\":{\"colorbar\":{\"outlinewidth\":0,\"ticks\":\"\"}}}],\"scatterpolar\":[{\"type\":\"scatterpolar\",\"marker\":{\"colorbar\":{\"outlinewidth\":0,\"ticks\":\"\"}}}],\"histogram\":[{\"marker\":{\"pattern\":{\"fillmode\":\"overlay\",\"size\":10,\"solidity\":0.2}},\"type\":\"histogram\"}],\"scattergl\":[{\"type\":\"scattergl\",\"marker\":{\"colorbar\":{\"outlinewidth\":0,\"ticks\":\"\"}}}],\"scatter3d\":[{\"type\":\"scatter3d\",\"line\":{\"colorbar\":{\"outlinewidth\":0,\"ticks\":\"\"}},\"marker\":{\"colorbar\":{\"outlinewidth\":0,\"ticks\":\"\"}}}],\"scattermapbox\":[{\"type\":\"scattermapbox\",\"marker\":{\"colorbar\":{\"outlinewidth\":0,\"ticks\":\"\"}}}],\"scatterternary\":[{\"type\":\"scatterternary\",\"marker\":{\"colorbar\":{\"outlinewidth\":0,\"ticks\":\"\"}}}],\"scattercarpet\":[{\"type\":\"scattercarpet\",\"marker\":{\"colorbar\":{\"outlinewidth\":0,\"ticks\":\"\"}}}],\"carpet\":[{\"aaxis\":{\"endlinecolor\":\"#2a3f5f\",\"gridcolor\":\"white\",\"linecolor\":\"white\",\"minorgridcolor\":\"white\",\"startlinecolor\":\"#2a3f5f\"},\"baxis\":{\"endlinecolor\":\"#2a3f5f\",\"gridcolor\":\"white\",\"linecolor\":\"white\",\"minorgridcolor\":\"white\",\"startlinecolor\":\"#2a3f5f\"},\"type\":\"carpet\"}],\"table\":[{\"cells\":{\"fill\":{\"color\":\"#EBF0F8\"},\"line\":{\"color\":\"white\"}},\"header\":{\"fill\":{\"color\":\"#C8D4E3\"},\"line\":{\"color\":\"white\"}},\"type\":\"table\"}],\"barpolar\":[{\"marker\":{\"line\":{\"color\":\"#E5ECF6\",\"width\":0.5},\"pattern\":{\"fillmode\":\"overlay\",\"size\":10,\"solidity\":0.2}},\"type\":\"barpolar\"}],\"pie\":[{\"automargin\":true,\"type\":\"pie\"}]},\"layout\":{\"autotypenumbers\":\"strict\",\"colorway\":[\"#636efa\",\"#EF553B\",\"#00cc96\",\"#ab63fa\",\"#FFA15A\",\"#19d3f3\",\"#FF6692\",\"#B6E880\",\"#FF97FF\",\"#FECB52\"],\"font\":{\"color\":\"#2a3f5f\"},\"hovermode\":\"closest\",\"hoverlabel\":{\"align\":\"left\"},\"paper_bgcolor\":\"white\",\"plot_bgcolor\":\"#E5ECF6\",\"polar\":{\"bgcolor\":\"#E5ECF6\",\"angularaxis\":{\"gridcolor\":\"white\",\"linecolor\":\"white\",\"ticks\":\"\"},\"radialaxis\":{\"gridcolor\":\"white\",\"linecolor\":\"white\",\"ticks\":\"\"}},\"ternary\":{\"bgcolor\":\"#E5ECF6\",\"aaxis\":{\"gridcolor\":\"white\",\"linecolor\":\"white\",\"ticks\":\"\"},\"baxis\":{\"gridcolor\":\"white\",\"linecolor\":\"white\",\"ticks\":\"\"},\"caxis\":{\"gridcolor\":\"white\",\"linecolor\":\"white\",\"ticks\":\"\"}},\"coloraxis\":{\"colorbar\":{\"outlinewidth\":0,\"ticks\":\"\"}},\"colorscale\":{\"sequential\":[[0.0,\"#0d0887\"],[0.1111111111111111,\"#46039f\"],[0.2222222222222222,\"#7201a8\"],[0.3333333333333333,\"#9c179e\"],[0.4444444444444444,\"#bd3786\"],[0.5555555555555556,\"#d8576b\"],[0.6666666666666666,\"#ed7953\"],[0.7777777777777778,\"#fb9f3a\"],[0.8888888888888888,\"#fdca26\"],[1.0,\"#f0f921\"]],\"sequentialminus\":[[0.0,\"#0d0887\"],[0.1111111111111111,\"#46039f\"],[0.2222222222222222,\"#7201a8\"],[0.3333333333333333,\"#9c179e\"],[0.4444444444444444,\"#bd3786\"],[0.5555555555555556,\"#d8576b\"],[0.6666666666666666,\"#ed7953\"],[0.7777777777777778,\"#fb9f3a\"],[0.8888888888888888,\"#fdca26\"],[1.0,\"#f0f921\"]],\"diverging\":[[0,\"#8e0152\"],[0.1,\"#c51b7d\"],[0.2,\"#de77ae\"],[0.3,\"#f1b6da\"],[0.4,\"#fde0ef\"],[0.5,\"#f7f7f7\"],[0.6,\"#e6f5d0\"],[0.7,\"#b8e186\"],[0.8,\"#7fbc41\"],[0.9,\"#4d9221\"],[1,\"#276419\"]]},\"xaxis\":{\"gridcolor\":\"white\",\"linecolor\":\"white\",\"ticks\":\"\",\"title\":{\"standoff\":15},\"zerolinecolor\":\"white\",\"automargin\":true,\"zerolinewidth\":2},\"yaxis\":{\"gridcolor\":\"white\",\"linecolor\":\"white\",\"ticks\":\"\",\"title\":{\"standoff\":15},\"zerolinecolor\":\"white\",\"automargin\":true,\"zerolinewidth\":2},\"scene\":{\"xaxis\":{\"backgroundcolor\":\"#E5ECF6\",\"gridcolor\":\"white\",\"linecolor\":\"white\",\"showbackground\":true,\"ticks\":\"\",\"zerolinecolor\":\"white\",\"gridwidth\":2},\"yaxis\":{\"backgroundcolor\":\"#E5ECF6\",\"gridcolor\":\"white\",\"linecolor\":\"white\",\"showbackground\":true,\"ticks\":\"\",\"zerolinecolor\":\"white\",\"gridwidth\":2},\"zaxis\":{\"backgroundcolor\":\"#E5ECF6\",\"gridcolor\":\"white\",\"linecolor\":\"white\",\"showbackground\":true,\"ticks\":\"\",\"zerolinecolor\":\"white\",\"gridwidth\":2}},\"shapedefaults\":{\"line\":{\"color\":\"#2a3f5f\"}},\"annotationdefaults\":{\"arrowcolor\":\"#2a3f5f\",\"arrowhead\":0,\"arrowwidth\":1},\"geo\":{\"bgcolor\":\"white\",\"landcolor\":\"#E5ECF6\",\"subunitcolor\":\"white\",\"showland\":true,\"showlakes\":true,\"lakecolor\":\"white\"},\"title\":{\"x\":0.05},\"mapbox\":{\"style\":\"light\"}}}},                        {\"responsive\": true}                    ).then(function(){\n",
              "                            \n",
              "var gd = document.getElementById('6921d723-f116-4267-8d49-8943e7769d80');\n",
              "var x = new MutationObserver(function (mutations, observer) {{\n",
              "        var display = window.getComputedStyle(gd).display;\n",
              "        if (!display || display === 'none') {{\n",
              "            console.log([gd, 'removed!']);\n",
              "            Plotly.purge(gd);\n",
              "            observer.disconnect();\n",
              "        }}\n",
              "}});\n",
              "\n",
              "// Listen for the removal of the full notebook cells\n",
              "var notebookContainer = gd.closest('#notebook-container');\n",
              "if (notebookContainer) {{\n",
              "    x.observe(notebookContainer, {childList: true});\n",
              "}}\n",
              "\n",
              "// Listen for the clearing of the current output cell\n",
              "var outputEl = gd.closest('.output');\n",
              "if (outputEl) {{\n",
              "    x.observe(outputEl, {childList: true});\n",
              "}}\n",
              "\n",
              "                        })                };                            </script>        </div>\n",
              "</body>\n",
              "</html>"
            ]
          },
          "metadata": {}
        }
      ],
      "source": [
        "viz_train = go.Scatter(\n",
        "    x = x_train,\n",
        "    y = y_train,\n",
        "    mode = 'lines',\n",
        "    name = 'Actual Train'\n",
        ")\n",
        "\n",
        "viz_test = go.Scatter(\n",
        "    x = x_test,\n",
        "    y = y_test,\n",
        "    mode = 'lines',\n",
        "    name = 'Actual Test'\n",
        ")\n",
        "\n",
        "layout = go.Layout(\n",
        "    title = 'San Francisco Air Quality Index (2010-2021)',\n",
        "    xaxis = {'title' : \"Year\"},\n",
        "    yaxis = {'title' : \"AQI Value\"}\n",
        ")\n",
        "fig = go.Figure(data=[viz_train, viz_test], layout=layout)\n",
        "\n",
        "fig.show()"
      ]
    },
    {
      "cell_type": "code",
      "execution_count": null,
      "metadata": {
        "id": "_NqSkJWs1_lX"
      },
      "outputs": [],
      "source": [
        "HORIZON = 1\n",
        "WINDOW_SIZE = 7"
      ]
    },
    {
      "cell_type": "code",
      "execution_count": null,
      "metadata": {
        "id": "UqoaCf3g2Ca6"
      },
      "outputs": [],
      "source": [
        "def get_labelled_windows(x, horizon=1):\n",
        "  return x[:, :-horizon], x[:, -horizon:]"
      ]
    },
    {
      "cell_type": "code",
      "execution_count": null,
      "metadata": {
        "id": "tEL89rqw2DeU"
      },
      "outputs": [],
      "source": [
        "def make_windows(x, window_size=7, horizon=1):\n",
        "  window_step = np.expand_dims(np.arange(window_size+horizon), axis=0)\n",
        "  window_indexes = window_step + np.expand_dims(np.arange(len(x)-(window_size+horizon-1)), axis=0).T\n",
        "  windowed_array = x[window_indexes]\n",
        "\n",
        "  windows, labels = get_labelled_windows(windowed_array, horizon=horizon)\n",
        "\n",
        "  return windows, labels"
      ]
    },
    {
      "cell_type": "code",
      "execution_count": null,
      "metadata": {
        "colab": {
          "base_uri": "https://localhost:8080/"
        },
        "id": "Wiru5lbj2FMY",
        "outputId": "b864b89b-c1ed-4028-def2-18b495d42d92"
      },
      "outputs": [
        {
          "output_type": "execute_result",
          "data": {
            "text/plain": [
              "(2847, 2847)"
            ]
          },
          "metadata": {},
          "execution_count": 19
        }
      ],
      "source": [
        "full_windows, full_labels = make_windows(kwh, window_size=WINDOW_SIZE, horizon=HORIZON)\n",
        "\n",
        "len(full_windows), len(full_labels)"
      ]
    },
    {
      "cell_type": "code",
      "execution_count": null,
      "metadata": {
        "colab": {
          "base_uri": "https://localhost:8080/"
        },
        "id": "HHDE2tRi2Grb",
        "outputId": "d70ee8a6-7e65-4288-b409-0c28cde527e6"
      },
      "outputs": [
        {
          "output_type": "stream",
          "name": "stdout",
          "text": [
            "Window: [3.4        3.34769127 3.29760845 3.18965214 3.18742624 2.94368982\n",
            " 2.88359043] -> Label: [2.87052092]\n",
            "Window: [3.34769127 3.29760845 3.18965214 3.18742624 2.94368982 2.88359043\n",
            " 2.87052092] -> Label: [2.86275498]\n",
            "Window: [3.29760845 3.18965214 3.18742624 2.94368982 2.88359043 2.87052092\n",
            " 2.86275498] -> Label: [2.86048202]\n"
          ]
        }
      ],
      "source": [
        "for i in range(3):\n",
        "  print(f\"Window: {full_windows[i]} -> Label: {full_labels[i]}\")"
      ]
    },
    {
      "cell_type": "code",
      "execution_count": null,
      "metadata": {
        "id": "-alk43gJ2Ia2"
      },
      "outputs": [],
      "source": [
        "def make_train_test_splits(windows, labels, test_split=0.2):\n",
        "\n",
        "  split_size = int(len(windows) * (1-test_split))\n",
        "  train_windows = windows[:split_size]\n",
        "  train_labels = labels[:split_size]\n",
        "  test_windows = windows[split_size:]\n",
        "  test_labels = labels[split_size:]\n",
        "\n",
        "  return train_windows, test_windows, train_labels, test_labels"
      ]
    },
    {
      "cell_type": "code",
      "execution_count": null,
      "metadata": {
        "colab": {
          "base_uri": "https://localhost:8080/"
        },
        "id": "yN6iBoFb2Ig4",
        "outputId": "ba657dc3-c5c6-44cc-e067-31e6cdfa6555"
      },
      "outputs": [
        {
          "output_type": "execute_result",
          "data": {
            "text/plain": [
              "(2277, 570, 2277, 570)"
            ]
          },
          "metadata": {},
          "execution_count": 22
        }
      ],
      "source": [
        "train_windows, test_windows, train_labels, test_labels = make_train_test_splits(full_windows, full_labels)\n",
        "\n",
        "len(train_windows), len(test_windows), len(train_labels), len(test_labels)"
      ]
    },
    {
      "cell_type": "code",
      "execution_count": null,
      "metadata": {
        "colab": {
          "base_uri": "https://localhost:8080/"
        },
        "id": "fPN1fA_Y2T08",
        "outputId": "db68457b-f1d7-4584-d9a6-8aa49e1fdfea"
      },
      "outputs": [
        {
          "output_type": "execute_result",
          "data": {
            "text/plain": [
              "array([[3.4       , 3.34769127, 3.29760845, 3.18965214, 3.18742624,\n",
              "        2.94368982, 2.88359043],\n",
              "       [3.34769127, 3.29760845, 3.18965214, 3.18742624, 2.94368982,\n",
              "        2.88359043, 2.87052092],\n",
              "       [3.29760845, 3.18965214, 3.18742624, 2.94368982, 2.88359043,\n",
              "        2.87052092, 2.86275498],\n",
              "       [3.18965214, 3.18742624, 2.94368982, 2.88359043, 2.87052092,\n",
              "        2.86275498, 2.86048202],\n",
              "       [3.18742624, 2.94368982, 2.88359043, 2.87052092, 2.86275498,\n",
              "        2.86048202, 2.85820906]])"
            ]
          },
          "metadata": {},
          "execution_count": 23
        }
      ],
      "source": [
        "train_windows[:5]"
      ]
    },
    {
      "cell_type": "markdown",
      "metadata": {
        "id": "-hOtoKZJ3qL6"
      },
      "source": [
        "**EVALUATION METRICS**\n",
        "\n",
        "Utilizing MAE and RMSE Scoring metrics"
      ]
    },
    {
      "cell_type": "code",
      "execution_count": null,
      "metadata": {
        "id": "iE_qnpzj3ypT"
      },
      "outputs": [],
      "source": [
        "from sklearn.metrics import mean_absolute_percentage_error\n",
        "from sklearn.metrics import mean_squared_error\n",
        "from sklearn.metrics import mean_absolute_error"
      ]
    },
    {
      "cell_type": "code",
      "execution_count": null,
      "metadata": {
        "id": "Vmaxm7Qb34s1"
      },
      "outputs": [],
      "source": [
        "def evaluate_metrics(y_true, y_pred):\n",
        "\n",
        "  mae = mean_absolute_error(y_true, y_pred)\n",
        "  rmse = mean_squared_error(y_true, y_pred, squared=False)\n",
        "\n",
        "  return { \"mae\": mae, \"rmse\": rmse }"
      ]
    },
    {
      "cell_type": "markdown",
      "metadata": {
        "id": "zdBn23A-5r47"
      },
      "source": [
        "**Support Vector Regression**"
      ]
    },
    {
      "cell_type": "code",
      "execution_count": null,
      "metadata": {
        "id": "izkbaizH5vxT"
      },
      "outputs": [],
      "source": [
        "from sklearn.svm import SVR\n",
        "\n",
        "svr_regr = SVR(kernel='rbf')"
      ]
    },
    {
      "cell_type": "code",
      "execution_count": null,
      "metadata": {
        "id": "SlWH1Dlz52he",
        "colab": {
          "base_uri": "https://localhost:8080/",
          "height": 168
        },
        "outputId": "3be19d88-5aa8-4d89-c002-337553cbe968"
      },
      "outputs": [
        {
          "output_type": "stream",
          "name": "stderr",
          "text": [
            "/usr/local/lib/python3.10/dist-packages/sklearn/utils/validation.py:1143: DataConversionWarning:\n",
            "\n",
            "A column-vector y was passed when a 1d array was expected. Please change the shape of y to (n_samples, ), for example using ravel().\n",
            "\n"
          ]
        },
        {
          "output_type": "execute_result",
          "data": {
            "text/plain": [
              "SVR()"
            ],
            "text/html": [
              "<style>#sk-container-id-1 {color: black;background-color: white;}#sk-container-id-1 pre{padding: 0;}#sk-container-id-1 div.sk-toggleable {background-color: white;}#sk-container-id-1 label.sk-toggleable__label {cursor: pointer;display: block;width: 100%;margin-bottom: 0;padding: 0.3em;box-sizing: border-box;text-align: center;}#sk-container-id-1 label.sk-toggleable__label-arrow:before {content: \"▸\";float: left;margin-right: 0.25em;color: #696969;}#sk-container-id-1 label.sk-toggleable__label-arrow:hover:before {color: black;}#sk-container-id-1 div.sk-estimator:hover label.sk-toggleable__label-arrow:before {color: black;}#sk-container-id-1 div.sk-toggleable__content {max-height: 0;max-width: 0;overflow: hidden;text-align: left;background-color: #f0f8ff;}#sk-container-id-1 div.sk-toggleable__content pre {margin: 0.2em;color: black;border-radius: 0.25em;background-color: #f0f8ff;}#sk-container-id-1 input.sk-toggleable__control:checked~div.sk-toggleable__content {max-height: 200px;max-width: 100%;overflow: auto;}#sk-container-id-1 input.sk-toggleable__control:checked~label.sk-toggleable__label-arrow:before {content: \"▾\";}#sk-container-id-1 div.sk-estimator input.sk-toggleable__control:checked~label.sk-toggleable__label {background-color: #d4ebff;}#sk-container-id-1 div.sk-label input.sk-toggleable__control:checked~label.sk-toggleable__label {background-color: #d4ebff;}#sk-container-id-1 input.sk-hidden--visually {border: 0;clip: rect(1px 1px 1px 1px);clip: rect(1px, 1px, 1px, 1px);height: 1px;margin: -1px;overflow: hidden;padding: 0;position: absolute;width: 1px;}#sk-container-id-1 div.sk-estimator {font-family: monospace;background-color: #f0f8ff;border: 1px dotted black;border-radius: 0.25em;box-sizing: border-box;margin-bottom: 0.5em;}#sk-container-id-1 div.sk-estimator:hover {background-color: #d4ebff;}#sk-container-id-1 div.sk-parallel-item::after {content: \"\";width: 100%;border-bottom: 1px solid gray;flex-grow: 1;}#sk-container-id-1 div.sk-label:hover label.sk-toggleable__label {background-color: #d4ebff;}#sk-container-id-1 div.sk-serial::before {content: \"\";position: absolute;border-left: 1px solid gray;box-sizing: border-box;top: 0;bottom: 0;left: 50%;z-index: 0;}#sk-container-id-1 div.sk-serial {display: flex;flex-direction: column;align-items: center;background-color: white;padding-right: 0.2em;padding-left: 0.2em;position: relative;}#sk-container-id-1 div.sk-item {position: relative;z-index: 1;}#sk-container-id-1 div.sk-parallel {display: flex;align-items: stretch;justify-content: center;background-color: white;position: relative;}#sk-container-id-1 div.sk-item::before, #sk-container-id-1 div.sk-parallel-item::before {content: \"\";position: absolute;border-left: 1px solid gray;box-sizing: border-box;top: 0;bottom: 0;left: 50%;z-index: -1;}#sk-container-id-1 div.sk-parallel-item {display: flex;flex-direction: column;z-index: 1;position: relative;background-color: white;}#sk-container-id-1 div.sk-parallel-item:first-child::after {align-self: flex-end;width: 50%;}#sk-container-id-1 div.sk-parallel-item:last-child::after {align-self: flex-start;width: 50%;}#sk-container-id-1 div.sk-parallel-item:only-child::after {width: 0;}#sk-container-id-1 div.sk-dashed-wrapped {border: 1px dashed gray;margin: 0 0.4em 0.5em 0.4em;box-sizing: border-box;padding-bottom: 0.4em;background-color: white;}#sk-container-id-1 div.sk-label label {font-family: monospace;font-weight: bold;display: inline-block;line-height: 1.2em;}#sk-container-id-1 div.sk-label-container {text-align: center;}#sk-container-id-1 div.sk-container {/* jupyter's `normalize.less` sets `[hidden] { display: none; }` but bootstrap.min.css set `[hidden] { display: none !important; }` so we also need the `!important` here to be able to override the default hidden behavior on the sphinx rendered scikit-learn.org. See: https://github.com/scikit-learn/scikit-learn/issues/21755 */display: inline-block !important;position: relative;}#sk-container-id-1 div.sk-text-repr-fallback {display: none;}</style><div id=\"sk-container-id-1\" class=\"sk-top-container\"><div class=\"sk-text-repr-fallback\"><pre>SVR()</pre><b>In a Jupyter environment, please rerun this cell to show the HTML representation or trust the notebook. <br />On GitHub, the HTML representation is unable to render, please try loading this page with nbviewer.org.</b></div><div class=\"sk-container\" hidden><div class=\"sk-item\"><div class=\"sk-estimator sk-toggleable\"><input class=\"sk-toggleable__control sk-hidden--visually\" id=\"sk-estimator-id-1\" type=\"checkbox\" checked><label for=\"sk-estimator-id-1\" class=\"sk-toggleable__label sk-toggleable__label-arrow\">SVR</label><div class=\"sk-toggleable__content\"><pre>SVR()</pre></div></div></div></div></div>"
            ]
          },
          "metadata": {},
          "execution_count": 27
        }
      ],
      "source": [
        "svr_regr.fit(train_windows, train_labels)"
      ]
    },
    {
      "cell_type": "code",
      "execution_count": null,
      "metadata": {
        "id": "nnSBWyvP56KA"
      },
      "outputs": [],
      "source": [
        "y_svr_pred = svr_regr.predict(test_windows)"
      ]
    },
    {
      "cell_type": "code",
      "execution_count": null,
      "metadata": {
        "id": "ImInmm4q59_4",
        "colab": {
          "base_uri": "https://localhost:8080/"
        },
        "outputId": "5f579a4d-2c0f-4a26-9d84-c49af5ab7e86"
      },
      "outputs": [
        {
          "output_type": "execute_result",
          "data": {
            "text/plain": [
              "array([4.88773117, 4.40542432])"
            ]
          },
          "metadata": {},
          "execution_count": 29
        }
      ],
      "source": [
        "y_svr_pred[0:2]"
      ]
    },
    {
      "cell_type": "code",
      "execution_count": null,
      "metadata": {
        "id": "rvwoGY9H6Bey",
        "colab": {
          "base_uri": "https://localhost:8080/"
        },
        "outputId": "93e30392-ab60-4ce2-8de5-9a431be8e02e"
      },
      "outputs": [
        {
          "output_type": "execute_result",
          "data": {
            "text/plain": [
              "{'mae': 1.4577838833438965, 'rmse': 3.2962062546781508}"
            ]
          },
          "metadata": {},
          "execution_count": 30
        }
      ],
      "source": [
        "evaluate_metrics(test_labels, y_svr_pred)"
      ]
    },
    {
      "cell_type": "code",
      "source": [
        "mean_absolute_percentage_error(test_labels, y_svr_pred)"
      ],
      "metadata": {
        "id": "Gpyi3JP8LRMM",
        "outputId": "634aab65-d157-4970-99c0-3e0e66577173",
        "colab": {
          "base_uri": "https://localhost:8080/"
        }
      },
      "execution_count": null,
      "outputs": [
        {
          "output_type": "execute_result",
          "data": {
            "text/plain": [
              "0.12031121244860046"
            ]
          },
          "metadata": {},
          "execution_count": 31
        }
      ]
    },
    {
      "cell_type": "markdown",
      "source": [
        "**Decision Tree**"
      ],
      "metadata": {
        "id": "FvT4eZ1G-g0R"
      }
    },
    {
      "cell_type": "code",
      "source": [
        "#from sklearn.tree import DecisionTreeRegressor\n",
        "#from sklearn.ensemble import AdaBoostRegressor\n",
        "\n",
        "#dt_regr = DecisionTreeRegressor(max_depth=2)"
      ],
      "metadata": {
        "id": "OZiIBB5J-ioc"
      },
      "execution_count": null,
      "outputs": []
    },
    {
      "cell_type": "code",
      "source": [
        "#dt_regr.fit(train_windows, train_labels)"
      ],
      "metadata": {
        "id": "B3TTI5vr_ISr"
      },
      "execution_count": null,
      "outputs": []
    },
    {
      "cell_type": "code",
      "source": [
        "#y_dt_pred = dt_regr.predict(test_windows)"
      ],
      "metadata": {
        "id": "PRDTwItb_MT-"
      },
      "execution_count": null,
      "outputs": []
    },
    {
      "cell_type": "code",
      "source": [
        "#y_dt_pred[0:2]"
      ],
      "metadata": {
        "id": "Wwj4AznI_Qe1"
      },
      "execution_count": null,
      "outputs": []
    },
    {
      "cell_type": "code",
      "source": [
        "#evaluate_metrics(test_labels, y_dt_pred)"
      ],
      "metadata": {
        "id": "UOsO4AVj_S2C"
      },
      "execution_count": null,
      "outputs": []
    },
    {
      "cell_type": "code",
      "source": [
        "#mean_absolute_percentage_error(test_labels, y_dt_pred)"
      ],
      "metadata": {
        "id": "8vJJJWm8LN6j"
      },
      "execution_count": null,
      "outputs": []
    },
    {
      "cell_type": "markdown",
      "source": [
        "\n",
        "**Decision tree with Adaboost**\n",
        "```\n",
        "```\n",
        "\n"
      ],
      "metadata": {
        "id": "-mZoSGWqEkbQ"
      }
    },
    {
      "cell_type": "code",
      "source": [
        "#from sklearn.ensemble import AdaBoostRegressor\n",
        "#from sklearn.tree import DecisionTreeRegressor"
      ],
      "metadata": {
        "id": "hTQR41BuEnbv"
      },
      "execution_count": null,
      "outputs": []
    },
    {
      "cell_type": "code",
      "source": [
        "#dt1_regr = AdaBoostRegressor(\n",
        "#    DecisionTreeRegressor(max_depth=4), n_estimators=300\n",
        "#)"
      ],
      "metadata": {
        "id": "Wp9rhMTSEtfR"
      },
      "execution_count": null,
      "outputs": []
    },
    {
      "cell_type": "code",
      "source": [
        "#dt1_regr.fit(train_windows, train_labels)"
      ],
      "metadata": {
        "id": "9rE_4N0iE0Ox"
      },
      "execution_count": null,
      "outputs": []
    },
    {
      "cell_type": "code",
      "source": [
        "#y_dt1_pred = dt_regr.predict(test_windows)"
      ],
      "metadata": {
        "id": "CZ5eW2xSFBY4"
      },
      "execution_count": null,
      "outputs": []
    },
    {
      "cell_type": "code",
      "source": [
        "#y_dt1_pred[0:2]"
      ],
      "metadata": {
        "id": "TghKHyQZE6Ma"
      },
      "execution_count": null,
      "outputs": []
    },
    {
      "cell_type": "code",
      "source": [
        "#evaluate_metrics(test_labels, y_dt1_pred)"
      ],
      "metadata": {
        "id": "gV-sTHjnFGHL"
      },
      "execution_count": null,
      "outputs": []
    },
    {
      "cell_type": "code",
      "source": [
        "#mean_absolute_percentage_error(test_labels, y_dt1_pred)"
      ],
      "metadata": {
        "id": "pKjLcDPvLHj0"
      },
      "execution_count": null,
      "outputs": []
    },
    {
      "cell_type": "markdown",
      "metadata": {
        "id": "jfrS5gj39ghM"
      },
      "source": [
        "**LSTM**"
      ]
    },
    {
      "cell_type": "code",
      "execution_count": null,
      "metadata": {
        "id": "iZg-rRID9fze"
      },
      "outputs": [],
      "source": [
        "from keras.models import Sequential\n",
        "from keras.layers import Dense, Input\n",
        "from keras.layers import LSTM\n",
        "from tensorflow.keras import layers\n",
        "from keras.callbacks import ModelCheckpoint, EarlyStopping"
      ]
    },
    {
      "cell_type": "code",
      "execution_count": null,
      "metadata": {
        "id": "4dF2E5kH9kPP",
        "colab": {
          "base_uri": "https://localhost:8080/"
        },
        "outputId": "5e286aef-afea-444a-f756-2e0ba9a937ad"
      },
      "outputs": [
        {
          "output_type": "stream",
          "name": "stdout",
          "text": [
            "Epoch 1/100\n",
            "72/72 [==============================] - 6s 5ms/step - loss: 2.6182 - mae: 2.6182\n",
            "Epoch 2/100\n",
            "72/72 [==============================] - 0s 6ms/step - loss: 0.5030 - mae: 0.5030\n",
            "Epoch 3/100\n",
            "72/72 [==============================] - 0s 6ms/step - loss: 0.3688 - mae: 0.3688\n",
            "Epoch 4/100\n",
            "72/72 [==============================] - 1s 8ms/step - loss: 0.3237 - mae: 0.3237\n",
            "Epoch 5/100\n",
            "72/72 [==============================] - 0s 6ms/step - loss: 0.2522 - mae: 0.2522\n",
            "Epoch 6/100\n",
            "72/72 [==============================] - 0s 5ms/step - loss: 0.2000 - mae: 0.2000\n",
            "Epoch 7/100\n",
            "72/72 [==============================] - 0s 5ms/step - loss: 0.1847 - mae: 0.1847\n",
            "Epoch 8/100\n",
            "72/72 [==============================] - 0s 4ms/step - loss: 0.1824 - mae: 0.1824\n",
            "Epoch 9/100\n",
            "72/72 [==============================] - 0s 4ms/step - loss: 0.1943 - mae: 0.1943\n",
            "Epoch 10/100\n",
            "72/72 [==============================] - 0s 4ms/step - loss: 0.1696 - mae: 0.1696\n",
            "Epoch 11/100\n",
            "72/72 [==============================] - 0s 4ms/step - loss: 0.1596 - mae: 0.1596\n",
            "Epoch 12/100\n",
            "72/72 [==============================] - 0s 4ms/step - loss: 0.1585 - mae: 0.1585\n",
            "Epoch 13/100\n",
            "72/72 [==============================] - 0s 6ms/step - loss: 0.1543 - mae: 0.1543\n",
            "Epoch 14/100\n",
            "72/72 [==============================] - 0s 7ms/step - loss: 0.1491 - mae: 0.1491\n",
            "Epoch 15/100\n",
            "72/72 [==============================] - 0s 5ms/step - loss: 0.1578 - mae: 0.1578\n",
            "Epoch 16/100\n",
            "72/72 [==============================] - 0s 6ms/step - loss: 0.1465 - mae: 0.1465\n",
            "Epoch 17/100\n",
            "72/72 [==============================] - 0s 6ms/step - loss: 0.1444 - mae: 0.1444\n",
            "Epoch 18/100\n",
            "72/72 [==============================] - 0s 5ms/step - loss: 0.1489 - mae: 0.1489\n",
            "Epoch 19/100\n",
            "72/72 [==============================] - 0s 7ms/step - loss: 0.1381 - mae: 0.1381\n",
            "Epoch 20/100\n",
            "72/72 [==============================] - 0s 6ms/step - loss: 0.1368 - mae: 0.1368\n",
            "Epoch 21/100\n",
            "72/72 [==============================] - 0s 5ms/step - loss: 0.1306 - mae: 0.1306\n",
            "Epoch 22/100\n",
            "72/72 [==============================] - 0s 5ms/step - loss: 0.1283 - mae: 0.1283\n",
            "Epoch 23/100\n",
            "72/72 [==============================] - 1s 11ms/step - loss: 0.1358 - mae: 0.1358\n",
            "Epoch 24/100\n",
            "72/72 [==============================] - 1s 16ms/step - loss: 0.1264 - mae: 0.1264\n",
            "Epoch 25/100\n",
            "72/72 [==============================] - 1s 12ms/step - loss: 0.1255 - mae: 0.1255\n",
            "Epoch 26/100\n",
            "72/72 [==============================] - 1s 10ms/step - loss: 0.1199 - mae: 0.1199\n",
            "Epoch 27/100\n",
            "72/72 [==============================] - 1s 7ms/step - loss: 0.1200 - mae: 0.1200\n",
            "Epoch 28/100\n",
            "72/72 [==============================] - 0s 4ms/step - loss: 0.1204 - mae: 0.1204\n",
            "Epoch 29/100\n",
            "72/72 [==============================] - 0s 5ms/step - loss: 0.1179 - mae: 0.1179\n",
            "Epoch 30/100\n",
            "72/72 [==============================] - 1s 7ms/step - loss: 0.1179 - mae: 0.1179\n",
            "Epoch 31/100\n",
            "72/72 [==============================] - 0s 6ms/step - loss: 0.1189 - mae: 0.1189\n",
            "Epoch 32/100\n",
            "72/72 [==============================] - 0s 7ms/step - loss: 0.1200 - mae: 0.1200\n",
            "Epoch 33/100\n",
            "72/72 [==============================] - 1s 7ms/step - loss: 0.1124 - mae: 0.1124\n",
            "Epoch 34/100\n",
            "72/72 [==============================] - 0s 5ms/step - loss: 0.1158 - mae: 0.1158\n",
            "Epoch 35/100\n",
            "72/72 [==============================] - 0s 6ms/step - loss: 0.1125 - mae: 0.1125\n",
            "Epoch 36/100\n",
            "72/72 [==============================] - 0s 5ms/step - loss: 0.1142 - mae: 0.1142\n",
            "Epoch 37/100\n",
            "72/72 [==============================] - 0s 5ms/step - loss: 0.1156 - mae: 0.1156\n",
            "Epoch 38/100\n",
            "72/72 [==============================] - 0s 6ms/step - loss: 0.1137 - mae: 0.1137\n",
            "Epoch 39/100\n",
            "72/72 [==============================] - 0s 4ms/step - loss: 0.1184 - mae: 0.1184\n",
            "Epoch 40/100\n",
            "72/72 [==============================] - 0s 4ms/step - loss: 0.1195 - mae: 0.1195\n",
            "Epoch 41/100\n",
            "72/72 [==============================] - 0s 5ms/step - loss: 0.1174 - mae: 0.1174\n",
            "Epoch 42/100\n",
            "72/72 [==============================] - 0s 4ms/step - loss: 0.1076 - mae: 0.1076\n",
            "Epoch 43/100\n",
            "72/72 [==============================] - 0s 5ms/step - loss: 0.1139 - mae: 0.1139\n",
            "Epoch 44/100\n",
            "72/72 [==============================] - 0s 4ms/step - loss: 0.1135 - mae: 0.1135\n",
            "Epoch 45/100\n",
            "72/72 [==============================] - 0s 5ms/step - loss: 0.1080 - mae: 0.1080\n",
            "Epoch 46/100\n",
            "72/72 [==============================] - 0s 5ms/step - loss: 0.1093 - mae: 0.1093\n",
            "Epoch 47/100\n",
            "72/72 [==============================] - 0s 6ms/step - loss: 0.1079 - mae: 0.1079\n",
            "Epoch 48/100\n",
            "72/72 [==============================] - 1s 7ms/step - loss: 0.1067 - mae: 0.1067\n",
            "Epoch 49/100\n",
            "72/72 [==============================] - 0s 6ms/step - loss: 0.1104 - mae: 0.1104\n",
            "Epoch 50/100\n",
            "72/72 [==============================] - 0s 5ms/step - loss: 0.1086 - mae: 0.1086\n",
            "Epoch 51/100\n",
            "72/72 [==============================] - 1s 8ms/step - loss: 0.1046 - mae: 0.1046\n",
            "Epoch 52/100\n",
            "72/72 [==============================] - 1s 8ms/step - loss: 0.1061 - mae: 0.1061\n",
            "Epoch 53/100\n",
            "72/72 [==============================] - 0s 6ms/step - loss: 0.1113 - mae: 0.1113\n",
            "Epoch 54/100\n",
            "72/72 [==============================] - 1s 9ms/step - loss: 0.1033 - mae: 0.1033\n",
            "Epoch 55/100\n",
            "72/72 [==============================] - 1s 8ms/step - loss: 0.1091 - mae: 0.1091\n",
            "Epoch 56/100\n",
            "72/72 [==============================] - 0s 5ms/step - loss: 0.1068 - mae: 0.1068\n",
            "Epoch 57/100\n",
            "72/72 [==============================] - 1s 10ms/step - loss: 0.1103 - mae: 0.1103\n",
            "Epoch 58/100\n",
            "72/72 [==============================] - 1s 8ms/step - loss: 0.1101 - mae: 0.1101\n",
            "Epoch 59/100\n",
            "72/72 [==============================] - 1s 8ms/step - loss: 0.1059 - mae: 0.1059\n",
            "Epoch 60/100\n",
            "72/72 [==============================] - 0s 6ms/step - loss: 0.1097 - mae: 0.1097\n",
            "Epoch 61/100\n",
            "72/72 [==============================] - 0s 5ms/step - loss: 0.1018 - mae: 0.1018\n",
            "Epoch 62/100\n",
            "72/72 [==============================] - 0s 6ms/step - loss: 0.1022 - mae: 0.1022\n",
            "Epoch 63/100\n",
            "72/72 [==============================] - 0s 5ms/step - loss: 0.1107 - mae: 0.1107\n",
            "Epoch 64/100\n",
            "72/72 [==============================] - 0s 6ms/step - loss: 0.1020 - mae: 0.1020\n",
            "Epoch 65/100\n",
            "72/72 [==============================] - 0s 4ms/step - loss: 0.1163 - mae: 0.1163\n",
            "Epoch 66/100\n",
            "72/72 [==============================] - 0s 5ms/step - loss: 0.1135 - mae: 0.1135\n",
            "Epoch 67/100\n",
            "72/72 [==============================] - 0s 6ms/step - loss: 0.1007 - mae: 0.1007\n",
            "Epoch 68/100\n",
            "72/72 [==============================] - 0s 6ms/step - loss: 0.1083 - mae: 0.1083\n",
            "Epoch 69/100\n",
            "72/72 [==============================] - 0s 4ms/step - loss: 0.1065 - mae: 0.1065\n",
            "Epoch 70/100\n",
            "72/72 [==============================] - 0s 3ms/step - loss: 0.1070 - mae: 0.1070\n",
            "Epoch 71/100\n",
            "72/72 [==============================] - 0s 3ms/step - loss: 0.1054 - mae: 0.1054\n",
            "Epoch 72/100\n",
            "72/72 [==============================] - 0s 3ms/step - loss: 0.1013 - mae: 0.1013\n",
            "Epoch 73/100\n",
            "72/72 [==============================] - 0s 3ms/step - loss: 0.1003 - mae: 0.1003\n",
            "Epoch 74/100\n",
            "72/72 [==============================] - 0s 3ms/step - loss: 0.1013 - mae: 0.1013\n",
            "Epoch 75/100\n",
            "72/72 [==============================] - 0s 3ms/step - loss: 0.1043 - mae: 0.1043\n",
            "Epoch 76/100\n",
            "72/72 [==============================] - 0s 3ms/step - loss: 0.1115 - mae: 0.1115\n",
            "Epoch 77/100\n",
            "72/72 [==============================] - 0s 3ms/step - loss: 0.1275 - mae: 0.1275\n",
            "Epoch 78/100\n",
            "72/72 [==============================] - 0s 3ms/step - loss: 0.1044 - mae: 0.1044\n",
            "Epoch 79/100\n",
            "72/72 [==============================] - 0s 3ms/step - loss: 0.1058 - mae: 0.1058\n",
            "Epoch 80/100\n",
            "72/72 [==============================] - 0s 3ms/step - loss: 0.1036 - mae: 0.1036\n",
            "Epoch 81/100\n",
            "72/72 [==============================] - 0s 3ms/step - loss: 0.1070 - mae: 0.1070\n",
            "Epoch 82/100\n",
            "72/72 [==============================] - 0s 3ms/step - loss: 0.1044 - mae: 0.1044\n",
            "Epoch 83/100\n",
            "72/72 [==============================] - 0s 3ms/step - loss: 0.1035 - mae: 0.1035\n"
          ]
        },
        {
          "output_type": "execute_result",
          "data": {
            "text/plain": [
              "<keras.src.callbacks.History at 0x7c2488e8c790>"
            ]
          },
          "metadata": {},
          "execution_count": 46
        }
      ],
      "source": [
        "tf.random.set_seed(42)\n",
        "\n",
        "inputs = Input(shape=(WINDOW_SIZE))\n",
        "\n",
        "layer_inp = layers.Lambda(lambda x: tf.expand_dims(x, axis=1))(inputs)\n",
        "layer_inp = layers.LSTM(64, activation=\"relu\")(layer_inp)\n",
        "output = layers.Dense(HORIZON)(layer_inp)\n",
        "\n",
        "lstm_model = tf.keras.Model(inputs=inputs,\n",
        "                         outputs=output,\n",
        "                         name=\"model_2_lstm\")\n",
        "\n",
        "lstm_model.compile(loss=\"mae\",\n",
        "                optimizer=tf.keras.optimizers.Adam(),\n",
        "                metrics=[\"mae\"])\n",
        "\n",
        "lstm_model.fit(train_windows,\n",
        "            train_labels,\n",
        "            epochs=100,\n",
        "            verbose=1,\n",
        "            batch_size=32,\n",
        "            callbacks=[\n",
        "              EarlyStopping(monitor='loss', patience=10),\n",
        "            ]\n",
        ")"
      ]
    },
    {
      "cell_type": "code",
      "execution_count": null,
      "metadata": {
        "id": "g8fIKv9M98yT",
        "colab": {
          "base_uri": "https://localhost:8080/"
        },
        "outputId": "6718e1c5-a84e-498a-ec91-55d25534ebc6"
      },
      "outputs": [
        {
          "output_type": "stream",
          "name": "stdout",
          "text": [
            "Model: \"model_2_lstm\"\n",
            "_________________________________________________________________\n",
            " Layer (type)                Output Shape              Param #   \n",
            "=================================================================\n",
            " input_1 (InputLayer)        [(None, 7)]               0         \n",
            "                                                                 \n",
            " lambda (Lambda)             (None, 1, 7)              0         \n",
            "                                                                 \n",
            " lstm (LSTM)                 (None, 64)                18432     \n",
            "                                                                 \n",
            " dense (Dense)               (None, 1)                 65        \n",
            "                                                                 \n",
            "=================================================================\n",
            "Total params: 18497 (72.25 KB)\n",
            "Trainable params: 18497 (72.25 KB)\n",
            "Non-trainable params: 0 (0.00 Byte)\n",
            "_________________________________________________________________\n"
          ]
        }
      ],
      "source": [
        "lstm_model.summary()"
      ]
    },
    {
      "cell_type": "code",
      "execution_count": null,
      "metadata": {
        "id": "Qd5bha2r-ODn",
        "colab": {
          "base_uri": "https://localhost:8080/"
        },
        "outputId": "896fc22d-4d69-4a09-83ac-0621d9454167"
      },
      "outputs": [
        {
          "output_type": "stream",
          "name": "stdout",
          "text": [
            "18/18 [==============================] - 0s 2ms/step\n"
          ]
        }
      ],
      "source": [
        "y_lstm_pred = lstm_model.predict(test_windows)"
      ]
    },
    {
      "cell_type": "code",
      "execution_count": null,
      "metadata": {
        "id": "C9IMBdAJCGXy"
      },
      "outputs": [],
      "source": [
        "y_lstm_pred_out = tf.squeeze(y_lstm_pred)"
      ]
    },
    {
      "cell_type": "code",
      "execution_count": null,
      "metadata": {
        "id": "YgJG9QHD-R_e",
        "colab": {
          "base_uri": "https://localhost:8080/"
        },
        "outputId": "dfb66f66-e4cb-41f9-f67a-e0f0257734c9"
      },
      "outputs": [
        {
          "output_type": "execute_result",
          "data": {
            "text/plain": [
              "{'mae': 0.2518768865683685, 'rmse': 0.5950146902572887}"
            ]
          },
          "metadata": {},
          "execution_count": 50
        }
      ],
      "source": [
        "evaluate_metrics(test_labels, y_lstm_pred)"
      ]
    },
    {
      "cell_type": "code",
      "source": [
        "mean_absolute_percentage_error(test_labels, y_lstm_pred)"
      ],
      "metadata": {
        "colab": {
          "base_uri": "https://localhost:8080/"
        },
        "id": "k9UvBUhoLCwu",
        "outputId": "0718f52e-add6-427e-a3cb-162f32143061"
      },
      "execution_count": null,
      "outputs": [
        {
          "output_type": "execute_result",
          "data": {
            "text/plain": [
              "0.0427845275907897"
            ]
          },
          "metadata": {},
          "execution_count": 51
        }
      ]
    },
    {
      "cell_type": "markdown",
      "source": [
        "**Gradient Boosting Regressor**"
      ],
      "metadata": {
        "id": "qCiUESFE45Ev"
      }
    },
    {
      "cell_type": "code",
      "source": [
        "from sklearn.ensemble import GradientBoostingRegressor"
      ],
      "metadata": {
        "id": "emsPMeWB44n1"
      },
      "execution_count": null,
      "outputs": []
    },
    {
      "cell_type": "code",
      "source": [
        "est = GradientBoostingRegressor(\n",
        "     n_estimators=100, learning_rate=0.1, max_depth=1, random_state=0,\n",
        "     loss='squared_error'\n",
        ")"
      ],
      "metadata": {
        "id": "xD8c2CeW5BwU"
      },
      "execution_count": null,
      "outputs": []
    },
    {
      "cell_type": "code",
      "source": [
        "est.fit(train_windows, train_labels)\n",
        "\n",
        "y_gbr_pred = est.predict(test_windows)\n",
        "y_gbr_pred[0:2]"
      ],
      "metadata": {
        "id": "CW7e1kf45ZZ3",
        "colab": {
          "base_uri": "https://localhost:8080/"
        },
        "outputId": "cd70361e-7f74-451a-f4e9-3fa524e76ecc"
      },
      "execution_count": null,
      "outputs": [
        {
          "output_type": "stream",
          "name": "stderr",
          "text": [
            "/usr/local/lib/python3.10/dist-packages/sklearn/ensemble/_gb.py:437: DataConversionWarning:\n",
            "\n",
            "A column-vector y was passed when a 1d array was expected. Please change the shape of y to (n_samples, ), for example using ravel().\n",
            "\n"
          ]
        },
        {
          "output_type": "execute_result",
          "data": {
            "text/plain": [
              "array([5.13110765, 4.60253131])"
            ]
          },
          "metadata": {},
          "execution_count": 54
        }
      ]
    },
    {
      "cell_type": "code",
      "source": [
        "evaluate_metrics(test_labels, y_gbr_pred)"
      ],
      "metadata": {
        "id": "Ew3qge9P5uE6",
        "colab": {
          "base_uri": "https://localhost:8080/"
        },
        "outputId": "4874f017-832a-4169-dffa-108b61082e98"
      },
      "execution_count": null,
      "outputs": [
        {
          "output_type": "execute_result",
          "data": {
            "text/plain": [
              "{'mae': 0.8240397443186656, 'rmse': 1.6910597380300112}"
            ]
          },
          "metadata": {},
          "execution_count": 55
        }
      ]
    },
    {
      "cell_type": "code",
      "source": [
        "mean_absolute_percentage_error(test_labels, y_gbr_pred)"
      ],
      "metadata": {
        "colab": {
          "base_uri": "https://localhost:8080/"
        },
        "id": "oDhnqKw7KHtE",
        "outputId": "d5e96a86-6041-4122-d8f5-e8cff3ca642d"
      },
      "execution_count": null,
      "outputs": [
        {
          "output_type": "execute_result",
          "data": {
            "text/plain": [
              "0.08392119976077367"
            ]
          },
          "metadata": {},
          "execution_count": 56
        }
      ]
    },
    {
      "cell_type": "markdown",
      "source": [
        "**RANDOM FOREST**"
      ],
      "metadata": {
        "id": "BRF0l1YYkTZv"
      }
    },
    {
      "cell_type": "code",
      "source": [
        "from sklearn.ensemble import RandomForestRegressor\n",
        "rf_regr = RandomForestRegressor(n_estimators = 100, random_state = 5)"
      ],
      "metadata": {
        "id": "LPaspGdKkS28"
      },
      "execution_count": null,
      "outputs": []
    },
    {
      "cell_type": "code",
      "source": [
        "rf_regr.fit(train_windows, train_labels)"
      ],
      "metadata": {
        "colab": {
          "base_uri": "https://localhost:8080/",
          "height": 168
        },
        "id": "ajHQnrkLkZSU",
        "outputId": "84fad7f6-c193-45f7-a223-8de47a801024"
      },
      "execution_count": null,
      "outputs": [
        {
          "output_type": "stream",
          "name": "stderr",
          "text": [
            "<ipython-input-58-9c8137d5c4d3>:1: DataConversionWarning:\n",
            "\n",
            "A column-vector y was passed when a 1d array was expected. Please change the shape of y to (n_samples,), for example using ravel().\n",
            "\n"
          ]
        },
        {
          "output_type": "execute_result",
          "data": {
            "text/plain": [
              "RandomForestRegressor(random_state=5)"
            ],
            "text/html": [
              "<style>#sk-container-id-2 {color: black;background-color: white;}#sk-container-id-2 pre{padding: 0;}#sk-container-id-2 div.sk-toggleable {background-color: white;}#sk-container-id-2 label.sk-toggleable__label {cursor: pointer;display: block;width: 100%;margin-bottom: 0;padding: 0.3em;box-sizing: border-box;text-align: center;}#sk-container-id-2 label.sk-toggleable__label-arrow:before {content: \"▸\";float: left;margin-right: 0.25em;color: #696969;}#sk-container-id-2 label.sk-toggleable__label-arrow:hover:before {color: black;}#sk-container-id-2 div.sk-estimator:hover label.sk-toggleable__label-arrow:before {color: black;}#sk-container-id-2 div.sk-toggleable__content {max-height: 0;max-width: 0;overflow: hidden;text-align: left;background-color: #f0f8ff;}#sk-container-id-2 div.sk-toggleable__content pre {margin: 0.2em;color: black;border-radius: 0.25em;background-color: #f0f8ff;}#sk-container-id-2 input.sk-toggleable__control:checked~div.sk-toggleable__content {max-height: 200px;max-width: 100%;overflow: auto;}#sk-container-id-2 input.sk-toggleable__control:checked~label.sk-toggleable__label-arrow:before {content: \"▾\";}#sk-container-id-2 div.sk-estimator input.sk-toggleable__control:checked~label.sk-toggleable__label {background-color: #d4ebff;}#sk-container-id-2 div.sk-label input.sk-toggleable__control:checked~label.sk-toggleable__label {background-color: #d4ebff;}#sk-container-id-2 input.sk-hidden--visually {border: 0;clip: rect(1px 1px 1px 1px);clip: rect(1px, 1px, 1px, 1px);height: 1px;margin: -1px;overflow: hidden;padding: 0;position: absolute;width: 1px;}#sk-container-id-2 div.sk-estimator {font-family: monospace;background-color: #f0f8ff;border: 1px dotted black;border-radius: 0.25em;box-sizing: border-box;margin-bottom: 0.5em;}#sk-container-id-2 div.sk-estimator:hover {background-color: #d4ebff;}#sk-container-id-2 div.sk-parallel-item::after {content: \"\";width: 100%;border-bottom: 1px solid gray;flex-grow: 1;}#sk-container-id-2 div.sk-label:hover label.sk-toggleable__label {background-color: #d4ebff;}#sk-container-id-2 div.sk-serial::before {content: \"\";position: absolute;border-left: 1px solid gray;box-sizing: border-box;top: 0;bottom: 0;left: 50%;z-index: 0;}#sk-container-id-2 div.sk-serial {display: flex;flex-direction: column;align-items: center;background-color: white;padding-right: 0.2em;padding-left: 0.2em;position: relative;}#sk-container-id-2 div.sk-item {position: relative;z-index: 1;}#sk-container-id-2 div.sk-parallel {display: flex;align-items: stretch;justify-content: center;background-color: white;position: relative;}#sk-container-id-2 div.sk-item::before, #sk-container-id-2 div.sk-parallel-item::before {content: \"\";position: absolute;border-left: 1px solid gray;box-sizing: border-box;top: 0;bottom: 0;left: 50%;z-index: -1;}#sk-container-id-2 div.sk-parallel-item {display: flex;flex-direction: column;z-index: 1;position: relative;background-color: white;}#sk-container-id-2 div.sk-parallel-item:first-child::after {align-self: flex-end;width: 50%;}#sk-container-id-2 div.sk-parallel-item:last-child::after {align-self: flex-start;width: 50%;}#sk-container-id-2 div.sk-parallel-item:only-child::after {width: 0;}#sk-container-id-2 div.sk-dashed-wrapped {border: 1px dashed gray;margin: 0 0.4em 0.5em 0.4em;box-sizing: border-box;padding-bottom: 0.4em;background-color: white;}#sk-container-id-2 div.sk-label label {font-family: monospace;font-weight: bold;display: inline-block;line-height: 1.2em;}#sk-container-id-2 div.sk-label-container {text-align: center;}#sk-container-id-2 div.sk-container {/* jupyter's `normalize.less` sets `[hidden] { display: none; }` but bootstrap.min.css set `[hidden] { display: none !important; }` so we also need the `!important` here to be able to override the default hidden behavior on the sphinx rendered scikit-learn.org. See: https://github.com/scikit-learn/scikit-learn/issues/21755 */display: inline-block !important;position: relative;}#sk-container-id-2 div.sk-text-repr-fallback {display: none;}</style><div id=\"sk-container-id-2\" class=\"sk-top-container\"><div class=\"sk-text-repr-fallback\"><pre>RandomForestRegressor(random_state=5)</pre><b>In a Jupyter environment, please rerun this cell to show the HTML representation or trust the notebook. <br />On GitHub, the HTML representation is unable to render, please try loading this page with nbviewer.org.</b></div><div class=\"sk-container\" hidden><div class=\"sk-item\"><div class=\"sk-estimator sk-toggleable\"><input class=\"sk-toggleable__control sk-hidden--visually\" id=\"sk-estimator-id-2\" type=\"checkbox\" checked><label for=\"sk-estimator-id-2\" class=\"sk-toggleable__label sk-toggleable__label-arrow\">RandomForestRegressor</label><div class=\"sk-toggleable__content\"><pre>RandomForestRegressor(random_state=5)</pre></div></div></div></div></div>"
            ]
          },
          "metadata": {},
          "execution_count": 58
        }
      ]
    },
    {
      "cell_type": "code",
      "source": [
        "y_rf_pred = rf_regr.predict(test_windows)"
      ],
      "metadata": {
        "id": "UprI-nJXke3k"
      },
      "execution_count": null,
      "outputs": []
    },
    {
      "cell_type": "code",
      "source": [
        "y_rf_pred[0:5]"
      ],
      "metadata": {
        "colab": {
          "base_uri": "https://localhost:8080/"
        },
        "id": "x09EwLFikgrn",
        "outputId": "ac296c0a-c048-4062-c59b-10dda1576cb6"
      },
      "execution_count": null,
      "outputs": [
        {
          "output_type": "execute_result",
          "data": {
            "text/plain": [
              "array([4.09409572, 4.33663178, 4.24694752, 3.53794288, 5.45367115])"
            ]
          },
          "metadata": {},
          "execution_count": 60
        }
      ]
    },
    {
      "cell_type": "code",
      "source": [
        "evaluate_metrics(test_labels, y_rf_pred)"
      ],
      "metadata": {
        "colab": {
          "base_uri": "https://localhost:8080/"
        },
        "id": "-Heho_ILkiw2",
        "outputId": "bb42bc0c-9374-4c36-b5c3-b1f53a693235"
      },
      "execution_count": null,
      "outputs": [
        {
          "output_type": "execute_result",
          "data": {
            "text/plain": [
              "{'mae': 0.8944509873542101, 'rmse': 1.891445865504761}"
            ]
          },
          "metadata": {},
          "execution_count": 61
        }
      ]
    },
    {
      "cell_type": "code",
      "source": [
        "mean_absolute_percentage_error(test_labels, y_rf_pred)"
      ],
      "metadata": {
        "colab": {
          "base_uri": "https://localhost:8080/"
        },
        "id": "Td_LiBY4kkx1",
        "outputId": "08d0bc79-5871-41e6-f870-c4b0168d3203"
      },
      "execution_count": null,
      "outputs": [
        {
          "output_type": "execute_result",
          "data": {
            "text/plain": [
              "0.08247514867611846"
            ]
          },
          "metadata": {},
          "execution_count": 62
        }
      ]
    },
    {
      "cell_type": "markdown",
      "metadata": {
        "id": "hTnFPDOk-d_n"
      },
      "source": [
        "**Prediction Visualization**"
      ]
    },
    {
      "cell_type": "code",
      "execution_count": null,
      "metadata": {
        "id": "OiL7F-EG-bxB",
        "colab": {
          "base_uri": "https://localhost:8080/",
          "height": 542
        },
        "outputId": "ebc66401-29e5-4042-9d25-e83d74ffb389"
      },
      "outputs": [
        {
          "output_type": "display_data",
          "data": {
            "text/html": [
              "<html>\n",
              "<head><meta charset=\"utf-8\" /></head>\n",
              "<body>\n",
              "    <div>            <script src=\"https://cdnjs.cloudflare.com/ajax/libs/mathjax/2.7.5/MathJax.js?config=TeX-AMS-MML_SVG\"></script><script type=\"text/javascript\">if (window.MathJax && window.MathJax.Hub && window.MathJax.Hub.Config) {window.MathJax.Hub.Config({SVG: {font: \"STIX-Web\"}});}</script>                <script type=\"text/javascript\">window.PlotlyConfig = {MathJaxConfig: 'local'};</script>\n",
              "        <script charset=\"utf-8\" src=\"https://cdn.plot.ly/plotly-2.24.1.min.js\"></script>                <div id=\"212cd0a4-089a-434a-b9e5-3a15802e3350\" class=\"plotly-graph-div\" style=\"height:525px; width:100%;\"></div>            <script type=\"text/javascript\">                                    window.PLOTLYENV=window.PLOTLYENV || {};                                    if (document.getElementById(\"212cd0a4-089a-434a-b9e5-3a15802e3350\")) {                    Plotly.newPlot(                        \"212cd0a4-089a-434a-b9e5-3a15802e3350\",                        [{\"mode\":\"lines\",\"name\":\"Actual Test Data\",\"x\":[\"19:34\",\"19:34\",\"19:34\",\"19:35\",\"19:36\",\"19:36\",\"19:36\",\"19:37\",\"19:37\",\"19:37\",\"19:37\",\"19:37\",\"19:38\",\"19:38\",\"19:38\",\"19:38\",\"19:38\",\"19:39\",\"19:39\",\"19:39\",\"19:40\",\"19:40\",\"19:40\",\"19:40\",\"19:41\",\"19:41\",\"19:42\",\"19:42\",\"19:42\",\"19:42\",\"19:43\",\"19:44\",\"19:44\",\"19:44\",\"19:45\",\"19:45\",\"19:45\",\"19:47\",\"19:47\",\"19:47\",\"19:47\",\"19:47\",\"19:48\",\"19:48\",\"19:48\",\"19:48\",\"19:48\",\"19:49\",\"19:49\",\"19:50\",\"19:50\",\"19:50\",\"19:50\",\"19:50\",\"19:50\",\"19:51\",\"19:51\",\"19:51\",\"19:52\",\"19:53\",\"19:54\",\"19:54\",\"19:54\",\"19:56\",\"19:56\",\"19:57\",\"19:57\",\"19:57\",\"19:57\",\"19:58\",\"19:59\",\"19:59\",\"20:00\",\"20:00\",\"20:00\",\"20:01\",\"20:02\",\"20:02\",\"20:03\",\"20:03\",\"20:04\",\"20:04\",\"20:04\",\"20:04\",\"20:04\",\"20:05\",\"20:05\",\"20:05\",\"20:06\",\"20:06\",\"20:06\",\"20:06\",\"20:06\",\"20:07\",\"20:07\",\"20:07\",\"20:08\",\"20:08\",\"20:09\",\"20:09\",\"20:09\",\"20:10\",\"20:10\",\"20:10\",\"20:11\",\"20:12\",\"20:12\",\"20:12\",\"20:12\",\"20:12\",\"20:13\",\"20:14\",\"20:14\",\"20:15\",\"20:15\",\"20:15\",\"20:15\",\"20:15\",\"20:16\",\"20:16\",\"20:17\",\"20:17\",\"20:17\",\"20:18\",\"20:18\",\"20:19\",\"20:19\",\"20:19\",\"20:19\",\"20:20\",\"20:21\",\"20:22\",\"20:22\",\"20:22\",\"20:22\",\"20:22\",\"20:22\",\"20:22\",\"20:23\",\"20:23\",\"20:23\",\"20:24\",\"20:24\",\"20:25\",\"20:25\",\"20:25\",\"20:26\",\"20:26\",\"20:26\",\"20:26\",\"20:26\",\"20:27\",\"20:27\",\"20:27\",\"20:27\",\"20:27\",\"20:27\",\"20:27\",\"20:29\",\"20:29\",\"20:30\",\"20:30\",\"20:30\",\"20:31\",\"20:31\",\"20:31\",\"20:31\",\"20:32\",\"20:32\",\"20:33\",\"20:33\",\"20:33\",\"20:34\",\"20:34\",\"20:34\",\"20:35\",\"20:35\",\"20:35\",\"20:36\",\"20:36\",\"20:36\",\"20:36\",\"20:37\",\"20:37\",\"20:38\",\"20:38\",\"20:38\",\"20:38\",\"20:38\",\"20:39\",\"20:39\",\"20:39\",\"20:39\",\"20:40\",\"20:41\",\"20:41\",\"20:42\",\"20:42\",\"20:42\",\"20:45\",\"20:45\",\"20:46\",\"20:47\",\"20:47\",\"20:47\",\"20:48\",\"20:49\",\"20:49\",\"20:49\",\"20:50\",\"20:50\",\"20:51\",\"20:52\",\"20:52\",\"20:52\",\"20:52\",\"20:53\",\"20:53\",\"20:53\",\"20:53\",\"20:54\",\"20:54\",\"20:54\",\"20:54\",\"20:55\",\"20:55\",\"20:55\",\"20:55\",\"20:56\",\"20:57\",\"20:57\",\"20:57\",\"20:57\",\"20:58\",\"20:59\",\"20:59\",\"20:59\",\"21:00\",\"21:00\",\"21:00\",\"21:00\",\"21:01\",\"21:01\",\"21:01\",\"21:01\",\"21:02\",\"21:03\",\"21:04\",\"21:04\",\"21:06\",\"21:07\",\"21:07\",\"21:07\",\"21:08\",\"21:08\",\"21:08\",\"21:09\",\"21:09\",\"21:09\",\"21:10\",\"21:10\",\"21:10\",\"21:11\",\"21:11\",\"21:11\",\"21:12\",\"21:12\",\"21:12\",\"21:12\",\"21:13\",\"21:13\",\"21:13\",\"21:14\",\"21:14\",\"21:14\",\"21:14\",\"21:14\",\"21:15\",\"21:15\",\"21:16\",\"21:16\",\"21:16\",\"21:17\",\"21:17\",\"21:18\",\"21:18\",\"21:18\",\"21:19\",\"21:19\",\"21:20\",\"21:20\",\"21:21\",\"21:21\",\"21:23\",\"21:23\",\"21:23\",\"21:23\",\"21:24\",\"21:24\",\"21:24\",\"21:25\",\"21:26\",\"21:26\",\"21:26\",\"21:27\",\"21:27\",\"21:28\",\"21:29\",\"21:29\",\"21:30\",\"21:30\",\"21:30\",\"21:30\",\"21:31\",\"21:31\",\"21:31\",\"21:31\",\"21:31\",\"21:31\",\"21:32\",\"21:33\",\"21:33\",\"21:33\",\"21:33\",\"21:33\",\"21:33\",\"21:34\",\"21:34\",\"21:35\",\"21:35\",\"21:35\",\"21:35\",\"21:36\",\"21:36\",\"21:37\",\"21:38\",\"21:38\",\"21:39\",\"21:39\",\"21:39\",\"21:39\",\"21:39\",\"21:39\",\"21:40\",\"21:40\",\"21:41\",\"21:41\",\"21:42\",\"21:43\",\"21:44\",\"21:44\",\"21:45\",\"21:45\",\"21:46\",\"21:46\",\"21:46\",\"21:48\",\"21:48\",\"21:48\",\"21:49\",\"21:49\",\"21:49\",\"21:50\",\"21:50\",\"21:50\",\"21:51\",\"21:52\",\"21:53\",\"21:53\",\"21:53\",\"21:54\",\"21:55\",\"21:55\",\"21:55\",\"21:55\",\"21:55\",\"21:55\",\"21:57\",\"21:58\",\"21:58\",\"21:59\",\"21:59\",\"21:59\",\"21:59\",\"22:00\",\"22:00\",\"22:01\",\"22:01\",\"22:01\",\"22:01\",\"22:01\",\"22:02\",\"22:02\",\"22:02\",\"22:02\",\"22:02\",\"22:03\",\"22:04\",\"22:04\",\"22:06\",\"22:07\",\"22:07\",\"22:07\",\"22:07\",\"22:08\",\"22:08\",\"22:09\",\"22:09\",\"22:11\",\"22:11\",\"22:11\",\"22:11\",\"22:11\",\"22:12\",\"22:12\",\"22:12\",\"22:12\",\"22:13\",\"22:13\",\"22:13\",\"22:14\",\"22:14\",\"22:15\",\"22:15\",\"22:15\",\"22:15\",\"22:15\",\"22:16\",\"22:17\",\"22:18\",\"22:18\",\"22:20\",\"22:20\",\"22:20\",\"22:21\",\"22:23\",\"22:23\",\"22:23\",\"22:23\",\"22:26\",\"22:26\",\"22:26\",\"22:26\",\"22:27\",\"22:27\",\"22:27\",\"22:28\",\"22:28\",\"22:28\",\"22:29\",\"22:29\",\"22:30\",\"22:31\",\"22:31\",\"22:32\",\"22:33\",\"22:33\",\"22:34\",\"22:34\",\"22:35\",\"22:35\",\"22:35\",\"22:35\",\"22:35\",\"22:36\",\"22:37\",\"22:39\",\"22:39\",\"22:40\",\"22:40\",\"22:41\",\"22:43\",\"22:43\",\"22:45\",\"22:45\",\"22:46\",\"22:46\",\"22:48\",\"22:48\",\"22:49\",\"22:50\",\"22:50\",\"22:51\",\"22:52\",\"22:53\",\"22:53\",\"22:53\",\"22:55\",\"22:55\",\"22:56\",\"22:56\",\"22:56\",\"22:56\",\"22:57\",\"22:57\",\"22:59\",\"23:02\",\"23:03\",\"23:06\",\"23:06\",\"23:07\",\"23:07\",\"23:07\",\"23:07\",\"23:07\",\"23:08\",\"23:09\",\"23:10\",\"23:11\",\"23:11\",\"23:11\",\"23:12\",\"23:12\",\"23:13\",\"23:13\",\"23:14\",\"23:16\",\"23:16\",\"23:16\",\"23:16\",\"23:18\",\"23:18\",\"23:18\",\"23:20\",\"23:22\",\"23:22\",\"23:22\",\"23:22\",\"23:24\",\"23:25\",\"23:26\",\"23:28\",\"23:31\",\"23:32\",\"23:33\",\"23:34\",\"23:35\",\"23:35\",\"23:36\",\"23:36\",\"23:37\",\"23:37\",\"23:37\",\"23:39\",\"23:39\",\"23:40\",\"23:41\",\"23:41\",\"23:44\",\"23:44\",\"23:44\",\"23:46\",\"23:47\",\"23:47\",\"23:48\",\"23:48\",\"23:48\",\"23:49\",\"23:50\",\"23:50\",\"23:53\",\"23:55\",\"23:55\",\"23:55\",\"23:55\",\"23:57\",\"23:57\",\"23:57\",\"23:58\",\"23:58\",\"23:59\"],\"y\":[4.584143161,4.355984311,3.775216328,5.304676203,5.326842288,5.836662246,5.880994416,5.947492672,6.723305652,6.789803907,7.122295184,7.343956036,7.765111653,7.898108164,7.986772505,8.119769015,8.518758548,8.806917655,9.272405443,9.981720167,10.3807097,10.75753315,10.8240314,11.82150523,12.021,11.59957106,11.4965551,11.28115809,11.26242791,11.24369774,10.60687179,10.30718899,10.18544285,9.848299699,9.810839349,9.745283736,8.977346561,8.949251299,8.799409898,8.743219373,8.537187448,8.256234823,8.153218861,8.050202898,8.022107636,7.975282198,7.731789923,8.615061804,8.72547079,8.924206963,8.924206963,7.894779649,7.122709164,6.5436563,3.262356737,2.361607837,2.364167934,2.376328396,2.432650533,2.449291165,2.451851262,2.456971457,2.525454056,2.547854906,2.582416218,2.589456485,2.592656607,2.593936655,2.597136777,2.640658428,2.656019011,2.673939692,2.674579716,2.686100153,2.714261222,2.759062923,2.785943943,2.793624234,2.80194455,2.831385668,2.832025692,2.833945765,2.856346615,2.858266688,2.885787732,2.890267902,2.900508291,2.908188583,2.91074868,2.920349044,2.933789554,2.936989676,2.945309992,2.952350259,2.974751109,2.997151959,2.997151959,3.031713271,3.042593684,3.048993927,3.061794413,3.086115336,3.093795627,3.111076283,3.144357546,3.150757789,3.151397814,3.155237959,3.170598542,3.209,3.185245751,3.168863511,3.132822582,3.122993238,3.121355014,3.118897678,3.108249222,3.082037637,3.073027405,3.057464276,3.05091138,3.023061572,3.003402883,2.994392651,2.959989946,2.954256162,2.944426818,2.914119673,2.910024113,2.817464455,2.806815999,2.806815999,2.784699974,2.780604414,2.77896619,3.445934869,3.529305954,3.737733666,4.15458909,4.196274632,7.447746941,7.78123128,8.573256586,8.82336984,10.44910599,11.15776022,11.57461564,12.908553,13.32540842,13.53383613,13.61720722,13.82563493,13.9923771,13.9923771,14.2841759,15.368,15.368,14.82667464,14.58061766,14.48219486,14.266895,14.23613788,14.05774657,13.93471808,13.88550668,13.85474956,13.57178403,13.55332976,13.30727277,13.11042719,13.09812434,12.98124727,12.97509585,12.77209884,12.67367605,12.64907035,12.51373901,12.24922775,12.15695638,12.02162504,11.9601108,11.83708231,11.82477946,11.46184541,11.43723971,11.40033116,11.34496834,11.24039412,11.11736563,11.11121421,11.10506278,11.01279142,10.77288586,10.33613471,10.31768044,9.99165494,9.905534996,9.831717901,8.847489973,8.675250085,8.484555924,8.170833272,8.133924724,7.91247344,7.7771421,7.30348241,7.30348241,7.248119589,6.946699785,6.940548361,6.688339954,6.380768726,6.356163028,6.343860179,6.122408895,6.005531829,5.993228979,5.820989092,5.679506327,5.482660741,5.43960077,5.396540798,5.371935099,5.230452335,5.199695212,5.15663524,5.027455324,4.744489795,4.547644209,4.356950048,4.338495774,4.283132953,3.98171315,3.766413291,3.747959017,3.698747621,3.372722119,3.305056449,3.231239355,3.15742226,3.225171175,3.306469874,3.323407103,3.347119223,3.580852981,3.641827005,3.855236089,3.943309679,4.339640834,4.536112689,4.549662472,4.576762038,4.725809652,4.78339623,4.80710835,4.830820471,4.918894061,5.000192759,5.067941675,5.071329121,5.203439506,5.298287987,5.389749023,5.396523915,5.433785818,5.504922179,5.521859408,5.57605854,5.742043383,5.742043383,5.748818275,5.877541214,5.887703551,5.918190563,5.985939479,6.006264153,6.141761984,6.23322302,6.267097478,6.351783622,6.416145092,6.507606127,6.538093139,6.758277115,6.778601789,6.809088801,6.944586632,6.968298752,7.076697017,7.083471909,7.279943763,7.300268438,7.713536822,7.788060629,7.788060629,7.79483552,7.933720797,7.987919929,8.055668845,8.167454555,8.309727278,8.438450217,8.452,8.239757353,8.020439951,7.949692402,7.263441176,7.129020833,7.058273284,6.966301471,6.895553922,6.754058824,6.690386029,6.655012255,6.655012255,6.61963848,6.598414216,6.350797794,5.905088235,5.770667892,5.756518382,5.728219363,5.678696078,5.53720098,5.530126225,5.388631127,5.374481618,4.865099265,4.82972549,4.667006127,4.603333333,4.525511029,4.214221814,3.74728799,3.443073529,3.329877451,3.181307598,3.06811152,3.02566299,2.940765931,2.933691176,2.933691176,2.679,2.633244787,2.594869447,2.590441523,2.484171351,2.413324569,2.355761559,2.296722575,2.267203083,2.25687126,2.163884859,2.146173164,2.132889393,2.0103835,1.986767906,1.963152312,1.9114932,1.855406165,1.845074343,1.827362647,1.821458749,1.778655485,1.70338078,1.622202176,1.564639166,1.508552131,1.504124207,1.394902085,1.375714415,1.374238441,1.368334542,1.362430644,1.349146872,1.332911151,1.186789665,1.051,1.082657817,1.462551616,1.810787598,2.25399703,3.203731528,3.362020611,4.470044191,5.989619387,6.021277204,6.021277204,6.401171003,6.686091352,7.097642967,7.572510216,8.047377465,8.058566436,8.094371145,8.168218356,8.262205716,8.315912779,8.541930002,8.676197659,8.680673247,8.696337807,8.705288984,8.792562961,8.913403853,8.935781796,9.045433716,9.190890344,9.202079315,9.244597407,9.258024173,9.302780058,9.358724915,9.394529624,9.412431978,9.430334332,9.454950069,9.504181544,9.513132721,9.602644492,9.719009795,9.752576709,9.766003475,9.783905829,9.788381418,9.842088481,9.895795543,10.01887423,10.16656865,10.21803792,10.40825043,10.49552441,10.5,10.86963528,11.20230703,11.27095358,11.33431963,11.35544164,12.21088329,12.31649337,12.32705438,12.3587374,12.50131101,12.69668966,12.73893369,12.81286074,12.98711737,12.99239788,13.2828256,13.36731366,13.5574118,13.86368103,14.00097414,14.06434019,14.55014655,14.68215915,14.81417175,14.84585477,15.12572149,15.21020955,15.22077056,15.24189257,15.2841366,15.4055882,15.75410146,16.30855438,16.43528647,16.82076326,16.87884881,17.17455703,17.5389118,17.58643634,18.43659748,18.463,18.45464103,18.40588034,18.25959829,18.24288034,18.17879487,18.1035641,18.06455556,18.03111966,17.90991453,17.87090598,17.83607692,17.81657265,17.70094017,17.6368547,17.60481197,17.59784615,17.56858974,17.55744444,17.51982906,17.49893162,17.32617949,17.1032735,17.00575214,16.71597436,16.71040171,16.68393162,16.66721368,16.62959829,16.62959829,16.61845299,16.5404359,16.48749573,16.36768376,16.35653846,16.344,16.11888905,15.962562,15.78747571,15.59363017,15.4435562,15.24345758,14.3367607,14.30549529,14.28673604,14.2304583,13.81150181,13.64892168,13.56137854,12.86728644,12.31076215,12.12316969,12.12316969,12.0168673,11.41031835,10.82878173,10.52863379,9.759504714,8.765264685,8.296283539,7.983629442,7.721,1.571,1.766921053,2.080394737,2.602850877,3.125307018,3.216736842,3.556333333,4.549,5.515452542,7.389784746,7.711935593,7.916940678,13.65708305,13.80351525,14.56496271,17.23002881,18.48934576,19.22150678,20.33439153,20.65654237,20.77368814,21.828,18.95506338,17.93680736,13.0273587,7.681514599,7.499683167,7.063287731,6.881456299,3.717589384,6.782,6.751644068,5.324915254,4.839220339,3.2],\"type\":\"scatter\"},{\"mode\":\"lines\",\"name\":\"SVR Prediction\",\"x\":[\"19:34\",\"19:34\",\"19:34\",\"19:35\",\"19:36\",\"19:36\",\"19:36\",\"19:37\",\"19:37\",\"19:37\",\"19:37\",\"19:37\",\"19:38\",\"19:38\",\"19:38\",\"19:38\",\"19:38\",\"19:39\",\"19:39\",\"19:39\",\"19:40\",\"19:40\",\"19:40\",\"19:40\",\"19:41\",\"19:41\",\"19:42\",\"19:42\",\"19:42\",\"19:42\",\"19:43\",\"19:44\",\"19:44\",\"19:44\",\"19:45\",\"19:45\",\"19:45\",\"19:47\",\"19:47\",\"19:47\",\"19:47\",\"19:47\",\"19:48\",\"19:48\",\"19:48\",\"19:48\",\"19:48\",\"19:49\",\"19:49\",\"19:50\",\"19:50\",\"19:50\",\"19:50\",\"19:50\",\"19:50\",\"19:51\",\"19:51\",\"19:51\",\"19:52\",\"19:53\",\"19:54\",\"19:54\",\"19:54\",\"19:56\",\"19:56\",\"19:57\",\"19:57\",\"19:57\",\"19:57\",\"19:58\",\"19:59\",\"19:59\",\"20:00\",\"20:00\",\"20:00\",\"20:01\",\"20:02\",\"20:02\",\"20:03\",\"20:03\",\"20:04\",\"20:04\",\"20:04\",\"20:04\",\"20:04\",\"20:05\",\"20:05\",\"20:05\",\"20:06\",\"20:06\",\"20:06\",\"20:06\",\"20:06\",\"20:07\",\"20:07\",\"20:07\",\"20:08\",\"20:08\",\"20:09\",\"20:09\",\"20:09\",\"20:10\",\"20:10\",\"20:10\",\"20:11\",\"20:12\",\"20:12\",\"20:12\",\"20:12\",\"20:12\",\"20:13\",\"20:14\",\"20:14\",\"20:15\",\"20:15\",\"20:15\",\"20:15\",\"20:15\",\"20:16\",\"20:16\",\"20:17\",\"20:17\",\"20:17\",\"20:18\",\"20:18\",\"20:19\",\"20:19\",\"20:19\",\"20:19\",\"20:20\",\"20:21\",\"20:22\",\"20:22\",\"20:22\",\"20:22\",\"20:22\",\"20:22\",\"20:22\",\"20:23\",\"20:23\",\"20:23\",\"20:24\",\"20:24\",\"20:25\",\"20:25\",\"20:25\",\"20:26\",\"20:26\",\"20:26\",\"20:26\",\"20:26\",\"20:27\",\"20:27\",\"20:27\",\"20:27\",\"20:27\",\"20:27\",\"20:27\",\"20:29\",\"20:29\",\"20:30\",\"20:30\",\"20:30\",\"20:31\",\"20:31\",\"20:31\",\"20:31\",\"20:32\",\"20:32\",\"20:33\",\"20:33\",\"20:33\",\"20:34\",\"20:34\",\"20:34\",\"20:35\",\"20:35\",\"20:35\",\"20:36\",\"20:36\",\"20:36\",\"20:36\",\"20:37\",\"20:37\",\"20:38\",\"20:38\",\"20:38\",\"20:38\",\"20:38\",\"20:39\",\"20:39\",\"20:39\",\"20:39\",\"20:40\",\"20:41\",\"20:41\",\"20:42\",\"20:42\",\"20:42\",\"20:45\",\"20:45\",\"20:46\",\"20:47\",\"20:47\",\"20:47\",\"20:48\",\"20:49\",\"20:49\",\"20:49\",\"20:50\",\"20:50\",\"20:51\",\"20:52\",\"20:52\",\"20:52\",\"20:52\",\"20:53\",\"20:53\",\"20:53\",\"20:53\",\"20:54\",\"20:54\",\"20:54\",\"20:54\",\"20:55\",\"20:55\",\"20:55\",\"20:55\",\"20:56\",\"20:57\",\"20:57\",\"20:57\",\"20:57\",\"20:58\",\"20:59\",\"20:59\",\"20:59\",\"21:00\",\"21:00\",\"21:00\",\"21:00\",\"21:01\",\"21:01\",\"21:01\",\"21:01\",\"21:02\",\"21:03\",\"21:04\",\"21:04\",\"21:06\",\"21:07\",\"21:07\",\"21:07\",\"21:08\",\"21:08\",\"21:08\",\"21:09\",\"21:09\",\"21:09\",\"21:10\",\"21:10\",\"21:10\",\"21:11\",\"21:11\",\"21:11\",\"21:12\",\"21:12\",\"21:12\",\"21:12\",\"21:13\",\"21:13\",\"21:13\",\"21:14\",\"21:14\",\"21:14\",\"21:14\",\"21:14\",\"21:15\",\"21:15\",\"21:16\",\"21:16\",\"21:16\",\"21:17\",\"21:17\",\"21:18\",\"21:18\",\"21:18\",\"21:19\",\"21:19\",\"21:20\",\"21:20\",\"21:21\",\"21:21\",\"21:23\",\"21:23\",\"21:23\",\"21:23\",\"21:24\",\"21:24\",\"21:24\",\"21:25\",\"21:26\",\"21:26\",\"21:26\",\"21:27\",\"21:27\",\"21:28\",\"21:29\",\"21:29\",\"21:30\",\"21:30\",\"21:30\",\"21:30\",\"21:31\",\"21:31\",\"21:31\",\"21:31\",\"21:31\",\"21:31\",\"21:32\",\"21:33\",\"21:33\",\"21:33\",\"21:33\",\"21:33\",\"21:33\",\"21:34\",\"21:34\",\"21:35\",\"21:35\",\"21:35\",\"21:35\",\"21:36\",\"21:36\",\"21:37\",\"21:38\",\"21:38\",\"21:39\",\"21:39\",\"21:39\",\"21:39\",\"21:39\",\"21:39\",\"21:40\",\"21:40\",\"21:41\",\"21:41\",\"21:42\",\"21:43\",\"21:44\",\"21:44\",\"21:45\",\"21:45\",\"21:46\",\"21:46\",\"21:46\",\"21:48\",\"21:48\",\"21:48\",\"21:49\",\"21:49\",\"21:49\",\"21:50\",\"21:50\",\"21:50\",\"21:51\",\"21:52\",\"21:53\",\"21:53\",\"21:53\",\"21:54\",\"21:55\",\"21:55\",\"21:55\",\"21:55\",\"21:55\",\"21:55\",\"21:57\",\"21:58\",\"21:58\",\"21:59\",\"21:59\",\"21:59\",\"21:59\",\"22:00\",\"22:00\",\"22:01\",\"22:01\",\"22:01\",\"22:01\",\"22:01\",\"22:02\",\"22:02\",\"22:02\",\"22:02\",\"22:02\",\"22:03\",\"22:04\",\"22:04\",\"22:06\",\"22:07\",\"22:07\",\"22:07\",\"22:07\",\"22:08\",\"22:08\",\"22:09\",\"22:09\",\"22:11\",\"22:11\",\"22:11\",\"22:11\",\"22:11\",\"22:12\",\"22:12\",\"22:12\",\"22:12\",\"22:13\",\"22:13\",\"22:13\",\"22:14\",\"22:14\",\"22:15\",\"22:15\",\"22:15\",\"22:15\",\"22:15\",\"22:16\",\"22:17\",\"22:18\",\"22:18\",\"22:20\",\"22:20\",\"22:20\",\"22:21\",\"22:23\",\"22:23\",\"22:23\",\"22:23\",\"22:26\",\"22:26\",\"22:26\",\"22:26\",\"22:27\",\"22:27\",\"22:27\",\"22:28\",\"22:28\",\"22:28\",\"22:29\",\"22:29\",\"22:30\",\"22:31\",\"22:31\",\"22:32\",\"22:33\",\"22:33\",\"22:34\",\"22:34\",\"22:35\",\"22:35\",\"22:35\",\"22:35\",\"22:35\",\"22:36\",\"22:37\",\"22:39\",\"22:39\",\"22:40\",\"22:40\",\"22:41\",\"22:43\",\"22:43\",\"22:45\",\"22:45\",\"22:46\",\"22:46\",\"22:48\",\"22:48\",\"22:49\",\"22:50\",\"22:50\",\"22:51\",\"22:52\",\"22:53\",\"22:53\",\"22:53\",\"22:55\",\"22:55\",\"22:56\",\"22:56\",\"22:56\",\"22:56\",\"22:57\",\"22:57\",\"22:59\",\"23:02\",\"23:03\",\"23:06\",\"23:06\",\"23:07\",\"23:07\",\"23:07\",\"23:07\",\"23:07\",\"23:08\",\"23:09\",\"23:10\",\"23:11\",\"23:11\",\"23:11\",\"23:12\",\"23:12\",\"23:13\",\"23:13\",\"23:14\",\"23:16\",\"23:16\",\"23:16\",\"23:16\",\"23:18\",\"23:18\",\"23:18\",\"23:20\",\"23:22\",\"23:22\",\"23:22\",\"23:22\",\"23:24\",\"23:25\",\"23:26\",\"23:28\",\"23:31\",\"23:32\",\"23:33\",\"23:34\",\"23:35\",\"23:35\",\"23:36\",\"23:36\",\"23:37\",\"23:37\",\"23:37\",\"23:39\",\"23:39\",\"23:40\",\"23:41\",\"23:41\",\"23:44\",\"23:44\",\"23:44\",\"23:46\",\"23:47\",\"23:47\",\"23:48\",\"23:48\",\"23:48\",\"23:49\",\"23:50\",\"23:50\",\"23:53\",\"23:55\",\"23:55\",\"23:55\",\"23:55\",\"23:57\",\"23:57\",\"23:57\",\"23:58\",\"23:58\",\"23:59\"],\"y\":[4.887731167983738,4.405424320403093,4.16752279543792,3.528883639144331,5.196576578092423,5.522220466299284,6.240804861940933,6.302605962409021,6.234453988764225,6.861162388564019,7.050109867133037,7.343067835185257,7.584529312331648,7.933111590302222,8.062975100826376,8.140651732703699,8.225315796261633,8.629038284860254,8.97774065366167,9.466198604476432,10.178830634817103,10.607600084545544,10.931294849820095,10.99350935298396,11.694654290526001,12.048684147759161,11.899280437438364,11.704955375542324,11.446523367810828,11.381601441014244,11.302506485770213,10.720448809372659,10.270782630680753,10.007062782627322,9.677194733216217,9.55805427703859,9.500603765574033,8.847805659951359,8.651360041785466,8.54739768458592,8.545837976337513,8.373736199244025,8.095135612142698,7.983357116667596,7.905323758159565,7.905606078927502,7.897698406428444,7.651458669950692,8.59531872947403,8.924154231938774,9.09328065852439,9.087449196916417,7.893472154579576,6.746018591056998,6.078441102537049,3.7245147429678953,3.5334483266496477,3.5247607012926006,3.089353965345067,2.799450800226193,2.734175248641894,2.4036290295937572,2.4756739933574403,2.5413638924172153,2.5722811002615265,2.606346157176646,2.6197221687622045,2.628226968065433,2.6293446067940103,2.6236713357434853,2.661525404348544,2.6785171762375146,2.700199021697264,2.704858484934367,2.7179410259677583,2.745420096946,2.7873810603205333,2.8196198454443513,2.8320449564025196,2.843166458416433,2.8715355699038385,2.872159447458274,2.8689545430693775,2.8870193436260134,2.8912640352739194,2.917545926509825,2.92178142958198,2.9341227169510518,2.9422238393398166,2.943440954569274,2.952412035132739,2.9630314580156005,2.9676600503141852,2.9752765783485113,2.9823093863719894,3.005096646519678,3.0287345493994255,3.031049252493162,3.065426787591554,3.0792692029242223,3.0872216509309363,3.0969135875736242,3.119835813743311,3.129963347657802,3.143960636657046,3.1776265695180568,3.1876599753230552,3.1877719325969265,3.187691953982279,3.2016081501845823,3.238476300871885,3.2152914743165892,3.1966421720985094,3.1566638407903254,3.1409033573634977,3.1328225875358493,3.125763156239934,3.1188955672760548,3.0951238759184347,3.0878193522793733,3.0715473411162373,3.0632998082386864,3.0349629537872547,3.014368849303086,3.0055533950054834,2.9717061545089356,2.9635990846396902,2.9532088993194554,2.9268259257278473,2.9211026861783296,2.8319000169081114,2.8141491105581657,2.8079327458311996,2.788337371849167,2.78436197247413,2.7841015800651716,3.4822894628320373,3.6723021290097035,3.9291928133932656,4.361997036814486,4.431447172406447,7.741206118921173,8.428846700297244,9.167356712008422,9.311640624985861,10.000705272607767,10.642953547593208,11.52984401195432,12.117237145997969,12.444783430783678,12.757847683545965,13.003815454607352,12.916813274721695,12.67664313159746,12.221877110036736,11.953275694037558,11.625845697195365,11.085192015530788,10.597124562891302,10.290194902696594,10.113196907752661,9.96537898285472,9.901911037151283,10.193592439867619,10.58554907475239,10.841991193360554,11.036592823052525,11.180461341906465,11.328881418460458,11.452641324537261,11.540600515217097,11.692859957217793,11.818011046827081,12.022563092896547,12.050817369859052,12.129345037639185,12.20722358498271,12.184572075919931,12.07771252242666,12.015945357756125,11.97228744102776,11.950263665379591,11.882944691816043,11.893404525384767,11.644761073154429,11.535143059307737,11.483330368186321,11.439289452990142,11.351811762605703,11.210463932230562,11.190000700845385,11.173184919057272,11.096298595926603,10.85687988539718,10.3727810977936,10.199264006877254,9.87037442236554,9.713995509145146,9.625365811573884,8.72498467606509,8.337692914245386,8.163382147765656,7.922731437588503,7.884732583228929,7.747557010228275,7.621942609618658,7.124733458509325,7.076225028547362,7.093416579319687,6.803843487398451,6.79194412642037,6.564494469784822,6.185076499259102,6.163058498367972,6.209673944553456,6.0096053652634165,5.9024889821178785,5.901797282021798,5.729331150176334,5.58483209415523,5.383757767933589,5.331087824318766,5.309803335779638,5.319290812349065,5.196522188252617,5.165023989851623,5.122430285261012,4.990836977137571,4.686221210536579,4.45041701089369,4.231097081900007,4.201910921059035,4.162783978816204,3.8742825664733895,3.651631912415141,3.6225942495688264,3.5886070198466014,3.264106544246096,3.1825557813695147,3.1328497796833172,3.083687382415798,3.147775215720648,3.2593937435941447,3.333835373713831,3.374244529543704,3.6285331701576,3.7251650164955583,3.9522695388944444,4.0510547466184175,4.475736982735588,4.707110163780319,4.723375106735919,4.719148178299884,4.829087238324288,4.874152171210721,4.880503626417532,4.891593902816169,4.97430823326494,5.060144764290194,5.136902701815096,5.14218341695082,5.273651982339587,5.37752081590498,5.481529507124614,5.489809206800357,5.511808348778615,5.568376420830054,5.5799447688175965,5.63221032623885,5.811918304356846,5.8252113660363305,5.822328542383106,5.942816717753958,5.948739193420542,5.970120210712823,6.039432081937988,6.053751163395997,6.190180274978188,6.3042245197700675,6.340460145064503,6.417446655214394,6.4748047837474925,6.556923066492514,6.588471564520734,6.81516239431415,6.853326234679309,6.861591768286505,6.988511888904108,7.007968584548575,7.102811379074311,7.121323066850699,7.312849573529579,7.353267182133796,7.789329367250355,7.929472474224224,7.888938598258692,7.846915325710167,7.960762731942263,8.021360556243932,8.09836178049297,8.22150405449031,8.379666984071038,8.5238114098918,8.536377689931527,8.269214254630382,7.948043599116072,7.824571535187683,7.072547324348846,6.822716332174627,6.828826576272563,6.795245971395641,6.77824393063033,6.674889348251924,6.581897021019916,6.559623006093149,6.583214353436095,6.57148242631385,6.56095571597667,6.287679963864582,5.756575515487459,5.553995356307276,5.56275532890397,5.600546344033283,5.624476093746015,5.510807417092652,5.491353087128858,5.34405382315824,5.325691851250427,4.796738118137268,4.709274949143073,4.535174921686444,4.4791382608871295,4.423646585185974,4.116965283820928,3.6399327477854913,3.2905171146146577,3.14863435025359,2.9885308045790255,2.8806766543668205,2.878189722430111,2.854001146856458,2.8801135547190126,2.8959526658690997,2.6764111500741645,2.617912431385168,2.5692347564565177,2.567202912704663,2.4595523224659797,2.383406704308488,2.3441028169639235,2.2812414599740007,2.240860087015971,2.22040387243052,2.1443771885600196,2.118664969609461,2.102064370240221,1.9977923533559707,1.9550965982231725,1.9210526399786758,1.8771423034266688,1.8165276171198723,1.7940377698141043,1.7825571191192786,1.7720438187781848,1.73607018452822,1.6748368700354268,1.6022203042111185,1.5387215352275687,1.4792869960270805,1.4578015340243962,1.3785473896015121,1.3543053472518256,1.350620471405981,1.3497334058397286,1.3494539952677655,1.3434756216445907,1.3435462560749283,1.2536147571114915,1.1566154189150355,1.1517599201691278,1.3843616451194265,1.7022766491676506,2.1767438301583066,3.2291289075886356,3.693460656654057,4.828741554927296,6.3226024432057715,6.541671565980516,6.572856838212501,6.747841910039684,6.8286431825009055,7.225474706094551,7.832264496982415,8.315344556268482,8.30762301124503,8.24458087267033,8.242946280447722,8.305418062485625,8.36279561713242,8.606147584177528,8.780543736929133,8.778612855085722,8.757762352985958,8.740852023309639,8.814783089756983,8.947322063660659,8.983407843001014,9.085401994216308,9.244095401055304,9.268479044041648,9.284588588084672,9.281923909766897,9.313764442838021,9.36281947438969,9.396421340041314,9.413304097163268,9.423558551324376,9.443300227022801,9.488725497125046,9.500759769178048,9.583081247070576,9.711365031608768,9.765590200033012,9.773116785289995,9.776292938406737,9.77401770686168,9.812831120427095,9.86542388526287,9.991300104589834,10.155641430094706,10.237006409405307,10.415266189287166,10.529410613991274,10.55278115200159,10.858561562169537,11.222634723359551,11.398351997780777,11.476990854620068,11.510212106100463,12.169486018870213,12.463890335144677,12.554965918904013,12.560592936966561,12.639035820363585,12.77987658345575,12.744197929233875,12.752234159014076,12.808509785167494,12.771163238763545,12.815994017893392,12.7616862171316,12.728454966941937,12.670218153121226,12.48525070525448,12.266348306863794,12.006424574087417,11.670950036156167,11.280250537445864,10.90185890657253,10.589259751961666,10.275492747803876,9.952630118805747,9.773222092516278,9.625098247409491,9.503743069273803,9.338759713336097,9.13873168873201,8.905584410679118,8.647698675617223,8.418690239678893,8.216938102258332,8.0478364319528,7.934783303388781,7.8474540103455315,7.786268121190669,7.75262345207024,7.7318398767479035,7.720663871658557,7.715392915955543,7.711325200011239,7.713468109602546,7.7164325347318,7.719900765676388,7.724219203805898,7.728102020336742,7.732675479935777,7.737107408715932,7.742036294570728,7.747959468442755,7.754869682620328,7.760354908819056,7.765897876872367,7.771345767533576,7.777509634588298,7.781912812030562,7.787752680172625,7.797901999465318,7.813231392890082,7.835848126462177,7.866362158890456,7.902660131653848,7.944976161242881,7.986456245972613,8.017550352847593,8.046537909843671,8.056538214581785,8.071164987421293,8.090995578154416,8.115319095117684,8.139420666317156,8.173890101733084,8.226970046802476,8.29353408789647,8.380064066396939,8.481047088917439,8.614863874461664,8.794289851978085,9.069992914526829,9.410885628810592,9.76386127892057,10.107734717591379,10.513675224662173,11.01415543598703,10.984800843098512,10.934823289937263,11.049580648778829,11.348148195231152,11.538329281603346,11.296862002522346,10.848931914104167,10.423674743348759,9.618557547719735,8.556945453135636,7.922659446376937,7.613276735588208,7.414591493723027,4.529018545516218,4.648417318807088,4.631041224343704,4.4363800284254715,4.387590152303758,4.501663513032024,3.8598172648931635,4.846213372024058,5.891972128009973,7.786555874875656,8.3820652581146,8.53438193120991,10.464437218526859,10.653688470258047,10.689057516756199,9.908062317952766,8.920307854033913,8.255832450527773,7.852386851151895,7.721946713975936,7.693675929024832,7.68793223139247,7.687487623389429,7.687560538727247,7.688184336126719,7.686693887009352,7.6879221485998155,7.671961876145183,7.594513450663678,7.178358803446445,6.811452166464985,6.937090758897668,5.773438211620405,5.280997817517809],\"type\":\"scatter\"},{\"mode\":\"lines\",\"name\":\"GBR Prediction\",\"x\":[\"19:34\",\"19:34\",\"19:34\",\"19:35\",\"19:36\",\"19:36\",\"19:36\",\"19:37\",\"19:37\",\"19:37\",\"19:37\",\"19:37\",\"19:38\",\"19:38\",\"19:38\",\"19:38\",\"19:38\",\"19:39\",\"19:39\",\"19:39\",\"19:40\",\"19:40\",\"19:40\",\"19:40\",\"19:41\",\"19:41\",\"19:42\",\"19:42\",\"19:42\",\"19:42\",\"19:43\",\"19:44\",\"19:44\",\"19:44\",\"19:45\",\"19:45\",\"19:45\",\"19:47\",\"19:47\",\"19:47\",\"19:47\",\"19:47\",\"19:48\",\"19:48\",\"19:48\",\"19:48\",\"19:48\",\"19:49\",\"19:49\",\"19:50\",\"19:50\",\"19:50\",\"19:50\",\"19:50\",\"19:50\",\"19:51\",\"19:51\",\"19:51\",\"19:52\",\"19:53\",\"19:54\",\"19:54\",\"19:54\",\"19:56\",\"19:56\",\"19:57\",\"19:57\",\"19:57\",\"19:57\",\"19:58\",\"19:59\",\"19:59\",\"20:00\",\"20:00\",\"20:00\",\"20:01\",\"20:02\",\"20:02\",\"20:03\",\"20:03\",\"20:04\",\"20:04\",\"20:04\",\"20:04\",\"20:04\",\"20:05\",\"20:05\",\"20:05\",\"20:06\",\"20:06\",\"20:06\",\"20:06\",\"20:06\",\"20:07\",\"20:07\",\"20:07\",\"20:08\",\"20:08\",\"20:09\",\"20:09\",\"20:09\",\"20:10\",\"20:10\",\"20:10\",\"20:11\",\"20:12\",\"20:12\",\"20:12\",\"20:12\",\"20:12\",\"20:13\",\"20:14\",\"20:14\",\"20:15\",\"20:15\",\"20:15\",\"20:15\",\"20:15\",\"20:16\",\"20:16\",\"20:17\",\"20:17\",\"20:17\",\"20:18\",\"20:18\",\"20:19\",\"20:19\",\"20:19\",\"20:19\",\"20:20\",\"20:21\",\"20:22\",\"20:22\",\"20:22\",\"20:22\",\"20:22\",\"20:22\",\"20:22\",\"20:23\",\"20:23\",\"20:23\",\"20:24\",\"20:24\",\"20:25\",\"20:25\",\"20:25\",\"20:26\",\"20:26\",\"20:26\",\"20:26\",\"20:26\",\"20:27\",\"20:27\",\"20:27\",\"20:27\",\"20:27\",\"20:27\",\"20:27\",\"20:29\",\"20:29\",\"20:30\",\"20:30\",\"20:30\",\"20:31\",\"20:31\",\"20:31\",\"20:31\",\"20:32\",\"20:32\",\"20:33\",\"20:33\",\"20:33\",\"20:34\",\"20:34\",\"20:34\",\"20:35\",\"20:35\",\"20:35\",\"20:36\",\"20:36\",\"20:36\",\"20:36\",\"20:37\",\"20:37\",\"20:38\",\"20:38\",\"20:38\",\"20:38\",\"20:38\",\"20:39\",\"20:39\",\"20:39\",\"20:39\",\"20:40\",\"20:41\",\"20:41\",\"20:42\",\"20:42\",\"20:42\",\"20:45\",\"20:45\",\"20:46\",\"20:47\",\"20:47\",\"20:47\",\"20:48\",\"20:49\",\"20:49\",\"20:49\",\"20:50\",\"20:50\",\"20:51\",\"20:52\",\"20:52\",\"20:52\",\"20:52\",\"20:53\",\"20:53\",\"20:53\",\"20:53\",\"20:54\",\"20:54\",\"20:54\",\"20:54\",\"20:55\",\"20:55\",\"20:55\",\"20:55\",\"20:56\",\"20:57\",\"20:57\",\"20:57\",\"20:57\",\"20:58\",\"20:59\",\"20:59\",\"20:59\",\"21:00\",\"21:00\",\"21:00\",\"21:00\",\"21:01\",\"21:01\",\"21:01\",\"21:01\",\"21:02\",\"21:03\",\"21:04\",\"21:04\",\"21:06\",\"21:07\",\"21:07\",\"21:07\",\"21:08\",\"21:08\",\"21:08\",\"21:09\",\"21:09\",\"21:09\",\"21:10\",\"21:10\",\"21:10\",\"21:11\",\"21:11\",\"21:11\",\"21:12\",\"21:12\",\"21:12\",\"21:12\",\"21:13\",\"21:13\",\"21:13\",\"21:14\",\"21:14\",\"21:14\",\"21:14\",\"21:14\",\"21:15\",\"21:15\",\"21:16\",\"21:16\",\"21:16\",\"21:17\",\"21:17\",\"21:18\",\"21:18\",\"21:18\",\"21:19\",\"21:19\",\"21:20\",\"21:20\",\"21:21\",\"21:21\",\"21:23\",\"21:23\",\"21:23\",\"21:23\",\"21:24\",\"21:24\",\"21:24\",\"21:25\",\"21:26\",\"21:26\",\"21:26\",\"21:27\",\"21:27\",\"21:28\",\"21:29\",\"21:29\",\"21:30\",\"21:30\",\"21:30\",\"21:30\",\"21:31\",\"21:31\",\"21:31\",\"21:31\",\"21:31\",\"21:31\",\"21:32\",\"21:33\",\"21:33\",\"21:33\",\"21:33\",\"21:33\",\"21:33\",\"21:34\",\"21:34\",\"21:35\",\"21:35\",\"21:35\",\"21:35\",\"21:36\",\"21:36\",\"21:37\",\"21:38\",\"21:38\",\"21:39\",\"21:39\",\"21:39\",\"21:39\",\"21:39\",\"21:39\",\"21:40\",\"21:40\",\"21:41\",\"21:41\",\"21:42\",\"21:43\",\"21:44\",\"21:44\",\"21:45\",\"21:45\",\"21:46\",\"21:46\",\"21:46\",\"21:48\",\"21:48\",\"21:48\",\"21:49\",\"21:49\",\"21:49\",\"21:50\",\"21:50\",\"21:50\",\"21:51\",\"21:52\",\"21:53\",\"21:53\",\"21:53\",\"21:54\",\"21:55\",\"21:55\",\"21:55\",\"21:55\",\"21:55\",\"21:55\",\"21:57\",\"21:58\",\"21:58\",\"21:59\",\"21:59\",\"21:59\",\"21:59\",\"22:00\",\"22:00\",\"22:01\",\"22:01\",\"22:01\",\"22:01\",\"22:01\",\"22:02\",\"22:02\",\"22:02\",\"22:02\",\"22:02\",\"22:03\",\"22:04\",\"22:04\",\"22:06\",\"22:07\",\"22:07\",\"22:07\",\"22:07\",\"22:08\",\"22:08\",\"22:09\",\"22:09\",\"22:11\",\"22:11\",\"22:11\",\"22:11\",\"22:11\",\"22:12\",\"22:12\",\"22:12\",\"22:12\",\"22:13\",\"22:13\",\"22:13\",\"22:14\",\"22:14\",\"22:15\",\"22:15\",\"22:15\",\"22:15\",\"22:15\",\"22:16\",\"22:17\",\"22:18\",\"22:18\",\"22:20\",\"22:20\",\"22:20\",\"22:21\",\"22:23\",\"22:23\",\"22:23\",\"22:23\",\"22:26\",\"22:26\",\"22:26\",\"22:26\",\"22:27\",\"22:27\",\"22:27\",\"22:28\",\"22:28\",\"22:28\",\"22:29\",\"22:29\",\"22:30\",\"22:31\",\"22:31\",\"22:32\",\"22:33\",\"22:33\",\"22:34\",\"22:34\",\"22:35\",\"22:35\",\"22:35\",\"22:35\",\"22:35\",\"22:36\",\"22:37\",\"22:39\",\"22:39\",\"22:40\",\"22:40\",\"22:41\",\"22:43\",\"22:43\",\"22:45\",\"22:45\",\"22:46\",\"22:46\",\"22:48\",\"22:48\",\"22:49\",\"22:50\",\"22:50\",\"22:51\",\"22:52\",\"22:53\",\"22:53\",\"22:53\",\"22:55\",\"22:55\",\"22:56\",\"22:56\",\"22:56\",\"22:56\",\"22:57\",\"22:57\",\"22:59\",\"23:02\",\"23:03\",\"23:06\",\"23:06\",\"23:07\",\"23:07\",\"23:07\",\"23:07\",\"23:07\",\"23:08\",\"23:09\",\"23:10\",\"23:11\",\"23:11\",\"23:11\",\"23:12\",\"23:12\",\"23:13\",\"23:13\",\"23:14\",\"23:16\",\"23:16\",\"23:16\",\"23:16\",\"23:18\",\"23:18\",\"23:18\",\"23:20\",\"23:22\",\"23:22\",\"23:22\",\"23:22\",\"23:24\",\"23:25\",\"23:26\",\"23:28\",\"23:31\",\"23:32\",\"23:33\",\"23:34\",\"23:35\",\"23:35\",\"23:36\",\"23:36\",\"23:37\",\"23:37\",\"23:37\",\"23:39\",\"23:39\",\"23:40\",\"23:41\",\"23:41\",\"23:44\",\"23:44\",\"23:44\",\"23:46\",\"23:47\",\"23:47\",\"23:48\",\"23:48\",\"23:48\",\"23:49\",\"23:50\",\"23:50\",\"23:53\",\"23:55\",\"23:55\",\"23:55\",\"23:55\",\"23:57\",\"23:57\",\"23:57\",\"23:58\",\"23:58\",\"23:59\"],\"y\":[5.131107648323324,4.6025313097654355,4.331272088961439,3.8057329950619683,5.469340532735788,5.469340532735788,5.751468414320051,6.1735223018165035,6.1735223018165035,6.641103177512101,6.7568880378356075,7.119215649635915,7.429635102424142,7.829349951472051,7.829349951472051,7.829349951472051,8.023932382570973,8.410724875645657,8.7146707990678,9.139412671972426,9.792041450938417,10.41522233311575,10.742130174717401,10.742130174717401,11.360264401010902,11.728857212317646,11.360264401010902,11.360264401010902,11.360264401010902,10.972896909929327,10.972896909929327,10.488331246107462,10.41522233311575,10.081815610704897,9.792041450938417,9.766605348361933,9.67609769007175,8.7146707990678,8.7146707990678,8.7146707990678,8.7146707990678,8.410724875645657,8.31049613081166,8.023932382570973,7.829349951472051,7.829349951472051,7.829349951472051,7.782608360182232,8.684425664476679,8.7146707990678,8.7146707990678,8.7146707990678,7.829349951472051,7.119215649635915,6.588503338692135,3.3707173094540437,2.483999715513077,2.483999715513077,2.4733685816755666,2.4733685816755666,2.4733685816755666,2.4733685816755666,2.4733685816755666,2.594125172173045,2.594125172173045,2.594125172173045,2.649374090966741,2.649374090966741,2.649374090966741,2.649374090966741,2.649374090966741,2.7779632559025593,2.7779632559025593,2.7779632559025593,2.7779632559025593,2.7779632559025593,2.7779632559025593,2.913491754299178,2.913491754299178,2.913491754299178,2.913491754299178,2.913491754299178,2.913491754299178,2.913491754299178,2.913491754299178,2.913491754299178,2.913491754299178,2.9303733352495414,2.960834153935111,2.960834153935111,2.960834153935111,2.960834153935111,2.960834153935111,2.960834153935111,2.960834153935111,3.0349226922031245,3.0349226922031245,3.0349226922031245,3.170205859191021,3.170205859191021,3.170205859191021,3.170205859191021,3.2047775755817787,3.2047775755817787,3.2047775755817787,3.2211795548370614,3.2211795548370614,3.2211795548370614,3.2211795548370614,3.2211795548370614,3.360086175616533,3.360086175616533,3.2211795548370614,3.2047775755817787,3.2047775755817787,3.2047775755817787,3.2047775755817787,3.2047775755817787,3.2047775755817787,3.2047775755817787,3.170205859191021,3.170205859191021,3.0349226922031245,3.0349226922031245,3.0349226922031245,2.960834153935111,2.960834153935111,2.960834153935111,2.960834153935111,2.960834153935111,2.913491754299178,2.913491754299178,2.913491754299178,2.913491754299178,2.913491754299178,2.913491754299178,3.4048908284940724,3.5492431744929767,3.8057329950619683,4.114530361973434,4.114530361973434,7.429635102424142,7.829349951472051,8.410724875645657,8.7146707990678,10.41522233311575,10.972896909929327,11.360264401010902,12.736309702936941,12.736309702936941,12.736309702936941,12.736309702936941,12.736309702936941,13.1028275712532,12.936132109066063,12.936132109066063,12.936132109066063,12.936132109066063,12.936132109066063,12.936132109066063,12.936132109066063,12.936132109066063,12.936132109066063,12.936132109066063,12.512934613588524,12.512934613588524,12.512934613588524,12.512934613588524,12.512934613588524,12.512934613588524,12.512934613588524,12.512934613588524,12.512934613588524,12.512934613588524,12.487688727335343,12.487688727335343,12.487688727335343,12.487688727335343,11.562161750130509,11.562161750130509,11.728857212317646,11.728857212317646,11.360264401010902,11.360264401010902,11.360264401010902,11.360264401010902,11.360264401010902,11.360264401010902,10.972896909929327,10.972896909929327,10.972896909929327,10.972896909929327,10.972896909929327,10.742130174717401,10.41522233311575,10.41522233311575,9.792041450938417,9.792041450938417,9.766605348361933,8.7146707990678,8.684425664476679,8.410724875645657,8.023932382570973,8.023932382570973,7.829349951472051,7.829349951472051,7.151876680007965,7.151876680007965,7.151876680007965,7.105882349799374,7.105882349799374,6.641103177512101,6.191931631023936,6.191931631023936,6.191931631023936,6.191931631023936,6.191931631023936,6.191931631023936,5.751468414320051,5.606534439017933,5.469340532735788,5.469340532735788,5.469340532735788,5.469340532735788,5.131107648323324,5.131107648323324,5.131107648323324,4.943885265760694,4.887472454093137,4.579538472567481,4.331272088961439,4.331272088961439,4.331272088961439,4.022474814566479,3.8057329950619683,3.8057329950619683,3.6488072789108843,3.415521962331583,3.3707173094540437,3.3707173094540437,3.231810688674572,3.3707173094540437,3.360086175616533,3.4048908284940724,3.415521962331583,3.5779034835806574,3.6488072789108843,3.8494200024620686,4.022474814566479,4.331272088961439,4.579538472567481,4.579538472567481,4.6025313097654355,4.6025313097654355,4.887472454093137,4.887472454093137,4.887472454093137,4.887472454093137,4.943885265760694,5.131107648323324,5.131107648323324,5.131107648323324,5.469340532735788,5.469340532735788,5.469340532735788,5.469340532735788,5.52758839408954,5.52758839408954,5.52758839408954,5.606534439017933,5.606534439017933,5.606534439017933,5.751468414320051,6.1735223018165035,6.1735223018165035,6.191931631023936,6.191931631023936,6.191931631023936,6.191931631023936,6.191931631023936,6.191931631023936,6.588503338692135,6.588503338692135,6.588503338692135,6.7568880378356075,6.7568880378356075,6.7568880378356075,7.105882349799374,7.105882349799374,7.119215649635915,7.119215649635915,7.151876680007965,7.151876680007965,7.782608360182232,7.829349951472051,7.829349951472051,7.829349951472051,7.829349951472051,7.829349951472051,7.829349951472051,8.023932382570973,8.31049613081166,8.410724875645657,8.410724875645657,8.31049613081166,7.829349951472051,7.829349951472051,7.151876680007965,7.119215649635915,7.119215649635915,7.105882349799374,7.105882349799374,6.7568880378356075,6.641103177512101,6.641103177512101,6.641103177512101,6.588503338692135,6.588503338692135,6.191931631023936,6.1735223018165035,5.751468414320051,5.751468414320051,5.606534439017933,5.606534439017933,5.52758839408954,5.52758839408954,5.469340532735788,5.469340532735788,4.887472454093137,4.887472454093137,4.6025313097654355,4.6025313097654355,4.579538472567481,4.331272088961439,3.8057329950619683,3.415521962331583,3.415521962331583,3.3707173094540437,3.215408709419289,3.170205859191021,2.960834153935111,2.960834153935111,2.960834153935111,2.7779632559025593,2.649374090966741,2.649374090966741,2.649374090966741,2.594125172173045,2.4733685816755666,2.4733685816755666,2.357036164794039,2.357036164794039,2.357036164794039,2.325202503048673,2.325202503048673,2.325202503048673,2.1209975812633575,2.064354367041229,2.064354367041229,2.064354367041229,1.8821721149948614,1.8821721149948614,1.8821721149948614,1.8821721149948614,1.8821721149948614,1.8821721149948614,1.8445452758316518,1.8445452758316518,1.6884166895646315,1.6884166895646315,1.6884166895646315,1.6120497479760978,1.6120497479760978,1.6120497479760978,1.6120497479760978,1.5512865258533406,1.5512865258533406,1.4264103530610408,1.4264103530610408,1.4264103530610408,1.6884166895646315,1.8821721149948614,2.357036164794039,3.360086175616533,3.4048908284940724,4.568907338729971,6.191931631023936,6.191931631023936,6.191931631023936,6.191931631023936,6.641103177512101,7.119215649635915,7.4413761100230005,7.829349951472051,7.829349951472051,8.023932382570973,8.023932382570973,8.31049613081166,8.31049613081166,8.410724875645657,8.684425664476679,8.684425664476679,8.684425664476679,8.684425664476679,8.7146707990678,8.7146707990678,8.7146707990678,8.839210912000418,9.139412671972426,9.139412671972426,9.139412671972426,9.139412671972426,9.139412671972426,9.316854582083288,9.316854582083288,9.316854582083288,9.316854582083288,9.381222467946174,9.381222467946174,9.381222467946174,9.381222467946174,9.67609769007175,9.67609769007175,9.67609769007175,9.766605348361933,9.766605348361933,9.766605348361933,9.792041450938417,9.792041450938417,10.081815610704897,10.146242751095889,10.41522233311575,10.41522233311575,10.41522233311575,10.742130174717401,10.972896909929327,10.972896909929327,11.360264401010902,11.360264401010902,11.728857212317646,11.728857212317646,11.728857212317646,11.728857212317646,12.263444919887892,12.65438418952248,12.65438418952248,12.736309702936941,12.736309702936941,12.736309702936941,12.736309702936941,12.736309702936941,12.736309702936941,12.569614240749804,12.936132109066063,12.936132109066063,12.936132109066063,12.936132109066063,12.936132109066063,12.936132109066063,12.936132109066063,12.936132109066063,12.936132109066063,12.936132109066063,12.936132109066063,12.936132109066063,12.936132109066063,12.936132109066063,12.936132109066063,12.936132109066063,12.936132109066063,12.936132109066063,12.936132109066063,12.936132109066063,12.936132109066063,12.936132109066063,12.936132109066063,12.936132109066063,12.936132109066063,12.936132109066063,12.936132109066063,12.936132109066063,12.936132109066063,12.936132109066063,12.936132109066063,12.936132109066063,12.936132109066063,12.936132109066063,12.936132109066063,12.936132109066063,12.936132109066063,12.936132109066063,12.936132109066063,12.936132109066063,12.936132109066063,12.936132109066063,12.936132109066063,12.936132109066063,12.936132109066063,12.936132109066063,12.936132109066063,12.936132109066063,12.936132109066063,12.936132109066063,12.936132109066063,12.936132109066063,12.936132109066063,12.936132109066063,12.936132109066063,12.936132109066063,12.936132109066063,12.936132109066063,12.936132109066063,12.936132109066063,12.936132109066063,12.936132109066063,12.936132109066063,12.936132109066063,12.936132109066063,12.936132109066063,12.936132109066063,12.512934613588524,12.512934613588524,12.512934613588524,12.512934613588524,11.505482122969228,11.505482122969228,11.505482122969228,11.562161750130509,11.193568938823764,10.575434712530264,10.41522233311575,9.67609769007175,8.7146707990678,8.31049613081166,7.829349951472051,7.782608360182232,1.8551764096691619,1.8928032488323714,2.1209975812633575,2.649374090966741,3.2047775755817787,3.360086175616533,3.5492431744929767,4.568907338729971,5.52758839408954,7.429635102424142,7.782608360182232,7.829349951472051,12.736309702936941,12.736309702936941,13.159507198414481,13.159507198414481,13.1028275712532,13.1028275712532,12.936132109066063,12.936132109066063,12.936132109066063,12.936132109066063,12.936132109066063,12.936132109066063,12.512934613588524,7.218001020674586,7.2062600130757275,6.895840560287501,6.939186887612238,3.482111816723748,6.590192575648472,6.641103177512101,5.469340532735788,4.887472454093137],\"type\":\"scatter\"},{\"mode\":\"lines\",\"name\":\"Random Forest Prediction\",\"x\":[\"19:34\",\"19:34\",\"19:34\",\"19:35\",\"19:36\",\"19:36\",\"19:36\",\"19:37\",\"19:37\",\"19:37\",\"19:37\",\"19:37\",\"19:38\",\"19:38\",\"19:38\",\"19:38\",\"19:38\",\"19:39\",\"19:39\",\"19:39\",\"19:40\",\"19:40\",\"19:40\",\"19:40\",\"19:41\",\"19:41\",\"19:42\",\"19:42\",\"19:42\",\"19:42\",\"19:43\",\"19:44\",\"19:44\",\"19:44\",\"19:45\",\"19:45\",\"19:45\",\"19:47\",\"19:47\",\"19:47\",\"19:47\",\"19:47\",\"19:48\",\"19:48\",\"19:48\",\"19:48\",\"19:48\",\"19:49\",\"19:49\",\"19:50\",\"19:50\",\"19:50\",\"19:50\",\"19:50\",\"19:50\",\"19:51\",\"19:51\",\"19:51\",\"19:52\",\"19:53\",\"19:54\",\"19:54\",\"19:54\",\"19:56\",\"19:56\",\"19:57\",\"19:57\",\"19:57\",\"19:57\",\"19:58\",\"19:59\",\"19:59\",\"20:00\",\"20:00\",\"20:00\",\"20:01\",\"20:02\",\"20:02\",\"20:03\",\"20:03\",\"20:04\",\"20:04\",\"20:04\",\"20:04\",\"20:04\",\"20:05\",\"20:05\",\"20:05\",\"20:06\",\"20:06\",\"20:06\",\"20:06\",\"20:06\",\"20:07\",\"20:07\",\"20:07\",\"20:08\",\"20:08\",\"20:09\",\"20:09\",\"20:09\",\"20:10\",\"20:10\",\"20:10\",\"20:11\",\"20:12\",\"20:12\",\"20:12\",\"20:12\",\"20:12\",\"20:13\",\"20:14\",\"20:14\",\"20:15\",\"20:15\",\"20:15\",\"20:15\",\"20:15\",\"20:16\",\"20:16\",\"20:17\",\"20:17\",\"20:17\",\"20:18\",\"20:18\",\"20:19\",\"20:19\",\"20:19\",\"20:19\",\"20:20\",\"20:21\",\"20:22\",\"20:22\",\"20:22\",\"20:22\",\"20:22\",\"20:22\",\"20:22\",\"20:23\",\"20:23\",\"20:23\",\"20:24\",\"20:24\",\"20:25\",\"20:25\",\"20:25\",\"20:26\",\"20:26\",\"20:26\",\"20:26\",\"20:26\",\"20:27\",\"20:27\",\"20:27\",\"20:27\",\"20:27\",\"20:27\",\"20:27\",\"20:29\",\"20:29\",\"20:30\",\"20:30\",\"20:30\",\"20:31\",\"20:31\",\"20:31\",\"20:31\",\"20:32\",\"20:32\",\"20:33\",\"20:33\",\"20:33\",\"20:34\",\"20:34\",\"20:34\",\"20:35\",\"20:35\",\"20:35\",\"20:36\",\"20:36\",\"20:36\",\"20:36\",\"20:37\",\"20:37\",\"20:38\",\"20:38\",\"20:38\",\"20:38\",\"20:38\",\"20:39\",\"20:39\",\"20:39\",\"20:39\",\"20:40\",\"20:41\",\"20:41\",\"20:42\",\"20:42\",\"20:42\",\"20:45\",\"20:45\",\"20:46\",\"20:47\",\"20:47\",\"20:47\",\"20:48\",\"20:49\",\"20:49\",\"20:49\",\"20:50\",\"20:50\",\"20:51\",\"20:52\",\"20:52\",\"20:52\",\"20:52\",\"20:53\",\"20:53\",\"20:53\",\"20:53\",\"20:54\",\"20:54\",\"20:54\",\"20:54\",\"20:55\",\"20:55\",\"20:55\",\"20:55\",\"20:56\",\"20:57\",\"20:57\",\"20:57\",\"20:57\",\"20:58\",\"20:59\",\"20:59\",\"20:59\",\"21:00\",\"21:00\",\"21:00\",\"21:00\",\"21:01\",\"21:01\",\"21:01\",\"21:01\",\"21:02\",\"21:03\",\"21:04\",\"21:04\",\"21:06\",\"21:07\",\"21:07\",\"21:07\",\"21:08\",\"21:08\",\"21:08\",\"21:09\",\"21:09\",\"21:09\",\"21:10\",\"21:10\",\"21:10\",\"21:11\",\"21:11\",\"21:11\",\"21:12\",\"21:12\",\"21:12\",\"21:12\",\"21:13\",\"21:13\",\"21:13\",\"21:14\",\"21:14\",\"21:14\",\"21:14\",\"21:14\",\"21:15\",\"21:15\",\"21:16\",\"21:16\",\"21:16\",\"21:17\",\"21:17\",\"21:18\",\"21:18\",\"21:18\",\"21:19\",\"21:19\",\"21:20\",\"21:20\",\"21:21\",\"21:21\",\"21:23\",\"21:23\",\"21:23\",\"21:23\",\"21:24\",\"21:24\",\"21:24\",\"21:25\",\"21:26\",\"21:26\",\"21:26\",\"21:27\",\"21:27\",\"21:28\",\"21:29\",\"21:29\",\"21:30\",\"21:30\",\"21:30\",\"21:30\",\"21:31\",\"21:31\",\"21:31\",\"21:31\",\"21:31\",\"21:31\",\"21:32\",\"21:33\",\"21:33\",\"21:33\",\"21:33\",\"21:33\",\"21:33\",\"21:34\",\"21:34\",\"21:35\",\"21:35\",\"21:35\",\"21:35\",\"21:36\",\"21:36\",\"21:37\",\"21:38\",\"21:38\",\"21:39\",\"21:39\",\"21:39\",\"21:39\",\"21:39\",\"21:39\",\"21:40\",\"21:40\",\"21:41\",\"21:41\",\"21:42\",\"21:43\",\"21:44\",\"21:44\",\"21:45\",\"21:45\",\"21:46\",\"21:46\",\"21:46\",\"21:48\",\"21:48\",\"21:48\",\"21:49\",\"21:49\",\"21:49\",\"21:50\",\"21:50\",\"21:50\",\"21:51\",\"21:52\",\"21:53\",\"21:53\",\"21:53\",\"21:54\",\"21:55\",\"21:55\",\"21:55\",\"21:55\",\"21:55\",\"21:55\",\"21:57\",\"21:58\",\"21:58\",\"21:59\",\"21:59\",\"21:59\",\"21:59\",\"22:00\",\"22:00\",\"22:01\",\"22:01\",\"22:01\",\"22:01\",\"22:01\",\"22:02\",\"22:02\",\"22:02\",\"22:02\",\"22:02\",\"22:03\",\"22:04\",\"22:04\",\"22:06\",\"22:07\",\"22:07\",\"22:07\",\"22:07\",\"22:08\",\"22:08\",\"22:09\",\"22:09\",\"22:11\",\"22:11\",\"22:11\",\"22:11\",\"22:11\",\"22:12\",\"22:12\",\"22:12\",\"22:12\",\"22:13\",\"22:13\",\"22:13\",\"22:14\",\"22:14\",\"22:15\",\"22:15\",\"22:15\",\"22:15\",\"22:15\",\"22:16\",\"22:17\",\"22:18\",\"22:18\",\"22:20\",\"22:20\",\"22:20\",\"22:21\",\"22:23\",\"22:23\",\"22:23\",\"22:23\",\"22:26\",\"22:26\",\"22:26\",\"22:26\",\"22:27\",\"22:27\",\"22:27\",\"22:28\",\"22:28\",\"22:28\",\"22:29\",\"22:29\",\"22:30\",\"22:31\",\"22:31\",\"22:32\",\"22:33\",\"22:33\",\"22:34\",\"22:34\",\"22:35\",\"22:35\",\"22:35\",\"22:35\",\"22:35\",\"22:36\",\"22:37\",\"22:39\",\"22:39\",\"22:40\",\"22:40\",\"22:41\",\"22:43\",\"22:43\",\"22:45\",\"22:45\",\"22:46\",\"22:46\",\"22:48\",\"22:48\",\"22:49\",\"22:50\",\"22:50\",\"22:51\",\"22:52\",\"22:53\",\"22:53\",\"22:53\",\"22:55\",\"22:55\",\"22:56\",\"22:56\",\"22:56\",\"22:56\",\"22:57\",\"22:57\",\"22:59\",\"23:02\",\"23:03\",\"23:06\",\"23:06\",\"23:07\",\"23:07\",\"23:07\",\"23:07\",\"23:07\",\"23:08\",\"23:09\",\"23:10\",\"23:11\",\"23:11\",\"23:11\",\"23:12\",\"23:12\",\"23:13\",\"23:13\",\"23:14\",\"23:16\",\"23:16\",\"23:16\",\"23:16\",\"23:18\",\"23:18\",\"23:18\",\"23:20\",\"23:22\",\"23:22\",\"23:22\",\"23:22\",\"23:24\",\"23:25\",\"23:26\",\"23:28\",\"23:31\",\"23:32\",\"23:33\",\"23:34\",\"23:35\",\"23:35\",\"23:36\",\"23:36\",\"23:37\",\"23:37\",\"23:37\",\"23:39\",\"23:39\",\"23:40\",\"23:41\",\"23:41\",\"23:44\",\"23:44\",\"23:44\",\"23:46\",\"23:47\",\"23:47\",\"23:48\",\"23:48\",\"23:48\",\"23:49\",\"23:50\",\"23:50\",\"23:53\",\"23:55\",\"23:55\",\"23:55\",\"23:55\",\"23:57\",\"23:57\",\"23:57\",\"23:58\",\"23:58\",\"23:59\"],\"y\":[4.094095720300001,4.336631783770001,4.246947522829999,3.537942877870002,5.45367114558,5.54802507412,5.918963235939998,6.151942211090001,6.080271125940002,6.889381125539999,7.141673365289994,7.219487200969999,7.470696566010007,8.046968983729993,8.164150588229996,8.157008312550001,8.190042529890006,8.662218160840007,8.991575142309998,9.340489780000013,10.125056494379999,10.53530251169999,10.953026018899987,11.010458320999996,11.858333258399998,11.963604187699998,11.6941218245,11.49849440839999,11.415612178299996,11.206967247800002,11.157079962700003,10.627618566199997,10.231071429000007,10.137160355620004,9.705763552520004,9.704980273460002,9.669907555589997,8.610966786020006,8.607463510970002,8.606808320309998,8.556838531499999,8.361066880189997,8.137389087200004,7.937037189540003,7.787635202940001,7.8732548711900066,7.8726445925899995,7.6196968402100005,8.670628633869999,8.830075083610003,8.957674351870004,8.983961513159997,7.293951223870006,6.802994487940001,6.130717486000001,3.009067498730001,2.3694469194500005,2.3189230376700003,2.3639937495500005,2.343349625019999,2.37041007569,2.4375262835400004,2.4829740670700016,2.6065743104000005,2.59496126019,2.59167629746,2.629567263980001,2.611982471640001,2.610401283240002,2.6066234254400014,2.647847263550001,2.689678859969998,2.7259026238199993,2.715893122139999,2.702878909499999,2.7531620982200007,2.7649505645799994,2.85972477565,2.8394774160100007,2.8443722207900013,2.824341223850002,2.808641869500001,2.79862748825,2.8503218716700007,2.845089963600001,2.88658254275,2.8878509828600003,2.9007788191399975,2.9182339527299974,2.9167198676999972,2.919195982929997,2.9257039243599974,2.9530341885099967,2.956846598889996,2.9628452361099953,2.9861759680199986,3.008170406579999,3.0052301515399984,3.061791213290001,3.0466273250000007,3.0764287557499985,3.100499561650002,3.094492001290001,3.1003908446199997,3.1219204832199994,3.1684376323,3.1658929069600004,3.1604708226699993,3.1607921716700003,3.1921207540900025,3.21923699658,3.5672047478400004,3.1770298625300004,3.1050839455100006,3.107029534830001,3.12001386041,3.1163663703999998,3.1096581250199993,3.0908730373600006,3.082655486089999,3.05307672658,3.0594255280300002,3.0594572058300002,2.983455332939997,2.9858757239799987,2.9372237376000006,2.935516463960001,2.9341675733900003,2.8911058840999995,2.8933400404399987,2.7916798593000016,2.779285000720001,2.77051670676,2.752828024739999,2.744675037679998,2.757683638259999,3.5514990617500013,3.610612390610001,3.7983032560799974,4.275336930080003,4.322368298720003,8.531764771829996,8.09347032279,8.59689292098,8.944842964849997,10.494849401899987,11.3081567273,11.744995192799998,12.929418688000004,13.212689102400002,13.247589460500015,13.041368213000007,12.5921738112,12.6347804693,12.0787508587,12.129846375300001,12.230719924,12.257276169399999,12.264482646900001,12.2706326768,12.246555143700002,12.113584460000004,12.091331698500005,12.091331698500005,12.038786588000002,12.035433623400001,12.023542271800002,11.984987319900002,11.981064379800003,11.9809307473,12.003079222999995,11.986305957999996,12.083614385499995,12.591414891899996,12.524270297200001,12.500928065299997,12.509549762699999,12.30279695479999,11.271760376500003,11.047078825199998,11.107740190599992,11.307539930799997,11.238044131599993,11.252559005399991,11.31294367699999,11.294966534499988,11.305819555899989,11.46567199199999,11.145960098800003,11.131001239099993,11.091827931199989,11.046253300099993,10.979370268000002,10.782424116900003,10.344953407399998,10.36072649470001,9.964853158840006,9.930401413470001,9.743334609140007,8.576776604749996,8.503137064870002,8.348098075040005,7.983005499730002,8.001322693689993,7.855603364740002,7.766771922689998,7.168061834440007,7.277185987540007,7.152645617039997,6.7255900209,6.853344512290002,6.517860485839996,6.0320748548899985,6.1986976611800015,6.211056987820001,6.097136002070003,5.978033522399995,5.692413275190002,5.7170427331500004,5.6875771416799985,5.406379291090001,5.410730460080001,5.339463614770002,5.355778598650002,5.1602760930499985,5.130830537240004,5.137894059279998,5.001894185320006,4.696707653739999,4.478666549399998,4.264206300090002,4.318063976310003,4.276219440440005,3.866918881789998,3.6482061469600033,3.69316048422,3.6749728265100003,3.2418896423999994,3.3451298260799995,3.212842539489999,3.6864470393399995,3.256857581210001,3.4444622219500007,3.36818974077,3.386523740380002,3.6247053216700005,3.7102166982500018,3.9464984563799983,4.079932124810002,4.476135136469998,4.6638410014,4.665486535980001,4.651968123009998,4.837159226790003,4.835950704160002,4.85645082785,4.868482909709999,4.9709168076899966,5.0824669768899975,5.113729912189995,5.097041788959998,5.24709312631,5.432215388149997,5.425028368889997,5.4287687785199985,5.517860343450004,5.528448962459999,5.56255054942,5.655382303919996,5.8371248185,5.789536373690002,5.833238648900004,5.9971681500399985,5.983776232160002,5.996535614359999,6.05935660027,6.08351696111,6.223762931710004,6.266717311140006,6.3335858997200045,6.409785981670004,6.462490266240001,6.572573463240001,6.6189921124300035,6.899595955290006,7.042731037200003,6.860958594000003,7.001406603360002,7.009712396420002,7.097077810910004,7.078818991670004,7.338282952499996,7.3569215058799955,7.699905314339995,8.02902812536,8.0217360028,8.005581930160002,8.008370231210007,8.114403193799996,8.042133059189991,8.218557350380006,8.399927880780007,8.558906653939992,8.616347204339993,8.221532281560004,7.052895291950007,7.658437622689998,7.057941519890005,6.9114883981599995,6.80130535293,6.759998892720002,7.759183347570006,6.605203552730004,6.51581725999,6.5208800664,6.5550004386900005,6.537581126210001,6.571713262300002,6.295175042330002,5.85776590123,5.622840617939999,5.631185729049998,5.649991160639997,5.6611053260199995,5.479561831010002,5.4803007949100015,5.302481042360004,5.359563136770006,4.750683396150005,4.784996758190004,4.291147181309999,4.41548377602,4.485278713389999,4.197421581790001,3.641304924840002,3.226704657600003,3.209376649240001,4.06592977007,3.9430207289999974,3.2645025342299983,2.9245745820200018,2.901787634310001,2.907766883560002,2.6613196943799995,2.5806485826699994,2.5764199720299996,2.57546264187,2.4491075347100004,2.370770873969998,2.3773642463499987,2.29075783728,2.2686000178600016,2.2593414395800018,2.1894191079500014,2.22527409102,2.2317372765,2.0158884442100002,1.996069068639999,1.9606864389299994,1.9123251236500014,1.800258936330001,1.814875301620001,1.7913758053500013,1.7596371915699995,1.7590145317299999,1.7081947339699999,1.6987578445000011,1.694969367500002,1.662891592860002,1.6411778016000016,1.5927002902400007,1.556037327570001,1.542929236500001,1.552155309270001,1.5309229582000008,1.5008030588100008,1.46421259509,1.2934955920700002,1.126752657619999,1.1054304781399993,1.5288158840300001,1.9582087114700009,2.504639028350002,3.670011685229997,3.8982086296799965,4.720083449920005,6.294891310330001,6.255443561190001,6.2240721838100015,6.89007259719,6.81907403646,7.218128000669997,7.649915763330004,8.179683577599999,8.0917424253,8.200748150850004,8.228900198780007,8.257774543930005,8.369593796489996,8.652576648890006,8.75063452834,8.625510775370001,8.784023010760002,8.646740629650003,8.714968771030007,8.930152200569994,8.943442700839995,8.977526283579998,9.043620271570001,9.0970401395,9.269529906230002,9.216586084520001,9.208307333940002,9.364528086320002,9.418620913959995,9.38545860299,9.30187487031,9.47146388055,9.56222372684,9.564908345249998,9.625071912469993,9.891406475779988,9.90919540915999,9.847836202349988,9.83014277000999,9.78415493405999,9.752334055729994,9.854662862220009,9.90041665397001,10.054266062469999,10.219080556380003,10.401889356000002,10.4521138922,10.453423711900003,10.956840912999997,11.274073708600007,11.399454781600005,11.577016669999994,11.634280103299993,12.172805411900008,12.438453882800012,12.323898117400004,12.158531787700008,12.595020907200002,12.874300396499994,13.078548359199997,13.127714746299999,13.229662190899996,13.259196715800002,13.363464419800009,13.208438264800014,13.049714769200012,12.3343151316,12.040380026400001,12.046396111400002,12.203444328199998,12.2440341059,12.2483375898,12.260038669500002,12.290218105200001,12.290218105200001,12.290218105200001,12.290218105200001,12.290218105200001,12.290218105200001,12.290218105200001,12.290218105200001,12.290218105200001,12.290218105200001,12.290218105200001,12.290218105200001,12.290218105200001,12.290218105200001,12.290218105200001,12.290218105200001,12.290218105200001,12.290218105200001,12.290218105200001,12.290218105200001,12.290218105200001,12.290218105200001,12.290218105200001,12.290218105200001,12.290218105200001,12.290218105200001,12.290218105200001,12.290218105200001,12.290218105200001,12.290218105200001,12.290218105200001,12.290218105200001,12.290218105200001,12.290218105200001,12.290218105200001,12.290218105200001,12.290218105200001,12.290218105200001,12.290218105200001,12.290218105200001,12.290218105200001,12.290218105200001,12.290218105200001,12.290218105200001,12.290218105200001,12.290218105200001,12.290218105200001,12.290218105200001,12.290218105200001,12.290218105200001,12.290218105200001,12.290218105200001,12.290218105200001,12.290218105200001,12.290218105200001,12.290218105200001,12.290218105200001,12.202930621300002,12.174781962400003,12.174781962400003,12.089879778500004,12.038786588000002,12.001967374400003,11.999858912600002,11.944520226199998,10.393646165700009,10.960068081999996,10.920046573099997,10.840815712899996,10.853094183799993,10.727242637600009,10.403888002799999,9.617899665390006,8.50386439185,8.157510810780002,7.607948704940003,7.3088570801199975,1.248582516279998,1.4222120184999991,2.0792855888900017,2.991124165119999,3.749397238379997,3.574863638029998,3.7015849827499987,4.697382563890005,5.921392320380005,8.535327490779997,8.052202746159997,8.174500803590004,13.771317531100001,13.783073190199996,13.703851967300002,13.1061558334,13.005841561599999,12.8666440232,12.281266289800001,12.279624097900003,12.290218105200001,12.290218105200001,12.290218105200001,12.290218105200001,11.990179118599997,7.064794579259999,6.899822563549998,6.893702487140001,6.6921249181499975,3.5727836083600026,7.130925310300005,6.734700789070003,4.938903692909998,4.4797252446700035],\"type\":\"scatter\"},{\"mode\":\"lines\",\"name\":\"LSTM Prediction\",\"x\":[\"19:34\",\"19:34\",\"19:34\",\"19:35\",\"19:36\",\"19:36\",\"19:36\",\"19:37\",\"19:37\",\"19:37\",\"19:37\",\"19:37\",\"19:38\",\"19:38\",\"19:38\",\"19:38\",\"19:38\",\"19:39\",\"19:39\",\"19:39\",\"19:40\",\"19:40\",\"19:40\",\"19:40\",\"19:41\",\"19:41\",\"19:42\",\"19:42\",\"19:42\",\"19:42\",\"19:43\",\"19:44\",\"19:44\",\"19:44\",\"19:45\",\"19:45\",\"19:45\",\"19:47\",\"19:47\",\"19:47\",\"19:47\",\"19:47\",\"19:48\",\"19:48\",\"19:48\",\"19:48\",\"19:48\",\"19:49\",\"19:49\",\"19:50\",\"19:50\",\"19:50\",\"19:50\",\"19:50\",\"19:50\",\"19:51\",\"19:51\",\"19:51\",\"19:52\",\"19:53\",\"19:54\",\"19:54\",\"19:54\",\"19:56\",\"19:56\",\"19:57\",\"19:57\",\"19:57\",\"19:57\",\"19:58\",\"19:59\",\"19:59\",\"20:00\",\"20:00\",\"20:00\",\"20:01\",\"20:02\",\"20:02\",\"20:03\",\"20:03\",\"20:04\",\"20:04\",\"20:04\",\"20:04\",\"20:04\",\"20:05\",\"20:05\",\"20:05\",\"20:06\",\"20:06\",\"20:06\",\"20:06\",\"20:06\",\"20:07\",\"20:07\",\"20:07\",\"20:08\",\"20:08\",\"20:09\",\"20:09\",\"20:09\",\"20:10\",\"20:10\",\"20:10\",\"20:11\",\"20:12\",\"20:12\",\"20:12\",\"20:12\",\"20:12\",\"20:13\",\"20:14\",\"20:14\",\"20:15\",\"20:15\",\"20:15\",\"20:15\",\"20:15\",\"20:16\",\"20:16\",\"20:17\",\"20:17\",\"20:17\",\"20:18\",\"20:18\",\"20:19\",\"20:19\",\"20:19\",\"20:19\",\"20:20\",\"20:21\",\"20:22\",\"20:22\",\"20:22\",\"20:22\",\"20:22\",\"20:22\",\"20:22\",\"20:23\",\"20:23\",\"20:23\",\"20:24\",\"20:24\",\"20:25\",\"20:25\",\"20:25\",\"20:26\",\"20:26\",\"20:26\",\"20:26\",\"20:26\",\"20:27\",\"20:27\",\"20:27\",\"20:27\",\"20:27\",\"20:27\",\"20:27\",\"20:29\",\"20:29\",\"20:30\",\"20:30\",\"20:30\",\"20:31\",\"20:31\",\"20:31\",\"20:31\",\"20:32\",\"20:32\",\"20:33\",\"20:33\",\"20:33\",\"20:34\",\"20:34\",\"20:34\",\"20:35\",\"20:35\",\"20:35\",\"20:36\",\"20:36\",\"20:36\",\"20:36\",\"20:37\",\"20:37\",\"20:38\",\"20:38\",\"20:38\",\"20:38\",\"20:38\",\"20:39\",\"20:39\",\"20:39\",\"20:39\",\"20:40\",\"20:41\",\"20:41\",\"20:42\",\"20:42\",\"20:42\",\"20:45\",\"20:45\",\"20:46\",\"20:47\",\"20:47\",\"20:47\",\"20:48\",\"20:49\",\"20:49\",\"20:49\",\"20:50\",\"20:50\",\"20:51\",\"20:52\",\"20:52\",\"20:52\",\"20:52\",\"20:53\",\"20:53\",\"20:53\",\"20:53\",\"20:54\",\"20:54\",\"20:54\",\"20:54\",\"20:55\",\"20:55\",\"20:55\",\"20:55\",\"20:56\",\"20:57\",\"20:57\",\"20:57\",\"20:57\",\"20:58\",\"20:59\",\"20:59\",\"20:59\",\"21:00\",\"21:00\",\"21:00\",\"21:00\",\"21:01\",\"21:01\",\"21:01\",\"21:01\",\"21:02\",\"21:03\",\"21:04\",\"21:04\",\"21:06\",\"21:07\",\"21:07\",\"21:07\",\"21:08\",\"21:08\",\"21:08\",\"21:09\",\"21:09\",\"21:09\",\"21:10\",\"21:10\",\"21:10\",\"21:11\",\"21:11\",\"21:11\",\"21:12\",\"21:12\",\"21:12\",\"21:12\",\"21:13\",\"21:13\",\"21:13\",\"21:14\",\"21:14\",\"21:14\",\"21:14\",\"21:14\",\"21:15\",\"21:15\",\"21:16\",\"21:16\",\"21:16\",\"21:17\",\"21:17\",\"21:18\",\"21:18\",\"21:18\",\"21:19\",\"21:19\",\"21:20\",\"21:20\",\"21:21\",\"21:21\",\"21:23\",\"21:23\",\"21:23\",\"21:23\",\"21:24\",\"21:24\",\"21:24\",\"21:25\",\"21:26\",\"21:26\",\"21:26\",\"21:27\",\"21:27\",\"21:28\",\"21:29\",\"21:29\",\"21:30\",\"21:30\",\"21:30\",\"21:30\",\"21:31\",\"21:31\",\"21:31\",\"21:31\",\"21:31\",\"21:31\",\"21:32\",\"21:33\",\"21:33\",\"21:33\",\"21:33\",\"21:33\",\"21:33\",\"21:34\",\"21:34\",\"21:35\",\"21:35\",\"21:35\",\"21:35\",\"21:36\",\"21:36\",\"21:37\",\"21:38\",\"21:38\",\"21:39\",\"21:39\",\"21:39\",\"21:39\",\"21:39\",\"21:39\",\"21:40\",\"21:40\",\"21:41\",\"21:41\",\"21:42\",\"21:43\",\"21:44\",\"21:44\",\"21:45\",\"21:45\",\"21:46\",\"21:46\",\"21:46\",\"21:48\",\"21:48\",\"21:48\",\"21:49\",\"21:49\",\"21:49\",\"21:50\",\"21:50\",\"21:50\",\"21:51\",\"21:52\",\"21:53\",\"21:53\",\"21:53\",\"21:54\",\"21:55\",\"21:55\",\"21:55\",\"21:55\",\"21:55\",\"21:55\",\"21:57\",\"21:58\",\"21:58\",\"21:59\",\"21:59\",\"21:59\",\"21:59\",\"22:00\",\"22:00\",\"22:01\",\"22:01\",\"22:01\",\"22:01\",\"22:01\",\"22:02\",\"22:02\",\"22:02\",\"22:02\",\"22:02\",\"22:03\",\"22:04\",\"22:04\",\"22:06\",\"22:07\",\"22:07\",\"22:07\",\"22:07\",\"22:08\",\"22:08\",\"22:09\",\"22:09\",\"22:11\",\"22:11\",\"22:11\",\"22:11\",\"22:11\",\"22:12\",\"22:12\",\"22:12\",\"22:12\",\"22:13\",\"22:13\",\"22:13\",\"22:14\",\"22:14\",\"22:15\",\"22:15\",\"22:15\",\"22:15\",\"22:15\",\"22:16\",\"22:17\",\"22:18\",\"22:18\",\"22:20\",\"22:20\",\"22:20\",\"22:21\",\"22:23\",\"22:23\",\"22:23\",\"22:23\",\"22:26\",\"22:26\",\"22:26\",\"22:26\",\"22:27\",\"22:27\",\"22:27\",\"22:28\",\"22:28\",\"22:28\",\"22:29\",\"22:29\",\"22:30\",\"22:31\",\"22:31\",\"22:32\",\"22:33\",\"22:33\",\"22:34\",\"22:34\",\"22:35\",\"22:35\",\"22:35\",\"22:35\",\"22:35\",\"22:36\",\"22:37\",\"22:39\",\"22:39\",\"22:40\",\"22:40\",\"22:41\",\"22:43\",\"22:43\",\"22:45\",\"22:45\",\"22:46\",\"22:46\",\"22:48\",\"22:48\",\"22:49\",\"22:50\",\"22:50\",\"22:51\",\"22:52\",\"22:53\",\"22:53\",\"22:53\",\"22:55\",\"22:55\",\"22:56\",\"22:56\",\"22:56\",\"22:56\",\"22:57\",\"22:57\",\"22:59\",\"23:02\",\"23:03\",\"23:06\",\"23:06\",\"23:07\",\"23:07\",\"23:07\",\"23:07\",\"23:07\",\"23:08\",\"23:09\",\"23:10\",\"23:11\",\"23:11\",\"23:11\",\"23:12\",\"23:12\",\"23:13\",\"23:13\",\"23:14\",\"23:16\",\"23:16\",\"23:16\",\"23:16\",\"23:18\",\"23:18\",\"23:18\",\"23:20\",\"23:22\",\"23:22\",\"23:22\",\"23:22\",\"23:24\",\"23:25\",\"23:26\",\"23:28\",\"23:31\",\"23:32\",\"23:33\",\"23:34\",\"23:35\",\"23:35\",\"23:36\",\"23:36\",\"23:37\",\"23:37\",\"23:37\",\"23:39\",\"23:39\",\"23:40\",\"23:41\",\"23:41\",\"23:44\",\"23:44\",\"23:44\",\"23:46\",\"23:47\",\"23:47\",\"23:48\",\"23:48\",\"23:48\",\"23:49\",\"23:50\",\"23:50\",\"23:53\",\"23:55\",\"23:55\",\"23:55\",\"23:55\",\"23:57\",\"23:57\",\"23:57\",\"23:58\",\"23:58\",\"23:59\"],\"y\":[4.879528045654297,4.383300304412842,4.099322319030762,3.5485119819641113,5.171492099761963,5.49609375,5.999284267425537,6.048234462738037,5.979709148406982,6.829318046569824,6.939740180969238,7.262656211853027,7.475395202636719,7.864721775054932,8.045324325561523,8.052314758300781,8.16891860961914,8.57279109954834,8.917126655578613,9.397506713867188,10.172215461730957,10.608807563781738,10.954891204833984,10.960659980773926,11.979103088378906,12.280466079711914,11.661974906921387,11.39185619354248,11.136154174804688,11.140839576721191,11.125763893127441,10.416651725769043,10.038363456726074,9.954143524169922,9.653640747070312,9.63406753540039,9.599126815795898,8.79758071899414,8.712777137756348,8.633272171020508,8.608551025390625,8.440890312194824,8.09660530090332,8.014841079711914,7.928005695343018,7.92535400390625,7.898700714111328,7.638435363769531,8.593626976013184,8.848796844482422,9.006875991821289,8.988117218017578,7.770036697387695,6.840094089508057,6.203702449798584,2.8355143070220947,1.8076701164245605,1.8882416486740112,2.0040411949157715,2.2890706062316895,2.240018606185913,2.4155805110931396,2.4600236415863037,2.51983380317688,2.55409574508667,2.5877907276153564,2.597801685333252,2.5933830738067627,2.595949649810791,2.593284845352173,2.635897397994995,2.656456232070923,2.6750266551971436,2.677070379257202,2.6826868057250977,2.712315082550049,2.7570767402648926,2.790172576904297,2.798314332962036,2.803450107574463,2.828754186630249,2.832174062728882,2.8318071365356445,2.8516170978546143,2.8538148403167725,2.8818154335021973,2.888606309890747,2.8960046768188477,2.905510663986206,2.9046852588653564,2.915148973464966,2.9274816513061523,2.9319844245910645,2.9397542476654053,2.9462890625,2.9681196212768555,2.9935100078582764,2.9948415756225586,3.0273547172546387,3.0405654907226562,3.045914888381958,3.0587074756622314,3.0793261528015137,3.091078042984009,3.106656312942505,3.1401138305664062,3.14859938621521,3.1485345363616943,3.1485586166381836,3.1610469818115234,3.2022974491119385,3.1826090812683105,3.159813165664673,3.1191892623901367,3.101091146469116,3.104139804840088,3.1015636920928955,3.0952863693237305,3.0673022270202637,3.0558838844299316,3.040811777114868,3.034050703048706,3.0086658000946045,2.9853148460388184,2.9768965244293213,2.9429919719696045,2.936271905899048,2.9279448986053467,2.89864182472229,2.894632577896118,2.8030271530151367,2.780975580215454,2.7854769229888916,2.7653818130493164,2.7700719833374023,2.764106035232544,3.428187131881714,3.6301372051239014,3.836484670639038,4.237249851226807,4.2843017578125,7.642956256866455,8.156961441040039,9.010772705078125,8.948415756225586,10.532380104064941,11.445816040039062,11.82293701171875,13.064082145690918,13.593135833740234,13.739313125610352,13.70848560333252,13.87221908569336,14.050594329833984,13.953145980834961,14.215325355529785,15.471309661865234,15.579608917236328,14.722442626953125,14.253609657287598,14.187455177307129,14.001102447509766,13.90909194946289,13.748900413513184,13.64236831665039,13.623274803161621,13.622274398803711,13.332376480102539,13.281978607177734,13.063971519470215,12.838921546936035,12.85046672821045,12.766419410705566,12.78303337097168,12.575820922851562,12.457989692687988,12.465240478515625,12.338857650756836,12.047147750854492,11.930286407470703,11.827899932861328,11.78232192993164,11.670439720153809,11.662611961364746,11.296387672424316,11.234804153442383,11.254965782165527,11.21526050567627,11.117860794067383,10.969572067260742,10.984676361083984,11.00307846069336,10.912376403808594,10.640753746032715,10.143789291381836,10.112960815429688,9.827835083007812,9.727482795715332,9.695556640625,8.635279655456543,8.382522583007812,8.265304565429688,7.977548122406006,7.993204593658447,7.760174751281738,7.647598743438721,7.163012981414795,7.125959873199463,7.143091678619385,6.8303542137146,6.8334174156188965,6.571950912475586,6.24355411529541,6.2272162437438965,6.234385967254639,6.040634632110596,5.906829833984375,5.893970489501953,5.735644340515137,5.589989185333252,5.376275539398193,5.326520919799805,5.316119194030762,5.301171779632568,5.170886516571045,5.1233954429626465,5.094257354736328,4.9602837562561035,4.66218376159668,4.424818992614746,4.230074882507324,4.221619129180908,4.205912113189697,3.9022252559661865,3.6636857986450195,3.6328909397125244,3.6146085262298584,3.314173936843872,3.211627960205078,3.14618182182312,3.088117837905884,3.1871423721313477,3.2751035690307617,3.324185848236084,3.3533132076263428,3.582645893096924,3.678262233734131,3.896953821182251,4.005239486694336,4.394062519073486,4.653554916381836,4.639261245727539,4.639330863952637,4.740284442901611,4.812526702880859,4.826461315155029,4.834418296813965,4.911661624908447,5.007748126983643,5.07843542098999,5.0780463218688965,5.202864170074463,5.313464641571045,5.408020496368408,5.414377212524414,5.42795991897583,5.5010786056518555,5.514825344085693,5.5686750411987305,5.743568420410156,5.75367546081543,5.746375560760498,5.8719801902771,5.883236408233643,5.912981033325195,5.976840496063232,5.99177360534668,6.139512538909912,6.243394374847412,6.274001121520996,6.356915473937988,6.415707111358643,6.511245250701904,6.542064189910889,6.765469074249268,6.8037896156311035,6.810452938079834,6.949306011199951,6.966028690338135,7.080527305603027,7.082465648651123,7.276209831237793,7.318678379058838,7.7421183586120605,7.86433744430542,7.813230514526367,7.800422191619873,7.912264823913574,7.997523784637451,8.051152229309082,8.166232109069824,8.316415786743164,8.461230278015137,8.463068008422852,8.204893112182617,7.925628185272217,7.837490081787109,7.1133880615234375,6.918527126312256,6.9017252922058105,6.835117816925049,6.81943941116333,6.6497111320495605,6.598708629608154,6.577602863311768,6.58908224105835,6.56881046295166,6.544679641723633,6.2820658683776855,5.775680065155029,5.604954719543457,5.618784427642822,5.637400150299072,5.61870813369751,5.462864398956299,5.454004764556885,5.320694446563721,5.298269748687744,4.77582311630249,4.67645263671875,4.554836750030518,4.4812445640563965,4.463361740112305,4.11126708984375,3.626718521118164,3.2721776962280273,3.163109540939331,3.061009168624878,2.9786999225616455,2.9488413333892822,2.8816139698028564,2.890615701675415,2.9030601978302,2.6597201824188232,2.5877933502197266,2.548816442489624,2.548767328262329,2.477813959121704,2.3825273513793945,2.332235336303711,2.2704827785491943,2.248713254928589,2.237135648727417,2.1568195819854736,2.131044626235962,2.1191303730010986,2.0076847076416016,1.9761592149734497,1.9481923580169678,1.902717113494873,1.8566498756408691,1.8325700759887695,1.821379542350769,1.8174948692321777,1.7819933891296387,1.7081536054611206,1.6282068490982056,1.5640733242034912,1.5100815296173096,1.4995883703231812,1.410938024520874,1.3772804737091064,1.3752307891845703,1.3661367893218994,1.370748519897461,1.3525407314300537,1.3395028114318848,1.2220373153686523,1.0905629396438599,1.0886328220367432,1.3800877332687378,1.73951256275177,2.178849935531616,3.0593299865722656,3.3931055068969727,4.477427005767822,6.122478008270264,6.317148208618164,6.191921234130859,6.402125835418701,6.733392238616943,7.255551815032959,7.741494178771973,8.235635757446289,8.219059944152832,8.16225528717041,8.191906929016113,8.267556190490723,8.327461242675781,8.548015594482422,8.707905769348145,8.697321891784668,8.687006950378418,8.675926208496094,8.769057273864746,8.90605354309082,8.928505897521973,9.03375244140625,9.192697525024414,9.204728126525879,9.23034381866455,9.2312650680542,9.271678924560547,9.334929466247559,9.367026329040527,9.382530212402344,9.393613815307617,9.416987419128418,9.469279289245605,9.479137420654297,9.569748878479004,9.703617095947266,9.741008758544922,9.741303443908691,9.746211051940918,9.746906280517578,9.802162170410156,9.861719131469727,9.9951753616333,10.163408279418945,10.216888427734375,10.407194137573242,10.506352424621582,10.489945411682129,10.874438285827637,11.271530151367188,11.340414047241211,11.34506607055664,11.33022403717041,12.27324104309082,12.484350204467773,12.366613388061523,12.328550338745117,12.45958137512207,12.706964492797852,12.710427284240723,12.751806259155273,12.934568405151367,12.946419715881348,13.235723495483398,13.346273422241211,13.520425796508789,13.857498168945312,14.003963470458984,14.031269073486328,14.52685260772705,14.721529006958008,14.789495468139648,14.762094497680664,15.039225578308105,15.159963607788086,15.094379425048828,15.070919036865234,15.10094928741455,15.240729331970215,15.634527206420898,16.30280113220215,16.459604263305664,16.786588668823242,16.837724685668945,17.09127426147461,17.492416381835938,17.496257781982422,18.395225524902344,18.498960494995117,18.287817001342773,18.103389739990234,17.87909698486328,17.821979522705078,17.705429077148438,17.620885848999023,17.580347061157227,17.56492042541504,17.44407844543457,17.39082908630371,17.381317138671875,17.38106346130371,17.25615119934082,17.172292709350586,17.16292381286621,17.179771423339844,17.161867141723633,17.1522274017334,17.123884201049805,17.10386085510254,16.906850814819336,16.621261596679688,16.5113468170166,16.220582962036133,16.214454650878906,16.26183319091797,16.284669876098633,16.266035079956055,16.27606964111328,16.296554565429688,16.207111358642578,16.136709213256836,16.006301879882812,15.99519157409668,16.010272979736328,15.759631156921387,15.551445007324219,15.374704360961914,15.183667182922363,15.033273696899414,14.836400985717773,13.83121395111084,13.726210594177246,13.90341567993164,13.935416221618652,13.484673500061035,13.253173828125,13.271750450134277,12.539329528808594,11.862979888916016,11.699050903320312,11.835836410522461,11.815275192260742,11.147689819335938,10.475478172302246,10.190437316894531,9.442051887512207,8.378189086914062,7.883976459503174,7.653688907623291,7.483090877532959,1.2904211282730103,0.945763349533081,1.549405574798584,1.8630040884017944,2.9748356342315674,2.85298752784729,3.5895612239837646,4.581319332122803,5.7066779136657715,7.76914644241333,8.105792999267578,8.121140480041504,13.924614906311035,14.020519256591797,14.858404159545898,16.970579147338867,18.819860458374023,19.649660110473633,20.540616989135742,21.033905029296875,21.025575637817383,21.96702003479004,18.417062759399414,16.31220245361328,11.345220565795898,6.457181930541992,6.6414875984191895,6.260590076446533,6.46570348739624,3.5402114391326904,5.979278087615967,6.927124500274658,5.251241207122803,4.783681392669678],\"type\":\"scatter\"}],                        {\"xaxis\":{\"title\":{\"text\":\"Time\"}},\"yaxis\":{\"title\":{\"text\":\"Excess kWh\"}},\"template\":{\"data\":{\"histogram2dcontour\":[{\"type\":\"histogram2dcontour\",\"colorbar\":{\"outlinewidth\":0,\"ticks\":\"\"},\"colorscale\":[[0.0,\"#0d0887\"],[0.1111111111111111,\"#46039f\"],[0.2222222222222222,\"#7201a8\"],[0.3333333333333333,\"#9c179e\"],[0.4444444444444444,\"#bd3786\"],[0.5555555555555556,\"#d8576b\"],[0.6666666666666666,\"#ed7953\"],[0.7777777777777778,\"#fb9f3a\"],[0.8888888888888888,\"#fdca26\"],[1.0,\"#f0f921\"]]}],\"choropleth\":[{\"type\":\"choropleth\",\"colorbar\":{\"outlinewidth\":0,\"ticks\":\"\"}}],\"histogram2d\":[{\"type\":\"histogram2d\",\"colorbar\":{\"outlinewidth\":0,\"ticks\":\"\"},\"colorscale\":[[0.0,\"#0d0887\"],[0.1111111111111111,\"#46039f\"],[0.2222222222222222,\"#7201a8\"],[0.3333333333333333,\"#9c179e\"],[0.4444444444444444,\"#bd3786\"],[0.5555555555555556,\"#d8576b\"],[0.6666666666666666,\"#ed7953\"],[0.7777777777777778,\"#fb9f3a\"],[0.8888888888888888,\"#fdca26\"],[1.0,\"#f0f921\"]]}],\"heatmap\":[{\"type\":\"heatmap\",\"colorbar\":{\"outlinewidth\":0,\"ticks\":\"\"},\"colorscale\":[[0.0,\"#0d0887\"],[0.1111111111111111,\"#46039f\"],[0.2222222222222222,\"#7201a8\"],[0.3333333333333333,\"#9c179e\"],[0.4444444444444444,\"#bd3786\"],[0.5555555555555556,\"#d8576b\"],[0.6666666666666666,\"#ed7953\"],[0.7777777777777778,\"#fb9f3a\"],[0.8888888888888888,\"#fdca26\"],[1.0,\"#f0f921\"]]}],\"heatmapgl\":[{\"type\":\"heatmapgl\",\"colorbar\":{\"outlinewidth\":0,\"ticks\":\"\"},\"colorscale\":[[0.0,\"#0d0887\"],[0.1111111111111111,\"#46039f\"],[0.2222222222222222,\"#7201a8\"],[0.3333333333333333,\"#9c179e\"],[0.4444444444444444,\"#bd3786\"],[0.5555555555555556,\"#d8576b\"],[0.6666666666666666,\"#ed7953\"],[0.7777777777777778,\"#fb9f3a\"],[0.8888888888888888,\"#fdca26\"],[1.0,\"#f0f921\"]]}],\"contourcarpet\":[{\"type\":\"contourcarpet\",\"colorbar\":{\"outlinewidth\":0,\"ticks\":\"\"}}],\"contour\":[{\"type\":\"contour\",\"colorbar\":{\"outlinewidth\":0,\"ticks\":\"\"},\"colorscale\":[[0.0,\"#0d0887\"],[0.1111111111111111,\"#46039f\"],[0.2222222222222222,\"#7201a8\"],[0.3333333333333333,\"#9c179e\"],[0.4444444444444444,\"#bd3786\"],[0.5555555555555556,\"#d8576b\"],[0.6666666666666666,\"#ed7953\"],[0.7777777777777778,\"#fb9f3a\"],[0.8888888888888888,\"#fdca26\"],[1.0,\"#f0f921\"]]}],\"surface\":[{\"type\":\"surface\",\"colorbar\":{\"outlinewidth\":0,\"ticks\":\"\"},\"colorscale\":[[0.0,\"#0d0887\"],[0.1111111111111111,\"#46039f\"],[0.2222222222222222,\"#7201a8\"],[0.3333333333333333,\"#9c179e\"],[0.4444444444444444,\"#bd3786\"],[0.5555555555555556,\"#d8576b\"],[0.6666666666666666,\"#ed7953\"],[0.7777777777777778,\"#fb9f3a\"],[0.8888888888888888,\"#fdca26\"],[1.0,\"#f0f921\"]]}],\"mesh3d\":[{\"type\":\"mesh3d\",\"colorbar\":{\"outlinewidth\":0,\"ticks\":\"\"}}],\"scatter\":[{\"fillpattern\":{\"fillmode\":\"overlay\",\"size\":10,\"solidity\":0.2},\"type\":\"scatter\"}],\"parcoords\":[{\"type\":\"parcoords\",\"line\":{\"colorbar\":{\"outlinewidth\":0,\"ticks\":\"\"}}}],\"scatterpolargl\":[{\"type\":\"scatterpolargl\",\"marker\":{\"colorbar\":{\"outlinewidth\":0,\"ticks\":\"\"}}}],\"bar\":[{\"error_x\":{\"color\":\"#2a3f5f\"},\"error_y\":{\"color\":\"#2a3f5f\"},\"marker\":{\"line\":{\"color\":\"#E5ECF6\",\"width\":0.5},\"pattern\":{\"fillmode\":\"overlay\",\"size\":10,\"solidity\":0.2}},\"type\":\"bar\"}],\"scattergeo\":[{\"type\":\"scattergeo\",\"marker\":{\"colorbar\":{\"outlinewidth\":0,\"ticks\":\"\"}}}],\"scatterpolar\":[{\"type\":\"scatterpolar\",\"marker\":{\"colorbar\":{\"outlinewidth\":0,\"ticks\":\"\"}}}],\"histogram\":[{\"marker\":{\"pattern\":{\"fillmode\":\"overlay\",\"size\":10,\"solidity\":0.2}},\"type\":\"histogram\"}],\"scattergl\":[{\"type\":\"scattergl\",\"marker\":{\"colorbar\":{\"outlinewidth\":0,\"ticks\":\"\"}}}],\"scatter3d\":[{\"type\":\"scatter3d\",\"line\":{\"colorbar\":{\"outlinewidth\":0,\"ticks\":\"\"}},\"marker\":{\"colorbar\":{\"outlinewidth\":0,\"ticks\":\"\"}}}],\"scattermapbox\":[{\"type\":\"scattermapbox\",\"marker\":{\"colorbar\":{\"outlinewidth\":0,\"ticks\":\"\"}}}],\"scatterternary\":[{\"type\":\"scatterternary\",\"marker\":{\"colorbar\":{\"outlinewidth\":0,\"ticks\":\"\"}}}],\"scattercarpet\":[{\"type\":\"scattercarpet\",\"marker\":{\"colorbar\":{\"outlinewidth\":0,\"ticks\":\"\"}}}],\"carpet\":[{\"aaxis\":{\"endlinecolor\":\"#2a3f5f\",\"gridcolor\":\"white\",\"linecolor\":\"white\",\"minorgridcolor\":\"white\",\"startlinecolor\":\"#2a3f5f\"},\"baxis\":{\"endlinecolor\":\"#2a3f5f\",\"gridcolor\":\"white\",\"linecolor\":\"white\",\"minorgridcolor\":\"white\",\"startlinecolor\":\"#2a3f5f\"},\"type\":\"carpet\"}],\"table\":[{\"cells\":{\"fill\":{\"color\":\"#EBF0F8\"},\"line\":{\"color\":\"white\"}},\"header\":{\"fill\":{\"color\":\"#C8D4E3\"},\"line\":{\"color\":\"white\"}},\"type\":\"table\"}],\"barpolar\":[{\"marker\":{\"line\":{\"color\":\"#E5ECF6\",\"width\":0.5},\"pattern\":{\"fillmode\":\"overlay\",\"size\":10,\"solidity\":0.2}},\"type\":\"barpolar\"}],\"pie\":[{\"automargin\":true,\"type\":\"pie\"}]},\"layout\":{\"autotypenumbers\":\"strict\",\"colorway\":[\"#636efa\",\"#EF553B\",\"#00cc96\",\"#ab63fa\",\"#FFA15A\",\"#19d3f3\",\"#FF6692\",\"#B6E880\",\"#FF97FF\",\"#FECB52\"],\"font\":{\"color\":\"#2a3f5f\"},\"hovermode\":\"closest\",\"hoverlabel\":{\"align\":\"left\"},\"paper_bgcolor\":\"white\",\"plot_bgcolor\":\"#E5ECF6\",\"polar\":{\"bgcolor\":\"#E5ECF6\",\"angularaxis\":{\"gridcolor\":\"white\",\"linecolor\":\"white\",\"ticks\":\"\"},\"radialaxis\":{\"gridcolor\":\"white\",\"linecolor\":\"white\",\"ticks\":\"\"}},\"ternary\":{\"bgcolor\":\"#E5ECF6\",\"aaxis\":{\"gridcolor\":\"white\",\"linecolor\":\"white\",\"ticks\":\"\"},\"baxis\":{\"gridcolor\":\"white\",\"linecolor\":\"white\",\"ticks\":\"\"},\"caxis\":{\"gridcolor\":\"white\",\"linecolor\":\"white\",\"ticks\":\"\"}},\"coloraxis\":{\"colorbar\":{\"outlinewidth\":0,\"ticks\":\"\"}},\"colorscale\":{\"sequential\":[[0.0,\"#0d0887\"],[0.1111111111111111,\"#46039f\"],[0.2222222222222222,\"#7201a8\"],[0.3333333333333333,\"#9c179e\"],[0.4444444444444444,\"#bd3786\"],[0.5555555555555556,\"#d8576b\"],[0.6666666666666666,\"#ed7953\"],[0.7777777777777778,\"#fb9f3a\"],[0.8888888888888888,\"#fdca26\"],[1.0,\"#f0f921\"]],\"sequentialminus\":[[0.0,\"#0d0887\"],[0.1111111111111111,\"#46039f\"],[0.2222222222222222,\"#7201a8\"],[0.3333333333333333,\"#9c179e\"],[0.4444444444444444,\"#bd3786\"],[0.5555555555555556,\"#d8576b\"],[0.6666666666666666,\"#ed7953\"],[0.7777777777777778,\"#fb9f3a\"],[0.8888888888888888,\"#fdca26\"],[1.0,\"#f0f921\"]],\"diverging\":[[0,\"#8e0152\"],[0.1,\"#c51b7d\"],[0.2,\"#de77ae\"],[0.3,\"#f1b6da\"],[0.4,\"#fde0ef\"],[0.5,\"#f7f7f7\"],[0.6,\"#e6f5d0\"],[0.7,\"#b8e186\"],[0.8,\"#7fbc41\"],[0.9,\"#4d9221\"],[1,\"#276419\"]]},\"xaxis\":{\"gridcolor\":\"white\",\"linecolor\":\"white\",\"ticks\":\"\",\"title\":{\"standoff\":15},\"zerolinecolor\":\"white\",\"automargin\":true,\"zerolinewidth\":2},\"yaxis\":{\"gridcolor\":\"white\",\"linecolor\":\"white\",\"ticks\":\"\",\"title\":{\"standoff\":15},\"zerolinecolor\":\"white\",\"automargin\":true,\"zerolinewidth\":2},\"scene\":{\"xaxis\":{\"backgroundcolor\":\"#E5ECF6\",\"gridcolor\":\"white\",\"linecolor\":\"white\",\"showbackground\":true,\"ticks\":\"\",\"zerolinecolor\":\"white\",\"gridwidth\":2},\"yaxis\":{\"backgroundcolor\":\"#E5ECF6\",\"gridcolor\":\"white\",\"linecolor\":\"white\",\"showbackground\":true,\"ticks\":\"\",\"zerolinecolor\":\"white\",\"gridwidth\":2},\"zaxis\":{\"backgroundcolor\":\"#E5ECF6\",\"gridcolor\":\"white\",\"linecolor\":\"white\",\"showbackground\":true,\"ticks\":\"\",\"zerolinecolor\":\"white\",\"gridwidth\":2}},\"shapedefaults\":{\"line\":{\"color\":\"#2a3f5f\"}},\"annotationdefaults\":{\"arrowcolor\":\"#2a3f5f\",\"arrowhead\":0,\"arrowwidth\":1},\"geo\":{\"bgcolor\":\"white\",\"landcolor\":\"#E5ECF6\",\"subunitcolor\":\"white\",\"showland\":true,\"showlakes\":true,\"lakecolor\":\"white\"},\"title\":{\"x\":0.05},\"mapbox\":{\"style\":\"light\"}}},\"legend\":{\"font\":{\"family\":\"sans-serif\",\"size\":16,\"color\":\"black\"},\"x\":0.6,\"y\":0.95,\"traceorder\":\"normal\"}},                        {\"responsive\": true}                    ).then(function(){\n",
              "                            \n",
              "var gd = document.getElementById('212cd0a4-089a-434a-b9e5-3a15802e3350');\n",
              "var x = new MutationObserver(function (mutations, observer) {{\n",
              "        var display = window.getComputedStyle(gd).display;\n",
              "        if (!display || display === 'none') {{\n",
              "            console.log([gd, 'removed!']);\n",
              "            Plotly.purge(gd);\n",
              "            observer.disconnect();\n",
              "        }}\n",
              "}});\n",
              "\n",
              "// Listen for the removal of the full notebook cells\n",
              "var notebookContainer = gd.closest('#notebook-container');\n",
              "if (notebookContainer) {{\n",
              "    x.observe(notebookContainer, {childList: true});\n",
              "}}\n",
              "\n",
              "// Listen for the clearing of the current output cell\n",
              "var outputEl = gd.closest('.output');\n",
              "if (outputEl) {{\n",
              "    x.observe(outputEl, {childList: true});\n",
              "}}\n",
              "\n",
              "                        })                };                            </script>        </div>\n",
              "</body>\n",
              "</html>"
            ]
          },
          "metadata": {}
        }
      ],
      "source": [
        "actual_test = go.Scatter(\n",
        "    x = x_test,\n",
        "    y = test_labels[:, 0],\n",
        "    mode = 'lines',\n",
        "    name = 'Actual Test Data'\n",
        ")\n",
        "\n",
        "rf_test_pred = go.Scatter(\n",
        "    x = x_test,\n",
        "    y = y_rf_pred,\n",
        "    mode = 'lines',\n",
        "    name = 'Random Forest Prediction'\n",
        ")\n",
        "\n",
        "svr_test_pred = go.Scatter(\n",
        "    x = x_test,\n",
        "    y = y_svr_pred,\n",
        "    mode = 'lines',\n",
        "    name = 'SVR Prediction'\n",
        ")\n",
        "\n",
        "lstm_test_pred = go.Scatter(\n",
        "    x = x_test,\n",
        "    y = y_lstm_pred_out,\n",
        "    mode = 'lines',\n",
        "    name = 'LSTM Prediction'\n",
        ")\n",
        "\n",
        "gbr_test_pred = go.Scatter(\n",
        "    x = x_test,\n",
        "    y = y_gbr_pred,\n",
        "    mode = 'lines',\n",
        "    name = 'GBR Prediction'\n",
        ")\n",
        "\n",
        "layout = go.Layout(\n",
        "    #title = 'Load Forecasting',\n",
        "    xaxis = {'title' : \"Time\"},\n",
        "    yaxis = {'title' : \"Excess kWh\"}\n",
        ")\n",
        "fig = go.Figure(data=[actual_test,\n",
        "                      svr_test_pred,\n",
        "                      gbr_test_pred,\n",
        "                      rf_test_pred,\n",
        "                      lstm_test_pred],\n",
        "                layout=layout)\n",
        "fig.update_layout(\n",
        "    legend=dict(\n",
        "        x=.6,\n",
        "        y=.95,\n",
        "        traceorder=\"normal\",\n",
        "        font=dict(\n",
        "            family=\"sans-serif\",\n",
        "            size=16,\n",
        "            color=\"black\"\n",
        "        ),\n",
        "    )\n",
        ")"
      ]
    }
  ],
  "metadata": {
    "colab": {
      "provenance": []
    },
    "kernelspec": {
      "display_name": "Python 3",
      "name": "python3"
    },
    "language_info": {
      "name": "python"
    }
  },
  "nbformat": 4,
  "nbformat_minor": 0
}